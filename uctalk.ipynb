{
 "cells": [
  {
   "cell_type": "code",
   "execution_count": null,
   "id": "30a42e3e",
   "metadata": {
    "hide_input": true,
    "slideshow": {
     "slide_type": "skip"
    }
   },
   "outputs": [],
   "source": [
    "%run -i underthecovers/python/common.py\n",
    "%run -i underthecovers/python/ln_preamble.py"
   ]
  },
  {
   "cell_type": "markdown",
   "id": "819271e7",
   "metadata": {
    "slideshow": {
     "slide_type": "slide"
    }
   },
   "source": [
    "# Steps towards Open Source Education"
   ]
  },
  {
   "cell_type": "markdown",
   "id": "17c27666",
   "metadata": {
    "cell_style": "split"
   },
   "source": [
    "<center>\n",
    "<img src=\"https://atasavvynewcomer.files.wordpress.com/2016/11/always-leave-the-door-open-for-future-opportunities.jpg\" width=\"70%\" >\n",
    "</center>"
   ]
  },
  {
   "cell_type": "markdown",
   "id": "8ad242e7",
   "metadata": {
    "cell_style": "split"
   },
   "source": [
    "Despite a world that runs on open source software a high quality education (including CS) is closed source.\n",
    "\n",
    "<em>\n",
    "<font size=\"3em\"> \n",
    "    Jonathan Appavoo, PhD<br>\n",
    "    Boston University\n",
    "    </font>\n",
    "</em>"
   ]
  },
  {
   "cell_type": "markdown",
   "id": "10fb4ab7",
   "metadata": {
    "slideshow": {
     "slide_type": "notes"
    }
   },
   "source": [
    "This is a speaker note."
   ]
  },
  {
   "cell_type": "markdown",
   "id": "b0ca0739",
   "metadata": {
    "slideshow": {
     "slide_type": "slide"
    }
   },
   "source": [
    "<center>\n",
    "    \n",
    "# I: The Big Picture\n",
    "    \n",
    "</center>"
   ]
  },
  {
   "cell_type": "markdown",
   "id": "ba1de177",
   "metadata": {
    "slideshow": {
     "slide_type": "slide"
    }
   },
   "source": [
    "<center>\n",
    "<img src=\"underthecovers/images/uctalk-oercathedrals.png\" width=\"100%\"> \n",
    "</center>"
   ]
  },
  {
   "cell_type": "markdown",
   "id": "1d363e8a",
   "metadata": {
    "cell_style": "center",
    "slideshow": {
     "slide_type": "slide"
    }
   },
   "source": [
    "<center>\n",
    "<img src=\"underthecovers/images/uctalk-bvsc.png\" width=\"100%\"> \n",
    "</center>"
   ]
  },
  {
   "cell_type": "markdown",
   "id": "1c76135a",
   "metadata": {
    "cell_style": "center",
    "slideshow": {
     "slide_type": "notes"
    }
   },
   "source": [
    "\n",
    "- Open education can be more than \"free\" textbooks\n",
    "- Unique opportunity to unlock education using:\n",
    "   - open software    \n",
    "   - open clouds \n",
    "   - open content"
   ]
  },
  {
   "cell_type": "markdown",
   "id": "24b7b406",
   "metadata": {
    "slideshow": {
     "slide_type": "slide"
    }
   },
   "source": [
    "<center>\n",
    "<img src=\"underthecovers/images/uctalk-platform.png\" width=\"100%\"> \n",
    "</center>"
   ]
  },
  {
   "cell_type": "markdown",
   "id": "de16ffdf",
   "metadata": {
    "slideshow": {
     "slide_type": "slide"
    }
   },
   "source": [
    "<center>\n",
    "<img src=\"underthecovers/images/uctalk-Exp-1.png\" width=\"100%\"> \n",
    "</center>"
   ]
  },
  {
   "cell_type": "markdown",
   "id": "06015e90",
   "metadata": {
    "slideshow": {
     "slide_type": "slide"
    }
   },
   "source": [
    "<center>\n",
    "<img src=\"underthecovers/images/uctalk-Exp-2.png\" width=\"100%\"> \n",
    "</center>"
   ]
  },
  {
   "cell_type": "markdown",
   "id": "b72f44ca",
   "metadata": {
    "slideshow": {
     "slide_type": "slide"
    }
   },
   "source": [
    "<center>\n",
    "<img src=\"underthecovers/images/uctalk-Exp-3.png\" width=\"100%\"> \n",
    "</center>"
   ]
  },
  {
   "cell_type": "markdown",
   "id": "fa58539a",
   "metadata": {
    "slideshow": {
     "slide_type": "slide"
    }
   },
   "source": [
    "<center>\n",
    "<img src=\"underthecovers/images/uctalk-Exp-4.png\" width=\"100%\"> \n",
    "</center>"
   ]
  },
  {
   "cell_type": "markdown",
   "id": "31387a53",
   "metadata": {
    "slideshow": {
     "slide_type": "slide"
    }
   },
   "source": [
    "<center>\n",
    "<img src=\"underthecovers/images/uctalk-Exp-5.png\" width=\"100%\"> \n",
    "</center>"
   ]
  },
  {
   "cell_type": "markdown",
   "id": "8d5a25d5",
   "metadata": {
    "slideshow": {
     "slide_type": "slide"
    }
   },
   "source": [
    "<center>\n",
    "<img src=\"underthecovers/images/uctalk-Exp-6.png\" width=\"100%\"> \n",
    "</center>"
   ]
  },
  {
   "cell_type": "markdown",
   "id": "8421f0d9",
   "metadata": {
    "slideshow": {
     "slide_type": "slide"
    }
   },
   "source": [
    "<center>\n",
    "    \n",
    "# II-IV: The Small Picture\n",
    "\n",
    "</center>\n",
    "\n",
    "## How did I get here?\n",
    "\n",
    "- Motivated to redo our Intro to Computer Systems Class\n",
    "  - Frustrated with aging approaches \n",
    "  - Looking for an Open, Modern and Innovative way forward\n",
    "- Stumbled into tricks that Jupyter has up it sleeves\n",
    "  - And then one thing led to another\n"
   ]
  },
  {
   "cell_type": "markdown",
   "id": "55d7ec81",
   "metadata": {
    "cell_style": "split",
    "slideshow": {
     "slide_type": "slide"
    }
   },
   "source": [
    "### Improving Computer Systems Education\n",
    "\n",
    "Teaching students about how computer systems works is very rewarding but every year it becomes harder and harder as the number of students grows and computers become more and more baked into their lives.\n",
    "\n"
   ]
  },
  {
   "cell_type": "markdown",
   "id": "c9a5efc8",
   "metadata": {
    "cell_style": "split",
    "hide_input": true
   },
   "source": [
    "<img src=\"https://neighbourhoodpaper.com/wp-content/uploads/2018/03/WEBRESThe_Boyd_Smith_Mother_Goose_1920_14590828007.jpg\" width=\"80%\">"
   ]
  },
  {
   "cell_type": "markdown",
   "id": "f6b78df1",
   "metadata": {
    "cell_style": "center",
    "slideshow": {
     "slide_type": "notes"
    }
   },
   "source": [
    "<font size=3>\n",
    "BU CAS CS210: \n",
    "<center>    \n",
    "    Computer Systems\n",
    "    </center>\n",
    "<center>\n",
    "<img src=\"underthecovers/images/tapestry.png\" width=645px> \n",
    "</center>\n",
    "<center>\n",
    "    A rich and beautifully tapestry of <u><i>Interacting</i></u>\n",
    "<br><u><i>Hardware</i></u> + <u><i>Software</i></u> components that are the substrate to our modern digital world \n",
    "    </center>\n",
    "    </h4>"
   ]
  },
  {
   "cell_type": "markdown",
   "id": "fffaf995",
   "metadata": {
    "cell_style": "center",
    "slideshow": {
     "slide_type": "notes"
    }
   },
   "source": [
    "#### Teaching Computer Systems\n",
    "\n",
    "Some of the things we have to accomplish\n",
    "\n",
    "What is a Computer?\n",
    "\n",
    "What is Software?\n",
    "\n",
    "- First real interaction with UNIX\n",
    "  - What is a user program?\n",
    "  - What is an OS?\n",
    "  - What is a Process?\n",
    "  - What is a File?\n",
    "  - What is a User?\n",
    "  - What is Version Control?\n",
    "- The Von Neumann Architecture \n",
    "   - The world of Binary\n",
    "   - Assembly Programming\n",
    "   - C\n",
    "- How does it all fit together?\n",
    "\n",
    "The practical skills any CS graduate need to participate in the world around them. \n",
    "\n",
    "Provide the knowledge and skills to independently create and explore."
   ]
  },
  {
   "cell_type": "markdown",
   "id": "f160aea7",
   "metadata": {
    "slideshow": {
     "slide_type": "notes"
    }
   },
   "source": []
  },
  {
   "cell_type": "markdown",
   "id": "ecc3158d",
   "metadata": {
    "slideshow": {
     "slide_type": "slide"
    }
   },
   "source": [
    "We need a computing environment that is both real and yet can be stripped down as needed.\n",
    "\n",
    "One that lets an instructor fluidly move a student through the layers while not sacrificing  understanding.\n",
    "\n",
    "Yet teaches students skills that enable and foster their exploration of the concepts in context of real world systems.\n"
   ]
  },
  {
   "cell_type": "markdown",
   "id": "72b2cee0",
   "metadata": {
    "slideshow": {
     "slide_type": "slide"
    }
   },
   "source": [
    "## Who knew... at least I didn't\n",
    "\n",
    "Jupyter (resting on top of open standards and sw)  could be just what we need\n",
    "\n",
    "A unified web-browser friendly environment:\n",
    "- for live lecture material\n",
    "- for authoring and deploying interactive textbook material\n",
    "- for student self-exploration and lab environment"
   ]
  },
  {
   "cell_type": "markdown",
   "id": "72625396",
   "metadata": {
    "slideshow": {
     "slide_type": "slide"
    }
   },
   "source": [
    "### Some Tricks up Jupyter's Sleeves"
   ]
  },
  {
   "cell_type": "markdown",
   "id": "0a4716f9",
   "metadata": {
    "cell_style": "split"
   },
   "source": [
    "1. Authoring : \"jupyter{book} - Books with Jupyter\"\n",
    "    \n",
    "2. Presentations : \"The RISE notebook extention\"\n",
    "\n",
    "3. Container Friendly Desktop : JupyterLab + JupyterHub\n",
    "\n",
    "**GIT Friendly**\n",
    "  - Collaborative Structured Authoring\n",
    "  - Content tracking and management\n",
    "  - Publication \n",
    "  - etc."
   ]
  },
  {
   "cell_type": "markdown",
   "id": "e86ffbf4",
   "metadata": {
    "cell_style": "split"
   },
   "source": [
    "<img src=\"underthecovers/images/juptrick.png\">"
   ]
  },
  {
   "cell_type": "markdown",
   "id": "2b79b776",
   "metadata": {
    "slideshow": {
     "slide_type": "slide"
    }
   },
   "source": [
    "<center>\n",
    "\n",
    "## II: Trick 1 - Jupyter and Authoring\n",
    "    \n",
    "</center>\n",
    "\n",
    "- Much more than just notebooks   "
   ]
  },
  {
   "cell_type": "markdown",
   "id": "38767b8b",
   "metadata": {
    "slideshow": {
     "slide_type": "slide"
    }
   },
   "source": [
    "## Authoring: Books with Jupyter\n",
    "<center>\n",
    "<img src=\"https://jupyterbook.org/_static/logo-wide.svg\" style=\"background-color:white\" width=\"60%\">\n",
    "    </center>\n",
    "\n",
    "https://jupyterbook.org/intro.html"
   ]
  },
  {
   "cell_type": "code",
   "execution_count": null,
   "id": "29c6c04f",
   "metadata": {
    "hide_input": true
   },
   "outputs": [],
   "source": [
    "display(IFrame(\"https://jupyterbook.org/intro.html\", width=\"100%\", height=600))"
   ]
  },
  {
   "cell_type": "markdown",
   "id": "2dc7741a",
   "metadata": {
    "slideshow": {
     "slide_type": "slide"
    }
   },
   "source": [
    "### My \"jupyter{book}\" Muse and Introduction\n",
    "Professor Mark Crovella's  (https://www.cs.bu.edu/fac/crovella/) exemplars\n",
    "- Icons hide the \"Secret Sauce\""
   ]
  },
  {
   "cell_type": "code",
   "execution_count": null,
   "id": "f8017bcc",
   "metadata": {
    "cell_style": "center",
    "hide_input": true
   },
   "outputs": [],
   "source": [
    "display(IFrame(\"https://www.cs.bu.edu/fac/crovella/cs132-book/landing-page.html\", width=\"100%\", height=\"400\"))"
   ]
  },
  {
   "cell_type": "markdown",
   "id": "17b293a0",
   "metadata": {
    "slideshow": {
     "slide_type": "slide"
    }
   },
   "source": [
    "### GIT: The Linch Pin\n",
    "\n",
    "https://github.com/mcrovella/CS132-Geometric-Algorithms/"
   ]
  },
  {
   "cell_type": "markdown",
   "id": "9a2bb489",
   "metadata": {
    "slideshow": {
     "slide_type": "slide"
    }
   },
   "source": [
    "### Giving it a Go -- \"Under the Covers : The Secret Life of Software\""
   ]
  },
  {
   "cell_type": "code",
   "execution_count": null,
   "id": "e717ed34",
   "metadata": {
    "hide_input": true
   },
   "outputs": [],
   "source": [
    "display(IFrame(\"https://jappavoo.github.io/UndertheCovers/textbook/intro_tb.html\", width=\"100%\", height=600))"
   ]
  },
  {
   "cell_type": "markdown",
   "id": "60a3f5da",
   "metadata": {},
   "source": [
    "### Unified and powered by git\n",
    "https://github.com/jappavoo/UndertheCovers"
   ]
  },
  {
   "cell_type": "markdown",
   "id": "aa6429bf",
   "metadata": {
    "slideshow": {
     "slide_type": "slide"
    }
   },
   "source": [
    "<center>\n",
    "\n",
    "## III: Trick 2 - Jupyter and Presentations\n",
    "\n",
    "</center>\n",
    "\n",
    "- Lectures are the backbone of interactive teaching\n",
    "  - PowerPoint, Keynote, Google Slides\n",
    "      - What's open about these?\n",
    "      - What's Interactive about these?\n",
    "      - Where's the \"Beef\"? -- Integration with a computing platform"
   ]
  },
  {
   "cell_type": "markdown",
   "id": "dbe266fa",
   "metadata": {
    "slideshow": {
     "slide_type": "slide"
    }
   },
   "source": [
    "### Presentations: The Jupyter RISE Extension  and the Reveal\n"
   ]
  },
  {
   "cell_type": "code",
   "execution_count": null,
   "id": "45341417",
   "metadata": {
    "hide_input": true
   },
   "outputs": [],
   "source": [
    "display(IFrame(\"https://rise.readthedocs.io/en/stable/\", width=\"100%\", height=600))"
   ]
  },
  {
   "cell_type": "markdown",
   "id": "e4026cfc",
   "metadata": {
    "slideshow": {
     "slide_type": "slide"
    }
   },
   "source": [
    "### Eating your own dog food\n",
    "\n",
    "This is presentation is all in a Jupyter Notebook and presented via RISE.\n"
   ]
  },
  {
   "cell_type": "markdown",
   "id": "dc150141",
   "metadata": {
    "slideshow": {
     "slide_type": "slide"
    }
   },
   "source": [
    "### But why is this special\n",
    "\n",
    "- Just a poor man's crippled Open Source Power Point, right?\n"
   ]
  },
  {
   "cell_type": "markdown",
   "id": "71e15c01",
   "metadata": {
    "slideshow": {
     "slide_type": "fragment"
    }
   },
   "source": [
    "<center>\n",
    "\n",
    "# NO\n",
    "\n",
    "</center>"
   ]
  },
  {
   "cell_type": "markdown",
   "id": "ecd7f22c",
   "metadata": {
    "slideshow": {
     "slide_type": "slide"
    }
   },
   "source": [
    "#### A Real Live  UNIX Inside"
   ]
  },
  {
   "cell_type": "code",
   "execution_count": null,
   "id": "23996701",
   "metadata": {
    "hide_input": true
   },
   "outputs": [],
   "source": [
    "TermShellCmd(\"export TZ=America/New_York; date; ls; date\", markdown=False)"
   ]
  },
  {
   "cell_type": "markdown",
   "id": "05ee4d49",
   "metadata": {
    "slideshow": {
     "slide_type": "slide"
    }
   },
   "source": [
    "Even the man pages are real ;-)"
   ]
  },
  {
   "cell_type": "code",
   "execution_count": null,
   "id": "45c7abda",
   "metadata": {
    "hide_input": true
   },
   "outputs": [],
   "source": [
    "TermShellCmd(\"man 2 intro | head -10\")"
   ]
  },
  {
   "cell_type": "markdown",
   "id": "78db1ac9",
   "metadata": {
    "slideshow": {
     "slide_type": "slide"
    }
   },
   "source": [
    "<center>\n",
    "\n",
    "### AND SO EVERYTHING ON YOUR SIDES CAN BE REAL  \n",
    "    Including your terminals\n",
    "    \n",
    "</center>"
   ]
  },
  {
   "cell_type": "code",
   "execution_count": null,
   "id": "a14d244a",
   "metadata": {
    "cell_style": "split",
    "hide_input": false,
    "slideshow": {
     "slide_type": "slide"
    }
   },
   "outputs": [],
   "source": [
    "display(showET())"
   ]
  },
  {
   "cell_type": "code",
   "execution_count": null,
   "id": "c15b995d",
   "metadata": {
    "cell_style": "split",
    "hide_input": false,
    "slideshow": {
     "slide_type": "-"
    }
   },
   "outputs": [],
   "source": [
    "display(Markdown(FileCodeBox(\n",
    "    file=\"underthecovers/src/hello.c\", \n",
    "    lang=\"gas\", \n",
    "    title=\"\",\n",
    "    h=\"100%\", \n",
    "    w=\"50em\"\n",
    ")))"
   ]
  },
  {
   "cell_type": "markdown",
   "id": "d9ade7d4",
   "metadata": {
    "slideshow": {
     "slide_type": "slide"
    }
   },
   "source": [
    "### What yesterday's lecture looked like\n",
    "\n",
    "Swipe"
   ]
  },
  {
   "cell_type": "markdown",
   "id": "dd3bc9ba",
   "metadata": {
    "slideshow": {
     "slide_type": "slide"
    }
   },
   "source": [
    "### And of course all the Python and Data Science stuff that Jupyter is known for\n",
    "\n",
    "Even bit heads can benefit from some python"
   ]
  },
  {
   "cell_type": "markdown",
   "id": "8bc8baa3",
   "metadata": {},
   "source": [
    "Equation Typesetting via Latex\n",
    "\n",
    "The Byte\n",
    "<center>\n",
    "$[b_7 b_6 b_5 b_4 b_3 b_2 b_1 b_0]$ where each $b_i$ is ${0,1}$   \n",
    "</center>\n",
    "\n",
    "Binary to Unsigned Integer\n",
    "<center>\n",
    "$B2U_w(\\overrightarrow{x}) \\doteq \\sum_{i=0}^{w-1}x_{i}2^{i}$\n",
    "</center>"
   ]
  },
  {
   "cell_type": "markdown",
   "id": "0541f6e5",
   "metadata": {
    "slideshow": {
     "slide_type": "-"
    }
   },
   "source": [
    "Data Frames"
   ]
  },
  {
   "cell_type": "code",
   "execution_count": null,
   "id": "11f4c965",
   "metadata": {
    "hide_input": false,
    "slideshow": {
     "slide_type": "skip"
    }
   },
   "outputs": [],
   "source": [
    "displayBytes([[0x00],[0xff]], labels=[\"ALL OFF\", \"ALL ON\"])"
   ]
  },
  {
   "cell_type": "code",
   "execution_count": null,
   "id": "20876452",
   "metadata": {
    "hide_input": false
   },
   "outputs": [],
   "source": [
    "u=np.uint8(0x55)\n",
    "v=np.uint8(0xaa)\n",
    "w=np.bitwise_or(u,v)"
   ]
  },
  {
   "cell_type": "code",
   "execution_count": null,
   "id": "fd5408a6",
   "metadata": {
    "hide_input": false
   },
   "outputs": [],
   "source": [
    "displayBytes([[u],[v],[w]],labels=[\"u\",\"v\", \"w\"])"
   ]
  },
  {
   "cell_type": "markdown",
   "id": "a23753e5",
   "metadata": {},
   "source": [
    "### And of course Lectures and Presentations are now GIT Friendly\n",
    "\n",
    "\n",
    "- https://github.com/jappavoo/UndertheCovers\n",
    "\n",
    "- https://github.com/jappavoo/UndertheCovers/blob/main/uctalk.ipynb\n",
    "\n",
    "And like the text book content static version can be generated\n",
    "\n",
    "https://jappavoo.github.io/UndertheCovers/lecturenotes/unix/L03.html"
   ]
  },
  {
   "cell_type": "code",
   "execution_count": null,
   "id": "209f330d",
   "metadata": {
    "hide_input": true
   },
   "outputs": [],
   "source": [
    "display(IFrame(\"https://jappavoo.github.io/UndertheCovers/lecturenotes\", width=\"100%\", height=600))"
   ]
  },
  {
   "cell_type": "markdown",
   "id": "dfd61d61",
   "metadata": {
    "slideshow": {
     "slide_type": "slide"
    }
   },
   "source": [
    "<center>\n",
    "\n",
    "## IV: Trick 3 - Jupyter as a Container Desktop Interface\n",
    "    \n",
    "</center>\n",
    "\n",
    "- Giving every student their own Linux Box to hack, learn and grow with.\n",
    "    - right from the comfort of their web browser"
   ]
  },
  {
   "cell_type": "markdown",
   "id": "101ed8ff",
   "metadata": {
    "slideshow": {
     "slide_type": "slide"
    }
   },
   "source": [
    "### Jupyter Hub & Containers"
   ]
  },
  {
   "cell_type": "code",
   "execution_count": null,
   "id": "eb0dc45d",
   "metadata": {
    "cell_style": "split",
    "hide_input": true
   },
   "outputs": [],
   "source": [
    "display(IFrame(\"https://jupyter.org/hub\", width=\"100%\", height=400 ))"
   ]
  },
  {
   "cell_type": "markdown",
   "id": "dfab6629",
   "metadata": {
    "cell_style": "split"
   },
   "source": [
    "<img src=\"https://jupyterhub.readthedocs.io/en/stable/_images/jhub-fluxogram.jpeg\">"
   ]
  },
  {
   "cell_type": "markdown",
   "id": "adaa1da3",
   "metadata": {
    "slideshow": {
     "slide_type": "notes"
    }
   },
   "source": [
    "Jupyter Hub \n",
    "- Launches and manages per-user Jupyter Servers in an on demand fashion\n",
    "- Spawners support various backends \n",
    "  - eg. launch a container for each user server"
   ]
  },
  {
   "cell_type": "markdown",
   "id": "25e3f90b",
   "metadata": {
    "cell_style": "center",
    "slideshow": {
     "slide_type": "slide"
    }
   },
   "source": [
    "### JupyterLab - Next Generation "
   ]
  },
  {
   "cell_type": "markdown",
   "id": "12b9bc48",
   "metadata": {
    "cell_style": "center"
   },
   "source": [
    "<img src=\"https://jupyter.org/assets/labpreview.png\" width=\"40%\" style=\"background-color:black\" align=\"left\">\n",
    "\"JupyterLab: Jupyter’s Next-Generation Notebook Interface\n",
    "JupyterLab is a web-based interactive development environment for Jupyter notebooks, code, and data.\"\n",
    "<br>\n",
    "<br>\n",
    "<br>\n",
    "Our Take: A web-browser desktop container skin that can grow with the student into other classes...Data Science, ML, etc.\n",
    "\n",
    "http://127.0.0.1:8888/lab"
   ]
  },
  {
   "cell_type": "markdown",
   "id": "faec6ce1",
   "metadata": {
    "cell_style": "center",
    "slideshow": {
     "slide_type": "slide"
    }
   },
   "source": [
    "### Jupyter Hub + jupyterbook + Curated Container = Great Student Experience\n",
    "\n",
    "Jupyter Book support for Launching Interactive Sessions\n",
    "\n",
    "<img src=\"underthecovers/images/jbrocket.png\">"
   ]
  },
  {
   "cell_type": "markdown",
   "id": "965b8156",
   "metadata": {
    "cell_style": "center",
    "slideshow": {
     "slide_type": "slide"
    }
   },
   "source": [
    "Configured to redirect user browser to a JupyterHub Service\n",
    "1. User authenticates\n",
    "2. Choose Container Image to start\n",
    "3. The book contents is cloned \n",
    "4. Redirected to container version\n",
    "\n",
    "Design container to support book material and be stateless"
   ]
  },
  {
   "cell_type": "markdown",
   "id": "1c2e0058",
   "metadata": {
    "hide_input": true,
    "slideshow": {
     "slide_type": "slide"
    }
   },
   "source": [
    "### Putting it all together on Operate-First\n",
    "\n",
    "0. cs-book-dev container\n",
    "    - github repo - [here](https://github.com/jappavoo/bu-cs-book-dev)\n",
    "    - dockerhub published version: [here](https://github.com/jappavoo/bu-cs-book-dev)\n",
    "1. Launch this talk on an Operate-First container - [here](https://jupyterhub-opf-jupyterhub.apps.smaug.na.operate-first.cloud/hub/user-redirect/git-pull?repo=https%3A%2F%2Fgithub.com%2Fjappavoo%2FUndertheCovers&urlpath=tree%2FUndertheCovers%2Fuctalk.ipynb&branch=main)\n",
    "2. Launch the Jupyter Lab Desktop Interface on the Operate-First hosted container [here](https://jupyterhub-opf-jupyterhub.apps.smaug.na.operate-first.cloud/hub/user-redirect/lab)"
   ]
  },
  {
   "cell_type": "markdown",
   "id": "1be56b7c",
   "metadata": {
    "slideshow": {
     "slide_type": "slide"
    }
   },
   "source": [
    "# The Road ahead is long but promising"
   ]
  },
  {
   "cell_type": "markdown",
   "id": "cd3f0b6e",
   "metadata": {
    "slideshow": {
     "slide_type": "slide"
    }
   },
   "source": [
    "- Need to do a complete pass on the content\n",
    "  - Open source sanitization\n",
    "    - convert all proprietary document formats to open \n",
    "    - remove all proprietary images etc.\n",
    "  - Need to write text book portions\n",
    "  - Lecture material needs editing\n",
    "  - Need to develop lab manual and discussion section materials\n",
    "  - Need to debug and clean all my kludges\n",
    "- Need to codify best practices so that others can reproduce\n",
    "- Need production JupyterHub \n",
    "  - Works at scale \n",
    "    - next semester CS210 has > 200 students registered\n",
    "    - each will need to launch containers that are resistant\n",
    "      - fork bombs and infinite loops\n",
    "- Integration with Course and Institutional workflows\n"
   ]
  },
  {
   "cell_type": "markdown",
   "id": "ccebd0cc",
   "metadata": {
    "slideshow": {
     "slide_type": "slide"
    }
   },
   "source": [
    "<img src=\"underthecovers/images/oerruntimeex.png\">"
   ]
  },
  {
   "cell_type": "markdown",
   "id": "d8f3026d",
   "metadata": {
    "slideshow": {
     "slide_type": "slide"
    }
   },
   "source": [
    "<center>\n",
    "    \n",
    "# BACKUP / EXTRA\n",
    "    \n",
    "</center>"
   ]
  },
  {
   "cell_type": "markdown",
   "id": "e14aec1f",
   "metadata": {},
   "source": [
    "<center>\n",
    "<img src=\"underthecovers/images/OERarch.png\">\n",
    "</center>"
   ]
  },
  {
   "cell_type": "markdown",
   "id": "582f70b6",
   "metadata": {
    "slideshow": {
     "slide_type": "slide"
    }
   },
   "source": [
    "## Layers and layers of Abstraction and Software\n",
    "\n",
    "Allow millions to use computers ... but also result in a cognitive barrier to understanding how they work.\n"
   ]
  },
  {
   "cell_type": "markdown",
   "id": "085f74f8",
   "metadata": {
    "cell_style": "split",
    "slideshow": {
     "slide_type": "slide"
    }
   },
   "source": [
    "#### My First Computer Experience\n",
    "\n",
    "<img src=\"underthecovers/images/6502mb.png\">"
   ]
  },
  {
   "cell_type": "markdown",
   "id": "509167e5",
   "metadata": {
    "cell_style": "split"
   },
   "source": [
    "#### My Student's  First Computer Experience\n",
    "\n",
    "<img src=\"https://assets.dmagstatic.com/wp-content/uploads/2019/02/iStock-804616360-677x451.jpg\">"
   ]
  },
  {
   "cell_type": "markdown",
   "id": "69c49894",
   "metadata": {
    "cell_style": "split",
    "slideshow": {
     "slide_type": "slide"
    }
   },
   "source": [
    "#### My Undergraduate Lab\n",
    "\n",
    "<img src=\"https://upload.wikimedia.org/wikipedia/commons/thumb/9/99/DEC_VT100_terminal.jpg/1920px-DEC_VT100_terminal.jpg\">"
   ]
  },
  {
   "cell_type": "markdown",
   "id": "8ce6ee17",
   "metadata": {
    "cell_style": "split"
   },
   "source": [
    "#### My Student's Undergraduate Lab\n",
    "\n",
    "EMA 302"
   ]
  },
  {
   "cell_type": "code",
   "execution_count": null,
   "id": "f2c30727",
   "metadata": {
    "slideshow": {
     "slide_type": "notes"
    }
   },
   "outputs": [],
   "source": []
  },
  {
   "cell_type": "markdown",
   "id": "e625049c",
   "metadata": {
    "cell_style": "split",
    "slideshow": {
     "slide_type": "slide"
    }
   },
   "source": [
    "### A Computer is an opaque piece of glass \n",
    "<center>\n",
    "<img src=\"https://miro.medium.com/max/1400/1*yKbZj3nRtMMXN8avYCGzSw.jpeg\" width=\"50%\">\n",
    "    </center>\n",
    "That some else controls"
   ]
  },
  {
   "cell_type": "markdown",
   "id": "344bf921",
   "metadata": {
    "cell_style": "split"
   },
   "source": [
    "Unsurprisingly students have very little intuition for how things work\n",
    "\n",
    "Eg. Pervasive search has even obscured the idea of file hierarchies.\n"
   ]
  },
  {
   "cell_type": "markdown",
   "id": "1d7879f1",
   "metadata": {
    "slideshow": {
     "slide_type": "notes"
    }
   },
   "source": [
    "And yet can you imagine graduating with as a CS major without really understanding the concept and practicality of what a file is? If you stop and think about it a file is a subtle and hard thing to explain today unless you are willing to unravel \"everything\"  "
   ]
  },
  {
   "cell_type": "markdown",
   "id": "7ddf971a",
   "metadata": {
    "slideshow": {
     "slide_type": "slide"
    }
   },
   "source": [
    "## We don't need to return to the stone ages \n",
    "\n",
    "But we do need to ensure that\n",
    "\n",
    "1. A belief in magic does not take hold\n",
    "2. Individuals are empowered to explore \n",
    "3. Knowledge and the expectation of understanding is the norm"
   ]
  },
  {
   "cell_type": "markdown",
   "id": "1bb3a2c8",
   "metadata": {
    "cell_style": "split",
    "slideshow": {
     "slide_type": "slide"
    }
   },
   "source": [
    "The tension we have\n",
    "\n",
    "<font size=4.5>\n",
    "<ol>\n",
    "<li> Over simplify the details to focus on underlying concepts\n",
    "    <ul>\n",
    "  <li>abstraction with no understanding -- think with no doing\n",
    "    </ul>\n",
    "<li> focus on the details and avoid underlying concepts\n",
    "    <ul>\n",
    "  <li> facts with no understanding -- doing with no thinking\n",
    "    </ul>\n",
    "    </ol>\n",
    "    \n",
    "How can we accomplish both?  \n",
    "    </font>"
   ]
  },
  {
   "cell_type": "markdown",
   "id": "9dff7b78",
   "metadata": {
    "cell_style": "split"
   },
   "source": [
    "<img src=\"underthecovers/images/elephant.png\" width=\"100%\">"
   ]
  },
  {
   "cell_type": "markdown",
   "id": "439963a2",
   "metadata": {
    "cell_style": "center",
    "slideshow": {
     "slide_type": "slide"
    }
   },
   "source": [
    "## Exploring the Vision\n",
    "\n",
    "1. Barriers \n",
    "2. A Possible Path\n",
    "3. The Road Ahead"
   ]
  },
  {
   "cell_type": "markdown",
   "id": "9eddfe11",
   "metadata": {
    "cell_style": "split"
   },
   "source": [
    "<img src=\"https://www.saturdayeveningpost.com/wp-content/uploads/satevepost/2020-01-08-three-roads-converge-in-a-wood-shutterstock-860x573.jpg\" width=\"100%\">"
   ]
  },
  {
   "cell_type": "markdown",
   "id": "6fde1601",
   "metadata": {
    "slideshow": {
     "slide_type": "notes"
    }
   },
   "source": []
  },
  {
   "cell_type": "markdown",
   "id": "f33845d0",
   "metadata": {
    "cell_style": "split",
    "slideshow": {
     "slide_type": "slide"
    }
   },
   "source": [
    "<img src=\"https://thumbs.dreamstime.com/b/high-wall-bright-red-brick-building-cloudy-sky-above-47895492.jpg\" width=\"100%\">"
   ]
  },
  {
   "cell_type": "markdown",
   "id": "8acefcee",
   "metadata": {
    "cell_style": "split",
    "slideshow": {
     "slide_type": "-"
    }
   },
   "source": [
    "## Barriers \n",
    "\n",
    "1. Structural\n",
    "  - Closed \"Dead Tree\" players still rule\n",
    "2. The Curse of Endless Abstraction\n",
    "  - The down side of \"Progress\"\n",
    "3. Closed Clients and Clouds\n",
    "  - Profit from the entanglement of \"Syntax\" and \"Semantic\""
   ]
  },
  {
   "cell_type": "code",
   "execution_count": null,
   "id": "71188fa7",
   "metadata": {
    "slideshow": {
     "slide_type": "notes"
    }
   },
   "outputs": [],
   "source": []
  },
  {
   "cell_type": "markdown",
   "id": "5691d1f7",
   "metadata": {
    "cell_style": "split",
    "slideshow": {
     "slide_type": "slide"
    }
   },
   "source": [
    "## Structural Barriers\n",
    "\n",
    "Who's interests are we serving?\n"
   ]
  },
  {
   "cell_type": "code",
   "execution_count": null,
   "id": "566848d6",
   "metadata": {
    "cell_style": "split",
    "hide_input": true
   },
   "outputs": [],
   "source": [
    "display(Markdown(\"Business Insider, September 2018\"))\n",
    "display(HTML('<iframe src=\"//cdn.jwplayer.com/players/Y7y7ou0c-puACk8ZV.html\" width=\"320\" height=\"100%\" frameborder=\"0\" scrolling=\"auto\"></iframe>'))"
   ]
  },
  {
   "cell_type": "markdown",
   "id": "55d04020",
   "metadata": {
    "slideshow": {
     "slide_type": "slide"
    }
   },
   "source": [
    "### So how about now?\n",
    "\n",
    "Sept 2021, Forbes\n",
    "\n",
    "\"Legal Experts On Pearson V. Chegg And Why It Could Be A Huge Deal\n",
    "\n",
    "This past week, Pearson, a public billion-dollar education and publishing company, sued Chegg, another public, billion-dollar education company. Though calling Chegg an education company is a stretch.\""
   ]
  },
  {
   "cell_type": "markdown",
   "id": "1a5ad43b",
   "metadata": {
    "cell_style": "split",
    "slideshow": {
     "slide_type": "-"
    }
   },
   "source": [
    "<img src=\"https://www.nicepng.com/png/detail/7-70384_crown-king-crown-clip-art.png\" width=\"460\">"
   ]
  },
  {
   "cell_type": "markdown",
   "id": "b419b95b",
   "metadata": {
    "cell_style": "split"
   },
   "source": [
    "<img src=\"https://user-images.githubusercontent.com/25103430/71287503-897b8080-2336-11ea-8b31-848bfab5176e.png\" style=\"background-color:white\"  width=\"400\" >"
   ]
  },
  {
   "cell_type": "markdown",
   "id": "1ea1c36d",
   "metadata": {
    "slideshow": {
     "slide_type": "-"
    }
   },
   "source": [
    "Hmmm ... Something see out of wack"
   ]
  },
  {
   "cell_type": "markdown",
   "id": "f8d9bb33",
   "metadata": {
    "cell_style": "split",
    "slideshow": {
     "slide_type": "slide"
    }
   },
   "source": [
    "### Hope : Open-Educational Resources (OER)\n",
    "\n",
    "<font size=\"4\">\n",
    "    \n",
    "\"Congress designated $5 million in the fiscal 2018 budget to support the creation or expansion of open-educational resources: peer-reviewed academic material released under an intellectual property license that permits free use. \n",
    "\n",
    "Widespread adoption of open-source textbooks is ultimately up to professors who select and assign course material.\"\n",
    "\n",
    "<em> Washington Post, 2018 </em>\n",
    "</font>"
   ]
  },
  {
   "cell_type": "code",
   "execution_count": null,
   "id": "39c80162",
   "metadata": {
    "cell_style": "split",
    "hide_input": true
   },
   "outputs": [],
   "source": [
    "display(Markdown(\"May 5, 2021 : Colorado\"))\n",
    "display(HTML('<iframe src=\"https://www.facebook.com/plugins/video.php?height=314&href=https%3A%2F%2Fwww.facebook.com%2Fjaredpolis%2Fvideos%2F182276427081502%2F&show_text=false&width=560&t=0\" width=\"560\" height=\"314\" style=\"border:none;overflow:hidden\" scrolling=\"no\" frameborder=\"0\" allowfullscreen=\"true\" allow=\"autoplay; clipboard-write; encrypted-media; picture-in-picture; web-share\" allowFullScreen=\"true\"></iframe>'))"
   ]
  },
  {
   "cell_type": "markdown",
   "id": "ad912e4e",
   "metadata": {
    "slideshow": {
     "slide_type": "notes"
    }
   },
   "source": [
    "Since at least 2009 the US Federal government has been trying \n",
    "\"Open College Textbook Act\" and the \"Affordable College Textbook Act\"\n"
   ]
  },
  {
   "cell_type": "code",
   "execution_count": null,
   "id": "579fa0dd",
   "metadata": {
    "cell_style": "center",
    "hide_input": false,
    "slideshow": {
     "slide_type": "slide"
    }
   },
   "outputs": [],
   "source": [
    "display(Markdown(\"### Balls are rolling: OpenStax\"))\n",
    "display(IFrame('https://openstax.org/about', width=700, height=600))"
   ]
  },
  {
   "cell_type": "markdown",
   "id": "76bfbddd",
   "metadata": {
    "cell_style": "split",
    "slideshow": {
     "slide_type": "slide"
    }
   },
   "source": [
    "### Some how things still feel \"missing\"\n",
    "\n",
    "1. Why are there so few books?\n",
    "2. Where is the \"Source\" material?\n",
    "2. Where is the innovative interactive experience?\n",
    "3. Where is CS?"
   ]
  },
  {
   "cell_type": "markdown",
   "id": "5b7529b2",
   "metadata": {
    "cell_style": "split",
    "slideshow": {
     "slide_type": "slide"
    }
   },
   "source": [
    "### Our Help is needed!\n",
    "\n",
    "What could an open OER Platform bring to the table?\n",
    "- An rich educational computing substrate \n",
    "  - enable both authors and students\n",
    "  - reflect and exploit the \"real\" world \n",
    " \n",
    "But OER Cloud Platforms are not going to pioneer themselves!"
   ]
  },
  {
   "cell_type": "markdown",
   "id": "83e5b9ef",
   "metadata": {
    "slideshow": {
     "slide_type": "notes"
    }
   },
   "source": [
    "Caveat:  I am by no means an expert wrt the state of OER.  I am just a professor who wants to help my students and any one who wants to learn about computer systems."
   ]
  },
  {
   "cell_type": "markdown",
   "id": "0edcc4a8",
   "metadata": {
    "slideshow": {
     "slide_type": "notes"
    }
   },
   "source": []
  },
  {
   "cell_type": "code",
   "execution_count": null,
   "id": "7c58638f",
   "metadata": {
    "hide_input": true,
    "slideshow": {
     "slide_type": "slide"
    }
   },
   "outputs": [],
   "source": [
    "TermShellCmd(\"ls ./underthecovers/images\", markdown=False)"
   ]
  },
  {
   "cell_type": "code",
   "execution_count": null,
   "id": "d0e8caf6",
   "metadata": {
    "hide_input": true
   },
   "outputs": [],
   "source": [
    "TermShellCmd(\"ls -l\", markdown=False)"
   ]
  }
 ],
 "metadata": {
  "celltoolbar": "Slideshow",
  "hide_input": true,
  "kernelspec": {
   "display_name": "Python 3 (ipykernel)",
   "language": "python",
   "name": "python3"
  },
  "language_info": {
   "codemirror_mode": {
    "name": "ipython",
    "version": 3
   },
   "file_extension": ".py",
   "mimetype": "text/x-python",
   "name": "python",
   "nbconvert_exporter": "python",
   "pygments_lexer": "ipython3",
   "version": "3.9.6"
  },
  "rise": {
   "autolaunch": false,
   "enable_chalkboard": true,
   "footer": "Under the Covers - The Secret Life of Software",
   "header": "An Open Source Dream",
   "height": "100%",
   "scroll": true,
   "start_slideshow_at": "selected",
   "theme": "black",
   "transition": "none",
   "width": "100%"
  }
 },
 "nbformat": 4,
 "nbformat_minor": 5
}
