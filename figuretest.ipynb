{
 "cells": [
  {
   "cell_type": "code",
   "execution_count": null,
   "id": "66fa4e31",
   "metadata": {},
   "outputs": [],
   "source": [
    "%run -i underthecovers/python/common.py"
   ]
  },
  {
   "cell_type": "code",
   "execution_count": null,
   "id": "e0b11d13",
   "metadata": {},
   "outputs": [],
   "source": [
    "htmlfig1=htmlFig(\n",
    "        imgs=[\n",
    "            [\n",
    "                {\n",
    "                'src' :\"underthecovers/images/shell.jpg\", \n",
    "                'border':\"1px solid red\",\n",
    "                'caption': \"A: Terminal 1\",\n",
    "                'capcolor': 'white',\n",
    "                'capbgcolor': 'red',\n",
    "                'extratxt': 'See <a href=\"https://en.wikipedia.org/wiki/VT220\">vt220</a>',\n",
    "                'extrafont': \"1vmin\",\n",
    "                'extracolor': \"green\"\n",
    "                }, \n",
    "                {\n",
    "                'src':\"underthecovers/images/shell.jpg\", \n",
    "                'border':\"1px solid green\",\n",
    "                'caption': \"B: Terminal 2\",\n",
    "                'capcolor': 'white',\n",
    "                'capbgcolor': 'green',\n",
    "                },\n",
    "                {\n",
    "                'src':\"underthecovers/images/shell.jpg\", \n",
    "                'border':\"1px solid orange\",\n",
    "                'caption': \"C: Terminal 3\",\n",
    "                'capcolor': 'white',\n",
    "                'capbgcolor': 'orange',\n",
    "                }\n",
    "            ],\n",
    "            { \n",
    "                'src': 'underthecovers/images/shell.jpg',\n",
    "                'border':\"1px solid blue\",\n",
    "                'caption': \"D: Terminal 4\",\n",
    "                'capcolor': 'white',\n",
    "                'capbgcolor': 'blue',\n",
    "                'colspan': '3',\n",
    "                'width': '33.3%'\n",
    "            }\n",
    "        ], \n",
    "        align=\"left\",\n",
    "        width=\"50%\",\n",
    "        margin=\"auto 2em auto auto\",\n",
    "       caption='<center>Figure 1: Some <a href=\"https://en.wikipedia.org/wiki/VT220\">vt220</a> ASCII Terminals</center>',\n",
    "#        subcaption=\"B: Terminal 2\", \n",
    "#        extratxt=,\n",
    "#        border=\"1px solid red\"\n",
    "    )"
   ]
  },
  {
   "cell_type": "markdown",
   "id": "0a5537fd",
   "metadata": {
    "variables": {
     "HTML(htmlfig1)": "\n<table align=\"left\" width=\"50%\" cellpadding=\"0\" cellspacing=\"0\" border=\"0\" style=\"border-collapse: collapse; margin: auto 2em auto auto\">\n\n    <tr style=\"padding: 0; margin: 0;\"> \n        <td colspan=\"1\" style=\"padding: 0; margin: 0; background-color:inherit;\">\n            <div style=\"margin-right: auto; margin-left: auto; padding: 0; margin: 0;\">\n              <figure style=\"width:100%; padding: 0; margin-right: auto; margin-left: auto;border: 1px solid red;\">\n    <img src=\"underthecovers/images/shell.jpg\" width=\"100%\" style=\"padding: 0; margin: 0;\">\n\n                   <div align=\"right\" style=\"color:green; line-height: 0; font-size: 1vmin\">\n                    <em>\nSee <a href=\"https://en.wikipedia.org/wiki/VT220\">vt220</a>                    \n                    </em>\n                  </div> \n\n                  <figcaption>\n                    <div style=\"background-color: red; margin-right:auto; margin-left:auto; text-align: center;\">\n                       <i style=\"color:white\"> A: Terminal 1</i>\n                    </div>\n                  </figcaption>\n\n                </figure>\n            </div>\n        </td>\n        <td colspan=\"1\" style=\"padding: 0; margin: 0; background-color:inherit;\">\n            <div style=\"margin-right: auto; margin-left: auto; padding: 0; margin: 0;\">\n              <figure style=\"width:100%; padding: 0; margin-right: auto; margin-left: auto;border: 1px solid green;\">\n    <img src=\"underthecovers/images/shell.jpg\" width=\"100%\" style=\"padding: 0; margin: 0;\">\n\n                  <figcaption>\n                    <div style=\"background-color: green; margin-right:auto; margin-left:auto; text-align: center;\">\n                       <i style=\"color:white\"> B: Terminal 2</i>\n                    </div>\n                  </figcaption>\n\n                </figure>\n            </div>\n        </td>\n        <td colspan=\"1\" style=\"padding: 0; margin: 0; background-color:inherit;\">\n            <div style=\"margin-right: auto; margin-left: auto; padding: 0; margin: 0;\">\n              <figure style=\"width:100%; padding: 0; margin-right: auto; margin-left: auto;border: 1px solid orange;\">\n    <img src=\"underthecovers/images/shell.jpg\" width=\"100%\" style=\"padding: 0; margin: 0;\">\n\n                  <figcaption>\n                    <div style=\"background-color: orange; margin-right:auto; margin-left:auto; text-align: center;\">\n                       <i style=\"color:white\"> C: Terminal 3</i>\n                    </div>\n                  </figcaption>\n\n                </figure>\n            </div>\n        </td>\n\n    </tr>\n\n    <tr style=\"padding: 0; margin: 0;\"> \n        <td colspan=\"3\" style=\"padding: 0; margin: 0; background-color:inherit;\">\n            <div style=\"margin-right: auto; margin-left: auto; padding: 0; margin: 0;\">\n              <figure style=\"width:33.3%; padding: 0; margin-right: auto; margin-left: auto;border: 1px solid blue;\">\n    <img src=\"underthecovers/images/shell.jpg\" width=\"100%\" style=\"padding: 0; margin: 0;\">\n\n                  <figcaption>\n                    <div style=\"background-color: blue; margin-right:auto; margin-left:auto; text-align: center;\">\n                       <i style=\"color:white\"> D: Terminal 4</i>\n                    </div>\n                  </figcaption>\n\n                </figure>\n            </div>\n        </td>\n\n    </tr>\n\n    <caption align=\"bottom\" style=\"text-align: left\"; padding: 0; margin: 0;\" >\n          <i><center>Figure 1: Some <a href=\"https://en.wikipedia.org/wiki/VT220\">vt220</a> ASCII Terminals</center></i> \n    </caption>\n\n</table>\n"
    }
   },
   "source": [
    "{{HTML(htmlfig1)}} what is the value  mean?"
   ]
  },
  {
   "cell_type": "code",
   "execution_count": null,
   "id": "f2660be9",
   "metadata": {},
   "outputs": [],
   "source": [
    "!pwd"
   ]
  },
  {
   "cell_type": "code",
   "execution_count": null,
   "id": "0097dc22",
   "metadata": {},
   "outputs": [],
   "source": [
    "a=13\n"
   ]
  },
  {
   "cell_type": "markdown",
   "id": "f16d3890",
   "metadata": {
    "variables": {
     "a": "13"
    }
   },
   "source": [
    " a number {{a}}"
   ]
  },
  {
   "cell_type": "code",
   "execution_count": null,
   "id": "9b49d5f4",
   "metadata": {},
   "outputs": [],
   "source": []
  }
 ],
 "metadata": {
  "hide_input": false,
  "kernelspec": {
   "display_name": "Python 3 (ipykernel)",
   "language": "python",
   "name": "python3"
  },
  "language_info": {
   "codemirror_mode": {
    "name": "ipython",
    "version": 3
   },
   "file_extension": ".py",
   "mimetype": "text/x-python",
   "name": "python",
   "nbconvert_exporter": "python",
   "pygments_lexer": "ipython3",
   "version": "3.9.6"
  }
 },
 "nbformat": 4,
 "nbformat_minor": 5
}
