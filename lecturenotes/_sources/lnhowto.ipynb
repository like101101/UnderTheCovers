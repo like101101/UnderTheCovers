{
 "cells": [
  {
   "cell_type": "code",
   "execution_count": null,
   "id": "f94ef948-2412-47b5-b91e-a2a81e870013",
   "metadata": {
    "jupyter": {
     "source_hidden": true
    },
    "tags": [
     "remove-cell"
    ]
   },
   "outputs": [],
   "source": [
    "%run -i python/common.py"
   ]
  },
  {
   "cell_type": "markdown",
   "id": "ee45caec-5aaf-4d8a-8611-b4c38a9d8ab3",
   "metadata": {},
   "source": [
    "# How to \"view\" lecture notes\n",
    "\n",
    "\n",
    "The lecture notes on this site are static web pages that have been generated from a set of Jupyter Notebooks that are a part of the \"Under the Covers: The Secret Life of Software\" textbook materials. \n",
    "\n",
    "\n",
    "## Students\n",
    "\n",
    "If you are a student the lectures are  converted so that the static version reflects all the material presented in the class room setting along with additional notes.  \n",
    "\n",
    "## Instructors\n",
    "\n",
    "In a classroom setting we use the source lecture specific jupyter notebooks to present.  These notebooks are designed to be view with the [RISE](https://rise.readthedocs.io/en/stable/) jupyter extension.  Unfortunately the default version of RISE is not compatible with the Jupyter Lab interface yet.  \"The Under the Covers the Secret Life of Software\",  textbook, as part of the Open Education Effort is using a customized prototype version of the RISE extension for Jupyter Lab.  This work allows us to present the lecture notebooks using RISE in Jupyter Lab.    This allows us to present the \"slides\" beside terminals all within the same Jupyter Lab instance.  \n",
    "\n",
    "This, however, is a work in progress and we recommend you reach out to the author for details if you are interested in replicating the lecture environment."
   ]
  }
 ],
 "metadata": {
  "kernelspec": {
   "display_name": "Python 3 (ipykernel)",
   "language": "python",
   "name": "python3"
  },
  "language_info": {
   "codemirror_mode": {
    "name": "ipython",
    "version": 3
   },
   "file_extension": ".py",
   "mimetype": "text/x-python",
   "name": "python",
   "nbconvert_exporter": "python",
   "pygments_lexer": "ipython3",
   "version": "3.10.5"
  }
 },
 "nbformat": 4,
 "nbformat_minor": 5
}
