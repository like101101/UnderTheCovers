{
 "cells": [
  {
   "cell_type": "code",
   "execution_count": null,
   "id": "637faba6",
   "metadata": {
    "hide_input": true,
    "jupyter": {
     "source_hidden": true
    },
    "slideshow": {
     "slide_type": "skip"
    },
    "tags": [
     "remove-cell"
    ]
   },
   "outputs": [],
   "source": [
    "%run -i ../python/common.py\n",
    "UC_SKIPTERMS=True\n",
    "%run -i ../python/ln_preamble.py"
   ]
  },
  {
   "cell_type": "markdown",
   "id": "911c7a81-ec70-4254-8ba8-4bb9cc5b5bad",
   "metadata": {
    "slideshow": {
     "slide_type": "slide"
    }
   },
   "source": [
    "# SLS Lecture 12 : Program Anatomy III : Code as Data\n"
   ]
  },
  {
   "cell_type": "code",
   "execution_count": null,
   "id": "58026b0f",
   "metadata": {
    "hide_input": true,
    "jupyter": {
     "source_hidden": true
    },
    "tags": [
     "remove-input"
    ]
   },
   "outputs": [],
   "source": [
    "# setup for sumit examples\n",
    "appdir=os.getenv('HOME')\n",
    "appdir=appdir + \"/codedata\"\n",
    "#print(movdir)\n",
    "output=runTermCmd(\"[[ -d \" + appdir + \" ]] &&  rm -rf \"+ appdir + \n",
    "             \";mkdir \" + appdir + \n",
    "             \";cp ../src/Makefile ../src/codeptrs.S ../src/codeptrs.gdb ../src/selfmodify.S ../src/selfmodify.gdb \" + appdir)\n",
    "TermShellCmd(\"ls\", cwd=appdir)\n",
    "display(Markdown('''\n",
    "- create a directory `mkdir codedata; cd codedata`\n",
    "- copy examples\n",
    "- add a `Makefile` to automate assembling and linking\n",
    "    - we are going run the commands by hand this time to highlight the details\n",
    "- add our `setup.gdb` and `codeptrs.gdb` and `selfmodify.gdb` to make working in gdb easier\n",
    "- normally you would want to track everything in git\n",
    "'''))"
   ]
  },
  {
   "cell_type": "markdown",
   "id": "dd13b3d8",
   "metadata": {
    "slideshow": {
     "slide_type": "slide"
    }
   },
   "source": [
    "<center>\n",
    "<img src=../images/ASSEMBLY-PGMIV/ASSEMBLY-PGMIV.001.png>\n",
    "</center> "
   ]
  },
  {
   "cell_type": "markdown",
   "id": "9d3c6508",
   "metadata": {
    "slideshow": {
     "slide_type": "slide"
    }
   },
   "source": [
    "<center>\n",
    "<img src=../images/ASSEMBLY-PGMIV/ASSEMBLY-PGMIV.002.png>\n",
    "</center> "
   ]
  },
  {
   "cell_type": "markdown",
   "id": "a5b0470e",
   "metadata": {
    "slideshow": {
     "slide_type": "slide"
    }
   },
   "source": [
    "<center>\n",
    "<img src=../images/ASSEMBLY-PGMIV/ASSEMBLY-PGMIV.003.png>\n",
    "</center> "
   ]
  },
  {
   "cell_type": "markdown",
   "id": "0a843cf8",
   "metadata": {
    "slideshow": {
     "slide_type": "slide"
    }
   },
   "source": [
    "<center>\n",
    "<img src=../images/ASSEMBLY-PGMIV/ASSEMBLY-PGMIV.004.png>\n",
    "</center> "
   ]
  },
  {
   "cell_type": "markdown",
   "id": "43ec7ccd",
   "metadata": {
    "slideshow": {
     "slide_type": "slide"
    }
   },
   "source": [
    "<center>\n",
    "<img src=../images/ASSEMBLY-PGMIV/ASSEMBLY-PGMIV.005.png>\n",
    "</center> "
   ]
  },
  {
   "cell_type": "markdown",
   "id": "3c081ddf",
   "metadata": {
    "slideshow": {
     "slide_type": "slide"
    }
   },
   "source": [
    "<center>\n",
    "<img src=../images/ASSEMBLY-PGMIV/ASSEMBLY-PGMIV.006.png>\n",
    "</center> "
   ]
  },
  {
   "cell_type": "markdown",
   "id": "d8bc9c14",
   "metadata": {
    "slideshow": {
     "slide_type": "slide"
    }
   },
   "source": [
    "<center>\n",
    "<img src=../images/ASSEMBLY-PGMIV/ASSEMBLY-PGMIV.007.png>\n",
    "</center> "
   ]
  },
  {
   "cell_type": "markdown",
   "id": "07f9b2d1",
   "metadata": {
    "slideshow": {
     "slide_type": "slide"
    }
   },
   "source": [
    "<center>\n",
    "<img src=../images/ASSEMBLY-PGMIV/ASSEMBLY-PGMIV.008.png>\n",
    "</center> "
   ]
  },
  {
   "cell_type": "markdown",
   "id": "7f61197a",
   "metadata": {
    "slideshow": {
     "slide_type": "slide"
    }
   },
   "source": [
    "<center>\n",
    "<img src=../images/ASSEMBLY-PGMIV/ASSEMBLY-PGMIV.009.png>\n",
    "</center> "
   ]
  },
  {
   "cell_type": "markdown",
   "id": "ecc9945c",
   "metadata": {
    "slideshow": {
     "slide_type": "slide"
    }
   },
   "source": [
    "<center>\n",
    "<img src=../images/ASSEMBLY-PGMIV/ASSEMBLY-PGMIV.010.png>\n",
    "</center> "
   ]
  },
  {
   "cell_type": "markdown",
   "id": "688cb058",
   "metadata": {
    "slideshow": {
     "slide_type": "slide"
    }
   },
   "source": [
    "<center>\n",
    "<img src=../images/ASSEMBLY-PGMIV/ASSEMBLY-PGMIV.011.png>\n",
    "</center> "
   ]
  },
  {
   "cell_type": "markdown",
   "id": "b6614338",
   "metadata": {
    "slideshow": {
     "slide_type": "slide"
    }
   },
   "source": [
    "<center>\n",
    "<img src=../images/ASSEMBLY-PGMIV/ASSEMBLY-PGMIV.012.png>\n",
    "</center> "
   ]
  },
  {
   "cell_type": "markdown",
   "id": "7d043e69",
   "metadata": {
    "slideshow": {
     "slide_type": "slide"
    }
   },
   "source": [
    "<center>\n",
    "<img src=../images/ASSEMBLY-PGMIV/ASSEMBLY-PGMIV.013.png>\n",
    "</center> "
   ]
  },
  {
   "cell_type": "markdown",
   "id": "8de7df4b",
   "metadata": {
    "slideshow": {
     "slide_type": "slide"
    }
   },
   "source": [
    "<center>\n",
    "<img src=../images/ASSEMBLY-PGMIV/ASSEMBLY-PGMIV.014.png>\n",
    "</center> "
   ]
  },
  {
   "cell_type": "markdown",
   "id": "a59d4849",
   "metadata": {
    "slideshow": {
     "slide_type": "slide"
    }
   },
   "source": [
    "<center>\n",
    "<img src=../images/ASSEMBLY-PGMIV/ASSEMBLY-PGMIV.015.png>\n",
    "</center> "
   ]
  },
  {
   "cell_type": "markdown",
   "id": "dbcd9477",
   "metadata": {
    "slideshow": {
     "slide_type": "slide"
    }
   },
   "source": [
    "<center>\n",
    "<img src=../images/ASSEMBLY-PGMIV/ASSEMBLY-PGMIV.016.png>\n",
    "</center> "
   ]
  },
  {
   "cell_type": "markdown",
   "id": "2e7d7f7c",
   "metadata": {
    "slideshow": {
     "slide_type": "slide"
    }
   },
   "source": [
    "<center>\n",
    "<img src=../images/ASSEMBLY-PGMIV/ASSEMBLY-PGMIV.017.png>\n",
    "</center> "
   ]
  },
  {
   "cell_type": "markdown",
   "id": "6ed389c2",
   "metadata": {
    "slideshow": {
     "slide_type": "slide"
    }
   },
   "source": [
    "<center>\n",
    "<img src=../images/ASSEMBLY-PGMIV/ASSEMBLY-PGMIV.018.png>\n",
    "</center> "
   ]
  },
  {
   "cell_type": "markdown",
   "id": "19988477",
   "metadata": {
    "slideshow": {
     "slide_type": "slide"
    }
   },
   "source": [
    "<center>\n",
    "<img src=../images/ASSEMBLY-PGMIV/ASSEMBLY-PGMIV.019.png>\n",
    "</center> "
   ]
  },
  {
   "cell_type": "markdown",
   "id": "52cec598",
   "metadata": {
    "slideshow": {
     "slide_type": "slide"
    }
   },
   "source": [
    "<center>\n",
    "<img src=../images/ASSEMBLY-PGMIV/ASSEMBLY-PGMIV.020.png>\n",
    "</center> "
   ]
  },
  {
   "cell_type": "markdown",
   "id": "41dde983",
   "metadata": {
    "slideshow": {
     "slide_type": "slide"
    }
   },
   "source": [
    "<center>\n",
    "<img src=../images/ASSEMBLY-PGMIV/ASSEMBLY-PGMIV.021.png>\n",
    "</center> "
   ]
  }
 ],
 "metadata": {
  "celltoolbar": "Tags",
  "hide_input": false,
  "kernelspec": {
   "display_name": "Python 3 (ipykernel)",
   "language": "python",
   "name": "python3"
  },
  "language_info": {
   "codemirror_mode": {
    "name": "ipython",
    "version": 3
   },
   "file_extension": ".py",
   "mimetype": "text/x-python",
   "name": "python",
   "nbconvert_exporter": "python",
   "pygments_lexer": "ipython3",
   "version": "3.10.5"
  },
  "rise": {
   "autolaunch": false,
   "enable_chalkboard": true,
   "footer": "UC-SLS -- Lecture 12",
   "header": "Assembly: Program Anatomy III",
   "height": "100%",
   "scroll": true,
   "start_slideshow_at": "selected",
   "transition": "none",
   "width": "100%"
  }
 },
 "nbformat": 4,
 "nbformat_minor": 5
}
