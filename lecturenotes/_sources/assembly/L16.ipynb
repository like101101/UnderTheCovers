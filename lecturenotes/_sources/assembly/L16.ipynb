{
 "cells": [
  {
   "cell_type": "code",
   "execution_count": null,
   "id": "a14a903f-0eed-4e2b-bcc1-93ac488dd91e",
   "metadata": {
    "jupyter": {
     "source_hidden": true
    },
    "slideshow": {
     "slide_type": "skip"
    },
    "tags": []
   },
   "outputs": [],
   "source": [
    "%run -i ../python/common.py\n",
    "UC_SKIPTERMS=True\n",
    "%run -i ../python/ln_preamble.py"
   ]
  },
  {
   "cell_type": "markdown",
   "id": "cd159d82-a854-41ec-abc9-d2320613d0ba",
   "metadata": {
    "slideshow": {
     "slide_type": "slide"
    },
    "tags": []
   },
   "source": [
    "# SLS Lecture 16 : Caches : Constructing them from first principles"
   ]
  },
  {
   "cell_type": "code",
   "execution_count": null,
   "id": "d7322daf-1329-467a-90bc-d740e9095bce",
   "metadata": {
    "jupyter": {
     "source_hidden": true
    },
    "slideshow": {
     "slide_type": "skip"
    },
    "tags": []
   },
   "outputs": [],
   "source": [
    "# setup for sumit examples\n",
    "appdir=os.getenv('HOME')\n",
    "appdir=appdir + \"/caches\"\n",
    "#print(movdir)\n",
    "output=runTermCmd(\"[[ -d \" + appdir + \" ]] &&  rm -rf \"+ appdir + \n",
    "             \";mkdir \" + appdir + \n",
    "             \";cp ../src/SOL6502/Makefile ../src/SOL6502/sum.s ../src/SOL6502/sum.txt ../src/SOL6502/SOL6502.cfg \" + appdir)\n",
    "\n",
    "display(Markdown('''\n",
    "- create a directory `mkdir cache; cd cache`\n",
    "- copy examples\n",
    "- add a `Makefile` to automate assembling and linking\n",
    "    - we are going run the commands by hand this time to highlight the details\n",
    "'''))\n",
    "TermShellCmd(\"ls \" + appdir)"
   ]
  },
  {
   "cell_type": "markdown",
   "id": "4659ec64-3ef0-4bca-8ec2-a277136c0882",
   "metadata": {
    "slideshow": {
     "slide_type": "slide"
    },
    "tags": []
   },
   "source": [
    "## Remember this picture\n",
    "<img src=\"../images/ASSEMBLY-VNA-THECPU/ASSEMBLY-VNA-THECPU.017.png\">"
   ]
  },
  {
   "cell_type": "markdown",
   "id": "affa0168-19bd-4fb5-afe8-85557d9bf7bc",
   "metadata": {
    "slideshow": {
     "slide_type": "slide"
    },
    "tags": []
   },
   "source": [
    "### What is the physical Reality \n",
    "\n",
    "<img src=\"../images/motherboard.png\">"
   ]
  },
  {
   "cell_type": "markdown",
   "id": "aa02f090-c209-4027-a142-f192c521e4f9",
   "metadata": {
    "slideshow": {
     "slide_type": "slide"
    },
    "tags": []
   },
   "source": [
    "## Lets build our Computer\n",
    "\n",
    "<img src=\"../images/6502mb.png\">"
   ]
  },
  {
   "cell_type": "markdown",
   "id": "7b12d354-1b05-44ab-8232-e08d8b351bdc",
   "metadata": {
    "slideshow": {
     "slide_type": "slide"
    },
    "tags": []
   },
   "source": [
    "## A nice Simple CPU - Only 6 registers and no MMU\n",
    "<img src=\"../images/6502Registers.png\">"
   ]
  },
  {
   "cell_type": "markdown",
   "id": "a42ba261-3869-4b7c-aea2-1f7900f63c2f",
   "metadata": {
    "slideshow": {
     "slide_type": "slide"
    },
    "tags": []
   },
   "source": [
    "## Simple Main Memory\n",
    "\n",
    "- Physical Memory : $2^{!6} = 65536 \\ \\text{Bytes} = 65 \\ \\text{KiloBytes (Kb)} $\n",
    "- NO Virtual Memory!\n"
   ]
  },
  {
   "cell_type": "markdown",
   "id": "ee375adb-b5b4-4cb3-abd4-5fb3f774480a",
   "metadata": {
    "slideshow": {
     "slide_type": "slide"
    },
    "tags": []
   },
   "source": [
    "## The Code\n",
    "\n",
    "Code we have come to love: A 6502 version of sumit!"
   ]
  },
  {
   "cell_type": "code",
   "execution_count": null,
   "id": "5704d6d5-24a4-4aed-90bd-c693c8dcbbbb",
   "metadata": {
    "jupyter": {
     "source_hidden": true
    },
    "tags": []
   },
   "outputs": [],
   "source": [
    "display(Markdown(FileCodeBox(\n",
    "    file=\"../src/SOL6502/sum.s\", \n",
    "    lang=\"gas\", \n",
    "    title=\"<b>CODE: 6502 asm - sum.s\",\n",
    "    h=\"100%\", \n",
    "    w=\"107em\"\n",
    ")))"
   ]
  },
  {
   "cell_type": "markdown",
   "id": "82e4d7cf-1882-40ec-8b90-8beb270b9278",
   "metadata": {
    "slideshow": {
     "slide_type": "slide"
    },
    "tags": []
   },
   "source": [
    "## Our old friends : Assembler and linker\n",
    "\n",
    "- ca65 - assembler different syntax but same idea\n",
    "- ld65 - linker but only using for symbol resolution we are taking care of placing things in memory"
   ]
  },
  {
   "cell_type": "code",
   "execution_count": null,
   "id": "d9022a55-fe27-4cee-a847-4bcff7d6778b",
   "metadata": {
    "jupyter": {
     "source_hidden": true
    },
    "tags": []
   },
   "outputs": [],
   "source": [
    "TermShellCmd(\"make sum.img\", cwd=appdir, prompt='')"
   ]
  },
  {
   "cell_type": "code",
   "execution_count": null,
   "id": "a47e6225-ab5e-400f-ba2d-9269edf23263",
   "metadata": {
    "jupyter": {
     "source_hidden": true
    },
    "slideshow": {
     "slide_type": "slide"
    },
    "tags": []
   },
   "outputs": [],
   "source": [
    "display(Markdown(FileCodeBox(\n",
    "    file= appdir + \"/sum.o.lst\", \n",
    "    lang=\"gas\", \n",
    "    title=\"<b>CODE: 6502 asm listing file\",\n",
    "    h=\"100%\", \n",
    "    w=\"107em\"\n",
    ")))"
   ]
  },
  {
   "cell_type": "markdown",
   "id": "91db6dee-50ea-4a0b-bb94-e8003fe31832",
   "metadata": {},
   "source": [
    "### The \"binary\": A Simple Image file\n",
    "\n",
    "The linker produce a simple binary image file that is an exact copy of memory to load "
   ]
  },
  {
   "cell_type": "code",
   "execution_count": null,
   "id": "341ece83-fd85-468d-9289-af94d9dea748",
   "metadata": {
    "jupyter": {
     "source_hidden": true
    },
    "tags": []
   },
   "outputs": [],
   "source": [
    "TermShellCmd(\"od -Ax -t x1  sum.img\", cwd=appdir, prompt='$ ')"
   ]
  },
  {
   "cell_type": "markdown",
   "id": "0b3582b2-4e4b-4915-81e8-4d8183df9d72",
   "metadata": {},
   "source": [
    "### Ok Now What?"
   ]
  },
  {
   "cell_type": "code",
   "execution_count": null,
   "id": "2f0e778c-7c41-4e99-8d60-959ddf831782",
   "metadata": {
    "jupyter": {
     "source_hidden": true
    },
    "tags": []
   },
   "outputs": [],
   "source": [
    "display(Markdown(FileCodeBox(\n",
    "    file=\"../src/SOL6502/sum.txt\", \n",
    "    lang=\"gas\", \n",
    "    title=\"<b>CODE: 6502 Loop\",\n",
    "    h=\"100%\", \n",
    "    w=\"107em\"\n",
    ")))"
   ]
  },
  {
   "cell_type": "markdown",
   "id": "e9859141-cf15-47c0-893e-460e740651c3",
   "metadata": {},
   "source": [
    "## Processor Caches\n",
    "\n",
    "Modern CPU's are very fast and memory is \"far away\" and relatively slow.\n",
    "\n",
    "- Notice that a lot of what a program is accessing memory\n",
    "- Since memory is \"slow\" most of our CPU time is spent \"IDLE\" waiting for memory!\n",
    "- Caches are critical to achieving high performance on a modern CPU\n",
    "\n",
    "https://ark.intel.com/content/www/us/en/ark/products/203908/intel-core-i710700e-processor-16m-cache-up-to-4-50-ghz.html\n",
    "\n"
   ]
  }
 ],
 "metadata": {
  "hide_input": false,
  "kernelspec": {
   "display_name": "Python 3 (ipykernel)",
   "language": "python",
   "name": "python3"
  },
  "language_info": {
   "codemirror_mode": {
    "name": "ipython",
    "version": 3
   },
   "file_extension": ".py",
   "mimetype": "text/x-python",
   "name": "python",
   "nbconvert_exporter": "python",
   "pygments_lexer": "ipython3",
   "version": "3.10.5"
  },
  "rise": {
   "autolaunch": false,
   "enable_chalkboard": true,
   "footer": "UC-SLS -- Lecture 16",
   "header": "Cache Memory",
   "height": "100%",
   "scroll": true,
   "start_slideshow_at": "selected",
   "transition": "none",
   "width": "100%"
  }
 },
 "nbformat": 4,
 "nbformat_minor": 5
}
