{
 "cells": [
  {
   "cell_type": "code",
   "execution_count": null,
   "id": "86c828cb",
   "metadata": {
    "hide_input": false,
    "jupyter": {
     "source_hidden": true
    },
    "slideshow": {
     "slide_type": "skip"
    },
    "tags": [
     "remove-cell"
    ]
   },
   "outputs": [],
   "source": [
    "%run -i ../python/common.py\n",
    "UC_SKIPTERMS=True\n",
    "%run -i ../python/ln_preamble.py"
   ]
  },
  {
   "cell_type": "markdown",
   "id": "4be1ae58-db24-42c8-a167-3f68289da9f8",
   "metadata": {
    "slideshow": {
     "slide_type": "slide"
    }
   },
   "source": [
    "# SLS Lecture 14 : Assembly using the OS\n",
    "\n",
    "- Review of Processes\n",
    "- Review of Systems Calls\n",
    "- I/O - Assembly \"Hello World\" and read\n",
    "- Process Address Spaces \n",
    "  - Dynamic Memory : Adding and Growing our heap"
   ]
  },
  {
   "cell_type": "code",
   "execution_count": null,
   "id": "ec5a0016",
   "metadata": {
    "hide_input": false,
    "jupyter": {
     "source_hidden": true
    },
    "tags": [
     "remove-input"
    ]
   },
   "outputs": [],
   "source": [
    "# setup for sumit examples\n",
    "appdir=os.getenv('HOME')\n",
    "appdir=appdir + \"/syscalls\"\n",
    "#print(movdir)\n",
    "output=runTermCmd(\"[[ -d \" + appdir + \" ]] &&  rm -rf \"+ appdir + \n",
    "             \";mkdir \" + appdir + \n",
    "             \";cp ../src/Makefile ../src/setup.gdb  ../src/hello.s ../src/read.s ../src/brk.s ../src/exploringASlayout{1..5}.s \" + appdir)\n",
    "\n",
    "display(Markdown('''\n",
    "- create a directory `mkdir syscalls; cd syscalls`\n",
    "- copy examples\n",
    "- add a `Makefile` to automate assembling and linking\n",
    "    - we are going run the commands by hand this time to highlight the details\n",
    "- add our `setup.gdb` to make working in gdb easier\n",
    "- normally you would want to track everything in git\n",
    "'''))\n",
    "TermShellCmd(\"ls \" + appdir)"
   ]
  },
  {
   "cell_type": "markdown",
   "id": "09b5e7ab",
   "metadata": {
    "slideshow": {
     "slide_type": "slide"
    },
    "tags": []
   },
   "source": [
    "## Review of Processes"
   ]
  },
  {
   "cell_type": "markdown",
   "id": "c4070c96",
   "metadata": {
    "slideshow": {
     "slide_type": "slide"
    }
   },
   "source": [
    "### Processes and the Kernel\n",
    "<center>\n",
    "<img src=\"../images/UnixRunning.png\">\n",
    "    </center>"
   ]
  },
  {
   "cell_type": "markdown",
   "id": "3c362adf",
   "metadata": {},
   "source": [
    "<center>\n",
    "    <img src=\"../images/Processes/Processes.004.png\">\n",
    "</center>"
   ]
  },
  {
   "cell_type": "markdown",
   "id": "fd89cba0",
   "metadata": {},
   "source": [
    "<center>\n",
    "    <img src=\"../images/Processes/Processes.005.png\">\n",
    "</center>"
   ]
  },
  {
   "cell_type": "markdown",
   "id": "4fc38721",
   "metadata": {
    "slideshow": {
     "slide_type": "slide"
    }
   },
   "source": [
    "## Review of System Calls - From Lecture 08"
   ]
  },
  {
   "cell_type": "code",
   "execution_count": null,
   "id": "c2bcd3e6",
   "metadata": {
    "cell_style": "split",
    "hide_input": true,
    "jupyter": {
     "source_hidden": true
    },
    "slideshow": {
     "slide_type": "slide"
    },
    "tags": [
     "remove-input"
    ]
   },
   "outputs": [],
   "source": [
    "display(Markdown(htmlFig(\"../images/kerneldef.png\")))"
   ]
  },
  {
   "cell_type": "markdown",
   "id": "1d4749f5",
   "metadata": {
    "cell_style": "split"
   },
   "source": [
    "Remember this...\n",
    "\n",
    "**The \"Kernel\" -- Unique to Every OS**\n",
    "\n",
    "1. Bootstraps the HW and has direct access to all of it\n",
    "1. Bottom layer that enables other programs to run\n",
    "2. <font style=\"color:red;\"> **A unique collection of functions that programs can invoke** </font>\n",
    "\n",
    "Not useful on its own only useful and accessed by running other programs."
   ]
  },
  {
   "cell_type": "markdown",
   "id": "8661ace7",
   "metadata": {
    "slideshow": {
     "slide_type": "slide"
    }
   },
   "source": [
    "<center>\n",
    "<img src=\"../images/Processes/Processes.051.png\">\n",
    "</center>"
   ]
  },
  {
   "cell_type": "markdown",
   "id": "1a4468af",
   "metadata": {
    "slideshow": {
     "slide_type": "slide"
    }
   },
   "source": [
    "### Intel `syscall`\n",
    "\n",
    "On Intel the instruction is `syscall`\n",
    "\n",
    "<img src=\"../images/syscallmp.png\">\n",
    "\n"
   ]
  },
  {
   "cell_type": "markdown",
   "id": "94c7fd68",
   "metadata": {
    "slideshow": {
     "slide_type": "slide"
    }
   },
   "source": [
    "### The OS System Calls\n",
    "\n",
    "Each OS Kernel provides a set of calls that a process can invoke using the `syscall` instruction on an Intel based computer\n",
    "\n",
    "The Linux Kernel supports a very large number of system calls each is identified by a unique number that must be placed in `RAX` prior to executing the `syscall` instruction.  Additional arguments are passed in by setting other registers.  \n",
    "\n",
    "With each version of the Kernel the table of calls changes.  Here is one site that provides a list"
   ]
  },
  {
   "cell_type": "markdown",
   "id": "01bbf7c1",
   "metadata": {
    "slideshow": {
     "slide_type": "slide"
    }
   },
   "source": [
    "### LINUX SYSTEM CALLS\n",
    "\n",
    "- reading some man pages `man syscalls` and `man syscall` we find that\n",
    "  - to exit we must place `60` in `rax`\n",
    "  - and that the value we want to set as our exit status code in `rdi`\n",
    "- each system call will accept arguments in various registers \n",
    "- NOTE: **On INTEL 64bit processors `rcx` will be overwritten by the syscall instruction**\n",
    "- On INTEL 64bit processors Linux system calls will return a value back in `rax` and possibly `rdx`\n",
    "  - `rax` and possibly `rdx` will be overwritten by a system call"
   ]
  },
  {
   "cell_type": "code",
   "execution_count": null,
   "id": "593ec8af",
   "metadata": {
    "hide_input": true,
    "jupyter": {
     "source_hidden": true
    },
    "slideshow": {
     "slide_type": "notes"
    },
    "tags": [
     "remove-input"
    ]
   },
   "outputs": [],
   "source": [
    "TermShellCmd(\"man syscalls | head -20\", markdown=False)\n",
    "TermShellCmd(\"man syscall | head -20\", markdown=False)"
   ]
  },
  {
   "cell_type": "code",
   "execution_count": null,
   "id": "b1a1ad7b",
   "metadata": {
    "hide_input": false,
    "slideshow": {
     "slide_type": "slide"
    },
    "tags": [
     "remove-input"
    ]
   },
   "outputs": [],
   "source": [
    "display(IFrame(\"https://filippo.io/linux-syscall-table/\", height=600, width=\"100%\"))"
   ]
  },
  {
   "cell_type": "code",
   "execution_count": null,
   "id": "80b7087f",
   "metadata": {
    "hide_input": true,
    "jupyter": {
     "source_hidden": true
    },
    "tags": [
     "remove-input"
    ]
   },
   "outputs": [],
   "source": [
    "display(Markdown(FileCodeBox(\n",
    "    file=\"../src/exit_bb_bb.s\", \n",
    "    lang=\"gas\", \n",
    "    title=\"\",\n",
    "    h=\"100%\", \n",
    "    w=\"100%\"\n",
    ")))"
   ]
  },
  {
   "cell_type": "markdown",
   "id": "f0739404-2af8-47c9-b5be-c56228f2265b",
   "metadata": {
    "slideshow": {
     "slide_type": "slide"
    }
   },
   "source": [
    "## I/O"
   ]
  },
  {
   "cell_type": "markdown",
   "id": "104067c8-f7b7-4519-adca-b6eae08b8a7d",
   "metadata": {
    "slideshow": {
     "slide_type": "slide"
    }
   },
   "source": [
    "<center>\n",
    "    <img src=\"../images/ASSEMBLY-AddressSpaceandIO/ASSEMBLY-AddressSpaceandIO.017.png\">\n",
    "</center>"
   ]
  },
  {
   "cell_type": "markdown",
   "id": "8e21c197-4066-4966-8db2-9037d5a6dfba",
   "metadata": {
    "slideshow": {
     "slide_type": "slide"
    }
   },
   "source": [
    "<center>\n",
    "    <img src=\"../images/ASSEMBLY-AddressSpaceandIO/ASSEMBLY-AddressSpaceandIO.018.png\">\n",
    "</center>"
   ]
  },
  {
   "cell_type": "markdown",
   "id": "9ce173be-6c21-498a-8ad6-97d2c45dcd8b",
   "metadata": {
    "slideshow": {
     "slide_type": "slide"
    }
   },
   "source": [
    "### Review from Lecture 3"
   ]
  },
  {
   "cell_type": "markdown",
   "id": "1a152f88-cbcc-45bf-8265-79db5f5484d7",
   "metadata": {
    "slideshow": {
     "slide_type": "slide"
    }
   },
   "source": [
    "<center>\n",
    "    <img src=\"../images/Processes/Processes.006.png\">\n",
    "</center>"
   ]
  },
  {
   "cell_type": "markdown",
   "id": "ee0ae3e3-f220-4015-a8d7-48bf5f253b5b",
   "metadata": {
    "slideshow": {
     "slide_type": "slide"
    }
   },
   "source": [
    "<center>\n",
    "    <img src=\"../images/Processes/Processes.007.png\">\n",
    "</center>"
   ]
  },
  {
   "cell_type": "markdown",
   "id": "0d60507a-7b80-47ef-9228-07c73710ad00",
   "metadata": {
    "slideshow": {
     "slide_type": "slide"
    }
   },
   "source": [
    "<center>\n",
    "    <img src=\"../images/Processes/Processes.008.png\">\n",
    "</center>"
   ]
  },
  {
   "cell_type": "markdown",
   "id": "4f67d2d7-82a2-4cc5-a3f8-41dba4af0900",
   "metadata": {
    "slideshow": {
     "slide_type": "slide"
    }
   },
   "source": [
    "<center>\n",
    "    <img src=\"../images/Processes/Processes.009.png\">\n",
    "</center>"
   ]
  },
  {
   "cell_type": "markdown",
   "id": "eb6ef23e-65fa-467f-a2a0-c020c8924f41",
   "metadata": {
    "slideshow": {
     "slide_type": "slide"
    }
   },
   "source": [
    "<center>\n",
    "    <img src=\"../images/Processes/Processes.010.png\">\n",
    "</center>"
   ]
  },
  {
   "cell_type": "markdown",
   "id": "bb34646b-8a65-46dc-b55a-f90ec8fde4e9",
   "metadata": {
    "slideshow": {
     "slide_type": "slide"
    }
   },
   "source": [
    "<center>\n",
    "    <img src=\"../images/Processes/Processes.011.png\">\n",
    "</center>"
   ]
  },
  {
   "cell_type": "markdown",
   "id": "ebb50d4f-a61a-4530-a172-35221b5d3175",
   "metadata": {
    "slideshow": {
     "slide_type": "slide"
    }
   },
   "source": [
    "<center>\n",
    "    <img src=\"../images/Processes/Processes.012.png\">\n",
    "</center>"
   ]
  },
  {
   "cell_type": "markdown",
   "id": "7283c3c8-eaf0-4837-94da-2e0834d802be",
   "metadata": {
    "slideshow": {
     "slide_type": "slide"
    }
   },
   "source": [
    "<center>\n",
    "    <img src=\"../images/Processes/Processes.013.png\">\n",
    "</center>"
   ]
  },
  {
   "cell_type": "markdown",
   "id": "fb4ab55e-0f96-4795-979b-93c63c55be19",
   "metadata": {
    "slideshow": {
     "slide_type": "slide"
    }
   },
   "source": [
    "<center>\n",
    "    <img src=\"../images/Processes/Processes.015.png\">\n",
    "</center>"
   ]
  },
  {
   "cell_type": "markdown",
   "id": "f948ab03-e63e-4384-befb-3345aef48ef9",
   "metadata": {
    "slideshow": {
     "slide_type": "slide"
    },
    "tags": []
   },
   "source": [
    "### Finally \"Hello World in Assembly\""
   ]
  },
  {
   "cell_type": "code",
   "execution_count": null,
   "id": "201d2bd6",
   "metadata": {
    "jupyter": {
     "source_hidden": true
    },
    "slideshow": {
     "slide_type": "slide"
    },
    "tags": [
     "remove-input"
    ]
   },
   "outputs": [],
   "source": [
    "display(Markdown(FileCodeBox(\n",
    "    file=\"../src/hello.s\", \n",
    "    lang=\"gas\", \n",
    "    title=\"<b>CODE: asm - hello.s\",\n",
    "    h=\"100%\", \n",
    "    w=\"107em\"\n",
    ")))"
   ]
  },
  {
   "cell_type": "code",
   "execution_count": null,
   "id": "6ad28d04",
   "metadata": {
    "hide_input": true,
    "jupyter": {
     "source_hidden": true
    },
    "slideshow": {
     "slide_type": "slide"
    },
    "tags": [
     "remove-input"
    ]
   },
   "outputs": [],
   "source": [
    "TermShellCmd(\"make hello\", cwd=appdir, prompt='')"
   ]
  },
  {
   "cell_type": "markdown",
   "id": "7daa5718-0309-4959-bead-0f37f26e2029",
   "metadata": {},
   "source": [
    "#### At long last we have a program that we don't need the debugger for!"
   ]
  },
  {
   "cell_type": "code",
   "execution_count": null,
   "id": "5e68c959",
   "metadata": {
    "hide_input": true,
    "jupyter": {
     "source_hidden": true
    },
    "slideshow": {
     "slide_type": "slide"
    },
    "tags": [
     "remove-input"
    ]
   },
   "outputs": [],
   "source": [
    "TermShellCmd(\"./hello; echo $?\", cwd=appdir)"
   ]
  },
  {
   "cell_type": "markdown",
   "id": "be37f712-c234-4138-a853-99c3c2811bdf",
   "metadata": {
    "slideshow": {
     "slide_type": "slide"
    },
    "tags": []
   },
   "source": [
    "### How about input -- remember standard input"
   ]
  },
  {
   "cell_type": "code",
   "execution_count": null,
   "id": "7b05c536-d21b-4879-93ca-564b0dd12d4b",
   "metadata": {
    "jupyter": {
     "source_hidden": true
    },
    "tags": []
   },
   "outputs": [],
   "source": [
    "display(Markdown(FileCodeBox(\n",
    "    file=\"../src/read.s\", \n",
    "    lang=\"gas\", \n",
    "    title=\"<b>CODE: asm - read.s\",\n",
    "    h=\"100%\", \n",
    "    w=\"107em\"\n",
    ")))"
   ]
  },
  {
   "cell_type": "markdown",
   "id": "aae36834-0ccf-44f2-9ba6-afd85bc4c99f",
   "metadata": {
    "slideshow": {
     "slide_type": "slide"
    },
    "tags": []
   },
   "source": [
    "### Blocking: System calls can \"block\" your program \n",
    "\n",
    "By default the read system call will not return until some data is read or an error occurs.\n",
    "So when we run the read example it will wait for the read to return before it goes on to exit.\n",
    "This waiting on a system call is called \"blocking\"\n"
   ]
  },
  {
   "cell_type": "markdown",
   "id": "fcab0e6b-6cae-405f-aeca-d0096c339941",
   "metadata": {
    "slideshow": {
     "slide_type": "slide"
    }
   },
   "source": [
    "### There are many more calls for doing I/O\n",
    "\n",
    "But we can now \n",
    "1. transfer bytes from our address space to a \"file\" - write system call\n",
    "2. transfer bytes from a \"file\" to our address space  - read system call\n",
    "3. connect (and possibly create) files to our address space for reading and writing - open system call\n",
    "4. disconnect a file from our address space - close system call\n"
   ]
  },
  {
   "cell_type": "code",
   "execution_count": null,
   "id": "af4ca1a8",
   "metadata": {
    "jupyter": {
     "source_hidden": true
    },
    "tags": [
     "remove-input"
    ]
   },
   "outputs": [],
   "source": [
    "display(IFrame(\"https://filippo.io/linux-syscall-table/\", height=600, width=\"100%\"))"
   ]
  },
  {
   "cell_type": "markdown",
   "id": "a6090574-ba56-4368-9ecb-ce087485a857",
   "metadata": {
    "jp-MarkdownHeadingCollapsed": true,
    "tags": []
   },
   "source": [
    "### Exercises\n",
    "\n",
    "Change the `usesum` program to:\n",
    "- exit properly \n",
    "- allocate memory for the data\n",
    "- read the data in from standard in\n",
    "- write the binary result to standard out\n",
    "  - use a shell command like `od -l -A10` to convert the output to ascii\n",
    "- open the binary file of numbers and read them in\n",
    "- can you figure out how to get the command line arguments?\n",
    "- Write a new program that uses the random instruction to create a data file\n"
   ]
  },
  {
   "cell_type": "markdown",
   "id": "52c561a3-448b-419a-ae10-5895040423e7",
   "metadata": {
    "slideshow": {
     "slide_type": "slide"
    }
   },
   "source": [
    "## Process Address Spaces"
   ]
  },
  {
   "cell_type": "markdown",
   "id": "aad4aeeb-a588-42be-94ce-4b7e31a8ae5f",
   "metadata": {
    "slideshow": {
     "slide_type": "slide"
    }
   },
   "source": [
    "### Address Space organizes Memory of a Process"
   ]
  },
  {
   "cell_type": "markdown",
   "id": "2c561a84-b7b6-41c1-9cb8-dba4583300ed",
   "metadata": {
    "cell_style": "split",
    "slideshow": {
     "slide_type": "slide"
    }
   },
   "source": [
    "<center>\n",
    "    <img src=\"../images/ProcessContexts.png\">\n",
    "</center>"
   ]
  },
  {
   "cell_type": "markdown",
   "id": "f0fe639b-edca-4f31-b35e-b5bd051f3b8d",
   "metadata": {
    "cell_style": "split",
    "slideshow": {
     "slide_type": "-"
    }
   },
   "source": [
    "**Remember**\n",
    "\n",
    "1. The binaries we create using the assembler and linker are Executables\n",
    "\n",
    "2. When we \"run\" our executables via the shell it creates a new process context and our binary is loaded as the initial memory \"image\".\n",
    "\n",
    "3. The memory and register values of the process are unique to each process and change as the instructions of our binary \"execute\""
   ]
  },
  {
   "cell_type": "markdown",
   "id": "e0f3dcb7",
   "metadata": {
    "slideshow": {
     "slide_type": "slide"
    }
   },
   "source": [
    "### Assembly Programming as Process Address Space Image creation"
   ]
  },
  {
   "cell_type": "markdown",
   "id": "63dcc3b5",
   "metadata": {
    "slideshow": {
     "slide_type": "slide"
    }
   },
   "source": [
    "<center>\n",
    "    <img src=\"../images/ASSEMBLY-AddressSpaceandIO/ASSEMBLY-AddressSpaceandIO.003.png\">\n",
    "</center>"
   ]
  },
  {
   "cell_type": "markdown",
   "id": "726aa9f0",
   "metadata": {
    "slideshow": {
     "slide_type": "slide"
    }
   },
   "source": [
    "<center>\n",
    "    <img src=\"../images/ASSEMBLY-AddressSpaceandIO/ASSEMBLY-AddressSpaceandIO.004.png\">\n",
    "</center>"
   ]
  },
  {
   "cell_type": "markdown",
   "id": "2544ab5c",
   "metadata": {
    "slideshow": {
     "slide_type": "slide"
    }
   },
   "source": [
    "<center>\n",
    "    <img src=\"../images/ASSEMBLY-AddressSpaceandIO/ASSEMBLY-AddressSpaceandIO.005.png\">\n",
    "</center>"
   ]
  },
  {
   "cell_type": "markdown",
   "id": "af42587b",
   "metadata": {
    "slideshow": {
     "slide_type": "slide"
    }
   },
   "source": [
    "### The Details"
   ]
  },
  {
   "cell_type": "markdown",
   "id": "ab53bd69",
   "metadata": {
    "cell_style": "center",
    "slideshow": {
     "slide_type": "slide"
    }
   },
   "source": [
    "### Process Address Space \n",
    "\n",
    "The Memory of a Process is organized as an (Virtual) Address Space \n",
    "\n",
    "1. Each possible location of a byte is identified by a unique address (number) \n",
    "2. To associate a Region (range of continues addresses) with actual memory requires a \"mapping\"\n",
    "    - mappings associate a Region with Memory and a possible source of values\n",
    "    - mappings can restrict what kind of access can be made to region \n",
    "        1. fetch for execute: x\n",
    "        2. read: r\n",
    "        3. write: w"
   ]
  },
  {
   "cell_type": "markdown",
   "id": "dc7083d5",
   "metadata": {
    "slideshow": {
     "slide_type": "slide"
    }
   },
   "source": [
    "<center>\n",
    "    <img src=\"../images/ExecAddrSpace/ExecAddrSpace-001.png\">\n",
    "</center>"
   ]
  },
  {
   "cell_type": "markdown",
   "id": "d80aed35",
   "metadata": {
    "slideshow": {
     "slide_type": "slide"
    }
   },
   "source": [
    "<center>\n",
    "    <img src=\"../images/ExecAddrSpace/ExecAddrSpace-002.png\">\n",
    "</center>"
   ]
  },
  {
   "cell_type": "markdown",
   "id": "4003d5d4",
   "metadata": {
    "slideshow": {
     "slide_type": "slide"
    }
   },
   "source": [
    "<center>\n",
    "    <img src=\"../images/ExecAddrSpace/ExecAddrSpace-003.png\">\n",
    "</center>"
   ]
  },
  {
   "cell_type": "markdown",
   "id": "4db69dac",
   "metadata": {
    "slideshow": {
     "slide_type": "slide"
    }
   },
   "source": [
    "<center>\n",
    "    <img src=\"../images/ExecAddrSpace/ExecAddrSpace-004.png\">\n",
    "</center>"
   ]
  },
  {
   "cell_type": "markdown",
   "id": "8fcfde4f",
   "metadata": {
    "slideshow": {
     "slide_type": "slide"
    }
   },
   "source": [
    "<center>\n",
    "    <img src=\"../images/ExecAddrSpace/ExecAddrSpace-005.png\">\n",
    "</center>"
   ]
  },
  {
   "cell_type": "markdown",
   "id": "e18e8124",
   "metadata": {
    "slideshow": {
     "slide_type": "slide"
    }
   },
   "source": [
    "<center>\n",
    "    <img src=\"../images/ExecAddrSpace/ExecAddrSpace-006.png\">\n",
    "</center>"
   ]
  },
  {
   "cell_type": "markdown",
   "id": "8dbd4c9b",
   "metadata": {
    "slideshow": {
     "slide_type": "slide"
    }
   },
   "source": [
    "<center>\n",
    "    <img src=\"../images/ExecAddrSpace/ExecAddrSpace-007.png\">\n",
    "</center>"
   ]
  },
  {
   "cell_type": "markdown",
   "id": "c35e426b",
   "metadata": {
    "slideshow": {
     "slide_type": "slide"
    }
   },
   "source": [
    "<center>\n",
    "    <img src=\"../images/ExecAddrSpace/ExecAddrSpace-008.png\">\n",
    "</center>"
   ]
  },
  {
   "cell_type": "markdown",
   "id": "294916db",
   "metadata": {
    "slideshow": {
     "slide_type": "slide"
    }
   },
   "source": [
    "<center>\n",
    "    <img src=\"../images/ExecAddrSpace/ExecAddrSpace-009.png\">\n",
    "</center>"
   ]
  },
  {
   "cell_type": "markdown",
   "id": "cd564f06",
   "metadata": {
    "slideshow": {
     "slide_type": "slide"
    }
   },
   "source": [
    "<center>\n",
    "    <img src=\"../images/ExecAddrSpace/ExecAddrSpace-010.png\">\n",
    "</center>"
   ]
  },
  {
   "cell_type": "markdown",
   "id": "feecc32d",
   "metadata": {
    "slideshow": {
     "slide_type": "skip"
    },
    "tags": []
   },
   "source": [
    "<center>\n",
    "    <img src=\"../images/ExecAddrSpace/ExecAddrSpace-011.png\">\n",
    "</center>"
   ]
  },
  {
   "cell_type": "markdown",
   "id": "3c5d9088-2a6f-4718-ae1e-8d80af914725",
   "metadata": {
    "slideshow": {
     "slide_type": "skip"
    },
    "tags": []
   },
   "source": [
    "<hr>"
   ]
  },
  {
   "cell_type": "markdown",
   "id": "bae99716-51c9-46bb-9a59-e302d306170b",
   "metadata": {},
   "source": [
    "## Summary of how we \"loading\" a process address from a binary "
   ]
  },
  {
   "cell_type": "markdown",
   "id": "d2b7ab3e-aa76-4f15-86a6-ee8566324ae6",
   "metadata": {
    "slideshow": {
     "slide_type": "skip"
    },
    "tags": []
   },
   "source": [
    "<hr>"
   ]
  },
  {
   "cell_type": "markdown",
   "id": "b3f23c86",
   "metadata": {
    "slideshow": {
     "slide_type": "slide"
    }
   },
   "source": [
    "<center>\n",
    "    <img src=\"../images/ASSEMBLY-AddressSpaceandIO/ASSEMBLY-AddressSpaceandIO.012.png\">\n",
    "</center>"
   ]
  },
  {
   "cell_type": "markdown",
   "id": "b7b5471a",
   "metadata": {
    "slideshow": {
     "slide_type": "slide"
    }
   },
   "source": [
    "<center>\n",
    "    <img src=\"../images/ASSEMBLY-AddressSpaceandIO/ASSEMBLY-AddressSpaceandIO.016.png\">\n",
    "</center>"
   ]
  },
  {
   "cell_type": "markdown",
   "id": "d71c7eb7-9c9b-4ec4-a109-a6638ff6e83b",
   "metadata": {
    "slideshow": {
     "slide_type": "slide"
    },
    "tags": []
   },
   "source": [
    "## Code and instructions for exploring the Process Address Space layout\n",
    "\n",
    "In the lecture notes at this point you will find code and instructions for exploring the address space layout\n",
    "\n",
    "1. How we control the mappings based on the sections we add\n",
    "2. How we can add and shrink heap memory using the `brk` system call\n",
    "\n",
    "To do the exploration we use :\n",
    "1. The `nm` command that print's the symbol table of a binary.  As such we can use it to see what addresses the linker placed our bytes at.\n",
    "2. A special file that the OS provides that describes the address space of a running process call the `maps` file. \n",
    "\n",
    "Detail are provide in the notes.  Don't forget you can also use gdb to probe the various mappings you discover.  \n",
    "Eg. You can use the `x` command to examine the bytes at the addresses of the memory areas you find in the maps file.\n",
    "\n"
   ]
  },
  {
   "cell_type": "markdown",
   "id": "f0d2d4ff",
   "metadata": {
    "slideshow": {
     "slide_type": "skip"
    },
    "tags": []
   },
   "source": [
    "### Exploring the Address Space of a process with Code\n",
    "\n",
    "- Let's explore the address space of a running program \n",
    "- We will use 5 versions of a program the progressively adds more regions to the address space\n",
    "-  The programs will wait for input before exiting so that we can use the OS provided file for check what the process address space looks like\n",
    "\n"
   ]
  },
  {
   "cell_type": "markdown",
   "id": "aadd8eed-d5bb-4c96-8330-58b6c37f50ac",
   "metadata": {
    "slideshow": {
     "slide_type": "skip"
    },
    "tags": []
   },
   "source": [
    "#### Version 1: text and data"
   ]
  },
  {
   "cell_type": "code",
   "execution_count": null,
   "id": "79832d45",
   "metadata": {
    "cell_style": "split",
    "hide_input": true,
    "jupyter": {
     "source_hidden": true
    },
    "slideshow": {
     "slide_type": "skip"
    },
    "tags": [
     "remove-input"
    ]
   },
   "outputs": [],
   "source": [
    "display(Markdown(FileCodeBox(\n",
    "    file=\"../src/exploringASlayout1.s\", \n",
    "    lang=\"gas\", \n",
    "    title=\"<b>CODE: asm - exploringASlayout1.s\",\n",
    "    h=\"100%\", \n",
    "    w=\"107em\"\n",
    ")))"
   ]
  },
  {
   "cell_type": "code",
   "execution_count": null,
   "id": "952fe2f3",
   "metadata": {
    "jupyter": {
     "source_hidden": true
    },
    "slideshow": {
     "slide_type": "skip"
    },
    "tags": [
     "remove-input"
    ]
   },
   "outputs": [],
   "source": [
    "TermShellCmd(\"make exploringASlayout1\", cwd=appdir, prompt='')"
   ]
  },
  {
   "cell_type": "markdown",
   "id": "ca1a4f7c",
   "metadata": {
    "slideshow": {
     "slide_type": "skip"
    },
    "tags": []
   },
   "source": [
    "Use the nm command to see where the linker placed things:"
   ]
  },
  {
   "cell_type": "code",
   "execution_count": null,
   "id": "341a3cf1-db65-4b05-ad15-f8ce5f808425",
   "metadata": {
    "jupyter": {
     "source_hidden": true
    },
    "slideshow": {
     "slide_type": "skip"
    },
    "tags": [
     "remove-input"
    ]
   },
   "outputs": [],
   "source": [
    "TermShellCmd(\"nm exploringASlayout1\", cwd=appdir, prompt='')"
   ]
  },
  {
   "cell_type": "markdown",
   "id": "d7382adf",
   "metadata": {
    "slideshow": {
     "slide_type": "skip"
    },
    "tags": []
   },
   "source": [
    "- Now in one terminal run the binary -- start a process from it\n",
    "\n",
    "```\n",
    "./exploringASlayout1\n",
    "```\n",
    "\n",
    "- It will hang on the read so that we have time to explore what the process's address space looks like.\n",
    "\n",
    "- In another terminal use ps and grep to find the process id of the new process\n",
    "\n",
    "```\n",
    "ps auxgww | grep exploring\n",
    "```\n",
    "\n",
    "Now we can use the process id to find the special file that the OS provides for us to examine the address space of a process.\n",
    "\n",
    "```\n",
    " cat /proc/<pid>/maps\n",
    "```\n",
    "\n",
    "You can also use gdb to to explore the regions of memory that the maps file tells us are present.  You can also compare what is in memory to what you find in the file.\n",
    "\n",
    "When you are done you can press return in the terminal that the program in running.  This will send a newline to the standard input of the program.  This will cause the read to return and the program will go on to exit.\n"
   ]
  },
  {
   "cell_type": "markdown",
   "id": "cd6afc37-acb7-4092-a26e-95bdf242e427",
   "metadata": {
    "slideshow": {
     "slide_type": "skip"
    },
    "tags": []
   },
   "source": [
    "You can find lots of information ab out the OS provided `proc` directory in the manual `man proc`"
   ]
  },
  {
   "cell_type": "code",
   "execution_count": null,
   "id": "14a26b6a",
   "metadata": {
    "hide_input": false,
    "jupyter": {
     "source_hidden": true
    },
    "slideshow": {
     "slide_type": "skip"
    },
    "tags": [
     "remove-input"
    ]
   },
   "outputs": [],
   "source": [
    "TermShellCmd(\"man proc | head -30\", markdown=False)"
   ]
  },
  {
   "cell_type": "markdown",
   "id": "32c91397-69dc-4b8d-a469-c2d151b320f7",
   "metadata": {
    "slideshow": {
     "slide_type": "skip"
    },
    "tags": []
   },
   "source": [
    "In the manual page there is a section on the `maps` file specifically that tells us the details of what information it presents regarding the mappings for a running process."
   ]
  },
  {
   "cell_type": "code",
   "execution_count": null,
   "id": "d8fee803",
   "metadata": {
    "jupyter": {
     "source_hidden": true
    },
    "slideshow": {
     "slide_type": "skip"
    },
    "tags": [
     "remove-input"
    ]
   },
   "outputs": [],
   "source": [
    "TermShellCmd(\"man proc | grep -A40 /maps | head -41\", markdown=False)"
   ]
  },
  {
   "cell_type": "markdown",
   "id": "5cf200a0",
   "metadata": {
    "slideshow": {
     "slide_type": "skip"
    },
    "tags": []
   },
   "source": [
    "#### Version 2:  adding rodata\n",
    "\n",
    "Read-only data section `.rodata`\n",
    "\n",
    "```nasm\n",
    "  ##### DATA SECTION : read and writable memory s\n",
    "    .section .data\n",
    "    .global rwdata\n",
    "rwdata: .fill 4096,1,0xff           # 4096 bytes each initialized with a value of 0xff\n",
    "```\n",
    "\n",
    "What would happen if we put all our data in the `.rodata` section?... try it and find out\n",
    "\n",
    "\n",
    "Here is the code"
   ]
  },
  {
   "cell_type": "code",
   "execution_count": null,
   "id": "5d194414-cfaa-4445-bac3-406f8300b918",
   "metadata": {
    "jupyter": {
     "source_hidden": true
    },
    "slideshow": {
     "slide_type": "skip"
    },
    "tags": [
     "remove-input"
    ]
   },
   "outputs": [],
   "source": [
    "display(Markdown(FileCodeBox(\n",
    "    file=\"../src/exploringASlayout2.s\", \n",
    "    lang=\"gas\", \n",
    "    title=\"<b>CODE: asm - exploringASlayout2.s\",\n",
    "    h=\"100%\", \n",
    "    w=\"107em\"\n",
    ")))"
   ]
  },
  {
   "cell_type": "markdown",
   "id": "d92f2fe1-ed6d-4360-86e2-7daf024c5d17",
   "metadata": {
    "slideshow": {
     "slide_type": "skip"
    },
    "tags": []
   },
   "source": [
    "Repeat the steps from version 1 to see what has changed."
   ]
  },
  {
   "cell_type": "markdown",
   "id": "1e84c29a-c281-41d0-8b2f-5880771ca2ca",
   "metadata": {
    "slideshow": {
     "slide_type": "skip"
    },
    "tags": []
   },
   "source": [
    "#### Version 3:  adding bss\n",
    "\n",
    "The bss section is used to create a mapping for all the data that we need memory for but don't need to specify an initial value that is not zero.\n",
    "\n",
    "Read-Write memory  `.bss`\n",
    "\n",
    "```nasm\n",
    "    ##### BSS DATA SECTION: read and write automaitically added and filled with zero values\n",
    "    .section .bss\n",
    "    .global zerodata \n",
    "zerodata:   .fill 4096,1\n",
    "    # The above could be replaced with the single line: .comm zerodata, 4096, 1\n",
    "```\n",
    "\n",
    "Note the `.comm` directive is a short cut that switch the section to .bss adds the symbol and makes it global\n",
    "\n",
    "Here is the code"
   ]
  },
  {
   "cell_type": "code",
   "execution_count": null,
   "id": "86af9176-c615-43db-b457-58ece355f8ce",
   "metadata": {
    "jupyter": {
     "source_hidden": true
    },
    "slideshow": {
     "slide_type": "skip"
    },
    "tags": [
     "remove-input"
    ]
   },
   "outputs": [],
   "source": [
    "display(Markdown(FileCodeBox(\n",
    "    file=\"../src/exploringASlayout3.s\", \n",
    "    lang=\"gas\", \n",
    "    title=\"<b>CODE: asm - exploringASlayout3.s\",\n",
    "    h=\"100%\", \n",
    "    w=\"107em\"\n",
    ")))"
   ]
  },
  {
   "cell_type": "markdown",
   "id": "dc3248f6-6c7d-4ec5-b196-1a7187babcb6",
   "metadata": {
    "slideshow": {
     "slide_type": "skip"
    },
    "tags": []
   },
   "source": [
    "Repeat the steps from version 1 and see what what has changed compared to versions 1 and 2"
   ]
  },
  {
   "cell_type": "markdown",
   "id": "ebed13c8",
   "metadata": {
    "slideshow": {
     "slide_type": "skip"
    },
    "tags": []
   },
   "source": [
    "#### Version 4: And and Grow our Heap\n",
    "\n",
    "Now let's explore how while our program is running we can get more memory added to our process.\n",
    "\n",
    "\n",
    "The `brk` system call - move \"break pointer\"\n",
    "\n",
    "- initially the data segment of your process will end at some location based on what data sections you defined\n",
    "  - this location is called the program break pointer \n",
    "  - the location where valid data memory ends and the un-allocated virtual address space\n",
    "- with `brk` you can set the end to a value bigger than it starting location\n",
    "- you can also shrink the break pointer back to remove memory\n",
    "\n",
    "This area is called the HEAP\n",
    "\n",
    "1. call `brk` with argument of 0 and Linux kernel returns current break address\n",
    "2. call `brk` \"with a reasonable address\" and the kernel will allocated or de-allocated memory for us\n",
    "\n",
    "- in reality once we move to C we never directly call \"brk\" rather we will use a library routines called : `malloc` and `free` which will call `brk` for us.\n",
    "\n",
    "As usual you can find more info in the manual "
   ]
  },
  {
   "cell_type": "code",
   "execution_count": null,
   "id": "b823c29c",
   "metadata": {
    "hide_input": true,
    "jupyter": {
     "source_hidden": true
    },
    "slideshow": {
     "slide_type": "skip"
    },
    "tags": [
     "remove-input"
    ]
   },
   "outputs": [],
   "source": [
    "TermShellCmd(\"man brk | head -37\", markdown=False)"
   ]
  },
  {
   "cell_type": "markdown",
   "id": "4ea3255c-04c3-4cdd-a205-468da58f2b26",
   "metadata": {
    "slideshow": {
     "slide_type": "skip"
    },
    "tags": []
   },
   "source": [
    "You can find the system call number and what the arguments are here:"
   ]
  },
  {
   "cell_type": "code",
   "execution_count": null,
   "id": "244184b4",
   "metadata": {
    "jupyter": {
     "source_hidden": true
    },
    "slideshow": {
     "slide_type": "skip"
    },
    "tags": [
     "remove-input"
    ]
   },
   "outputs": [],
   "source": [
    "display(IFrame(\"https://filippo.io/linux-syscall-table/\", height=600, width=\"100%\"))"
   ]
  },
  {
   "cell_type": "markdown",
   "id": "8c5387b9",
   "metadata": {
    "slideshow": {
     "slide_type": "skip"
    },
    "tags": []
   },
   "source": [
    "**Lets add this code**\n",
    "\n",
    "What does it do?\n",
    "\n",
    "```gas\n",
    "    # Now add a Heap\n",
    "    # get current break pointer\n",
    "    xor rdi, rdi               # pass 0 to brk (invalid request)\n",
    "    mov rax, 12                # brk syscall number 12\n",
    "    syscall                    # call brk with 0\n",
    "\n",
    "    mov r15, rax               # keep a copy of where our new memory starts\n",
    "                               # so we can use it later\n",
    "\n",
    "    # now add some memory by requesting to increase the break\n",
    "    # address by 32 bytes\n",
    "    mov     rdi, rax            # mov current break into rdi\n",
    "    add     rdi, 4096           # ask for 4096 bytes rdi=rdi+4096\n",
    "    mov     rax, 12             # brk sycall 12\n",
    "    syscall\n",
    "```"
   ]
  },
  {
   "cell_type": "code",
   "execution_count": null,
   "id": "c6209b93",
   "metadata": {
    "hide_input": true,
    "jupyter": {
     "source_hidden": true
    },
    "slideshow": {
     "slide_type": "skip"
    },
    "tags": [
     "remove-input"
    ]
   },
   "outputs": [],
   "source": [
    "display(Markdown(FileCodeBox(\n",
    "    file=\"../src/exploringASlayout4.s\", \n",
    "    lang=\"gas\", \n",
    "    title=\"<b>CODE: asm - exploringASlayout4.s\",\n",
    "    h=\"100%\", \n",
    "    w=\"107em\"\n",
    ")))"
   ]
  },
  {
   "cell_type": "markdown",
   "id": "0437ac44",
   "metadata": {
    "slideshow": {
     "slide_type": "skip"
    },
    "tags": []
   },
   "source": [
    "We have added more code so that you can pause the program before and after it makes the calls to brk so that you can see that heap get added.\n",
    "\n",
    "1. start the program running\n",
    "2. follow the same steps as the other versions to look at the address space layout\n",
    "3. then press enter -- this will let the program continue.  It will then run the code we added to add the heap area and pause again\n",
    "4. again examine the address space layout -- do you see the difference?\n",
    "5. press enter again -- this will again let the program continue and it will exit\n"
   ]
  },
  {
   "cell_type": "markdown",
   "id": "80b6d732-eac2-42e0-90a1-085cb501d6ed",
   "metadata": {
    "slideshow": {
     "slide_type": "skip"
    },
    "tags": []
   },
   "source": [
    "#### Version 5: giving memory back -- shrink the heap back down\n",
    "\n",
    "In this final version we add a final step to the program to shrink the heap back to its original size (0).  This removes it from our process and give the memory back to the OS.\n",
    "\n",
    "Here is the code we add -- remember when we first called `brk` we stored the original location in `r15`\n",
    "\n",
    "```\n",
    "    # remove memory --  shrink heap back down to its original\n",
    "    mov rdi, r15               # set break pointer back to the original location\n",
    "    mov rax, 12                # brk syscall number 12\n",
    "    syscall\n",
    "```    \n"
   ]
  },
  {
   "cell_type": "code",
   "execution_count": null,
   "id": "5078b23c-9c2f-4bb4-9cc3-807dfa86cbcb",
   "metadata": {
    "jupyter": {
     "source_hidden": true
    },
    "slideshow": {
     "slide_type": "skip"
    },
    "tags": [
     "remove-input"
    ]
   },
   "outputs": [],
   "source": [
    "display(Markdown(FileCodeBox(\n",
    "    file=\"../src/exploringASlayout5.s\", \n",
    "    lang=\"gas\", \n",
    "    title=\"<b>CODE: asm - exploringASlayout5.s\",\n",
    "    h=\"100%\", \n",
    "    w=\"107em\"\n",
    ")))"
   ]
  },
  {
   "cell_type": "markdown",
   "id": "5303a7e5-6a65-4037-9a44-87223d675085",
   "metadata": {
    "slideshow": {
     "slide_type": "skip"
    },
    "tags": []
   },
   "source": [
    "Again we added another read so that you can explore what the address space looks like after we shrink the heap but before we exit.  \n",
    "\n",
    "So that's it -- we have seen how memory gets added to the process based on what sections we added in our source code and how we can make calls to the OS to  add and remove \"heap\" memory while our program is running.\n",
    "There is a more advanced call in UNIX called `mmap` but we will leave it's discussion for another time.\n"
   ]
  }
 ],
 "metadata": {
  "celltoolbar": "Tags",
  "hide_input": true,
  "kernelspec": {
   "display_name": "Python 3 (ipykernel)",
   "language": "python",
   "name": "python3"
  },
  "language_info": {
   "codemirror_mode": {
    "name": "ipython",
    "version": 3
   },
   "file_extension": ".py",
   "mimetype": "text/x-python",
   "name": "python",
   "nbconvert_exporter": "python",
   "pygments_lexer": "ipython3",
   "version": "3.10.5"
  },
  "rise": {
   "autolaunch": false,
   "enable_chalkboard": true,
   "footer": "UC-SLS -- Lecture 14",
   "header": "Assembly: Using the OS",
   "height": "100%",
   "scroll": true,
   "start_slideshow_at": "selected",
   "transition": "none",
   "width": "100%"
  }
 },
 "nbformat": 4,
 "nbformat_minor": 5
}
