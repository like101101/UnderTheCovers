{
 "cells": [
  {
   "cell_type": "code",
   "execution_count": null,
   "id": "56a393c7",
   "metadata": {
    "hide_input": false,
    "jupyter": {
     "source_hidden": true
    },
    "slideshow": {
     "slide_type": "skip"
    },
    "tags": [
     "remove-cell"
    ]
   },
   "outputs": [],
   "source": [
    "%run -i ../python/common.py\n",
    "UC_SKIPTERMS=True\n",
    "%run -i ../python/ln_preamble.py"
   ]
  },
  {
   "cell_type": "markdown",
   "id": "d6e680aa-e70d-4812-9191-f7587da59946",
   "metadata": {
    "slideshow": {
     "slide_type": "slide"
    }
   },
   "source": [
    "# SLS Lecture 13 : Program Anatomy IV: The Tree of Bytes and Data Structures "
   ]
  },
  {
   "cell_type": "code",
   "execution_count": null,
   "id": "7dc25b09",
   "metadata": {
    "hide_input": false,
    "jupyter": {
     "source_hidden": true
    },
    "tags": [
     "remove-input"
    ]
   },
   "outputs": [],
   "source": [
    "# setup for sumit examples\n",
    "appdir=os.getenv('HOME')\n",
    "appdir=appdir + \"/datastructs\"\n",
    "#print(movdir)\n",
    "output=runTermCmd(\"[[ -d \" + appdir + \" ]] &&  rm -rf \"+ appdir + \n",
    "             \";mkdir \" + appdir + \n",
    "             \";cp ../src/Makefile ../src/setup.gdb ../src/tree.S ../src/tree.gdb ../src/tree_bb.S ../src/playertest.S ../src/findplayer.S \" + appdir)\n",
    "\n",
    "display(Markdown('''\n",
    "- create a directory `mkdir datastructs; cd datastructs`\n",
    "- copy examples\n",
    "- add a `Makefile` to automate assembling and linking\n",
    "    - we are going run the commands by hand this time to highlight the details\n",
    "- add our `setup.gdb` and `tree.gdb` to make working in gdb easier\n",
    "- normally you would want to track everything in git\n",
    "'''))\n",
    "TermShellCmd(\"ls \" + appdir)"
   ]
  },
  {
   "cell_type": "markdown",
   "id": "b53f46f7",
   "metadata": {
    "slideshow": {
     "slide_type": "slide"
    }
   },
   "source": [
    "<center>\n",
    "<img src=\"../images/ASSEMBLY-PGMV/ASSEMBLY-PGMV.001.png\" >\n",
    "</center>"
   ]
  },
  {
   "cell_type": "markdown",
   "id": "4606b2ba",
   "metadata": {
    "slideshow": {
     "slide_type": "slide"
    }
   },
   "source": [
    "<center>\n",
    "<img src=\"../images/ASSEMBLY-PGMV/ASSEMBLY-PGMV.002.png\" >\n",
    "</center>"
   ]
  },
  {
   "cell_type": "markdown",
   "id": "ccfc637c",
   "metadata": {
    "slideshow": {
     "slide_type": "slide"
    }
   },
   "source": [
    "<center>\n",
    "<img src=\"../images/ASSEMBLY-PGMV/ASSEMBLY-PGMV.003.png\" >\n",
    "</center>"
   ]
  },
  {
   "cell_type": "markdown",
   "id": "2a838828",
   "metadata": {
    "slideshow": {
     "slide_type": "slide"
    }
   },
   "source": [
    "<center>\n",
    "<img src=\"../images/ASSEMBLY-PGMV/ASSEMBLY-PGMV.004.png\" >\n",
    "</center>"
   ]
  },
  {
   "cell_type": "markdown",
   "id": "71ebbc60",
   "metadata": {
    "slideshow": {
     "slide_type": "slide"
    }
   },
   "source": [
    "<center>\n",
    "<img src=\"../images/ASSEMBLY-PGMV/ASSEMBLY-PGMV.005.png\" >\n",
    "</center>"
   ]
  },
  {
   "cell_type": "markdown",
   "id": "b7bd5d69",
   "metadata": {
    "slideshow": {
     "slide_type": "slide"
    }
   },
   "source": [
    "<center>\n",
    "<img src=\"../images/ASSEMBLY-PGMV/ASSEMBLY-PGMV.006.png\" >\n",
    "</center>"
   ]
  },
  {
   "cell_type": "markdown",
   "id": "a70dc56f",
   "metadata": {
    "slideshow": {
     "slide_type": "slide"
    }
   },
   "source": [
    "<center>\n",
    "<img src=\"../images/ASSEMBLY-PGMV/ASSEMBLY-PGMV.007.png\" >\n",
    "</center>"
   ]
  },
  {
   "cell_type": "markdown",
   "id": "37c1e541",
   "metadata": {
    "slideshow": {
     "slide_type": "slide"
    }
   },
   "source": [
    "<center>\n",
    "<img src=\"../images/ASSEMBLY-PGMV/ASSEMBLY-PGMV.008.png\" >\n",
    "</center>"
   ]
  },
  {
   "cell_type": "markdown",
   "id": "dabda358",
   "metadata": {
    "slideshow": {
     "slide_type": "slide"
    }
   },
   "source": [
    "<center>\n",
    "<img src=\"../images/ASSEMBLY-PGMV/ASSEMBLY-PGMV.009.png\" >\n",
    "</center>"
   ]
  },
  {
   "cell_type": "markdown",
   "id": "7ddf7422",
   "metadata": {
    "slideshow": {
     "slide_type": "slide"
    }
   },
   "source": [
    "<center>\n",
    "<img src=\"../images/ASSEMBLY-PGMV/ASSEMBLY-PGMV.010.png\" >\n",
    "</center>"
   ]
  },
  {
   "cell_type": "markdown",
   "id": "7248bb59",
   "metadata": {
    "slideshow": {
     "slide_type": "slide"
    }
   },
   "source": [
    "<center>\n",
    "<img src=\"../images/ASSEMBLY-PGMV/ASSEMBLY-PGMV.011.png\" >\n",
    "</center>"
   ]
  },
  {
   "cell_type": "markdown",
   "id": "8fbf71a3",
   "metadata": {},
   "source": [
    "## Overview\n",
    "\n",
    "\n",
    "REMEMBER A DATA STRUCTURE ENDS UP AS ...\n",
    "\n",
    "- Bytes in memory\n",
    "   - At particular locations -- Memory Address\n",
    "   - taking up some number of **contiguous**  bytes\n",
    "- Intrinsic types : groups of bytes that the processor has built in \"interpretations\" for\n",
    "   - bit vectors of various lengths (1,2,4,8,16,...)\n",
    "   - signed and unsigned integers (1,2,4,8,16,...)\n",
    "   - floating point number (IEEE 754)\n",
    "- Complex data structures often are broken into pieces \n",
    "   - each piece connected to others \n",
    "   - connections formed via Addresses\n",
    "   - pieces record the address of the pieces it connects to\n",
    " "
   ]
  },
  {
   "cell_type": "markdown",
   "id": "cea2e061",
   "metadata": {
    "slideshow": {
     "slide_type": "slide"
    }
   },
   "source": [
    "<center>\n",
    "<img src=\"../images/ASSEMBLY-PGMV/ASSEMBLY-PGMV.012.png\" >\n",
    "</center>"
   ]
  },
  {
   "cell_type": "markdown",
   "id": "c75c1655",
   "metadata": {
    "slideshow": {
     "slide_type": "slide"
    }
   },
   "source": [
    "<center>\n",
    "<img src=\"../images/ASSEMBLY-PGMV/ASSEMBLY-PGMV.013.png\" >\n",
    "</center>"
   ]
  },
  {
   "cell_type": "markdown",
   "id": "8489a73f",
   "metadata": {
    "slideshow": {
     "slide_type": "slide"
    }
   },
   "source": [
    "<center>\n",
    "<img src=\"../images/ASSEMBLY-PGMV/ASSEMBLY-PGMV.014.png\" >\n",
    "</center>"
   ]
  },
  {
   "cell_type": "markdown",
   "id": "896689ff",
   "metadata": {
    "slideshow": {
     "slide_type": "slide"
    }
   },
   "source": [
    "<center>\n",
    "<img src=\"../images/ASSEMBLY-PGMV/ASSEMBLY-PGMV.015.png\" >\n",
    "</center>"
   ]
  },
  {
   "cell_type": "markdown",
   "id": "2c5a42e7",
   "metadata": {
    "slideshow": {
     "slide_type": "slide"
    }
   },
   "source": [
    "<center>\n",
    "<img src=\"../images/ASSEMBLY-PGMV/ASSEMBLY-PGMV.016.png\" >\n",
    "</center>"
   ]
  },
  {
   "cell_type": "markdown",
   "id": "974c43fa",
   "metadata": {
    "slideshow": {
     "slide_type": "slide"
    }
   },
   "source": [
    "<center>\n",
    "<img src=\"../images/ASSEMBLY-PGMV/ASSEMBLY-PGMV.017.png\" >\n",
    "</center>"
   ]
  },
  {
   "cell_type": "markdown",
   "id": "c0554eb3",
   "metadata": {
    "slideshow": {
     "slide_type": "slide"
    }
   },
   "source": [
    "<center>\n",
    "<img src=\"../images/ASSEMBLY-PGMV/ASSEMBLY-PGMV.018.png\" >\n",
    "</center>"
   ]
  },
  {
   "cell_type": "markdown",
   "id": "e934780f",
   "metadata": {
    "slideshow": {
     "slide_type": "slide"
    }
   },
   "source": [
    "<center>\n",
    "<img src=\"../images/ASSEMBLY-PGMV/ASSEMBLY-PGMV.019.png\" >\n",
    "</center>"
   ]
  },
  {
   "cell_type": "markdown",
   "id": "b0284948",
   "metadata": {
    "slideshow": {
     "slide_type": "slide"
    }
   },
   "source": [
    "<center>\n",
    "<img src=\"../images/ASSEMBLY-PGMV/ASSEMBLY-PGMV.020.png\" >\n",
    "</center>"
   ]
  },
  {
   "cell_type": "markdown",
   "id": "17a3ef73",
   "metadata": {
    "slideshow": {
     "slide_type": "slide"
    }
   },
   "source": [
    "<center>\n",
    "<img src=\"../images/ASSEMBLY-PGMV/ASSEMBLY-PGMV.021.png\" >\n",
    "</center>"
   ]
  },
  {
   "cell_type": "markdown",
   "id": "d2046884",
   "metadata": {
    "slideshow": {
     "slide_type": "slide"
    }
   },
   "source": [
    "<center>\n",
    "<img src=\"../images/ASSEMBLY-PGMV/ASSEMBLY-PGMV.022.png\" >\n",
    "</center>"
   ]
  },
  {
   "cell_type": "markdown",
   "id": "0c2862b8",
   "metadata": {
    "slideshow": {
     "slide_type": "slide"
    }
   },
   "source": [
    "<center>\n",
    "<img src=\"../images/ASSEMBLY-PGMV/ASSEMBLY-PGMV.023.png\" >\n",
    "</center>"
   ]
  },
  {
   "cell_type": "markdown",
   "id": "0d28e8ac",
   "metadata": {
    "slideshow": {
     "slide_type": "slide"
    }
   },
   "source": [
    "<center>\n",
    "<img src=\"../images/ASSEMBLY-PGMV/ASSEMBLY-PGMV.024.png\" >\n",
    "</center>"
   ]
  },
  {
   "cell_type": "markdown",
   "id": "a5807064",
   "metadata": {
    "slideshow": {
     "slide_type": "slide"
    }
   },
   "source": [
    "<center>\n",
    "<img src=\"../images/ASSEMBLY-PGMV/ASSEMBLY-PGMV.025.png\" >\n",
    "</center>"
   ]
  },
  {
   "cell_type": "markdown",
   "id": "fd529f03",
   "metadata": {
    "slideshow": {
     "slide_type": "slide"
    }
   },
   "source": [
    "<center>\n",
    "<img src=\"../images/ASSEMBLY-PGMV/ASSEMBLY-PGMV.026.png\" >\n",
    "</center>"
   ]
  },
  {
   "cell_type": "markdown",
   "id": "ad4eb6fd",
   "metadata": {
    "slideshow": {
     "slide_type": "slide"
    }
   },
   "source": [
    "<center>\n",
    "<img src=\"../images/ASSEMBLY-PGMV/ASSEMBLY-PGMV.027.png\" >\n",
    "</center>"
   ]
  },
  {
   "cell_type": "markdown",
   "id": "ac0de7d4",
   "metadata": {
    "slideshow": {
     "slide_type": "slide"
    }
   },
   "source": [
    "<center>\n",
    "<img src=\"../images/ASSEMBLY-PGMV/ASSEMBLY-PGMV.028.png\" >\n",
    "</center>"
   ]
  },
  {
   "cell_type": "markdown",
   "id": "683eb308",
   "metadata": {
    "slideshow": {
     "slide_type": "slide"
    }
   },
   "source": [
    "<center>\n",
    "<img src=\"../images/ASSEMBLY-PGMV/ASSEMBLY-PGMV.029.png\" >\n",
    "</center>"
   ]
  },
  {
   "cell_type": "markdown",
   "id": "2e187e0a",
   "metadata": {
    "slideshow": {
     "slide_type": "slide"
    }
   },
   "source": [
    "<center>\n",
    "<img src=\"../images/ASSEMBLY-PGMV/ASSEMBLY-PGMV.030.png\" >\n",
    "</center>"
   ]
  },
  {
   "cell_type": "markdown",
   "id": "d5a57e7d",
   "metadata": {
    "slideshow": {
     "slide_type": "slide"
    }
   },
   "source": [
    "<center>\n",
    "<img src=\"../images/ASSEMBLY-PGMV/ASSEMBLY-PGMV.031.png\" >\n",
    "</center>"
   ]
  },
  {
   "cell_type": "markdown",
   "id": "1f55799c",
   "metadata": {
    "slideshow": {
     "slide_type": "slide"
    }
   },
   "source": [
    "<center>\n",
    "<img src=\"../images/ASSEMBLY-PGMV/ASSEMBLY-PGMV.032.png\" >\n",
    "</center>"
   ]
  },
  {
   "cell_type": "markdown",
   "id": "09b7f006",
   "metadata": {
    "slideshow": {
     "slide_type": "slide"
    }
   },
   "source": [
    "<center>\n",
    "<img src=\"../images/ASSEMBLY-PGMV/ASSEMBLY-PGMV.033.png\" >\n",
    "</center>"
   ]
  },
  {
   "cell_type": "markdown",
   "id": "60f99e76",
   "metadata": {
    "slideshow": {
     "slide_type": "slide"
    }
   },
   "source": [
    "<center>\n",
    "<img src=\"../images/ASSEMBLY-PGMV/ASSEMBLY-PGMV.034.png\" >\n",
    "</center>"
   ]
  },
  {
   "cell_type": "markdown",
   "id": "09856977",
   "metadata": {
    "slideshow": {
     "slide_type": "skip"
    },
    "tags": [
     "remove-cell"
    ]
   },
   "source": [
    "<center>\n",
    "<img src=\"../images/ASSEMBLY-PGMV/ASSEMBLY-PGMV.035.png\" >\n",
    "</center>"
   ]
  },
  {
   "cell_type": "markdown",
   "id": "e331d25d",
   "metadata": {
    "slideshow": {
     "slide_type": "slide"
    }
   },
   "source": [
    "## Worth carefully examining the assembly for this example\n",
    "\n",
    "Understanding this code is a great test of your knowledge \n"
   ]
  },
  {
   "cell_type": "code",
   "execution_count": null,
   "id": "425423e7",
   "metadata": {
    "hide_input": false,
    "jupyter": {
     "source_hidden": true
    },
    "tags": [
     "remove-input"
    ]
   },
   "outputs": [],
   "source": [
    "display(Markdown(FileCodeBox(\n",
    "    file=\"../src/tree.S\", \n",
    "    lang=\"gas\", \n",
    "    title=\"<b>CODE: asm - tree.S\",\n",
    "    h=\"100%\", \n",
    "    w=\"107em\"\n",
    ")))"
   ]
  },
  {
   "cell_type": "markdown",
   "id": "a47e8181",
   "metadata": {},
   "source": [
    "### To assemble and link"
   ]
  },
  {
   "cell_type": "code",
   "execution_count": null,
   "id": "26a85b16",
   "metadata": {
    "hide_input": true,
    "jupyter": {
     "source_hidden": true
    },
    "tags": [
     "remove-input"
    ]
   },
   "outputs": [],
   "source": [
    "TermShellCmd(\"make tree\", cwd=appdir, prompt='')"
   ]
  },
  {
   "cell_type": "markdown",
   "id": "38b843a3",
   "metadata": {},
   "source": [
    "### Exploring the tree with gdb"
   ]
  },
  {
   "cell_type": "code",
   "execution_count": null,
   "id": "5cb8009e",
   "metadata": {
    "hide_input": true,
    "jupyter": {
     "source_hidden": true
    },
    "tags": [
     "remove-input"
    ]
   },
   "outputs": [],
   "source": [
    "display(Markdown(FileCodeBox(\n",
    "    file=\"../src/tree.gdb\", \n",
    "    lang=\"gas\", \n",
    "    h=\"100%\", \n",
    "    w=\"107em\"\n",
    ")))"
   ]
  },
  {
   "cell_type": "markdown",
   "id": "72b0e8c5",
   "metadata": {
    "slideshow": {
     "slide_type": "slide"
    }
   },
   "source": [
    "<center>\n",
    "<img src=\"../images/ASSEMBLY-PGMV/ASSEMBLY-PGMV.036.png\" >\n",
    "</center>"
   ]
  },
  {
   "cell_type": "markdown",
   "id": "87a049f6",
   "metadata": {
    "slideshow": {
     "slide_type": "slide"
    }
   },
   "source": [
    "<center>\n",
    "<img src=\"../images/ASSEMBLY-PGMV/ASSEMBLY-PGMV.037.png\" >\n",
    "</center>"
   ]
  },
  {
   "cell_type": "markdown",
   "id": "fba791b8",
   "metadata": {
    "slideshow": {
     "slide_type": "skip"
    },
    "tags": [
     "remove-cell"
    ]
   },
   "source": [
    "<center>\n",
    "<img src=\"../images/ASSEMBLY-PGMV/ASSEMBLY-PGMV.038.png\" >\n",
    "</center>"
   ]
  },
  {
   "cell_type": "markdown",
   "id": "bafe03e7",
   "metadata": {
    "slideshow": {
     "slide_type": "slide"
    }
   },
   "source": [
    "## A more complex example\n",
    "\n",
    "This example should help to get your creative juices flowing and get a deeper appreciation for how we use the computer to write the kind of code you are used to.\n",
    "\n",
    "Note I have not tested this much.  I encourage you to try the exercises and test the code out."
   ]
  },
  {
   "cell_type": "markdown",
   "id": "6dcb09d0",
   "metadata": {},
   "source": [
    "### The Story: An Array of Players\n",
    "\n",
    "1. Lets assume in our program we have an array of \"Players\" \n",
    "2. Our program will have routines that work on the array and on individual players\n",
    "3. In our example we will layout a static version of the array with a few players\n",
    "\n",
    "Remember to draw things out to ensure you are understanding things\n",
    "\n",
    "#### A Player\n",
    "\n",
    "- Lets use a chuck of memory to represent a player\n",
    "- Each player has:\n",
    "  1. ID: A binary value that can fit in 8 bytes to uniquely identify a player\n",
    "  2. Name: A \"string\" : An array of ascii characters with 0 to mark the end of the string\n",
    "     - maximum length of the string array is 80\n",
    "  3. Score: A four byte signed integer value\n",
    "  4. Age: A single byte unsigned integer value\n",
    "  \n",
    "#### The Array of Players\n",
    "\n",
    "- Lets assume there is one global Array for the players\n",
    "  - One symbol `PLAYER_ARRAY` should mark the beginning of the player Array\n",
    "  - One symbol `PLAYER_ARRAY_END` should mark the end of the  player Array"
   ]
  },
  {
   "cell_type": "markdown",
   "id": "06f33d60",
   "metadata": {
    "slideshow": {
     "slide_type": "slide"
    }
   },
   "source": [
    "### Our \"main\" program\n",
    "\n",
    "- The following is our main program that has the \"entry point\"\n",
    "  - in this case it will simply call our `find_player` \n",
    "- It also lays out the memory for the static global player array\n",
    "  - It initializes the players with some hard code players\n",
    "- When done exits passing the return value for find player as the process exit code"
   ]
  },
  {
   "cell_type": "code",
   "execution_count": null,
   "id": "09cde9c4",
   "metadata": {
    "jupyter": {
     "source_hidden": true
    },
    "tags": [
     "remove-input"
    ]
   },
   "outputs": [],
   "source": [
    "display(Markdown(FileCodeBox(\n",
    "    file=\"../src/playertest.S\", \n",
    "    lang=\"gas\", \n",
    "    title=\"<b>CODE: asm - playertest.S\",\n",
    "    h=\"100%\", \n",
    "    w=\"107em\"\n",
    ")))"
   ]
  },
  {
   "cell_type": "markdown",
   "id": "32478888",
   "metadata": {},
   "source": [
    "### `find_player`\n",
    "\n",
    "This routine searches an Array of Players:\n",
    "- starting from the beginning of array \n",
    "- find the first player with capital 'B' in their name\n",
    "- Either returns the index of the found player or -1\n",
    "\n",
    "Arguments: Address of the Array and length of the Array"
   ]
  },
  {
   "cell_type": "code",
   "execution_count": null,
   "id": "c1f242c0",
   "metadata": {
    "hide_input": false,
    "jupyter": {
     "source_hidden": true
    },
    "tags": [
     "remove-input"
    ]
   },
   "outputs": [],
   "source": [
    "display(Markdown(FileCodeBox(\n",
    "    file=\"../src/findplayer.S\", \n",
    "    lang=\"gas\", \n",
    "    title=\"<b>CODE: asm - findplayer.S\",\n",
    "    h=\"100%\", \n",
    "    w=\"107em\"\n",
    ")))"
   ]
  },
  {
   "cell_type": "markdown",
   "id": "7bbd0cbe",
   "metadata": {},
   "source": [
    "### Assemble and link"
   ]
  },
  {
   "cell_type": "code",
   "execution_count": null,
   "id": "49ba5f7b",
   "metadata": {
    "hide_input": true,
    "jupyter": {
     "source_hidden": true
    },
    "tags": [
     "remove-input"
    ]
   },
   "outputs": [],
   "source": [
    "TermShellCmd(\"make playertest\", cwd=appdir, prompt='')"
   ]
  },
  {
   "cell_type": "markdown",
   "id": "5d36e130",
   "metadata": {
    "hide_input": true
   },
   "source": [
    "### Exercises\n",
    "\n",
    "1. Modify the find routine to taking the search character as a parameter\n",
    "2. Add more players\n",
    "3. Write a routine to update a player's score\n",
    "4. Replace the Array with a list\n",
    "    - convert static array with static list (see tree example for inspiration)\n",
    "    - rewrite `find_player` to search a list"
   ]
  }
 ],
 "metadata": {
  "celltoolbar": "Tags",
  "hide_input": true,
  "kernelspec": {
   "display_name": "Python 3 (ipykernel)",
   "language": "python",
   "name": "python3"
  },
  "language_info": {
   "codemirror_mode": {
    "name": "ipython",
    "version": 3
   },
   "file_extension": ".py",
   "mimetype": "text/x-python",
   "name": "python",
   "nbconvert_exporter": "python",
   "pygments_lexer": "ipython3",
   "version": "3.10.5"
  },
  "rise": {
   "autolaunch": false,
   "enable_chalkboard": true,
   "footer": "UC-SLS -- Lecture 13",
   "header": "Assembly: Program Anatomy V",
   "height": "100%",
   "scroll": true,
   "start_slideshow_at": "selected",
   "transition": "none",
   "width": "100%"
  }
 },
 "nbformat": 4,
 "nbformat_minor": 5
}
