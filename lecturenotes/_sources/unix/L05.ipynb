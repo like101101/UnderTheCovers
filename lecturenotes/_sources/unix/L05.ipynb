{
 "cells": [
  {
   "cell_type": "markdown",
   "id": "9a503937-98e9-44c7-b0f3-43e6759db23f",
   "metadata": {
    "slideshow": {
     "slide_type": "skip"
    },
    "tags": []
   },
   "source": [
    "# SLS Lecture 5a : Version Control and GIT: Part I\""
   ]
  },
  {
   "cell_type": "markdown",
   "id": "057eff92",
   "metadata": {
    "slideshow": {
     "slide_type": "skip"
    },
    "tags": []
   },
   "source": [
    "<hr>"
   ]
  },
  {
   "cell_type": "markdown",
   "id": "cc82784a",
   "metadata": {
    "slideshow": {
     "slide_type": "slide"
    },
    "tags": []
   },
   "source": [
    "% BODY\n",
    "<img src=\"../images/VersionControl1/RepositoryControl.001.png\" width=\"100%\">"
   ]
  },
  {
   "cell_type": "markdown",
   "id": "b22f0b6e",
   "metadata": {
    "slideshow": {
     "slide_type": "notes"
    },
    "tags": []
   },
   "source": [
    "% NOTES"
   ]
  },
  {
   "cell_type": "markdown",
   "id": "408ecb9f",
   "metadata": {
    "slideshow": {
     "slide_type": "skip"
    },
    "tags": []
   },
   "source": [
    "<hr>"
   ]
  },
  {
   "cell_type": "markdown",
   "id": "8aa5d917",
   "metadata": {
    "slideshow": {
     "slide_type": "slide"
    },
    "tags": []
   },
   "source": [
    "% BODY\n",
    "<img src=\"../images/VersionControl1/RepositoryControl.002.png\" width=\"100%\">"
   ]
  },
  {
   "cell_type": "markdown",
   "id": "fc91ef89",
   "metadata": {
    "slideshow": {
     "slide_type": "notes"
    },
    "tags": []
   },
   "source": [
    "% NOTES"
   ]
  },
  {
   "cell_type": "markdown",
   "id": "d871b59b",
   "metadata": {
    "slideshow": {
     "slide_type": "skip"
    },
    "tags": []
   },
   "source": [
    "<hr>"
   ]
  },
  {
   "cell_type": "markdown",
   "id": "eb2d7cf3",
   "metadata": {
    "slideshow": {
     "slide_type": "slide"
    },
    "tags": []
   },
   "source": [
    "% BODY\n",
    "<img src=\"../images/VersionControl1/RepositoryControl.003.png\" width=\"100%\">"
   ]
  },
  {
   "cell_type": "markdown",
   "id": "47c70198",
   "metadata": {
    "slideshow": {
     "slide_type": "notes"
    },
    "tags": []
   },
   "source": [
    "% NOTES"
   ]
  },
  {
   "cell_type": "markdown",
   "id": "82db81dd",
   "metadata": {
    "slideshow": {
     "slide_type": "skip"
    },
    "tags": []
   },
   "source": [
    "<hr>"
   ]
  },
  {
   "cell_type": "markdown",
   "id": "df29968f",
   "metadata": {
    "slideshow": {
     "slide_type": "slide"
    },
    "tags": []
   },
   "source": [
    "% BODY\n",
    "<img src=\"../images/VersionControl1/RepositoryControl.004.png\" width=\"100%\">"
   ]
  },
  {
   "cell_type": "markdown",
   "id": "78039911",
   "metadata": {
    "slideshow": {
     "slide_type": "notes"
    },
    "tags": []
   },
   "source": [
    "% NOTES"
   ]
  },
  {
   "cell_type": "markdown",
   "id": "c1732549",
   "metadata": {
    "slideshow": {
     "slide_type": "skip"
    },
    "tags": []
   },
   "source": [
    "<hr>"
   ]
  },
  {
   "cell_type": "markdown",
   "id": "86108fc6",
   "metadata": {
    "slideshow": {
     "slide_type": "slide"
    },
    "tags": []
   },
   "source": [
    "% BODY\n",
    "<img src=\"../images/VersionControl1/RepositoryControl.005.png\" width=\"100%\">"
   ]
  },
  {
   "cell_type": "markdown",
   "id": "1b031cad",
   "metadata": {
    "slideshow": {
     "slide_type": "notes"
    },
    "tags": []
   },
   "source": [
    "% NOTES"
   ]
  },
  {
   "cell_type": "markdown",
   "id": "8ef5e77f",
   "metadata": {
    "slideshow": {
     "slide_type": "skip"
    },
    "tags": []
   },
   "source": [
    "<hr>"
   ]
  },
  {
   "cell_type": "markdown",
   "id": "aa815f55",
   "metadata": {
    "slideshow": {
     "slide_type": "slide"
    },
    "tags": []
   },
   "source": [
    "% BODY\n",
    "<img src=\"../images/VersionControl1/RepositoryControl.006.png\" width=\"100%\">"
   ]
  },
  {
   "cell_type": "markdown",
   "id": "d9b45e52",
   "metadata": {
    "slideshow": {
     "slide_type": "notes"
    },
    "tags": []
   },
   "source": [
    "% NOTES"
   ]
  },
  {
   "cell_type": "markdown",
   "id": "d1479faa",
   "metadata": {
    "slideshow": {
     "slide_type": "skip"
    },
    "tags": []
   },
   "source": [
    "<hr>"
   ]
  },
  {
   "cell_type": "markdown",
   "id": "660cbd3a",
   "metadata": {
    "slideshow": {
     "slide_type": "slide"
    },
    "tags": []
   },
   "source": [
    "% BODY\n",
    "<img src=\"../images/VersionControl1/RepositoryControl.007.png\" width=\"100%\">"
   ]
  },
  {
   "cell_type": "markdown",
   "id": "ac568004",
   "metadata": {
    "slideshow": {
     "slide_type": "notes"
    },
    "tags": []
   },
   "source": [
    "% NOTES"
   ]
  },
  {
   "cell_type": "markdown",
   "id": "7ef3d166",
   "metadata": {
    "slideshow": {
     "slide_type": "skip"
    },
    "tags": []
   },
   "source": [
    "<hr>"
   ]
  },
  {
   "cell_type": "markdown",
   "id": "64d1dfb3",
   "metadata": {
    "slideshow": {
     "slide_type": "slide"
    },
    "tags": []
   },
   "source": [
    "% BODY\n",
    "<img src=\"../images/VersionControl1/RepositoryControl.008.png\" width=\"100%\">"
   ]
  },
  {
   "cell_type": "markdown",
   "id": "be4d453c",
   "metadata": {
    "slideshow": {
     "slide_type": "notes"
    },
    "tags": []
   },
   "source": [
    "% NOTES"
   ]
  },
  {
   "cell_type": "markdown",
   "id": "7e4f216c",
   "metadata": {
    "slideshow": {
     "slide_type": "skip"
    },
    "tags": []
   },
   "source": [
    "<hr>"
   ]
  },
  {
   "cell_type": "markdown",
   "id": "7f142bce",
   "metadata": {
    "slideshow": {
     "slide_type": "slide"
    },
    "tags": []
   },
   "source": [
    "% BODY\n",
    "<img src=\"../images/VersionControl1/RepositoryControl.009.png\" width=\"100%\">"
   ]
  },
  {
   "cell_type": "markdown",
   "id": "c0921e32",
   "metadata": {
    "slideshow": {
     "slide_type": "notes"
    },
    "tags": []
   },
   "source": [
    "% NOTES"
   ]
  },
  {
   "cell_type": "markdown",
   "id": "760234ac",
   "metadata": {
    "slideshow": {
     "slide_type": "skip"
    },
    "tags": []
   },
   "source": [
    "<hr>"
   ]
  },
  {
   "cell_type": "markdown",
   "id": "47356f8a",
   "metadata": {
    "slideshow": {
     "slide_type": "slide"
    },
    "tags": []
   },
   "source": [
    "% BODY\n",
    "<img src=\"../images/VersionControl1/RepositoryControl.010.png\" width=\"100%\">"
   ]
  },
  {
   "cell_type": "markdown",
   "id": "969c5537",
   "metadata": {
    "slideshow": {
     "slide_type": "notes"
    },
    "tags": []
   },
   "source": [
    "% NOTES"
   ]
  },
  {
   "cell_type": "markdown",
   "id": "99f5eb45",
   "metadata": {
    "slideshow": {
     "slide_type": "skip"
    },
    "tags": []
   },
   "source": [
    "<hr>"
   ]
  },
  {
   "cell_type": "markdown",
   "id": "9d25fd59",
   "metadata": {
    "slideshow": {
     "slide_type": "slide"
    },
    "tags": []
   },
   "source": [
    "% BODY\n",
    "<img src=\"../images/VersionControl1/RepositoryControl.011.png\" width=\"100%\">"
   ]
  },
  {
   "cell_type": "markdown",
   "id": "f26e5d5c",
   "metadata": {
    "slideshow": {
     "slide_type": "notes"
    },
    "tags": []
   },
   "source": [
    "% NOTES"
   ]
  },
  {
   "cell_type": "markdown",
   "id": "915badbb",
   "metadata": {
    "slideshow": {
     "slide_type": "skip"
    },
    "tags": []
   },
   "source": [
    "<hr>"
   ]
  },
  {
   "cell_type": "markdown",
   "id": "ebb42e71",
   "metadata": {
    "slideshow": {
     "slide_type": "slide"
    },
    "tags": []
   },
   "source": [
    "% BODY\n",
    "<img src=\"../images/VersionControl1/RepositoryControl.012.png\" width=\"100%\">"
   ]
  },
  {
   "cell_type": "markdown",
   "id": "05acdca7",
   "metadata": {
    "slideshow": {
     "slide_type": "notes"
    },
    "tags": []
   },
   "source": [
    "% NOTES"
   ]
  },
  {
   "cell_type": "markdown",
   "id": "333a3efa",
   "metadata": {
    "slideshow": {
     "slide_type": "skip"
    },
    "tags": []
   },
   "source": [
    "<hr>"
   ]
  },
  {
   "cell_type": "markdown",
   "id": "2e47f01c",
   "metadata": {
    "slideshow": {
     "slide_type": "slide"
    },
    "tags": []
   },
   "source": [
    "% BODY\n",
    "<img src=\"../images/VersionControl1/RepositoryControl.013.png\" width=\"100%\">"
   ]
  },
  {
   "cell_type": "markdown",
   "id": "2013de46",
   "metadata": {
    "slideshow": {
     "slide_type": "notes"
    },
    "tags": []
   },
   "source": [
    "% NOTES"
   ]
  },
  {
   "cell_type": "markdown",
   "id": "ea149bb7",
   "metadata": {
    "slideshow": {
     "slide_type": "skip"
    },
    "tags": []
   },
   "source": [
    "<hr>"
   ]
  },
  {
   "cell_type": "markdown",
   "id": "263ac50f",
   "metadata": {
    "slideshow": {
     "slide_type": "slide"
    },
    "tags": []
   },
   "source": [
    "% BODY\n",
    "<img src=\"../images/VersionControl1/RepositoryControl.014.png\" width=\"100%\">"
   ]
  },
  {
   "cell_type": "markdown",
   "id": "4fb00e54",
   "metadata": {
    "slideshow": {
     "slide_type": "notes"
    },
    "tags": []
   },
   "source": [
    "% NOTES"
   ]
  },
  {
   "cell_type": "markdown",
   "id": "8fbc9797",
   "metadata": {
    "slideshow": {
     "slide_type": "skip"
    },
    "tags": []
   },
   "source": [
    "<hr>"
   ]
  },
  {
   "cell_type": "markdown",
   "id": "1555319b",
   "metadata": {
    "slideshow": {
     "slide_type": "slide"
    },
    "tags": []
   },
   "source": [
    "% BODY\n",
    "<img src=\"../images/VersionControl1/RepositoryControl.015.png\" width=\"100%\">"
   ]
  },
  {
   "cell_type": "markdown",
   "id": "647b54c9",
   "metadata": {
    "slideshow": {
     "slide_type": "notes"
    },
    "tags": []
   },
   "source": [
    "% NOTES"
   ]
  },
  {
   "cell_type": "markdown",
   "id": "4e7a56e3",
   "metadata": {
    "slideshow": {
     "slide_type": "skip"
    },
    "tags": []
   },
   "source": [
    "<hr>"
   ]
  },
  {
   "cell_type": "markdown",
   "id": "f051ffe8",
   "metadata": {
    "slideshow": {
     "slide_type": "slide"
    },
    "tags": []
   },
   "source": [
    "% BODY\n",
    "<img src=\"../images/VersionControl1/RepositoryControl.016.png\" width=\"100%\">"
   ]
  },
  {
   "cell_type": "markdown",
   "id": "37697153",
   "metadata": {
    "slideshow": {
     "slide_type": "notes"
    },
    "tags": []
   },
   "source": [
    "% NOTES"
   ]
  },
  {
   "cell_type": "markdown",
   "id": "d80c8f9f",
   "metadata": {
    "slideshow": {
     "slide_type": "skip"
    },
    "tags": []
   },
   "source": [
    "<hr>"
   ]
  },
  {
   "cell_type": "markdown",
   "id": "91e2a298",
   "metadata": {
    "slideshow": {
     "slide_type": "slide"
    },
    "tags": []
   },
   "source": [
    "% BODY\n",
    "<img src=\"../images/VersionControl1/RepositoryControl.017.png\" width=\"100%\">"
   ]
  },
  {
   "cell_type": "markdown",
   "id": "d2876fa6",
   "metadata": {
    "slideshow": {
     "slide_type": "notes"
    },
    "tags": []
   },
   "source": [
    "% NOTES"
   ]
  },
  {
   "cell_type": "markdown",
   "id": "3065e73a",
   "metadata": {
    "slideshow": {
     "slide_type": "skip"
    },
    "tags": []
   },
   "source": [
    "<hr>"
   ]
  },
  {
   "cell_type": "markdown",
   "id": "42de7991",
   "metadata": {
    "slideshow": {
     "slide_type": "slide"
    },
    "tags": []
   },
   "source": [
    "% BODY\n",
    "<img src=\"../images/VersionControl1/RepositoryControl.018.png\" width=\"100%\">"
   ]
  },
  {
   "cell_type": "markdown",
   "id": "1dda9308",
   "metadata": {
    "slideshow": {
     "slide_type": "notes"
    },
    "tags": []
   },
   "source": [
    "% NOTES"
   ]
  },
  {
   "cell_type": "markdown",
   "id": "156644c4",
   "metadata": {
    "slideshow": {
     "slide_type": "skip"
    },
    "tags": []
   },
   "source": [
    "<hr>"
   ]
  },
  {
   "cell_type": "markdown",
   "id": "69da904d",
   "metadata": {
    "slideshow": {
     "slide_type": "slide"
    },
    "tags": []
   },
   "source": [
    "% BODY\n",
    "<img src=\"../images/VersionControl1/RepositoryControl.019.png\" width=\"100%\">"
   ]
  },
  {
   "cell_type": "markdown",
   "id": "23cdae0f",
   "metadata": {
    "slideshow": {
     "slide_type": "notes"
    },
    "tags": []
   },
   "source": [
    "% NOTES"
   ]
  },
  {
   "cell_type": "markdown",
   "id": "747001cb",
   "metadata": {
    "slideshow": {
     "slide_type": "skip"
    },
    "tags": []
   },
   "source": [
    "<hr>"
   ]
  },
  {
   "cell_type": "markdown",
   "id": "a17917d9",
   "metadata": {
    "slideshow": {
     "slide_type": "slide"
    },
    "tags": []
   },
   "source": [
    "% BODY\n",
    "<img src=\"../images/VersionControl1/RepositoryControl.020.png\" width=\"100%\">"
   ]
  },
  {
   "cell_type": "markdown",
   "id": "ceb58d10",
   "metadata": {
    "slideshow": {
     "slide_type": "notes"
    },
    "tags": []
   },
   "source": [
    "% NOTES"
   ]
  },
  {
   "cell_type": "markdown",
   "id": "cc09d27c",
   "metadata": {
    "slideshow": {
     "slide_type": "skip"
    },
    "tags": []
   },
   "source": [
    "<hr>"
   ]
  },
  {
   "cell_type": "markdown",
   "id": "860e9ddb",
   "metadata": {
    "slideshow": {
     "slide_type": "slide"
    },
    "tags": []
   },
   "source": [
    "% BODY\n",
    "<img src=\"../images/VersionControl1/RepositoryControl.021.png\" width=\"100%\">"
   ]
  },
  {
   "cell_type": "markdown",
   "id": "c95e27f2",
   "metadata": {
    "slideshow": {
     "slide_type": "notes"
    },
    "tags": []
   },
   "source": [
    "% NOTES"
   ]
  },
  {
   "cell_type": "markdown",
   "id": "e3c32ba3",
   "metadata": {
    "slideshow": {
     "slide_type": "skip"
    },
    "tags": []
   },
   "source": [
    "<hr>"
   ]
  },
  {
   "cell_type": "markdown",
   "id": "455bc2ce",
   "metadata": {
    "slideshow": {
     "slide_type": "slide"
    },
    "tags": []
   },
   "source": [
    "% BODY\n",
    "<img src=\"../images/VersionControl1/RepositoryControl.022.png\" width=\"100%\">"
   ]
  },
  {
   "cell_type": "markdown",
   "id": "be599cd0",
   "metadata": {
    "slideshow": {
     "slide_type": "notes"
    },
    "tags": []
   },
   "source": [
    "% NOTES"
   ]
  },
  {
   "cell_type": "markdown",
   "id": "49c306ab",
   "metadata": {
    "slideshow": {
     "slide_type": "skip"
    },
    "tags": []
   },
   "source": [
    "<hr>"
   ]
  },
  {
   "cell_type": "markdown",
   "id": "b5f6326a",
   "metadata": {
    "slideshow": {
     "slide_type": "slide"
    },
    "tags": []
   },
   "source": [
    "% BODY\n",
    "<img src=\"../images/VersionControl1/RepositoryControl.023.png\" width=\"100%\">"
   ]
  },
  {
   "cell_type": "markdown",
   "id": "0cde9a24",
   "metadata": {
    "slideshow": {
     "slide_type": "notes"
    },
    "tags": []
   },
   "source": [
    "% NOTES"
   ]
  },
  {
   "cell_type": "markdown",
   "id": "e4ca917b",
   "metadata": {
    "slideshow": {
     "slide_type": "skip"
    },
    "tags": []
   },
   "source": [
    "<hr>"
   ]
  },
  {
   "cell_type": "markdown",
   "id": "054a0b7b",
   "metadata": {
    "slideshow": {
     "slide_type": "slide"
    },
    "tags": []
   },
   "source": [
    "% BODY\n",
    "<img src=\"../images/VersionControl1/RepositoryControl.024.png\" width=\"100%\">"
   ]
  },
  {
   "cell_type": "markdown",
   "id": "8029929a",
   "metadata": {
    "slideshow": {
     "slide_type": "notes"
    },
    "tags": []
   },
   "source": [
    "% NOTES"
   ]
  },
  {
   "cell_type": "markdown",
   "id": "5349ea1c",
   "metadata": {
    "slideshow": {
     "slide_type": "skip"
    },
    "tags": []
   },
   "source": [
    "<hr>"
   ]
  },
  {
   "cell_type": "markdown",
   "id": "e2255afa",
   "metadata": {
    "slideshow": {
     "slide_type": "slide"
    },
    "tags": []
   },
   "source": [
    "% BODY\n",
    "<img src=\"../images/VersionControl1/RepositoryControl.025.png\" width=\"100%\">"
   ]
  },
  {
   "cell_type": "markdown",
   "id": "619be691",
   "metadata": {
    "slideshow": {
     "slide_type": "notes"
    },
    "tags": []
   },
   "source": [
    "% NOTES"
   ]
  },
  {
   "cell_type": "markdown",
   "id": "11b50613",
   "metadata": {
    "slideshow": {
     "slide_type": "skip"
    },
    "tags": []
   },
   "source": [
    "<hr>"
   ]
  },
  {
   "cell_type": "markdown",
   "id": "550adcb3",
   "metadata": {
    "slideshow": {
     "slide_type": "slide"
    },
    "tags": []
   },
   "source": [
    "% BODY\n",
    "<img src=\"../images/VersionControl1/RepositoryControl.026.png\" width=\"100%\">"
   ]
  },
  {
   "cell_type": "markdown",
   "id": "9aaa1b71",
   "metadata": {
    "slideshow": {
     "slide_type": "notes"
    },
    "tags": []
   },
   "source": [
    "% NOTES"
   ]
  },
  {
   "cell_type": "markdown",
   "id": "07dace84",
   "metadata": {
    "slideshow": {
     "slide_type": "skip"
    },
    "tags": []
   },
   "source": [
    "<hr>"
   ]
  },
  {
   "cell_type": "markdown",
   "id": "e21cfd1f",
   "metadata": {
    "slideshow": {
     "slide_type": "slide"
    },
    "tags": []
   },
   "source": [
    "% BODY\n",
    "<img src=\"../images/VersionControl1/RepositoryControl.027.png\" width=\"100%\">"
   ]
  },
  {
   "cell_type": "markdown",
   "id": "8f0ddcfa",
   "metadata": {
    "slideshow": {
     "slide_type": "notes"
    },
    "tags": []
   },
   "source": [
    "% NOTES"
   ]
  },
  {
   "cell_type": "markdown",
   "id": "a660087c",
   "metadata": {
    "slideshow": {
     "slide_type": "skip"
    },
    "tags": []
   },
   "source": [
    "<hr>"
   ]
  },
  {
   "cell_type": "markdown",
   "id": "c3b8daf9",
   "metadata": {
    "slideshow": {
     "slide_type": "slide"
    },
    "tags": []
   },
   "source": [
    "% BODY\n",
    "<img src=\"../images/VersionControl1/RepositoryControl.028.png\" width=\"100%\">"
   ]
  },
  {
   "cell_type": "markdown",
   "id": "1db5d14a",
   "metadata": {
    "slideshow": {
     "slide_type": "notes"
    },
    "tags": []
   },
   "source": [
    "% NOTES"
   ]
  },
  {
   "cell_type": "markdown",
   "id": "452e434f",
   "metadata": {
    "slideshow": {
     "slide_type": "skip"
    },
    "tags": []
   },
   "source": [
    "<hr>"
   ]
  },
  {
   "cell_type": "markdown",
   "id": "4982704b",
   "metadata": {
    "slideshow": {
     "slide_type": "slide"
    },
    "tags": []
   },
   "source": [
    "% BODY\n",
    "<img src=\"../images/VersionControl1/RepositoryControl.029.png\" width=\"100%\">"
   ]
  },
  {
   "cell_type": "markdown",
   "id": "9e6f08ad",
   "metadata": {
    "slideshow": {
     "slide_type": "notes"
    },
    "tags": []
   },
   "source": [
    "% NOTES"
   ]
  },
  {
   "cell_type": "markdown",
   "id": "f57f57c4",
   "metadata": {
    "slideshow": {
     "slide_type": "skip"
    },
    "tags": []
   },
   "source": [
    "<hr>"
   ]
  },
  {
   "cell_type": "markdown",
   "id": "f494c221",
   "metadata": {
    "slideshow": {
     "slide_type": "slide"
    },
    "tags": []
   },
   "source": [
    "% BODY\n",
    "<img src=\"../images/VersionControl1/RepositoryControl.030.png\" width=\"100%\">"
   ]
  },
  {
   "cell_type": "markdown",
   "id": "eb6e5bb7",
   "metadata": {
    "slideshow": {
     "slide_type": "notes"
    },
    "tags": []
   },
   "source": [
    "% NOTES"
   ]
  },
  {
   "cell_type": "markdown",
   "id": "88ee1fd8",
   "metadata": {
    "slideshow": {
     "slide_type": "skip"
    },
    "tags": []
   },
   "source": [
    "<hr>"
   ]
  },
  {
   "cell_type": "markdown",
   "id": "09a29161",
   "metadata": {
    "slideshow": {
     "slide_type": "slide"
    },
    "tags": []
   },
   "source": [
    "% BODY\n",
    "<img src=\"../images/VersionControl1/RepositoryControl.031.png\" width=\"100%\">"
   ]
  },
  {
   "cell_type": "markdown",
   "id": "06dc1e5e",
   "metadata": {
    "slideshow": {
     "slide_type": "notes"
    },
    "tags": []
   },
   "source": [
    "% NOTES"
   ]
  },
  {
   "cell_type": "markdown",
   "id": "7e914bf1",
   "metadata": {
    "slideshow": {
     "slide_type": "skip"
    },
    "tags": []
   },
   "source": [
    "<hr>"
   ]
  },
  {
   "cell_type": "markdown",
   "id": "dd61de87",
   "metadata": {
    "slideshow": {
     "slide_type": "slide"
    },
    "tags": []
   },
   "source": [
    "% BODY\n",
    "<img src=\"../images/VersionControl1/RepositoryControl.032.png\" width=\"100%\">"
   ]
  },
  {
   "cell_type": "markdown",
   "id": "5b558e92",
   "metadata": {
    "slideshow": {
     "slide_type": "notes"
    },
    "tags": []
   },
   "source": [
    "% NOTES"
   ]
  },
  {
   "cell_type": "markdown",
   "id": "6e04f324",
   "metadata": {
    "slideshow": {
     "slide_type": "skip"
    },
    "tags": []
   },
   "source": [
    "<hr>"
   ]
  },
  {
   "cell_type": "markdown",
   "id": "389c6a93",
   "metadata": {
    "slideshow": {
     "slide_type": "slide"
    },
    "tags": []
   },
   "source": [
    "% BODY\n",
    "<img src=\"../images/VersionControl1/RepositoryControl.033.png\" width=\"100%\">"
   ]
  },
  {
   "cell_type": "markdown",
   "id": "fea0ba3d",
   "metadata": {
    "slideshow": {
     "slide_type": "notes"
    },
    "tags": []
   },
   "source": [
    "% NOTES"
   ]
  },
  {
   "cell_type": "markdown",
   "id": "70e78320",
   "metadata": {
    "slideshow": {
     "slide_type": "skip"
    },
    "tags": []
   },
   "source": [
    "<hr>"
   ]
  },
  {
   "cell_type": "markdown",
   "id": "296d2d71",
   "metadata": {
    "slideshow": {
     "slide_type": "slide"
    },
    "tags": []
   },
   "source": [
    "% BODY\n",
    "<img src=\"../images/VersionControl1/RepositoryControl.034.png\" width=\"100%\">"
   ]
  },
  {
   "cell_type": "markdown",
   "id": "cba0a1bc",
   "metadata": {
    "slideshow": {
     "slide_type": "notes"
    },
    "tags": []
   },
   "source": [
    "% NOTES"
   ]
  },
  {
   "cell_type": "markdown",
   "id": "9919441f",
   "metadata": {
    "slideshow": {
     "slide_type": "skip"
    },
    "tags": []
   },
   "source": [
    "<hr>"
   ]
  },
  {
   "cell_type": "markdown",
   "id": "8b341494",
   "metadata": {
    "slideshow": {
     "slide_type": "slide"
    },
    "tags": []
   },
   "source": [
    "% BODY\n",
    "<img src=\"../images/VersionControl1/RepositoryControl.035.png\" width=\"100%\">"
   ]
  },
  {
   "cell_type": "markdown",
   "id": "ceca461a",
   "metadata": {
    "slideshow": {
     "slide_type": "notes"
    },
    "tags": []
   },
   "source": [
    "% NOTES"
   ]
  },
  {
   "cell_type": "markdown",
   "id": "dac2a0b5",
   "metadata": {
    "slideshow": {
     "slide_type": "skip"
    },
    "tags": []
   },
   "source": [
    "<hr>"
   ]
  },
  {
   "cell_type": "markdown",
   "id": "f162b0c3",
   "metadata": {
    "slideshow": {
     "slide_type": "slide"
    },
    "tags": []
   },
   "source": [
    "% BODY\n",
    "<img src=\"../images/VersionControl1/RepositoryControl.036.png\" width=\"100%\">"
   ]
  },
  {
   "cell_type": "markdown",
   "id": "0f5cc4cb",
   "metadata": {
    "slideshow": {
     "slide_type": "notes"
    },
    "tags": []
   },
   "source": [
    "% NOTES"
   ]
  },
  {
   "cell_type": "markdown",
   "id": "bb3cc693",
   "metadata": {
    "slideshow": {
     "slide_type": "skip"
    },
    "tags": []
   },
   "source": [
    "<hr>"
   ]
  },
  {
   "cell_type": "markdown",
   "id": "7809b08f",
   "metadata": {
    "slideshow": {
     "slide_type": "slide"
    },
    "tags": []
   },
   "source": [
    "% BODY\n",
    "<img src=\"../images/VersionControl1/RepositoryControl.037.png\" width=\"100%\">"
   ]
  },
  {
   "cell_type": "markdown",
   "id": "a8a57160",
   "metadata": {
    "slideshow": {
     "slide_type": "notes"
    },
    "tags": []
   },
   "source": [
    "% NOTES"
   ]
  }
 ],
 "metadata": {
  "kernelspec": {
   "display_name": "Python 3 (ipykernel)",
   "language": "python",
   "name": "python3"
  },
  "language_info": {
   "codemirror_mode": {
    "name": "ipython",
    "version": 3
   },
   "file_extension": ".py",
   "mimetype": "text/x-python",
   "name": "python",
   "nbconvert_exporter": "python",
   "pygments_lexer": "ipython3",
   "version": "3.10.5"
  },
  "rise": {
   "autolaunch": false,
   "enable_chalkboard": true,
   "footer": "UCSLS: Lecture 5a",
   "header": "Version Control: GIT Part I",
   "height": "100%",
   "scroll": true,
   "start_slideshow_at": "selected",
   "transition": "none",
   "width": "100%"
  }
 },
 "nbformat": 4,
 "nbformat_minor": 5
}
