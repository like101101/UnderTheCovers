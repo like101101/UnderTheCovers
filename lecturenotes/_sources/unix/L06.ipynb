{
 "cells": [
  {
   "cell_type": "markdown",
   "id": "66e4bc7d-9ddd-4973-acca-11515ad70aa7",
   "metadata": {
    "slideshow": {
     "slide_type": "skip"
    },
    "tags": []
   },
   "source": [
    "# SLS Lecture 5b : Version Control and GIT: Part II\""
   ]
  },
  {
   "cell_type": "markdown",
   "id": "37a7473a",
   "metadata": {
    "slideshow": {
     "slide_type": "skip"
    },
    "tags": []
   },
   "source": [
    "<hr>"
   ]
  },
  {
   "cell_type": "markdown",
   "id": "5af90c4b",
   "metadata": {
    "slideshow": {
     "slide_type": "slide"
    },
    "tags": []
   },
   "source": [
    "% BODY\n",
    "<img src=\"../images/VersionControl2/VersionControl2.001.png\" width=\"100%\">"
   ]
  },
  {
   "cell_type": "markdown",
   "id": "774fe1bc",
   "metadata": {
    "slideshow": {
     "slide_type": "notes"
    },
    "tags": []
   },
   "source": [
    "% NOTES"
   ]
  },
  {
   "cell_type": "markdown",
   "id": "7fcef358",
   "metadata": {
    "slideshow": {
     "slide_type": "skip"
    },
    "tags": []
   },
   "source": [
    "<hr>"
   ]
  },
  {
   "cell_type": "markdown",
   "id": "246bd3bf",
   "metadata": {
    "slideshow": {
     "slide_type": "slide"
    },
    "tags": []
   },
   "source": [
    "% BODY\n",
    "<img src=\"../images/VersionControl2/VersionControl2.002.png\" width=\"100%\">"
   ]
  },
  {
   "cell_type": "markdown",
   "id": "1e9fa65d",
   "metadata": {
    "slideshow": {
     "slide_type": "notes"
    },
    "tags": []
   },
   "source": [
    "% NOTES"
   ]
  },
  {
   "cell_type": "markdown",
   "id": "38c64051",
   "metadata": {
    "slideshow": {
     "slide_type": "skip"
    },
    "tags": []
   },
   "source": [
    "<hr>"
   ]
  },
  {
   "cell_type": "markdown",
   "id": "d7e884f3",
   "metadata": {
    "slideshow": {
     "slide_type": "slide"
    },
    "tags": []
   },
   "source": [
    "% BODY\n",
    "<img src=\"../images/VersionControl2/VersionControl2.003.png\" width=\"100%\">"
   ]
  },
  {
   "cell_type": "markdown",
   "id": "0a6eb25f",
   "metadata": {
    "slideshow": {
     "slide_type": "notes"
    },
    "tags": []
   },
   "source": [
    "% NOTES"
   ]
  },
  {
   "cell_type": "markdown",
   "id": "f9955d0a",
   "metadata": {
    "slideshow": {
     "slide_type": "skip"
    },
    "tags": []
   },
   "source": [
    "<hr>"
   ]
  },
  {
   "cell_type": "markdown",
   "id": "d2440e88",
   "metadata": {
    "slideshow": {
     "slide_type": "slide"
    },
    "tags": []
   },
   "source": [
    "% BODY\n",
    "<img src=\"../images/VersionControl2/VersionControl2.004.png\" width=\"100%\">"
   ]
  },
  {
   "cell_type": "markdown",
   "id": "70b2c79d",
   "metadata": {
    "slideshow": {
     "slide_type": "notes"
    },
    "tags": []
   },
   "source": [
    "% NOTES"
   ]
  },
  {
   "cell_type": "markdown",
   "id": "b6b9be80",
   "metadata": {
    "slideshow": {
     "slide_type": "skip"
    },
    "tags": []
   },
   "source": [
    "<hr>"
   ]
  },
  {
   "cell_type": "markdown",
   "id": "a8bc9888",
   "metadata": {
    "slideshow": {
     "slide_type": "slide"
    },
    "tags": []
   },
   "source": [
    "% BODY\n",
    "<img src=\"../images/VersionControl2/VersionControl2.005.png\" width=\"100%\">"
   ]
  },
  {
   "cell_type": "markdown",
   "id": "8fa77515",
   "metadata": {
    "slideshow": {
     "slide_type": "notes"
    },
    "tags": []
   },
   "source": [
    "% NOTES"
   ]
  },
  {
   "cell_type": "markdown",
   "id": "c383bd2e",
   "metadata": {
    "slideshow": {
     "slide_type": "skip"
    },
    "tags": []
   },
   "source": [
    "<hr>"
   ]
  },
  {
   "cell_type": "markdown",
   "id": "6f0e5841",
   "metadata": {
    "slideshow": {
     "slide_type": "slide"
    },
    "tags": []
   },
   "source": [
    "% BODY\n",
    "<img src=\"../images/VersionControl2/VersionControl2.006.png\" width=\"100%\">"
   ]
  },
  {
   "cell_type": "markdown",
   "id": "05b847c7",
   "metadata": {
    "slideshow": {
     "slide_type": "notes"
    },
    "tags": []
   },
   "source": [
    "% NOTES"
   ]
  },
  {
   "cell_type": "markdown",
   "id": "29ff7cb4",
   "metadata": {
    "slideshow": {
     "slide_type": "skip"
    },
    "tags": []
   },
   "source": [
    "<hr>"
   ]
  },
  {
   "cell_type": "markdown",
   "id": "95f24f04",
   "metadata": {
    "slideshow": {
     "slide_type": "slide"
    },
    "tags": []
   },
   "source": [
    "% BODY\n",
    "<img src=\"../images/VersionControl2/VersionControl2.007.png\" width=\"100%\">"
   ]
  },
  {
   "cell_type": "markdown",
   "id": "297dca29",
   "metadata": {
    "slideshow": {
     "slide_type": "notes"
    },
    "tags": []
   },
   "source": [
    "% NOTES"
   ]
  },
  {
   "cell_type": "markdown",
   "id": "777046ea",
   "metadata": {
    "slideshow": {
     "slide_type": "skip"
    },
    "tags": []
   },
   "source": [
    "<hr>"
   ]
  },
  {
   "cell_type": "markdown",
   "id": "971fea03",
   "metadata": {
    "slideshow": {
     "slide_type": "slide"
    },
    "tags": []
   },
   "source": [
    "% BODY\n",
    "<img src=\"../images/VersionControl2/VersionControl2.008.png\" width=\"100%\">"
   ]
  },
  {
   "cell_type": "markdown",
   "id": "407a322e",
   "metadata": {
    "slideshow": {
     "slide_type": "notes"
    },
    "tags": []
   },
   "source": [
    "% NOTES"
   ]
  },
  {
   "cell_type": "markdown",
   "id": "7b0c01ab",
   "metadata": {
    "slideshow": {
     "slide_type": "skip"
    },
    "tags": []
   },
   "source": [
    "<hr>"
   ]
  },
  {
   "cell_type": "markdown",
   "id": "1cdc49b8",
   "metadata": {
    "slideshow": {
     "slide_type": "slide"
    },
    "tags": []
   },
   "source": [
    "% BODY\n",
    "<img src=\"../images/VersionControl2/VersionControl2.009.png\" width=\"100%\">"
   ]
  },
  {
   "cell_type": "markdown",
   "id": "6a96cbef",
   "metadata": {
    "slideshow": {
     "slide_type": "notes"
    },
    "tags": []
   },
   "source": [
    "% NOTES"
   ]
  },
  {
   "cell_type": "markdown",
   "id": "116f0d3b",
   "metadata": {
    "slideshow": {
     "slide_type": "skip"
    },
    "tags": []
   },
   "source": [
    "<hr>"
   ]
  },
  {
   "cell_type": "markdown",
   "id": "80b566fb",
   "metadata": {
    "slideshow": {
     "slide_type": "slide"
    },
    "tags": []
   },
   "source": [
    "% BODY\n",
    "<img src=\"../images/VersionControl2/VersionControl2.010.png\" width=\"100%\">"
   ]
  },
  {
   "cell_type": "markdown",
   "id": "85cba8dc",
   "metadata": {
    "slideshow": {
     "slide_type": "notes"
    },
    "tags": []
   },
   "source": [
    "% NOTES"
   ]
  },
  {
   "cell_type": "markdown",
   "id": "24882b0b",
   "metadata": {
    "slideshow": {
     "slide_type": "skip"
    },
    "tags": []
   },
   "source": [
    "<hr>"
   ]
  },
  {
   "cell_type": "markdown",
   "id": "c341c6f3",
   "metadata": {
    "slideshow": {
     "slide_type": "slide"
    },
    "tags": []
   },
   "source": [
    "% BODY\n",
    "<img src=\"../images/VersionControl2/VersionControl2.011.png\" width=\"100%\">"
   ]
  },
  {
   "cell_type": "markdown",
   "id": "844be7d6",
   "metadata": {
    "slideshow": {
     "slide_type": "notes"
    },
    "tags": []
   },
   "source": [
    "% NOTES"
   ]
  },
  {
   "cell_type": "markdown",
   "id": "d93beec6",
   "metadata": {
    "slideshow": {
     "slide_type": "skip"
    },
    "tags": []
   },
   "source": [
    "<hr>"
   ]
  },
  {
   "cell_type": "markdown",
   "id": "fa1f4527",
   "metadata": {
    "slideshow": {
     "slide_type": "slide"
    },
    "tags": []
   },
   "source": [
    "% BODY\n",
    "<img src=\"../images/VersionControl2/VersionControl2.012.png\" width=\"100%\">"
   ]
  },
  {
   "cell_type": "markdown",
   "id": "10dc4ad0",
   "metadata": {
    "slideshow": {
     "slide_type": "notes"
    },
    "tags": []
   },
   "source": [
    "% NOTES"
   ]
  },
  {
   "cell_type": "markdown",
   "id": "0ef44d5f",
   "metadata": {
    "slideshow": {
     "slide_type": "skip"
    },
    "tags": []
   },
   "source": [
    "<hr>"
   ]
  },
  {
   "cell_type": "markdown",
   "id": "f42293dc",
   "metadata": {
    "slideshow": {
     "slide_type": "slide"
    },
    "tags": []
   },
   "source": [
    "% BODY\n",
    "<img src=\"../images/VersionControl2/VersionControl2.013.png\" width=\"100%\">"
   ]
  },
  {
   "cell_type": "markdown",
   "id": "acc5d572",
   "metadata": {
    "slideshow": {
     "slide_type": "notes"
    },
    "tags": []
   },
   "source": [
    "% NOTES"
   ]
  },
  {
   "cell_type": "markdown",
   "id": "c8bce519",
   "metadata": {
    "slideshow": {
     "slide_type": "skip"
    },
    "tags": []
   },
   "source": [
    "<hr>"
   ]
  },
  {
   "cell_type": "markdown",
   "id": "2f1711f6",
   "metadata": {
    "slideshow": {
     "slide_type": "slide"
    },
    "tags": []
   },
   "source": [
    "% BODY\n",
    "<img src=\"../images/VersionControl2/VersionControl2.014.png\" width=\"100%\">"
   ]
  },
  {
   "cell_type": "markdown",
   "id": "15506b68",
   "metadata": {
    "slideshow": {
     "slide_type": "notes"
    },
    "tags": []
   },
   "source": [
    "% NOTES"
   ]
  },
  {
   "cell_type": "markdown",
   "id": "73d8a7c0",
   "metadata": {
    "slideshow": {
     "slide_type": "skip"
    },
    "tags": []
   },
   "source": [
    "<hr>"
   ]
  },
  {
   "cell_type": "markdown",
   "id": "21b04861",
   "metadata": {
    "slideshow": {
     "slide_type": "slide"
    },
    "tags": []
   },
   "source": [
    "% BODY\n",
    "<img src=\"../images/VersionControl2/VersionControl2.015.png\" width=\"100%\">"
   ]
  },
  {
   "cell_type": "markdown",
   "id": "81db410f",
   "metadata": {
    "slideshow": {
     "slide_type": "notes"
    },
    "tags": []
   },
   "source": [
    "% NOTES"
   ]
  },
  {
   "cell_type": "markdown",
   "id": "fa7e3fd2",
   "metadata": {
    "slideshow": {
     "slide_type": "skip"
    },
    "tags": []
   },
   "source": [
    "<hr>"
   ]
  },
  {
   "cell_type": "markdown",
   "id": "70be2f38",
   "metadata": {
    "slideshow": {
     "slide_type": "slide"
    },
    "tags": []
   },
   "source": [
    "% BODY\n",
    "<img src=\"../images/VersionControl2/VersionControl2.016.png\" width=\"100%\">"
   ]
  },
  {
   "cell_type": "markdown",
   "id": "a48e8e6a",
   "metadata": {
    "slideshow": {
     "slide_type": "notes"
    },
    "tags": []
   },
   "source": [
    "% NOTES"
   ]
  },
  {
   "cell_type": "markdown",
   "id": "cfa3bdf0",
   "metadata": {
    "slideshow": {
     "slide_type": "skip"
    },
    "tags": []
   },
   "source": [
    "<hr>"
   ]
  },
  {
   "cell_type": "markdown",
   "id": "920418ed",
   "metadata": {
    "slideshow": {
     "slide_type": "slide"
    },
    "tags": []
   },
   "source": [
    "% BODY\n",
    "<img src=\"../images/VersionControl2/VersionControl2.017.png\" width=\"100%\">"
   ]
  },
  {
   "cell_type": "markdown",
   "id": "690d107f",
   "metadata": {
    "slideshow": {
     "slide_type": "notes"
    },
    "tags": []
   },
   "source": [
    "% NOTES"
   ]
  },
  {
   "cell_type": "markdown",
   "id": "4ddd2999",
   "metadata": {
    "slideshow": {
     "slide_type": "skip"
    },
    "tags": []
   },
   "source": [
    "<hr>"
   ]
  },
  {
   "cell_type": "markdown",
   "id": "ae8a17bc",
   "metadata": {
    "slideshow": {
     "slide_type": "slide"
    },
    "tags": []
   },
   "source": [
    "% BODY\n",
    "<img src=\"../images/VersionControl2/VersionControl2.018.png\" width=\"100%\">"
   ]
  },
  {
   "cell_type": "markdown",
   "id": "0e81c194",
   "metadata": {
    "slideshow": {
     "slide_type": "notes"
    },
    "tags": []
   },
   "source": [
    "% NOTES"
   ]
  },
  {
   "cell_type": "markdown",
   "id": "e05ceb39",
   "metadata": {
    "slideshow": {
     "slide_type": "skip"
    },
    "tags": []
   },
   "source": [
    "<hr>"
   ]
  },
  {
   "cell_type": "markdown",
   "id": "710ad2ea",
   "metadata": {
    "slideshow": {
     "slide_type": "slide"
    },
    "tags": []
   },
   "source": [
    "% BODY\n",
    "<img src=\"../images/VersionControl2/VersionControl2.019.png\" width=\"100%\">"
   ]
  },
  {
   "cell_type": "markdown",
   "id": "3e1dc23c",
   "metadata": {
    "slideshow": {
     "slide_type": "notes"
    },
    "tags": []
   },
   "source": [
    "% NOTES"
   ]
  },
  {
   "cell_type": "markdown",
   "id": "524218bb",
   "metadata": {
    "slideshow": {
     "slide_type": "skip"
    },
    "tags": []
   },
   "source": [
    "<hr>"
   ]
  },
  {
   "cell_type": "markdown",
   "id": "262836ee",
   "metadata": {
    "slideshow": {
     "slide_type": "slide"
    },
    "tags": []
   },
   "source": [
    "% BODY\n",
    "<img src=\"../images/VersionControl2/VersionControl2.020.png\" width=\"100%\">"
   ]
  },
  {
   "cell_type": "markdown",
   "id": "e2beb9f2",
   "metadata": {
    "slideshow": {
     "slide_type": "notes"
    },
    "tags": []
   },
   "source": [
    "% NOTES"
   ]
  },
  {
   "cell_type": "markdown",
   "id": "44880654",
   "metadata": {
    "slideshow": {
     "slide_type": "skip"
    },
    "tags": []
   },
   "source": [
    "<hr>"
   ]
  },
  {
   "cell_type": "markdown",
   "id": "c77d32b2",
   "metadata": {
    "slideshow": {
     "slide_type": "slide"
    },
    "tags": []
   },
   "source": [
    "% BODY\n",
    "<img src=\"../images/VersionControl2/VersionControl2.021.png\" width=\"100%\">"
   ]
  },
  {
   "cell_type": "markdown",
   "id": "985f73c0",
   "metadata": {
    "slideshow": {
     "slide_type": "notes"
    },
    "tags": []
   },
   "source": [
    "% NOTES"
   ]
  },
  {
   "cell_type": "markdown",
   "id": "1fca72ca",
   "metadata": {
    "slideshow": {
     "slide_type": "skip"
    },
    "tags": []
   },
   "source": [
    "<hr>"
   ]
  },
  {
   "cell_type": "markdown",
   "id": "1750333b",
   "metadata": {
    "slideshow": {
     "slide_type": "slide"
    },
    "tags": []
   },
   "source": [
    "% BODY\n",
    "<img src=\"../images/VersionControl2/VersionControl2.022.png\" width=\"100%\">"
   ]
  },
  {
   "cell_type": "markdown",
   "id": "726a9094",
   "metadata": {
    "slideshow": {
     "slide_type": "notes"
    },
    "tags": []
   },
   "source": [
    "% NOTES"
   ]
  },
  {
   "cell_type": "markdown",
   "id": "6fab8cf6",
   "metadata": {
    "slideshow": {
     "slide_type": "skip"
    },
    "tags": []
   },
   "source": [
    "<hr>"
   ]
  },
  {
   "cell_type": "markdown",
   "id": "7c21ad59",
   "metadata": {
    "slideshow": {
     "slide_type": "slide"
    },
    "tags": []
   },
   "source": [
    "% BODY\n",
    "<img src=\"../images/VersionControl2/VersionControl2.023.png\" width=\"100%\">"
   ]
  },
  {
   "cell_type": "markdown",
   "id": "36925769",
   "metadata": {
    "slideshow": {
     "slide_type": "notes"
    },
    "tags": []
   },
   "source": [
    "% NOTES"
   ]
  },
  {
   "cell_type": "markdown",
   "id": "9326c9b0",
   "metadata": {
    "slideshow": {
     "slide_type": "skip"
    },
    "tags": []
   },
   "source": [
    "<hr>"
   ]
  },
  {
   "cell_type": "markdown",
   "id": "eb0ac46f",
   "metadata": {
    "slideshow": {
     "slide_type": "slide"
    },
    "tags": []
   },
   "source": [
    "% BODY\n",
    "<img src=\"../images/VersionControl2/VersionControl2.024.png\" width=\"100%\">"
   ]
  },
  {
   "cell_type": "markdown",
   "id": "1e94fee9",
   "metadata": {
    "slideshow": {
     "slide_type": "notes"
    },
    "tags": []
   },
   "source": [
    "% NOTES"
   ]
  },
  {
   "cell_type": "markdown",
   "id": "35678e65",
   "metadata": {
    "slideshow": {
     "slide_type": "skip"
    },
    "tags": []
   },
   "source": [
    "<hr>"
   ]
  },
  {
   "cell_type": "markdown",
   "id": "c8a06910",
   "metadata": {
    "slideshow": {
     "slide_type": "slide"
    },
    "tags": []
   },
   "source": [
    "% BODY\n",
    "<img src=\"../images/VersionControl2/VersionControl2.025.png\" width=\"100%\">"
   ]
  },
  {
   "cell_type": "markdown",
   "id": "4c54c0f0",
   "metadata": {
    "slideshow": {
     "slide_type": "notes"
    },
    "tags": []
   },
   "source": [
    "% NOTES"
   ]
  },
  {
   "cell_type": "markdown",
   "id": "5f9fc620",
   "metadata": {
    "slideshow": {
     "slide_type": "skip"
    },
    "tags": []
   },
   "source": [
    "<hr>"
   ]
  },
  {
   "cell_type": "markdown",
   "id": "cb0f71cd",
   "metadata": {
    "slideshow": {
     "slide_type": "slide"
    },
    "tags": []
   },
   "source": [
    "% BODY\n",
    "<img src=\"../images/VersionControl2/VersionControl2.026.png\" width=\"100%\">"
   ]
  },
  {
   "cell_type": "markdown",
   "id": "4ffd3909",
   "metadata": {
    "slideshow": {
     "slide_type": "notes"
    },
    "tags": []
   },
   "source": [
    "% NOTES"
   ]
  },
  {
   "cell_type": "markdown",
   "id": "c03477a8",
   "metadata": {
    "slideshow": {
     "slide_type": "skip"
    },
    "tags": []
   },
   "source": [
    "<hr>"
   ]
  },
  {
   "cell_type": "markdown",
   "id": "4da4c069",
   "metadata": {
    "slideshow": {
     "slide_type": "slide"
    },
    "tags": []
   },
   "source": [
    "% BODY\n",
    "<img src=\"../images/VersionControl2/VersionControl2.027.png\" width=\"100%\">"
   ]
  },
  {
   "cell_type": "markdown",
   "id": "f367a598",
   "metadata": {
    "slideshow": {
     "slide_type": "notes"
    },
    "tags": []
   },
   "source": [
    "% NOTES"
   ]
  },
  {
   "cell_type": "markdown",
   "id": "646c9efb",
   "metadata": {
    "slideshow": {
     "slide_type": "skip"
    },
    "tags": []
   },
   "source": [
    "<hr>"
   ]
  },
  {
   "cell_type": "markdown",
   "id": "f9f6dd33",
   "metadata": {
    "slideshow": {
     "slide_type": "slide"
    },
    "tags": []
   },
   "source": [
    "% BODY\n",
    "<img src=\"../images/VersionControl2/VersionControl2.028.png\" width=\"100%\">"
   ]
  },
  {
   "cell_type": "markdown",
   "id": "aed03119",
   "metadata": {
    "slideshow": {
     "slide_type": "notes"
    },
    "tags": []
   },
   "source": [
    "% NOTES"
   ]
  },
  {
   "cell_type": "markdown",
   "id": "0e163c4a",
   "metadata": {
    "slideshow": {
     "slide_type": "skip"
    },
    "tags": []
   },
   "source": [
    "<hr>"
   ]
  },
  {
   "cell_type": "markdown",
   "id": "8fc95fe9",
   "metadata": {
    "slideshow": {
     "slide_type": "slide"
    },
    "tags": []
   },
   "source": [
    "% BODY\n",
    "<img src=\"../images/VersionControl2/VersionControl2.029.png\" width=\"100%\">"
   ]
  },
  {
   "cell_type": "markdown",
   "id": "4b6e052f",
   "metadata": {
    "slideshow": {
     "slide_type": "notes"
    },
    "tags": []
   },
   "source": [
    "% NOTES"
   ]
  },
  {
   "cell_type": "markdown",
   "id": "67ac3d6b",
   "metadata": {
    "slideshow": {
     "slide_type": "skip"
    },
    "tags": []
   },
   "source": [
    "<hr>"
   ]
  },
  {
   "cell_type": "markdown",
   "id": "22487980",
   "metadata": {
    "slideshow": {
     "slide_type": "slide"
    },
    "tags": []
   },
   "source": [
    "% BODY\n",
    "<img src=\"../images/VersionControl2/VersionControl2.030.png\" width=\"100%\">"
   ]
  },
  {
   "cell_type": "markdown",
   "id": "e311b610",
   "metadata": {
    "slideshow": {
     "slide_type": "notes"
    },
    "tags": []
   },
   "source": [
    "% NOTES"
   ]
  },
  {
   "cell_type": "markdown",
   "id": "8ca3bfcc",
   "metadata": {
    "slideshow": {
     "slide_type": "skip"
    },
    "tags": []
   },
   "source": [
    "<hr>"
   ]
  },
  {
   "cell_type": "markdown",
   "id": "92aba60f",
   "metadata": {
    "slideshow": {
     "slide_type": "slide"
    },
    "tags": []
   },
   "source": [
    "% BODY\n",
    "<img src=\"../images/VersionControl2/VersionControl2.031.png\" width=\"100%\">"
   ]
  },
  {
   "cell_type": "markdown",
   "id": "d58a5696",
   "metadata": {
    "slideshow": {
     "slide_type": "notes"
    },
    "tags": []
   },
   "source": [
    "% NOTES"
   ]
  },
  {
   "cell_type": "markdown",
   "id": "036f8662",
   "metadata": {
    "slideshow": {
     "slide_type": "skip"
    },
    "tags": []
   },
   "source": [
    "<hr>"
   ]
  },
  {
   "cell_type": "markdown",
   "id": "a9d04c31",
   "metadata": {
    "slideshow": {
     "slide_type": "slide"
    },
    "tags": []
   },
   "source": [
    "% BODY\n",
    "<img src=\"../images/VersionControl2/VersionControl2.032.png\" width=\"100%\">"
   ]
  },
  {
   "cell_type": "markdown",
   "id": "0ce48e4f",
   "metadata": {
    "slideshow": {
     "slide_type": "notes"
    },
    "tags": []
   },
   "source": [
    "% NOTES"
   ]
  },
  {
   "cell_type": "markdown",
   "id": "fe096a55",
   "metadata": {
    "slideshow": {
     "slide_type": "skip"
    },
    "tags": []
   },
   "source": [
    "<hr>"
   ]
  },
  {
   "cell_type": "markdown",
   "id": "8dd1764b",
   "metadata": {
    "slideshow": {
     "slide_type": "slide"
    },
    "tags": []
   },
   "source": [
    "% BODY\n",
    "<img src=\"../images/VersionControl2/VersionControl2.033.png\" width=\"100%\">"
   ]
  },
  {
   "cell_type": "markdown",
   "id": "fe962a9c",
   "metadata": {
    "slideshow": {
     "slide_type": "notes"
    },
    "tags": []
   },
   "source": [
    "% NOTES"
   ]
  },
  {
   "cell_type": "markdown",
   "id": "e6569f2c",
   "metadata": {
    "slideshow": {
     "slide_type": "skip"
    },
    "tags": []
   },
   "source": [
    "<hr>"
   ]
  },
  {
   "cell_type": "markdown",
   "id": "b1521c70",
   "metadata": {
    "slideshow": {
     "slide_type": "slide"
    },
    "tags": []
   },
   "source": [
    "% BODY\n",
    "<img src=\"../images/VersionControl2/VersionControl2.034.png\" width=\"100%\">"
   ]
  },
  {
   "cell_type": "markdown",
   "id": "965a8b1b",
   "metadata": {
    "slideshow": {
     "slide_type": "notes"
    },
    "tags": []
   },
   "source": [
    "% NOTES"
   ]
  },
  {
   "cell_type": "markdown",
   "id": "7cc4ecce",
   "metadata": {
    "slideshow": {
     "slide_type": "skip"
    },
    "tags": []
   },
   "source": [
    "<hr>"
   ]
  },
  {
   "cell_type": "markdown",
   "id": "640bfe31",
   "metadata": {
    "slideshow": {
     "slide_type": "slide"
    },
    "tags": []
   },
   "source": [
    "% BODY\n",
    "<img src=\"../images/VersionControl2/VersionControl2.035.png\" width=\"100%\">"
   ]
  },
  {
   "cell_type": "markdown",
   "id": "adc56076",
   "metadata": {
    "slideshow": {
     "slide_type": "notes"
    },
    "tags": []
   },
   "source": [
    "% NOTES"
   ]
  },
  {
   "cell_type": "markdown",
   "id": "95da0a02",
   "metadata": {
    "slideshow": {
     "slide_type": "skip"
    },
    "tags": []
   },
   "source": [
    "<hr>"
   ]
  },
  {
   "cell_type": "markdown",
   "id": "15a4e5b2",
   "metadata": {
    "slideshow": {
     "slide_type": "slide"
    },
    "tags": []
   },
   "source": [
    "% BODY\n",
    "<img src=\"../images/VersionControl2/VersionControl2.036.png\" width=\"100%\">"
   ]
  },
  {
   "cell_type": "markdown",
   "id": "9d4c58ae",
   "metadata": {
    "slideshow": {
     "slide_type": "notes"
    },
    "tags": []
   },
   "source": [
    "% NOTES"
   ]
  },
  {
   "cell_type": "markdown",
   "id": "01111a7b",
   "metadata": {
    "slideshow": {
     "slide_type": "skip"
    },
    "tags": []
   },
   "source": [
    "<hr>"
   ]
  },
  {
   "cell_type": "markdown",
   "id": "7daa904b",
   "metadata": {
    "slideshow": {
     "slide_type": "slide"
    },
    "tags": []
   },
   "source": [
    "% BODY\n",
    "<img src=\"../images/VersionControl2/VersionControl2.037.png\" width=\"100%\">"
   ]
  },
  {
   "cell_type": "markdown",
   "id": "8f1b90fe",
   "metadata": {
    "slideshow": {
     "slide_type": "notes"
    },
    "tags": []
   },
   "source": [
    "% NOTES"
   ]
  },
  {
   "cell_type": "markdown",
   "id": "b7357d28",
   "metadata": {
    "slideshow": {
     "slide_type": "skip"
    },
    "tags": []
   },
   "source": [
    "<hr>"
   ]
  },
  {
   "cell_type": "markdown",
   "id": "d2d3592a",
   "metadata": {
    "slideshow": {
     "slide_type": "slide"
    },
    "tags": []
   },
   "source": [
    "% BODY\n",
    "<img src=\"../images/VersionControl2/VersionControl2.038.png\" width=\"100%\">"
   ]
  },
  {
   "cell_type": "markdown",
   "id": "24c340f3",
   "metadata": {
    "slideshow": {
     "slide_type": "notes"
    },
    "tags": []
   },
   "source": [
    "% NOTES"
   ]
  },
  {
   "cell_type": "markdown",
   "id": "afbc4493",
   "metadata": {
    "slideshow": {
     "slide_type": "skip"
    },
    "tags": []
   },
   "source": [
    "<hr>"
   ]
  },
  {
   "cell_type": "markdown",
   "id": "fa3c4c87",
   "metadata": {
    "slideshow": {
     "slide_type": "slide"
    },
    "tags": []
   },
   "source": [
    "% BODY\n",
    "<img src=\"../images/VersionControl2/VersionControl2.039.png\" width=\"100%\">"
   ]
  },
  {
   "cell_type": "markdown",
   "id": "9b828e1a",
   "metadata": {
    "slideshow": {
     "slide_type": "notes"
    },
    "tags": []
   },
   "source": [
    "% NOTES"
   ]
  },
  {
   "cell_type": "markdown",
   "id": "4b6c1109",
   "metadata": {
    "slideshow": {
     "slide_type": "skip"
    },
    "tags": []
   },
   "source": [
    "<hr>"
   ]
  },
  {
   "cell_type": "markdown",
   "id": "b42ee5fb",
   "metadata": {
    "slideshow": {
     "slide_type": "slide"
    },
    "tags": []
   },
   "source": [
    "% BODY\n",
    "<img src=\"../images/VersionControl2/VersionControl2.040.png\" width=\"100%\">"
   ]
  },
  {
   "cell_type": "markdown",
   "id": "7f935995",
   "metadata": {
    "slideshow": {
     "slide_type": "notes"
    },
    "tags": []
   },
   "source": [
    "% NOTES"
   ]
  },
  {
   "cell_type": "markdown",
   "id": "8b10d951",
   "metadata": {
    "slideshow": {
     "slide_type": "skip"
    },
    "tags": []
   },
   "source": [
    "<hr>"
   ]
  },
  {
   "cell_type": "markdown",
   "id": "85b5bc60",
   "metadata": {
    "slideshow": {
     "slide_type": "slide"
    },
    "tags": []
   },
   "source": [
    "% BODY\n",
    "<img src=\"../images/VersionControl2/VersionControl2.041.png\" width=\"100%\">"
   ]
  },
  {
   "cell_type": "markdown",
   "id": "e47750eb",
   "metadata": {
    "slideshow": {
     "slide_type": "notes"
    },
    "tags": []
   },
   "source": [
    "% NOTES"
   ]
  },
  {
   "cell_type": "markdown",
   "id": "eeda7b17",
   "metadata": {
    "slideshow": {
     "slide_type": "skip"
    },
    "tags": []
   },
   "source": [
    "<hr>"
   ]
  },
  {
   "cell_type": "markdown",
   "id": "251ae77c",
   "metadata": {
    "slideshow": {
     "slide_type": "slide"
    },
    "tags": []
   },
   "source": [
    "% BODY\n",
    "<img src=\"../images/VersionControl2/VersionControl2.042.png\" width=\"100%\">"
   ]
  },
  {
   "cell_type": "markdown",
   "id": "e2a67462",
   "metadata": {
    "slideshow": {
     "slide_type": "notes"
    },
    "tags": []
   },
   "source": [
    "% NOTES"
   ]
  },
  {
   "cell_type": "markdown",
   "id": "660d5d6a",
   "metadata": {
    "slideshow": {
     "slide_type": "skip"
    },
    "tags": []
   },
   "source": [
    "<hr>"
   ]
  },
  {
   "cell_type": "markdown",
   "id": "c9ed181b",
   "metadata": {
    "slideshow": {
     "slide_type": "slide"
    },
    "tags": []
   },
   "source": [
    "% BODY\n",
    "<img src=\"../images/VersionControl2/VersionControl2.043.png\" width=\"100%\">"
   ]
  },
  {
   "cell_type": "markdown",
   "id": "faeb33e2",
   "metadata": {
    "slideshow": {
     "slide_type": "notes"
    },
    "tags": []
   },
   "source": [
    "% NOTES"
   ]
  },
  {
   "cell_type": "markdown",
   "id": "97a98ce8",
   "metadata": {
    "slideshow": {
     "slide_type": "skip"
    },
    "tags": []
   },
   "source": [
    "<hr>"
   ]
  },
  {
   "cell_type": "markdown",
   "id": "cf090d34",
   "metadata": {
    "slideshow": {
     "slide_type": "slide"
    },
    "tags": []
   },
   "source": [
    "% BODY\n",
    "<img src=\"../images/VersionControl2/VersionControl2.044.png\" width=\"100%\">"
   ]
  },
  {
   "cell_type": "markdown",
   "id": "ed788fdd",
   "metadata": {
    "slideshow": {
     "slide_type": "notes"
    },
    "tags": []
   },
   "source": [
    "% NOTES"
   ]
  },
  {
   "cell_type": "markdown",
   "id": "5af2aa43",
   "metadata": {
    "slideshow": {
     "slide_type": "skip"
    },
    "tags": []
   },
   "source": [
    "<hr>"
   ]
  },
  {
   "cell_type": "markdown",
   "id": "337ce403",
   "metadata": {
    "slideshow": {
     "slide_type": "slide"
    },
    "tags": []
   },
   "source": [
    "% BODY\n",
    "<img src=\"../images/VersionControl2/VersionControl2.045.png\" width=\"100%\">"
   ]
  },
  {
   "cell_type": "markdown",
   "id": "81f4c117",
   "metadata": {
    "slideshow": {
     "slide_type": "notes"
    },
    "tags": []
   },
   "source": [
    "% NOTES"
   ]
  },
  {
   "cell_type": "markdown",
   "id": "70290e85",
   "metadata": {
    "slideshow": {
     "slide_type": "skip"
    },
    "tags": []
   },
   "source": [
    "<hr>"
   ]
  },
  {
   "cell_type": "markdown",
   "id": "cb2b6348",
   "metadata": {
    "slideshow": {
     "slide_type": "slide"
    },
    "tags": []
   },
   "source": [
    "% BODY\n",
    "<img src=\"../images/VersionControl2/VersionControl2.046.png\" width=\"100%\">"
   ]
  },
  {
   "cell_type": "markdown",
   "id": "0a8bf184",
   "metadata": {
    "slideshow": {
     "slide_type": "notes"
    },
    "tags": []
   },
   "source": [
    "% NOTES"
   ]
  },
  {
   "cell_type": "markdown",
   "id": "b2da8289",
   "metadata": {
    "slideshow": {
     "slide_type": "skip"
    },
    "tags": []
   },
   "source": [
    "<hr>"
   ]
  },
  {
   "cell_type": "markdown",
   "id": "c0d3d051",
   "metadata": {
    "slideshow": {
     "slide_type": "slide"
    },
    "tags": []
   },
   "source": [
    "% BODY\n",
    "<img src=\"../images/VersionControl2/VersionControl2.047.png\" width=\"100%\">"
   ]
  },
  {
   "cell_type": "markdown",
   "id": "4329c830",
   "metadata": {
    "slideshow": {
     "slide_type": "notes"
    },
    "tags": []
   },
   "source": [
    "% NOTES"
   ]
  },
  {
   "cell_type": "markdown",
   "id": "5e0a6f7e",
   "metadata": {
    "slideshow": {
     "slide_type": "skip"
    },
    "tags": []
   },
   "source": [
    "<hr>"
   ]
  },
  {
   "cell_type": "markdown",
   "id": "2e01a03e",
   "metadata": {
    "slideshow": {
     "slide_type": "slide"
    },
    "tags": []
   },
   "source": [
    "% BODY\n",
    "<img src=\"../images/VersionControl2/VersionControl2.048.png\" width=\"100%\">"
   ]
  },
  {
   "cell_type": "markdown",
   "id": "07bd31d5",
   "metadata": {
    "slideshow": {
     "slide_type": "notes"
    },
    "tags": []
   },
   "source": [
    "% NOTES"
   ]
  },
  {
   "cell_type": "markdown",
   "id": "a89b2822",
   "metadata": {
    "slideshow": {
     "slide_type": "skip"
    },
    "tags": []
   },
   "source": [
    "<hr>"
   ]
  },
  {
   "cell_type": "markdown",
   "id": "4623d420",
   "metadata": {
    "slideshow": {
     "slide_type": "slide"
    },
    "tags": []
   },
   "source": [
    "% BODY\n",
    "<img src=\"../images/VersionControl2/VersionControl2.049.png\" width=\"100%\">"
   ]
  },
  {
   "cell_type": "markdown",
   "id": "2a213ebe",
   "metadata": {
    "slideshow": {
     "slide_type": "notes"
    },
    "tags": []
   },
   "source": [
    "% NOTES"
   ]
  },
  {
   "cell_type": "markdown",
   "id": "50ab3ceb",
   "metadata": {
    "slideshow": {
     "slide_type": "skip"
    },
    "tags": []
   },
   "source": [
    "<hr>"
   ]
  },
  {
   "cell_type": "markdown",
   "id": "0c15226d",
   "metadata": {
    "slideshow": {
     "slide_type": "slide"
    },
    "tags": []
   },
   "source": [
    "% BODY\n",
    "<img src=\"../images/VersionControl2/VersionControl2.050.png\" width=\"100%\">"
   ]
  },
  {
   "cell_type": "markdown",
   "id": "abf580ba",
   "metadata": {
    "slideshow": {
     "slide_type": "notes"
    },
    "tags": []
   },
   "source": [
    "% NOTES"
   ]
  },
  {
   "cell_type": "markdown",
   "id": "f52dd821",
   "metadata": {
    "slideshow": {
     "slide_type": "skip"
    },
    "tags": []
   },
   "source": [
    "<hr>"
   ]
  },
  {
   "cell_type": "markdown",
   "id": "84a277f4",
   "metadata": {
    "slideshow": {
     "slide_type": "slide"
    },
    "tags": []
   },
   "source": [
    "% BODY\n",
    "<img src=\"../images/VersionControl2/VersionControl2.051.png\" width=\"100%\">"
   ]
  },
  {
   "cell_type": "markdown",
   "id": "b023a1c1",
   "metadata": {
    "slideshow": {
     "slide_type": "notes"
    },
    "tags": []
   },
   "source": [
    "% NOTES"
   ]
  },
  {
   "cell_type": "markdown",
   "id": "880e27f0",
   "metadata": {
    "slideshow": {
     "slide_type": "skip"
    },
    "tags": []
   },
   "source": [
    "<hr>"
   ]
  },
  {
   "cell_type": "markdown",
   "id": "81f2ec8c",
   "metadata": {
    "slideshow": {
     "slide_type": "slide"
    },
    "tags": []
   },
   "source": [
    "% BODY\n",
    "<img src=\"../images/VersionControl2/VersionControl2.052.png\" width=\"100%\">"
   ]
  },
  {
   "cell_type": "markdown",
   "id": "c5ccae17",
   "metadata": {
    "slideshow": {
     "slide_type": "notes"
    },
    "tags": []
   },
   "source": [
    "% NOTES"
   ]
  },
  {
   "cell_type": "markdown",
   "id": "25377a52",
   "metadata": {
    "slideshow": {
     "slide_type": "skip"
    },
    "tags": []
   },
   "source": [
    "<hr>"
   ]
  },
  {
   "cell_type": "markdown",
   "id": "296f0844",
   "metadata": {
    "slideshow": {
     "slide_type": "slide"
    },
    "tags": []
   },
   "source": [
    "% BODY\n",
    "<img src=\"../images/VersionControl2/VersionControl2.053.png\" width=\"100%\">"
   ]
  },
  {
   "cell_type": "markdown",
   "id": "63b04191",
   "metadata": {
    "slideshow": {
     "slide_type": "notes"
    },
    "tags": []
   },
   "source": [
    "% NOTES"
   ]
  },
  {
   "cell_type": "markdown",
   "id": "e7734fa4",
   "metadata": {
    "slideshow": {
     "slide_type": "skip"
    },
    "tags": []
   },
   "source": [
    "<hr>"
   ]
  },
  {
   "cell_type": "markdown",
   "id": "f95dd6ca",
   "metadata": {
    "slideshow": {
     "slide_type": "slide"
    },
    "tags": []
   },
   "source": [
    "% BODY\n",
    "<img src=\"../images/VersionControl2/VersionControl2.054.png\" width=\"100%\">"
   ]
  },
  {
   "cell_type": "markdown",
   "id": "fd860d8b",
   "metadata": {
    "slideshow": {
     "slide_type": "notes"
    },
    "tags": []
   },
   "source": [
    "% NOTES"
   ]
  },
  {
   "cell_type": "markdown",
   "id": "33d77661",
   "metadata": {
    "slideshow": {
     "slide_type": "skip"
    },
    "tags": []
   },
   "source": [
    "<hr>"
   ]
  },
  {
   "cell_type": "markdown",
   "id": "7281a387",
   "metadata": {
    "slideshow": {
     "slide_type": "slide"
    },
    "tags": []
   },
   "source": [
    "% BODY\n",
    "<img src=\"../images/VersionControl2/VersionControl2.055.png\" width=\"100%\">"
   ]
  },
  {
   "cell_type": "markdown",
   "id": "2e9a1d1e",
   "metadata": {
    "slideshow": {
     "slide_type": "notes"
    },
    "tags": []
   },
   "source": [
    "% NOTES"
   ]
  },
  {
   "cell_type": "markdown",
   "id": "8760d439",
   "metadata": {
    "slideshow": {
     "slide_type": "skip"
    },
    "tags": []
   },
   "source": [
    "<hr>"
   ]
  },
  {
   "cell_type": "markdown",
   "id": "6dcbbcc1",
   "metadata": {
    "slideshow": {
     "slide_type": "slide"
    },
    "tags": []
   },
   "source": [
    "% BODY\n",
    "<img src=\"../images/VersionControl2/VersionControl2.056.png\" width=\"100%\">"
   ]
  },
  {
   "cell_type": "markdown",
   "id": "51658ec3",
   "metadata": {
    "slideshow": {
     "slide_type": "notes"
    },
    "tags": []
   },
   "source": [
    "% NOTES"
   ]
  },
  {
   "cell_type": "markdown",
   "id": "3380a50c",
   "metadata": {
    "slideshow": {
     "slide_type": "skip"
    },
    "tags": []
   },
   "source": [
    "<hr>"
   ]
  },
  {
   "cell_type": "markdown",
   "id": "1d5f026d",
   "metadata": {
    "slideshow": {
     "slide_type": "slide"
    },
    "tags": []
   },
   "source": [
    "% BODY\n",
    "<img src=\"../images/VersionControl2/VersionControl2.057.png\" width=\"100%\">"
   ]
  },
  {
   "cell_type": "markdown",
   "id": "46a8207a",
   "metadata": {
    "slideshow": {
     "slide_type": "notes"
    },
    "tags": []
   },
   "source": [
    "% NOTES"
   ]
  }
 ],
 "metadata": {
  "kernelspec": {
   "display_name": "Python 3 (ipykernel)",
   "language": "python",
   "name": "python3"
  },
  "language_info": {
   "codemirror_mode": {
    "name": "ipython",
    "version": 3
   },
   "file_extension": ".py",
   "mimetype": "text/x-python",
   "name": "python",
   "nbconvert_exporter": "python",
   "pygments_lexer": "ipython3",
   "version": "3.10.5"
  },
  "rise": {
   "autolaunch": false,
   "enable_chalkboard": true,
   "footer": "UCSLS -- Lecture 5a",
   "header": "Version Control: GIT Part II",
   "height": "100%",
   "scroll": true,
   "start_slideshow_at": "selected",
   "transition": "none",
   "width": "100%"
  }
 },
 "nbformat": 4,
 "nbformat_minor": 5
}
