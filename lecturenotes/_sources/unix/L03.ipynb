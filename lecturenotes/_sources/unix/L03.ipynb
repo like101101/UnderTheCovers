{
 "cells": [
  {
   "cell_type": "markdown",
   "id": "8989fc4e-b897-40c8-a455-2a869421b7f6",
   "metadata": {
    "slideshow": {
     "slide_type": "skip"
    },
    "tags": []
   },
   "source": [
    "# UNIX Process, I/O and Credentials"
   ]
  },
  {
   "cell_type": "markdown",
   "id": "5151d619",
   "metadata": {
    "slideshow": {
     "slide_type": "skip"
    },
    "tags": []
   },
   "source": [
    "<hr>"
   ]
  },
  {
   "cell_type": "markdown",
   "id": "b6238049",
   "metadata": {
    "slideshow": {
     "slide_type": "slide"
    },
    "tags": []
   },
   "source": [
    "% BODY\n",
    "<img src=\"../images/Processes/Processes.001.png\" width=\"100%\">"
   ]
  },
  {
   "cell_type": "markdown",
   "id": "60339d11-a707-4741-b293-59e7257096eb",
   "metadata": {
    "slideshow": {
     "slide_type": "skip"
    },
    "tags": []
   },
   "source": [
    "<hr>"
   ]
  },
  {
   "cell_type": "markdown",
   "id": "14016ede-cb15-4c86-bd24-6b72f6341b84",
   "metadata": {
    "slideshow": {
     "slide_type": "slide"
    },
    "tags": []
   },
   "source": [
    "<img  src=\"../images/syscalls.png\" width=\"100%\" style=\"border:0px; margin: 0px 0px; background-color: #00000000; display: block; margin-left: auto; margin-right: auto;\">"
   ]
  },
  {
   "cell_type": "markdown",
   "id": "beb5ebe8-9a9e-4907-bc9b-241366a6c671",
   "metadata": {
    "slideshow": {
     "slide_type": "slide"
    },
    "tags": []
   },
   "source": [
    "## Processes, Files and Streams\n",
    "\n",
    "\n",
    "### What is a process in more detail and what can it do\n",
    "\n",
    "- a running program \n",
    "  - process can launch another processes\n",
    "     - bash is implemented to  start commands as process (when needed)\n",
    "     - passes command line arguments and environment variables"
   ]
  },
  {
   "cell_type": "markdown",
   "id": "987b92c9",
   "metadata": {
    "slideshow": {
     "slide_type": "notes"
    },
    "tags": []
   },
   "source": [
    "% NOTES"
   ]
  },
  {
   "cell_type": "markdown",
   "id": "f5486cd3",
   "metadata": {
    "slideshow": {
     "slide_type": "skip"
    },
    "tags": []
   },
   "source": [
    "<hr>"
   ]
  },
  {
   "cell_type": "markdown",
   "id": "bd30da5e",
   "metadata": {
    "slideshow": {
     "slide_type": "slide"
    },
    "tags": []
   },
   "source": [
    "% BODY\n",
    "<img src=\"../images/Processes/Processes.002.png\" width=\"100%\">"
   ]
  },
  {
   "cell_type": "markdown",
   "id": "18fc4f25",
   "metadata": {
    "slideshow": {
     "slide_type": "notes"
    },
    "tags": []
   },
   "source": [
    "% NOTES"
   ]
  },
  {
   "cell_type": "markdown",
   "id": "9b57b932",
   "metadata": {
    "slideshow": {
     "slide_type": "skip"
    },
    "tags": []
   },
   "source": [
    "<hr>"
   ]
  },
  {
   "cell_type": "markdown",
   "id": "ff0d10cb",
   "metadata": {
    "slideshow": {
     "slide_type": "slide"
    },
    "tags": []
   },
   "source": [
    "% BODY\n",
    "<img src=\"../images/Processes/Processes.003.png\" width=\"100%\">"
   ]
  },
  {
   "cell_type": "markdown",
   "id": "8712e5ae",
   "metadata": {
    "slideshow": {
     "slide_type": "notes"
    },
    "tags": []
   },
   "source": [
    "% NOTES"
   ]
  },
  {
   "cell_type": "markdown",
   "id": "93230131",
   "metadata": {
    "slideshow": {
     "slide_type": "skip"
    },
    "tags": []
   },
   "source": [
    "<hr>"
   ]
  },
  {
   "cell_type": "markdown",
   "id": "220f4dcd",
   "metadata": {
    "slideshow": {
     "slide_type": "slide"
    },
    "tags": []
   },
   "source": [
    "% BODY\n",
    "<img src=\"../images/Processes/Processes.004.png\" width=\"100%\">"
   ]
  },
  {
   "cell_type": "markdown",
   "id": "f7719bdc",
   "metadata": {
    "slideshow": {
     "slide_type": "notes"
    },
    "tags": []
   },
   "source": [
    "% NOTES"
   ]
  },
  {
   "cell_type": "markdown",
   "id": "ef4f714c",
   "metadata": {
    "slideshow": {
     "slide_type": "skip"
    },
    "tags": []
   },
   "source": [
    "<hr>"
   ]
  },
  {
   "cell_type": "markdown",
   "id": "af2e8527",
   "metadata": {
    "slideshow": {
     "slide_type": "slide"
    },
    "tags": []
   },
   "source": [
    "% BODY\n",
    "<img src=\"../images/Processes/Processes.005.png\" width=\"100%\">"
   ]
  },
  {
   "cell_type": "markdown",
   "id": "1571d12c",
   "metadata": {
    "slideshow": {
     "slide_type": "notes"
    },
    "tags": []
   },
   "source": [
    "% NOTES"
   ]
  },
  {
   "cell_type": "markdown",
   "id": "17e9ea9c",
   "metadata": {
    "slideshow": {
     "slide_type": "skip"
    },
    "tags": []
   },
   "source": [
    "<hr>"
   ]
  },
  {
   "cell_type": "markdown",
   "id": "f0db2298",
   "metadata": {
    "slideshow": {
     "slide_type": "slide"
    },
    "tags": []
   },
   "source": [
    "% BODY\n",
    "<img src=\"../images/Processes/Processes.006.png\" width=\"100%\">"
   ]
  },
  {
   "cell_type": "markdown",
   "id": "63ac856c-d661-40f4-b13a-88ccdb8aeaa3",
   "metadata": {
    "slideshow": {
     "slide_type": "slide"
    },
    "tags": []
   },
   "source": [
    "### Processes, Files and channel/stream model of I/O\n",
    "\n",
    "#### Files and Kernel objects\n",
    "\n",
    "- read, write\n",
    "- everything is a file"
   ]
  },
  {
   "cell_type": "markdown",
   "id": "162d8bd3",
   "metadata": {
    "slideshow": {
     "slide_type": "notes"
    },
    "tags": []
   },
   "source": [
    "% NOTES"
   ]
  },
  {
   "cell_type": "markdown",
   "id": "3ce6d6a7",
   "metadata": {
    "slideshow": {
     "slide_type": "skip"
    },
    "tags": []
   },
   "source": [
    "<hr>"
   ]
  },
  {
   "cell_type": "markdown",
   "id": "0bc59932",
   "metadata": {
    "slideshow": {
     "slide_type": "slide"
    },
    "tags": []
   },
   "source": [
    "% BODY\n",
    "<img src=\"../images/Processes/Processes.007.png\" width=\"100%\">"
   ]
  },
  {
   "cell_type": "markdown",
   "id": "e596eace",
   "metadata": {
    "slideshow": {
     "slide_type": "notes"
    },
    "tags": []
   },
   "source": [
    "% NOTES"
   ]
  },
  {
   "cell_type": "markdown",
   "id": "992e7f8c",
   "metadata": {
    "slideshow": {
     "slide_type": "skip"
    },
    "tags": []
   },
   "source": [
    "<hr>"
   ]
  },
  {
   "cell_type": "markdown",
   "id": "7b53f668",
   "metadata": {
    "slideshow": {
     "slide_type": "slide"
    },
    "tags": []
   },
   "source": [
    "% BODY\n",
    "<img src=\"../images/Processes/Processes.008.png\" width=\"100%\">"
   ]
  },
  {
   "cell_type": "markdown",
   "id": "7c834859",
   "metadata": {
    "slideshow": {
     "slide_type": "notes"
    },
    "tags": []
   },
   "source": [
    "% NOTES"
   ]
  },
  {
   "cell_type": "markdown",
   "id": "0b1f1f26",
   "metadata": {
    "slideshow": {
     "slide_type": "skip"
    },
    "tags": []
   },
   "source": [
    "<hr>"
   ]
  },
  {
   "cell_type": "markdown",
   "id": "6b28e5fe",
   "metadata": {
    "slideshow": {
     "slide_type": "slide"
    },
    "tags": []
   },
   "source": [
    "% BODY\n",
    "<img src=\"../images/Processes/Processes.009.png\" width=\"100%\">"
   ]
  },
  {
   "cell_type": "markdown",
   "id": "c602e177",
   "metadata": {
    "slideshow": {
     "slide_type": "notes"
    },
    "tags": []
   },
   "source": [
    "% NOTES"
   ]
  },
  {
   "cell_type": "markdown",
   "id": "af88c983",
   "metadata": {
    "slideshow": {
     "slide_type": "skip"
    },
    "tags": []
   },
   "source": [
    "<hr>"
   ]
  },
  {
   "cell_type": "markdown",
   "id": "fce3e686",
   "metadata": {
    "slideshow": {
     "slide_type": "slide"
    },
    "tags": []
   },
   "source": [
    "% BODY\n",
    "<img src=\"../images/Processes/Processes.010.png\" width=\"100%\">"
   ]
  },
  {
   "cell_type": "markdown",
   "id": "036a6230-3227-40dd-bedf-f43fc241a999",
   "metadata": {
    "slideshow": {
     "slide_type": "slide"
    },
    "tags": []
   },
   "source": [
    "### Streams: Processes and Files\n",
    "\n",
    "- open :  attach a file as a stream\n",
    "- file descriptors/handles : stream\n",
    "   - read and write bytes to a stream\n",
    "   - close\n",
    "   - dup\n",
    "- standard input, standard output, standard error"
   ]
  },
  {
   "cell_type": "markdown",
   "id": "a069d429",
   "metadata": {
    "slideshow": {
     "slide_type": "notes"
    },
    "tags": []
   },
   "source": [
    "% NOTES"
   ]
  },
  {
   "cell_type": "markdown",
   "id": "847a4a02",
   "metadata": {
    "slideshow": {
     "slide_type": "skip"
    },
    "tags": []
   },
   "source": [
    "<hr>"
   ]
  },
  {
   "cell_type": "markdown",
   "id": "171ecd26",
   "metadata": {
    "slideshow": {
     "slide_type": "slide"
    },
    "tags": []
   },
   "source": [
    "% BODY\n",
    "<img src=\"../images/Processes/Processes.011.png\" width=\"100%\">"
   ]
  },
  {
   "cell_type": "markdown",
   "id": "a9b31e49",
   "metadata": {
    "slideshow": {
     "slide_type": "notes"
    },
    "tags": []
   },
   "source": [
    "% NOTES"
   ]
  },
  {
   "cell_type": "markdown",
   "id": "c474cd6b",
   "metadata": {
    "slideshow": {
     "slide_type": "skip"
    },
    "tags": []
   },
   "source": [
    "<hr>"
   ]
  },
  {
   "cell_type": "markdown",
   "id": "24bec85d",
   "metadata": {
    "slideshow": {
     "slide_type": "slide"
    },
    "tags": []
   },
   "source": [
    "% BODY\n",
    "<img src=\"../images/Processes/Processes.012.png\" width=\"100%\">"
   ]
  },
  {
   "cell_type": "markdown",
   "id": "f498cf48",
   "metadata": {
    "slideshow": {
     "slide_type": "notes"
    },
    "tags": []
   },
   "source": [
    "% NOTES"
   ]
  },
  {
   "cell_type": "markdown",
   "id": "95ce66e8",
   "metadata": {
    "slideshow": {
     "slide_type": "skip"
    },
    "tags": []
   },
   "source": [
    "<hr>"
   ]
  },
  {
   "cell_type": "markdown",
   "id": "72b3f2c3",
   "metadata": {
    "slideshow": {
     "slide_type": "slide"
    },
    "tags": []
   },
   "source": [
    "% BODY\n",
    "<img src=\"../images/Processes/Processes.013.png\" width=\"100%\">"
   ]
  },
  {
   "cell_type": "markdown",
   "id": "73771bcf",
   "metadata": {
    "slideshow": {
     "slide_type": "notes"
    },
    "tags": []
   },
   "source": [
    "% NOTES"
   ]
  },
  {
   "cell_type": "markdown",
   "id": "815591ec",
   "metadata": {
    "slideshow": {
     "slide_type": "skip"
    },
    "tags": []
   },
   "source": [
    "<hr>"
   ]
  },
  {
   "cell_type": "markdown",
   "id": "17e5d180",
   "metadata": {
    "slideshow": {
     "slide_type": "slide"
    },
    "tags": []
   },
   "source": [
    "% BODY\n",
    "<img src=\"../images/Processes/Processes.014.png\" width=\"100%\">"
   ]
  },
  {
   "cell_type": "markdown",
   "id": "e0f21edb",
   "metadata": {
    "slideshow": {
     "slide_type": "notes"
    },
    "tags": []
   },
   "source": [
    "% NOTES"
   ]
  },
  {
   "cell_type": "markdown",
   "id": "bd77e51f",
   "metadata": {
    "slideshow": {
     "slide_type": "skip"
    },
    "tags": []
   },
   "source": [
    "<hr>"
   ]
  },
  {
   "cell_type": "markdown",
   "id": "b931546b",
   "metadata": {
    "slideshow": {
     "slide_type": "slide"
    },
    "tags": []
   },
   "source": [
    "% BODY\n",
    "<img src=\"../images/Processes/Processes.015.png\" width=\"100%\">"
   ]
  },
  {
   "cell_type": "markdown",
   "id": "76452933",
   "metadata": {
    "slideshow": {
     "slide_type": "notes"
    },
    "tags": []
   },
   "source": [
    "% NOTES"
   ]
  },
  {
   "cell_type": "markdown",
   "id": "29370c3d",
   "metadata": {
    "slideshow": {
     "slide_type": "skip"
    },
    "tags": []
   },
   "source": [
    "<hr>"
   ]
  },
  {
   "cell_type": "markdown",
   "id": "22c7cb1b",
   "metadata": {
    "slideshow": {
     "slide_type": "slide"
    },
    "tags": []
   },
   "source": [
    "% BODY\n",
    "<img src=\"../images/Processes/Processes.016.png\" width=\"100%\">"
   ]
  },
  {
   "cell_type": "markdown",
   "id": "69a687bd",
   "metadata": {
    "slideshow": {
     "slide_type": "notes"
    },
    "tags": []
   },
   "source": [
    "% NOTES"
   ]
  },
  {
   "cell_type": "markdown",
   "id": "793c8b33",
   "metadata": {
    "slideshow": {
     "slide_type": "skip"
    },
    "tags": []
   },
   "source": [
    "<hr>"
   ]
  },
  {
   "cell_type": "markdown",
   "id": "48904464",
   "metadata": {
    "slideshow": {
     "slide_type": "slide"
    },
    "tags": []
   },
   "source": [
    "% BODY\n",
    "<img src=\"../images/Processes/Processes.017.png\" width=\"100%\">"
   ]
  },
  {
   "cell_type": "markdown",
   "id": "080731bf",
   "metadata": {
    "slideshow": {
     "slide_type": "notes"
    },
    "tags": []
   },
   "source": [
    "% NOTES"
   ]
  },
  {
   "cell_type": "markdown",
   "id": "6b999949",
   "metadata": {
    "slideshow": {
     "slide_type": "skip"
    },
    "tags": []
   },
   "source": [
    "<hr>"
   ]
  },
  {
   "cell_type": "markdown",
   "id": "61b36c72",
   "metadata": {
    "slideshow": {
     "slide_type": "slide"
    },
    "tags": []
   },
   "source": [
    "% BODY\n",
    "<img src=\"../images/Processes/Processes.018.png\" width=\"100%\">"
   ]
  },
  {
   "cell_type": "markdown",
   "id": "2f62cc47-535d-4b1f-b3a5-65c4fd0262c4",
   "metadata": {
    "slideshow": {
     "slide_type": "slide"
    },
    "tags": []
   },
   "source": [
    "### Shell Syntax:  \n",
    "  \n",
    "- `echo 'Hello world' > hello`\n",
    "- `cat hello`\n",
    "- `cat < ./hello"
   ]
  },
  {
   "cell_type": "markdown",
   "id": "72425f39",
   "metadata": {
    "slideshow": {
     "slide_type": "notes"
    },
    "tags": []
   },
   "source": [
    "% NOTES"
   ]
  },
  {
   "cell_type": "markdown",
   "id": "7c77746b",
   "metadata": {
    "slideshow": {
     "slide_type": "skip"
    },
    "tags": []
   },
   "source": [
    "<hr>"
   ]
  },
  {
   "cell_type": "markdown",
   "id": "089d7603",
   "metadata": {
    "slideshow": {
     "slide_type": "slide"
    },
    "tags": []
   },
   "source": [
    "% BODY\n",
    "<img src=\"../images/Processes/Processes.019.png\" width=\"100%\">"
   ]
  },
  {
   "cell_type": "markdown",
   "id": "d1d74821",
   "metadata": {
    "slideshow": {
     "slide_type": "notes"
    },
    "tags": []
   },
   "source": [
    "% NOTES"
   ]
  },
  {
   "cell_type": "markdown",
   "id": "7cdcb313",
   "metadata": {
    "slideshow": {
     "slide_type": "skip"
    },
    "tags": []
   },
   "source": [
    "<hr>"
   ]
  },
  {
   "cell_type": "markdown",
   "id": "a2e71682",
   "metadata": {
    "slideshow": {
     "slide_type": "slide"
    },
    "tags": []
   },
   "source": [
    "% BODY\n",
    "<img src=\"../images/Processes/Processes.020.png\" width=\"100%\">"
   ]
  },
  {
   "cell_type": "markdown",
   "id": "c26b1c32-73e1-44dd-b22e-efae61d1933a",
   "metadata": {
    "slideshow": {
     "slide_type": "skip"
    },
    "tags": []
   },
   "source": [
    "<hr>"
   ]
  },
  {
   "cell_type": "markdown",
   "id": "c250ac20-f62f-4116-9c30-362c4ebaf28a",
   "metadata": {
    "slideshow": {
     "slide_type": "slide"
    },
    "tags": []
   },
   "source": [
    "### We now can understand what a pipe is\n",
    "\n",
    "- pipe file object\n",
    "  -  Process 1 stdout into pipe and Process 2 stdin from pipe\n",
    "  \n",
    "### Shell Syntax:\n",
    "\n",
    "- 'ls -1 | wc -l' \n",
    "- 'ls -1 | grep '^l*' | wc -l' \n",
    "- `mknod mypipe p` and `mkfifo mypipe`"
   ]
  },
  {
   "cell_type": "markdown",
   "id": "c9a1bbbb",
   "metadata": {
    "slideshow": {
     "slide_type": "notes"
    },
    "tags": []
   },
   "source": [
    "% NOTES"
   ]
  },
  {
   "cell_type": "markdown",
   "id": "eff1532b",
   "metadata": {
    "slideshow": {
     "slide_type": "skip"
    },
    "tags": []
   },
   "source": [
    "<hr>"
   ]
  },
  {
   "cell_type": "markdown",
   "id": "001a2a5e",
   "metadata": {
    "slideshow": {
     "slide_type": "slide"
    },
    "tags": []
   },
   "source": [
    "% BODY\n",
    "<img src=\"../images/Processes/Processes.021.png\" width=\"100%\">"
   ]
  },
  {
   "cell_type": "markdown",
   "id": "893681be",
   "metadata": {
    "slideshow": {
     "slide_type": "notes"
    },
    "tags": []
   },
   "source": [
    "% NOTES"
   ]
  },
  {
   "cell_type": "markdown",
   "id": "6c67d203",
   "metadata": {
    "slideshow": {
     "slide_type": "skip"
    },
    "tags": []
   },
   "source": [
    "<hr>"
   ]
  },
  {
   "cell_type": "markdown",
   "id": "23e80dae",
   "metadata": {
    "slideshow": {
     "slide_type": "slide"
    },
    "tags": []
   },
   "source": [
    "% BODY\n",
    "<img src=\"../images/Processes/Processes.022.png\" width=\"100%\">"
   ]
  },
  {
   "cell_type": "markdown",
   "id": "662199a0",
   "metadata": {
    "slideshow": {
     "slide_type": "notes"
    },
    "tags": []
   },
   "source": [
    "% NOTES"
   ]
  },
  {
   "cell_type": "markdown",
   "id": "7cc83e85",
   "metadata": {
    "slideshow": {
     "slide_type": "skip"
    },
    "tags": []
   },
   "source": [
    "<hr>"
   ]
  },
  {
   "cell_type": "markdown",
   "id": "3c6013f0",
   "metadata": {
    "slideshow": {
     "slide_type": "slide"
    },
    "tags": []
   },
   "source": [
    "% BODY\n",
    "<img src=\"../images/Processes/Processes.023.png\" width=\"100%\">"
   ]
  },
  {
   "cell_type": "markdown",
   "id": "8b95fd80",
   "metadata": {
    "slideshow": {
     "slide_type": "notes"
    },
    "tags": []
   },
   "source": [
    "% NOTES"
   ]
  },
  {
   "cell_type": "markdown",
   "id": "b331e4d9",
   "metadata": {
    "slideshow": {
     "slide_type": "skip"
    },
    "tags": []
   },
   "source": [
    "<hr>"
   ]
  },
  {
   "cell_type": "markdown",
   "id": "2c7263fd",
   "metadata": {
    "slideshow": {
     "slide_type": "slide"
    },
    "tags": []
   },
   "source": [
    "% BODY\n",
    "<img src=\"../images/Processes/Processes.024.png\" width=\"100%\">"
   ]
  },
  {
   "cell_type": "markdown",
   "id": "257a5b6d",
   "metadata": {
    "slideshow": {
     "slide_type": "notes"
    },
    "tags": []
   },
   "source": [
    "% NOTES"
   ]
  },
  {
   "cell_type": "markdown",
   "id": "a8929472",
   "metadata": {
    "slideshow": {
     "slide_type": "skip"
    },
    "tags": []
   },
   "source": [
    "<hr>"
   ]
  },
  {
   "cell_type": "markdown",
   "id": "ac933830",
   "metadata": {
    "slideshow": {
     "slide_type": "slide"
    },
    "tags": []
   },
   "source": [
    "% BODY\n",
    "<img src=\"../images/Processes/Processes.025.png\" width=\"100%\">"
   ]
  },
  {
   "cell_type": "markdown",
   "id": "52137e3e",
   "metadata": {
    "slideshow": {
     "slide_type": "notes"
    },
    "tags": []
   },
   "source": [
    "% NOTES"
   ]
  },
  {
   "cell_type": "markdown",
   "id": "bc1d0b37",
   "metadata": {
    "slideshow": {
     "slide_type": "skip"
    },
    "tags": []
   },
   "source": [
    "<hr>"
   ]
  },
  {
   "cell_type": "markdown",
   "id": "537d0855",
   "metadata": {
    "slideshow": {
     "slide_type": "slide"
    },
    "tags": []
   },
   "source": [
    "% BODY\n",
    "<img src=\"../images/Processes/Processes.026.png\" width=\"100%\">"
   ]
  },
  {
   "cell_type": "markdown",
   "id": "77522940",
   "metadata": {
    "slideshow": {
     "slide_type": "notes"
    },
    "tags": []
   },
   "source": [
    "% NOTES"
   ]
  },
  {
   "cell_type": "markdown",
   "id": "c824c485",
   "metadata": {
    "slideshow": {
     "slide_type": "skip"
    },
    "tags": []
   },
   "source": [
    "<hr>"
   ]
  },
  {
   "cell_type": "markdown",
   "id": "dd0520af",
   "metadata": {
    "slideshow": {
     "slide_type": "slide"
    },
    "tags": []
   },
   "source": [
    "% BODY\n",
    "<img src=\"../images/Processes/Processes.027.png\" width=\"100%\">"
   ]
  },
  {
   "cell_type": "markdown",
   "id": "c075210a-22cb-4552-ab55-31d25524db55",
   "metadata": {
    "slideshow": {
     "slide_type": "notes"
    }
   },
   "source": [
    "## Process management\n",
    "\n",
    "- `ps` - look at all processes \n",
    "\n",
    "- The shell and its children\n",
    "   - `&` : foreground and background\n",
    "   - `ctrl-z`\n",
    "   - `jobs`\n",
    "\n",
    "- so we know how to start process, list them how about stopping\n",
    "   - `kill` \n",
    "   - signals\n",
    "     - `ctrl-c`\n",
    "   - or without prejudice "
   ]
  },
  {
   "cell_type": "markdown",
   "id": "57e4e319",
   "metadata": {
    "slideshow": {
     "slide_type": "notes"
    },
    "tags": []
   },
   "source": [
    "% NOTES"
   ]
  },
  {
   "cell_type": "markdown",
   "id": "ff96c557",
   "metadata": {
    "slideshow": {
     "slide_type": "skip"
    },
    "tags": []
   },
   "source": [
    "<hr>"
   ]
  },
  {
   "cell_type": "markdown",
   "id": "fea76870",
   "metadata": {
    "slideshow": {
     "slide_type": "slide"
    },
    "tags": []
   },
   "source": [
    "% BODY\n",
    "<img src=\"../images/Processes/Processes.028.png\" width=\"100%\">"
   ]
  },
  {
   "cell_type": "markdown",
   "id": "ac5f9106",
   "metadata": {
    "slideshow": {
     "slide_type": "notes"
    },
    "tags": []
   },
   "source": [
    "% NOTES"
   ]
  },
  {
   "cell_type": "markdown",
   "id": "1bb1e8a9",
   "metadata": {
    "slideshow": {
     "slide_type": "skip"
    },
    "tags": []
   },
   "source": [
    "<hr>"
   ]
  },
  {
   "cell_type": "markdown",
   "id": "4a3dd17f",
   "metadata": {
    "slideshow": {
     "slide_type": "slide"
    },
    "tags": []
   },
   "source": [
    "% BODY\n",
    "<img src=\"../images/Processes/Processes.029.png\" width=\"100%\">"
   ]
  },
  {
   "cell_type": "markdown",
   "id": "78c126bc",
   "metadata": {
    "slideshow": {
     "slide_type": "notes"
    },
    "tags": []
   },
   "source": [
    "% NOTES"
   ]
  },
  {
   "cell_type": "markdown",
   "id": "6a657499",
   "metadata": {
    "slideshow": {
     "slide_type": "skip"
    },
    "tags": []
   },
   "source": [
    "<hr>"
   ]
  },
  {
   "cell_type": "markdown",
   "id": "f1abe133",
   "metadata": {
    "slideshow": {
     "slide_type": "slide"
    },
    "tags": []
   },
   "source": [
    "% BODY\n",
    "<img src=\"../images/Processes/Processes.030.png\" width=\"100%\">"
   ]
  },
  {
   "cell_type": "markdown",
   "id": "a0fa16cc",
   "metadata": {
    "slideshow": {
     "slide_type": "notes"
    },
    "tags": []
   },
   "source": [
    "% NOTES"
   ]
  },
  {
   "cell_type": "markdown",
   "id": "3b667404",
   "metadata": {
    "slideshow": {
     "slide_type": "skip"
    },
    "tags": []
   },
   "source": [
    "<hr>"
   ]
  },
  {
   "cell_type": "markdown",
   "id": "6d695aa7",
   "metadata": {
    "slideshow": {
     "slide_type": "slide"
    },
    "tags": []
   },
   "source": [
    "% BODY\n",
    "<img src=\"../images/Processes/Processes.031.png\" width=\"100%\">"
   ]
  },
  {
   "cell_type": "markdown",
   "id": "f5589959",
   "metadata": {
    "slideshow": {
     "slide_type": "notes"
    },
    "tags": []
   },
   "source": [
    "% NOTES"
   ]
  },
  {
   "cell_type": "markdown",
   "id": "238e53a2",
   "metadata": {
    "slideshow": {
     "slide_type": "skip"
    },
    "tags": []
   },
   "source": [
    "<hr>"
   ]
  },
  {
   "cell_type": "markdown",
   "id": "cdfe6bb7",
   "metadata": {
    "slideshow": {
     "slide_type": "slide"
    },
    "tags": []
   },
   "source": [
    "% BODY\n",
    "<img src=\"../images/Processes/Processes.032.png\" width=\"100%\">"
   ]
  },
  {
   "cell_type": "markdown",
   "id": "b916880e",
   "metadata": {
    "slideshow": {
     "slide_type": "notes"
    },
    "tags": []
   },
   "source": [
    "% NOTES"
   ]
  },
  {
   "cell_type": "markdown",
   "id": "6fc65014",
   "metadata": {
    "slideshow": {
     "slide_type": "skip"
    },
    "tags": []
   },
   "source": [
    "<hr>"
   ]
  },
  {
   "cell_type": "markdown",
   "id": "0b1b2bb4",
   "metadata": {
    "slideshow": {
     "slide_type": "slide"
    },
    "tags": []
   },
   "source": [
    "% BODY\n",
    "<img src=\"../images/Processes/Processes.033.png\" width=\"100%\">"
   ]
  },
  {
   "cell_type": "markdown",
   "id": "825cc49b",
   "metadata": {
    "slideshow": {
     "slide_type": "notes"
    },
    "tags": []
   },
   "source": [
    "% NOTES"
   ]
  },
  {
   "cell_type": "markdown",
   "id": "3ea3bee9",
   "metadata": {
    "slideshow": {
     "slide_type": "skip"
    },
    "tags": []
   },
   "source": [
    "<hr>"
   ]
  },
  {
   "cell_type": "markdown",
   "id": "35d04d46",
   "metadata": {
    "slideshow": {
     "slide_type": "slide"
    },
    "tags": []
   },
   "source": [
    "% BODY\n",
    "<img src=\"../images/Processes/Processes.034.png\" width=\"100%\">"
   ]
  },
  {
   "cell_type": "markdown",
   "id": "55f477a1",
   "metadata": {
    "slideshow": {
     "slide_type": "notes"
    },
    "tags": []
   },
   "source": [
    "% NOTES"
   ]
  },
  {
   "cell_type": "markdown",
   "id": "f036d58f",
   "metadata": {
    "slideshow": {
     "slide_type": "skip"
    },
    "tags": []
   },
   "source": [
    "<hr>"
   ]
  },
  {
   "cell_type": "markdown",
   "id": "01c56bc1",
   "metadata": {
    "slideshow": {
     "slide_type": "slide"
    },
    "tags": []
   },
   "source": [
    "% BODY\n",
    "<img src=\"../images/Processes/Processes.035.png\" width=\"100%\">"
   ]
  },
  {
   "cell_type": "markdown",
   "id": "5d9b408c",
   "metadata": {
    "slideshow": {
     "slide_type": "notes"
    },
    "tags": []
   },
   "source": [
    "% NOTES"
   ]
  },
  {
   "cell_type": "markdown",
   "id": "62de2539",
   "metadata": {
    "slideshow": {
     "slide_type": "skip"
    },
    "tags": []
   },
   "source": [
    "<hr>"
   ]
  },
  {
   "cell_type": "markdown",
   "id": "30f8296b",
   "metadata": {
    "slideshow": {
     "slide_type": "slide"
    },
    "tags": []
   },
   "source": [
    "% BODY\n",
    "<img src=\"../images/Processes/Processes.036.png\" width=\"100%\">"
   ]
  },
  {
   "cell_type": "markdown",
   "id": "27426dac-8903-4688-82c3-f4bed6e00a46",
   "metadata": {
    "slideshow": {
     "slide_type": "notes"
    }
   },
   "source": [
    "## Credentials and file permissions\n",
    "\n",
    "- Process have id's associated with them\n",
    "  - a single user id : `id`\n",
    "     - a single number that maps to a string user name (`/etc/passwd`)\n",
    "  - set of group ids \n",
    "     - user has a primary group but can be in many secondary groups\n",
    "     - each has a number that maps to a name (`/etc/group`)\n",
    "     - each group can have many users\n",
    "  - `ps auxgww` \n",
    "    - process's inherit their ids from their parent"
   ]
  },
  {
   "cell_type": "markdown",
   "id": "6cf49881",
   "metadata": {
    "slideshow": {
     "slide_type": "notes"
    },
    "tags": []
   },
   "source": [
    "% NOTES"
   ]
  },
  {
   "cell_type": "markdown",
   "id": "c9c28d4f",
   "metadata": {
    "slideshow": {
     "slide_type": "skip"
    },
    "tags": []
   },
   "source": [
    "<hr>"
   ]
  },
  {
   "cell_type": "markdown",
   "id": "fcf04e83",
   "metadata": {
    "slideshow": {
     "slide_type": "slide"
    },
    "tags": []
   },
   "source": [
    "% BODY\n",
    "<img src=\"../images/Processes/Processes.037.png\" width=\"100%\">"
   ]
  },
  {
   "cell_type": "markdown",
   "id": "e00e416f",
   "metadata": {
    "slideshow": {
     "slide_type": "notes"
    },
    "tags": []
   },
   "source": [
    "% NOTES"
   ]
  },
  {
   "cell_type": "markdown",
   "id": "c826796c",
   "metadata": {
    "slideshow": {
     "slide_type": "skip"
    },
    "tags": []
   },
   "source": [
    "<hr>"
   ]
  },
  {
   "cell_type": "markdown",
   "id": "7462b296",
   "metadata": {
    "slideshow": {
     "slide_type": "slide"
    },
    "tags": []
   },
   "source": [
    "% BODY\n",
    "<img src=\"../images/Processes/Processes.038.png\" width=\"100%\">"
   ]
  },
  {
   "cell_type": "markdown",
   "id": "cfba4185",
   "metadata": {
    "slideshow": {
     "slide_type": "notes"
    },
    "tags": []
   },
   "source": [
    "% NOTES"
   ]
  },
  {
   "cell_type": "markdown",
   "id": "93bd6a32",
   "metadata": {
    "slideshow": {
     "slide_type": "skip"
    },
    "tags": []
   },
   "source": [
    "<hr>"
   ]
  },
  {
   "cell_type": "markdown",
   "id": "73f485ea",
   "metadata": {
    "slideshow": {
     "slide_type": "slide"
    },
    "tags": []
   },
   "source": [
    "% BODY\n",
    "<img src=\"../images/Processes/Processes.039.png\" width=\"100%\">"
   ]
  },
  {
   "cell_type": "markdown",
   "id": "ed5bbd4f",
   "metadata": {
    "slideshow": {
     "slide_type": "notes"
    },
    "tags": []
   },
   "source": [
    "% NOTES"
   ]
  },
  {
   "cell_type": "markdown",
   "id": "9fbe1e65",
   "metadata": {
    "slideshow": {
     "slide_type": "skip"
    },
    "tags": []
   },
   "source": [
    "<hr>"
   ]
  },
  {
   "cell_type": "markdown",
   "id": "4cff1b27",
   "metadata": {
    "slideshow": {
     "slide_type": "slide"
    },
    "tags": []
   },
   "source": [
    "% BODY\n",
    "<img src=\"../images/Processes/Processes.040.png\" width=\"100%\">"
   ]
  },
  {
   "cell_type": "markdown",
   "id": "445cb0e6",
   "metadata": {
    "slideshow": {
     "slide_type": "notes"
    },
    "tags": []
   },
   "source": [
    "% NOTES"
   ]
  },
  {
   "cell_type": "markdown",
   "id": "d5773d38",
   "metadata": {
    "slideshow": {
     "slide_type": "skip"
    },
    "tags": []
   },
   "source": [
    "<hr>"
   ]
  },
  {
   "cell_type": "markdown",
   "id": "01c7a08e",
   "metadata": {
    "slideshow": {
     "slide_type": "slide"
    },
    "tags": []
   },
   "source": [
    "% BODY\n",
    "<img src=\"../images/Processes/Processes.041.png\" width=\"100%\">"
   ]
  },
  {
   "cell_type": "markdown",
   "id": "c2e30681-c45e-480b-bb9d-a2c87215e06f",
   "metadata": {
    "slideshow": {
     "slide_type": "notes"
    }
   },
   "source": [
    "   \n",
    "    \n",
    "- Files have id's and permissions `ls -l`, `chmod`, `chown`, and `chgrp`\n",
    "  - user, group, other -> read, write, execute\n",
    "  - kernel ensures that process id's and requested operations match permissions"
   ]
  },
  {
   "cell_type": "markdown",
   "id": "2ea055ae",
   "metadata": {
    "slideshow": {
     "slide_type": "notes"
    },
    "tags": []
   },
   "source": [
    "% NOTES"
   ]
  },
  {
   "cell_type": "markdown",
   "id": "49c22862",
   "metadata": {
    "slideshow": {
     "slide_type": "skip"
    },
    "tags": []
   },
   "source": [
    "<hr>"
   ]
  },
  {
   "cell_type": "markdown",
   "id": "1f5241f2",
   "metadata": {
    "slideshow": {
     "slide_type": "slide"
    },
    "tags": []
   },
   "source": [
    "% BODY\n",
    "<img src=\"../images/Processes/Processes.042.png\" width=\"100%\">"
   ]
  },
  {
   "cell_type": "markdown",
   "id": "ad660fc8",
   "metadata": {
    "slideshow": {
     "slide_type": "notes"
    },
    "tags": []
   },
   "source": [
    "% NOTES"
   ]
  },
  {
   "cell_type": "markdown",
   "id": "307a91c1",
   "metadata": {
    "slideshow": {
     "slide_type": "skip"
    },
    "tags": []
   },
   "source": [
    "<hr>"
   ]
  },
  {
   "cell_type": "markdown",
   "id": "803cb35f",
   "metadata": {
    "slideshow": {
     "slide_type": "slide"
    },
    "tags": []
   },
   "source": [
    "% BODY\n",
    "<img src=\"../images/Processes/Processes.043.png\" width=\"100%\">"
   ]
  },
  {
   "cell_type": "markdown",
   "id": "fabee5b9",
   "metadata": {
    "slideshow": {
     "slide_type": "notes"
    },
    "tags": []
   },
   "source": [
    "% NOTES"
   ]
  },
  {
   "cell_type": "markdown",
   "id": "a885bb19",
   "metadata": {
    "slideshow": {
     "slide_type": "skip"
    },
    "tags": []
   },
   "source": [
    "<hr>"
   ]
  },
  {
   "cell_type": "markdown",
   "id": "1fd630f4",
   "metadata": {
    "slideshow": {
     "slide_type": "slide"
    },
    "tags": []
   },
   "source": [
    "% BODY\n",
    "<img src=\"../images/Processes/Processes.044.png\" width=\"100%\">"
   ]
  },
  {
   "cell_type": "markdown",
   "id": "20b546e1",
   "metadata": {
    "slideshow": {
     "slide_type": "notes"
    },
    "tags": []
   },
   "source": [
    "% NOTES"
   ]
  },
  {
   "cell_type": "markdown",
   "id": "bb5e09c0",
   "metadata": {
    "slideshow": {
     "slide_type": "skip"
    },
    "tags": []
   },
   "source": [
    "<hr>"
   ]
  },
  {
   "cell_type": "markdown",
   "id": "817d1ea0",
   "metadata": {
    "slideshow": {
     "slide_type": "slide"
    },
    "tags": []
   },
   "source": [
    "% BODY\n",
    "<img src=\"../images/Processes/Processes.045.png\" width=\"100%\">"
   ]
  },
  {
   "cell_type": "markdown",
   "id": "b0e15367",
   "metadata": {
    "slideshow": {
     "slide_type": "notes"
    },
    "tags": []
   },
   "source": [
    "% NOTES"
   ]
  },
  {
   "cell_type": "markdown",
   "id": "c2e61a9f",
   "metadata": {
    "slideshow": {
     "slide_type": "skip"
    },
    "tags": []
   },
   "source": [
    "<hr>"
   ]
  },
  {
   "cell_type": "markdown",
   "id": "3d5d0adb",
   "metadata": {
    "slideshow": {
     "slide_type": "slide"
    },
    "tags": []
   },
   "source": [
    "% BODY\n",
    "<img src=\"../images/Processes/Processes.046.png\" width=\"100%\">"
   ]
  },
  {
   "cell_type": "markdown",
   "id": "c09f6a0b",
   "metadata": {
    "slideshow": {
     "slide_type": "notes"
    },
    "tags": []
   },
   "source": [
    "% NOTES"
   ]
  },
  {
   "cell_type": "markdown",
   "id": "ffea6085",
   "metadata": {
    "slideshow": {
     "slide_type": "skip"
    },
    "tags": []
   },
   "source": [
    "<hr>"
   ]
  },
  {
   "cell_type": "markdown",
   "id": "5b1234aa",
   "metadata": {
    "slideshow": {
     "slide_type": "slide"
    },
    "tags": []
   },
   "source": [
    "% BODY\n",
    "<img src=\"../images/Processes/Processes.047.png\" width=\"100%\">"
   ]
  },
  {
   "cell_type": "markdown",
   "id": "bdb967f4",
   "metadata": {
    "slideshow": {
     "slide_type": "notes"
    },
    "tags": []
   },
   "source": [
    "% NOTES"
   ]
  },
  {
   "cell_type": "markdown",
   "id": "19ab0c73",
   "metadata": {
    "slideshow": {
     "slide_type": "skip"
    },
    "tags": []
   },
   "source": [
    "<hr>"
   ]
  },
  {
   "cell_type": "markdown",
   "id": "d98f8f7b",
   "metadata": {
    "slideshow": {
     "slide_type": "slide"
    },
    "tags": []
   },
   "source": [
    "% BODY\n",
    "<img src=\"../images/Processes/Processes.048.png\" width=\"100%\">"
   ]
  },
  {
   "cell_type": "markdown",
   "id": "e5686b94",
   "metadata": {
    "slideshow": {
     "slide_type": "notes"
    },
    "tags": []
   },
   "source": [
    "% NOTES"
   ]
  },
  {
   "cell_type": "markdown",
   "id": "65a2c3c2",
   "metadata": {
    "slideshow": {
     "slide_type": "skip"
    },
    "tags": []
   },
   "source": [
    "<hr>"
   ]
  },
  {
   "cell_type": "markdown",
   "id": "84e3dc7d",
   "metadata": {
    "slideshow": {
     "slide_type": "slide"
    },
    "tags": []
   },
   "source": [
    "% BODY\n",
    "<img src=\"../images/Processes/Processes.049.png\" width=\"100%\">"
   ]
  },
  {
   "cell_type": "markdown",
   "id": "d8ca3019",
   "metadata": {
    "slideshow": {
     "slide_type": "notes"
    },
    "tags": []
   },
   "source": [
    "% NOTES"
   ]
  },
  {
   "cell_type": "markdown",
   "id": "f4af46e5",
   "metadata": {
    "slideshow": {
     "slide_type": "skip"
    },
    "tags": []
   },
   "source": [
    "<hr>"
   ]
  },
  {
   "cell_type": "markdown",
   "id": "46dec388",
   "metadata": {
    "slideshow": {
     "slide_type": "slide"
    },
    "tags": []
   },
   "source": [
    "% BODY\n",
    "<img src=\"../images/Processes/Processes.050.png\" width=\"100%\">"
   ]
  },
  {
   "cell_type": "markdown",
   "id": "f045a5e2",
   "metadata": {
    "slideshow": {
     "slide_type": "notes"
    },
    "tags": []
   },
   "source": [
    "% NOTES"
   ]
  },
  {
   "cell_type": "markdown",
   "id": "5e43f85e",
   "metadata": {
    "slideshow": {
     "slide_type": "notes"
    },
    "tags": []
   },
   "source": [
    "% NOTES"
   ]
  }
 ],
 "metadata": {
  "kernelspec": {
   "display_name": "Python 3 (ipykernel)",
   "language": "python",
   "name": "python3"
  },
  "language_info": {
   "codemirror_mode": {
    "name": "ipython",
    "version": 3
   },
   "file_extension": ".py",
   "mimetype": "text/x-python",
   "name": "python",
   "nbconvert_exporter": "python",
   "pygments_lexer": "ipython3",
   "version": "3.10.5"
  },
  "rise": {
   "autolaunch": false,
   "enable_chalkboard": true,
   "footer": "UCSLS -- Lecture 3",
   "header": "Unix and the Shell Part 3",
   "height": "100%",
   "scroll": true,
   "start_slideshow_at": "selected",
   "transition": "none",
   "width": "100%"
  }
 },
 "nbformat": 4,
 "nbformat_minor": 5
}
