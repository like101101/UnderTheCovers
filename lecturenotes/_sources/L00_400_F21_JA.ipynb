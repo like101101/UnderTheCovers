{
 "cells": [
  {
   "cell_type": "code",
   "execution_count": null,
   "id": "6b8bdc76",
   "metadata": {
    "hide_input": true,
    "slideshow": {
     "slide_type": "skip"
    },
    "tags": [
     "remove-cell"
    ]
   },
   "outputs": [],
   "source": [
    "%run -i python/common.py\n",
    "%run -i python/ln_preamble.py"
   ]
  },
  {
   "cell_type": "markdown",
   "id": "295752d9",
   "metadata": {
    "slideshow": {
     "slide_type": "slide"
    }
   },
   "source": [
    "\n",
    "# CS400 Fall 2021 : Machine Level Programming \n",
    "## - A Hodge-Podge of this that and the other things that go into computer systems \n",
    "\n",
    "### Jonathan Appavoo, PhD. \n",
    "#### Pronouns: He, Him, His\n",
    "\n",
    "This document is a Juypter notebook designed to be viewed using the RISE presentation notebook extension  "
   ]
  },
  {
   "cell_type": "markdown",
   "id": "9dbb428e",
   "metadata": {
    "slideshow": {
     "slide_type": "slide"
    }
   },
   "source": [
    "## To get us into the Spirit of things -- Let's  build a computer!\n",
    "\n",
    "- Inspired by Ben Eater's : Build a 6502 Computer project (https://eater.net/6502)\n",
    "<center>\n",
    "<img  width=\"50%\" src=\"https://cdn.shopify.com/s/files/1/0089/0647/3536/products/6502_550x825.png?v=1568331711\">\n",
    "</center>\n",
    "- And my father -- \"The Appavoo II\"\n",
    "    - My first computer that he built for me\n",
    "    - Hacked the ROM to say \"Appavoo II\" on boot"
   ]
  },
  {
   "cell_type": "markdown",
   "id": "3e27a2b5",
   "metadata": {
    "cell_style": "center"
   },
   "source": [
    "### The Appavoo II"
   ]
  },
  {
   "cell_type": "code",
   "execution_count": null,
   "id": "195e1d9f",
   "metadata": {
    "cell_style": "center",
    "hide_input": true,
    "tags": [
     "remove-input"
    ]
   },
   "outputs": [],
   "source": [
    "display(Markdown(htmlFig(caption=\"<center>In Memory of my Dad  (Oct 2, 1930 - Nov 21, 1985)\",imgs=[[{'src': \"https://cs-web.bu.edu/~jappavoo/Resources/Pics/dad.png\", 'cellwidth':'50%'}, {'src': \"images/6502mb.png\", 'bgcolor':'black', 'cellwidth':'50%'}]])))"
   ]
  },
  {
   "cell_type": "markdown",
   "id": "cc0a92f1",
   "metadata": {
    "cell_style": "center",
    "slideshow": {
     "slide_type": "slide"
    }
   },
   "source": [
    "### A CPU"
   ]
  },
  {
   "cell_type": "code",
   "execution_count": null,
   "id": "48d11f64",
   "metadata": {
    "cell_style": "split",
    "hide_input": true,
    "tags": [
     "remove-input"
    ]
   },
   "outputs": [],
   "source": [
    "display(Markdown(htmlFig({'src':\"images/6502Pinout.png\"}, width=\"60%\")))"
   ]
  },
  {
   "cell_type": "markdown",
   "id": "d69bbc26",
   "metadata": {
    "cell_style": "split"
   },
   "source": [
    "Extract from 1975 Manual"
   ]
  },
  {
   "cell_type": "code",
   "execution_count": null,
   "id": "871587ac",
   "metadata": {
    "cell_style": "split",
    "hide_input": true,
    "tags": [
     "remove-input"
    ]
   },
   "outputs": [],
   "source": [
    "display(Markdown(htmlFig(\n",
    "    \"images/6502ManualLoop.png\",\n",
    ")))"
   ]
  },
  {
   "cell_type": "markdown",
   "id": "9346571d",
   "metadata": {
    "slideshow": {
     "slide_type": "notes"
    }
   },
   "source": [
    "At the heart of the machine is a CPU\n",
    "  - so lets start there\n",
    "  \n",
    "It is a physical device with each \"pin\"  connecting it to the outside world via electricity.\n",
    "-  Show a chip\n",
    "\n",
    "Each pin is designed for a special purpose :\n",
    "Connecting 8 and 21 to powers up the chip and it begins to operate\n",
    "\n",
    "Here's what the manual has to say about how it operates.  But what does this really mean?\n",
    "\n",
    "Lets get a more visceral feel for this \n",
    " - by building a physical machine that lets us see this in action\n",
    " - easier than you might think.\n",
    " \n"
   ]
  },
  {
   "cell_type": "markdown",
   "id": "15ca8dab",
   "metadata": {
    "slideshow": {
     "slide_type": "slide"
    }
   },
   "source": [
    "### TIC-TOCK The System Clock  -- Driving the Loop"
   ]
  },
  {
   "cell_type": "code",
   "execution_count": null,
   "id": "43b3bcfa",
   "metadata": {
    "cell_style": "split",
    "hide_input": true,
    "tags": [
     "remove-input"
    ]
   },
   "outputs": [],
   "source": [
    "display(Markdown(htmlFig({'src':\"images/6502Pinout.png\"}, width=\"60%\")))"
   ]
  },
  {
   "cell_type": "markdown",
   "id": "7b2d200c",
   "metadata": {
    "cell_style": "split"
   },
   "source": [
    "#### The Clock Pin ${\\phi}_0$ :  INPUT ONLY\n",
    "\n",
    "- Attach it to an oscillator\n",
    "  - voltage will swing between +5 and close to 0\n",
    "  - producing a continue even beat of alternating 1's and 0's  \n",
    "\n",
    "- each cycle drives the internal operation of the CPU forward\n",
    "   - each instruction can take several cycles\n",
    "   - operation of a single cycle is actually broken down into half cycles\n",
    "\n",
    "- we are going to drive the clock with a Button"
   ]
  },
  {
   "cell_type": "markdown",
   "id": "7513f364",
   "metadata": {
    "slideshow": {
     "slide_type": "notes"
    }
   },
   "source": [
    "High light pin 37 clock in\n",
    "But needs a period pulse to cause the loop to happen otherwise just sits there\n",
    "-  If we just feed clock 0 or 1 -- the loop will not go forward\n",
    "-  however 0 1 0 and we get the loop to move forward on cycle\n",
    "-  draw clock\n",
    "\n",
    "Ok now we are cooking"
   ]
  },
  {
   "cell_type": "markdown",
   "id": "a6bcb44f",
   "metadata": {
    "hide_input": false,
    "slideshow": {
     "slide_type": "slide"
    }
   },
   "source": [
    "### The Address Pins - The Address Bus"
   ]
  },
  {
   "cell_type": "code",
   "execution_count": null,
   "id": "60ce1205",
   "metadata": {
    "cell_style": "split",
    "hide_input": false,
    "tags": [
     "remove-input"
    ]
   },
   "outputs": [],
   "source": [
    "display(Markdown(htmlFig({'src':\"images/6502Pinout.png\"}, width=\"60%\")))"
   ]
  },
  {
   "cell_type": "markdown",
   "id": "39602a18",
   "metadata": {
    "cell_style": "split",
    "hide_input": true
   },
   "source": [
    "#### Pins A0 - A15 : OUTPUT ONLY\n",
    "\n",
    "- The largest logic block of pins\n",
    "- The Address Bus\n",
    "    - Connect the CPU to the rest of the computer\n",
    "    - Devices are wired on to the address bus\n",
    "       - A device will be responsible for a particular range of address\n",
    "- We will put some lights on it"
   ]
  },
  {
   "cell_type": "markdown",
   "id": "f6952224",
   "metadata": {
    "slideshow": {
     "slide_type": "notes"
    }
   },
   "source": [
    "The Loop: \n",
    "1) read instruction -- means \n",
    "   - address of next instruction on to the address bus\n",
    "\n",
    "Circle the address pins"
   ]
  },
  {
   "cell_type": "markdown",
   "id": "1a4714f7",
   "metadata": {
    "hide_input": true,
    "slideshow": {
     "slide_type": "slide"
    }
   },
   "source": [
    "### The Data Pins and R/W pin - Data Bus and direction"
   ]
  },
  {
   "cell_type": "code",
   "execution_count": null,
   "id": "0d805987",
   "metadata": {
    "cell_style": "split",
    "hide_input": false,
    "tags": [
     "remove-input"
    ]
   },
   "outputs": [],
   "source": [
    "display(Markdown(htmlFig({'src':\"images/6502Pinout.png\"}, width=\"60%\")))"
   ]
  },
  {
   "cell_type": "markdown",
   "id": "8dfd5d53",
   "metadata": {
    "cell_style": "split"
   },
   "source": [
    "#### Pins D0 - D7 : INPUT AND OUTPUT\n",
    "#### and R/W : OUTPUT ONLY\n",
    "\n",
    "- The D0-D7 pins on which a byte comes into or goes out of the CPU\n",
    "- R/W indicates if CPU is \n",
    "    - sending the value of the pins to an external device (WRITE)\n",
    "    - or receiving the value from a device which sets the pins (READ)\n",
    "- The Data Bus \n",
    "    - Connect the CPU to the rest of the compter\n",
    "    - Devices are wired on to the data bus\n",
    "    - Address value enables a particular device \n",
    "        - the device is then responsible for either receiving the value on the data bus or setting a value on to the data bus\n"
   ]
  },
  {
   "cell_type": "markdown",
   "id": "bebd702b",
   "metadata": {
    "hide_input": false,
    "slideshow": {
     "slide_type": "slide"
    }
   },
   "source": [
    "### Reset -- Getting the loop going"
   ]
  },
  {
   "cell_type": "code",
   "execution_count": null,
   "id": "74579110",
   "metadata": {
    "cell_style": "split",
    "hide_input": false,
    "tags": [
     "remove-input"
    ]
   },
   "outputs": [],
   "source": [
    "display(Markdown(htmlFig({'src':\"images/6502Pinout.png\"}, width=\"60%\")))"
   ]
  },
  {
   "cell_type": "markdown",
   "id": "1efe3eba",
   "metadata": {
    "cell_style": "split"
   },
   "source": [
    "#### The Reset Pin (RES) : INPUT ONLY\n",
    "\n",
    "Allows us to use a button to get the CPU into a know state and working under \"our\" control!"
   ]
  },
  {
   "cell_type": "code",
   "execution_count": null,
   "id": "6ceddf2e",
   "metadata": {
    "cell_style": "split",
    "hide_input": true,
    "tags": [
     "remove-input"
    ]
   },
   "outputs": [],
   "source": [
    "display(Markdown(htmlFig(\n",
    "    \"images/6502Reset.png\",\n",
    ")))"
   ]
  },
  {
   "cell_type": "markdown",
   "id": "0022177c",
   "metadata": {
    "slideshow": {
     "slide_type": "notes"
    }
   },
   "source": [
    "But how do we know where to begin?\n",
    "\n",
    "Processor manual tells us that the computer designer can use the reset pin to get the loop under control.\n",
    "\n",
    "Pull the reset to 0 for two clock cycle \n",
    "- 7 cycles later processor will fetch first instruction address\n",
    "  - pc low: FFFC high: FFFD\n",
    "\n",
    "Three things the designer of the reset of the computer does\n",
    "1) a way to toggle reset pin\n",
    "2) pick  where the program instructions will be located -- make sure they are there some how\n",
    "3) make sure this address is feed when processor requests FFFC,FFFD"
   ]
  },
  {
   "cell_type": "markdown",
   "id": "0c75d1e2",
   "metadata": {
    "cell_style": "center",
    "slideshow": {
     "slide_type": "slide"
    }
   },
   "source": [
    "### Our computer \n",
    "\n",
    "1) CPU\n",
    "2) push button clock\n",
    "3) leds on address and data bus \n",
    "   - so that we can see \"values\"\n",
    "4) 8 switch on the data bus  \n",
    "   - so that we can respond to the CPU's requests\n"
   ]
  },
  {
   "cell_type": "markdown",
   "id": "bcc12844",
   "metadata": {
    "slideshow": {
     "slide_type": "notes"
    }
   },
   "source": [
    "   \n",
    "Draw on chalk board and then lets switch over the the real thing\n",
    "\n",
    "Do Demo and switch back for instruction"
   ]
  },
  {
   "cell_type": "markdown",
   "id": "aafddbb5",
   "metadata": {
    "slideshow": {
     "slide_type": "slide"
    }
   },
   "source": [
    "### The instruction set"
   ]
  },
  {
   "cell_type": "markdown",
   "id": "72fefa6b",
   "metadata": {
    "cell_style": "center",
    "slideshow": {
     "slide_type": "-"
    }
   },
   "source": [
    "https://www.masswerk.at/6502/6502_instruction_set.html"
   ]
  },
  {
   "cell_type": "code",
   "execution_count": null,
   "id": "923c5d16",
   "metadata": {
    "cell_style": "center",
    "hide_input": true
   },
   "outputs": [],
   "source": [
    "display(Markdown(htmlFig(\"images/6502opctbl.png\")))"
   ]
  },
  {
   "cell_type": "markdown",
   "id": "10456437",
   "metadata": {},
   "source": [
    "https://www.masswerk.at/6502/6502_instruction_set.html#NOP\n",
    "```\n",
    "NOP\n",
    "No Operation\n",
    "\n",
    "---\n",
    "N\tZ\tC\tI\tD\tV\n",
    "-\t-\t-\t-\t-\t-\n",
    "addressing\tassembler\topc\tbytes\tcycles\n",
    "implied\tNOP\tEA\t1\t2  \n",
    "```"
   ]
  },
  {
   "cell_type": "markdown",
   "id": "3d63f3f4",
   "metadata": {
    "cell_style": "center",
    "slideshow": {
     "slide_type": "slide"
    }
   },
   "source": [
    "## Context for this Course\n",
    "\n",
    "- New on-line, open source textbook: [\"Under the Covers : The Secret Life of Software](https://jappavoo.github.io/UndertheCovers/textbook/intro_tb.html)\n",
    "\n",
    "  - participate in my mission to \n",
    "     - create and publish : a modern on-line systems textbook, lecture notes and lab manual\n",
    "       - Every thing needed is \"Built-In\" \n",
    "     - free \n",
    "     - open source\n",
    "     - accessible to anyone \n",
    "     - ensure anyone can learn about how computers work"
   ]
  },
  {
   "cell_type": "markdown",
   "id": "6db2f50b",
   "metadata": {
    "slideshow": {
     "slide_type": "slide"
    }
   },
   "source": [
    "## Syllabus\n",
    "### Lectures: \n",
    "- Mondays and Wednesdays 12:20 to 1:35PM\n",
    "- Location: STH113\n",
    "\n",
    "### Instructor: \n",
    "- Jonathan Appavoo, Associate Professor\n",
    "  - pronouns: He, Him, His\n",
    "- Office: MCS 227E\n",
    "- Office hours: \n",
    "  - Monday 2:00 to 3:30PM \n",
    "  - Wednesday 4:00 to 5:30PM\n",
    "\n",
    "### Pre-requisites\n",
    "\n",
    "Have not covered assembly code with the instructor in the past\n",
    "\n",
    "\n",
    "### Important Semester Dates:\n",
    "- Last day to drop **without** a 'W' grade is Oct 7, 2021\n",
    "- Last day to drop **with** a 'W' is Nov 5, 2021\n",
    "\n",
    "Note about dropping: If you think you might need to drop please talk to the instructor as early as possible given the impact on a team project.\n",
    "\n",
    "### Infrastructure:\n",
    "- UC-SLS:\n",
    "  - https://github.com/jappavoo/UndertheCovers\n",
    "  - Lecture \"Notes\"\n",
    "  - Portions of the book that I can get done\n",
    "  - Container Environment : https://github.com/jappavoo/bu-cs-book-dev\n",
    "      - self hosted\n",
    "      - online service maybe\n",
    "- Piazza: https://piazza.com/bu/fall2021/cs400/resources\n",
    "- Gradescope:https://www.gradescope.com/courses/303761\n",
    "- GitLab:https://cs400-gitlab.bu.edu\n",
    "\n",
    "### Grade breakdown\n",
    "\n",
    "1. Project : 60%\n",
    "    - Lecture \n",
    "    - Final Report\n",
    "    - Demo/Oral\n",
    "2. Problem Sets : 20%\n",
    "4. Participation : 20%\n",
    "\n",
    "### The Lectures \n",
    "\n",
    "Lecture breaks down into three parts \n",
    "- number of lectures is a rough break down and we will adjust based on our progress and interests\n",
    "\n",
    "1. Tools of the Trade -- UNIX : ~5 lectures\n",
    "2. Assembly Programming -- Revisiting the Von Neumann Architecture from an assembly language perspective : ~10 lectures\n",
    "3. C - Looking at C via Assembly Language :  ~5 lectures\n",
    "4. Project Lectures: ~5 lectures\n",
    "\n",
    "#### Problems Sets \n",
    "\n",
    "- Based on lecture material and Readings.\n",
    "- Roughly bi-weekly \n",
    "- Largely \"paper\" based questions and small programming exercises\n",
    "    - Gradscope submission\n",
    "    - programming exercises may have a gitlab repo associated \n",
    "\n",
    "#### Participation \n",
    "\n",
    "- attending and participating in lectures \n",
    "- you will receive credit for each \"Exercise/Question\" you contribute\n",
    "  - standing gradescope assignments for each lecture\n",
    "     - Based on the lecture or any associated sections in UC-SLS you can submit\n",
    "       - Exercises / Questions for the material\n",
    "\n",
    "You will also receive acknowledge in the book for anything you contribute\n",
    "  - fixes\n",
    "  - text\n",
    "  - exercises \n",
    "  \n",
    "### Late Policy\n",
    "\n",
    "In general if there is a posted deadline and you are not able to meet it please contact the instructor as soon as possible.  Project deadline are in place to ensure your success and you should work hard to meet any deadline for proposals, mid-semester reports, etc.\n",
    "\n",
    "### Academic Conduct\n",
    "\n",
    "Academic standards and the code of academic conduct are taken very\n",
    "seriously at our university.  Please take the time to review the CAS\n",
    "Academic Conduct Code if you are unfamiliar with the contents.\n",
    "See the http://www.bu.edu/academics/resources/academic-conduct-code/ for the\n",
    "CAS Academic Conduct Code, in particular regarding plagiarism and\n",
    "cheating on exams. Copies of the CAS Academic Conduct Code are also\n",
    "available in room CAS 105. A student suspected to violate this code\n",
    "will be reported to the Academic Conduct Committee, and if found\n",
    "culpable, the student will receive a grade of \"F\" for the course.\n",
    "\n"
   ]
  },
  {
   "cell_type": "markdown",
   "id": "ae75b7c9",
   "metadata": {
    "slideshow": {
     "slide_type": "slide"
    }
   },
   "source": [
    "### Project\n",
    "\n",
    "#### Requirements:\n",
    "\n",
    "- Ideally 2-3 members     \n",
    "- Have a git repository for ALL work -- all must contribute\n",
    "    - Code\n",
    "    - Documentation\n",
    "    - Reports\n",
    "    - Log.md of meetings, weekly status and etc\n",
    "    - Lecture presentation material  \n",
    "- Involve some degree of \n",
    "   - C and or Assembly code\n",
    "   - Studying of a hardware documentation or low-level programming interfaces\n",
    "   - Unix Integration -- eg. a Unix command line interface\n",
    "- Weekly status updates \n",
    "   - documented in Log.md of repo\n",
    "   - and office hour meetings\n",
    "- End of semester lecture\n",
    "  - For all other groups you will submit a summary of their lecture and answer any quiz questions they give after. \n",
    "- Final group report\n",
    "- Self and group assessment report - submitted individually\n",
    "  1. Your project contribution and learning\n",
    "  2. Each of your group members contribution and effort \n",
    "- Final individual project oral interview with professor"
   ]
  },
  {
   "cell_type": "markdown",
   "id": "ebeb5f0b",
   "metadata": {
    "slideshow": {
     "slide_type": "slide"
    }
   },
   "source": [
    "#### Time line \n",
    "\n",
    "1. Week 1: Form group - create repository on any git base service you like (eg. GitHub, GitLab)  - You must add the professor as a member. \n",
    "2. Week 2: Meet with Professor to discuss project ideas\n",
    "3. Week 3: Submit proposal\n",
    "4. Status meeting with Professor\n",
    "5. Mid Semester Demo/Report to Professor\n",
    "6. Work with Professor on draft of lecture (last month of class)\n",
    "7. Final few weeks of semester present lecture - sign up service once we settle on project numbers \n",
    "8. Reports and all other project material due last day of semester\n",
    "9. Professor will provide sign service for 10 minute oral project slots\n",
    "     - likely during the slot we are assigned for a final \n",
    "     - or another time that is convenient for you."
   ]
  },
  {
   "cell_type": "markdown",
   "id": "fd8b382b",
   "metadata": {
    "slideshow": {
     "slide_type": "slide"
    }
   },
   "source": [
    "#### Project Ideas\n",
    "1. javascript Computer emulator \n",
    "    - [SLS 6502](https://github.com/jappavoo/SLS6502)\n",
    "        - dbb\n",
    "        - mar\n",
    "        - memory load\n",
    "        - byte inspector\n",
    "        - animate \n",
    "        <img src=\"https://jappavoo.github.io/SLS6502/SLS6502.svg\">\n",
    "    - ARM \n",
    "    - RISCV\n",
    "    - ATMEL\n",
    "    - TOOLCHAIN\n",
    "2. Work on SOL6502 - in coordination with undergrad term project that is going on\n",
    "    - add arduino monitor/control board and code\n",
    "    - uart board\n",
    "    - pixel output board\n",
    "    - interrupt board with input latch\n",
    "      - demo of how blocking I/O works:\n",
    "        - poll vs interrupt\n",
    "        - why we need more than simple input and output registers\n",
    "3. Extend/Resurrect/Riff-off any one of my half-baked starters\n",
    "    - The Door \n",
    "    - The Wand\n",
    "    - resurrect the Reminder Fob\n",
    "    - resurrect ClaraBell \n",
    "    - extend the led timer cube -- create the emoticon \n",
    "    - extend humidifier controller with a proper blue tooth or other interface\n",
    "    - extend universal wireless keyboard box\n",
    "    - Programmable Universal Learning remote   \n",
    "4. ISA study\n",
    "5. GPU Project\n",
    "6. FPGA Project\n",
    "7. Hardware concurrency (multi-threading/multi-core) Project \n",
    "8. HW Technology Review"
   ]
  },
  {
   "cell_type": "markdown",
   "id": "9be16864",
   "metadata": {
    "slideshow": {
     "slide_type": "slide"
    }
   },
   "source": [
    "## NEXT Class intro to the concepts behind UNIX Shell Interaction\n",
    "\n",
    "### Reads from UC:SLS\n",
    "\n",
    "- \"Operating Systems and UNIX\"\n",
    "- \"What is a Terminal and why do we still use them\"\n",
    "- \"Organizing and Managing Information as a Tree of Files and Directories\"\n",
    "- and maybe : \"The Shell - Part I: Having an ASCII conversation with the OS\"\n",
    "\n",
    "Once Piazza is up and running I will post links"
   ]
  },
  {
   "cell_type": "code",
   "execution_count": null,
   "id": "5525378e",
   "metadata": {},
   "outputs": [],
   "source": []
  }
 ],
 "metadata": {
  "celltoolbar": "Tags",
  "hide_input": true,
  "kernelspec": {
   "display_name": "Python 3 (ipykernel)",
   "language": "python",
   "name": "python3"
  },
  "language_info": {
   "codemirror_mode": {
    "name": "ipython",
    "version": 3
   },
   "file_extension": ".py",
   "mimetype": "text/x-python",
   "name": "python",
   "nbconvert_exporter": "python",
   "pygments_lexer": "ipython3",
   "version": "3.9.7"
  },
  "rise": {
   "autolaunch": false,
   "enable_chalkboard": true,
   "footer": "BU CAS CS 400",
   "header": "Intro",
   "height": "100%",
   "scroll": true,
   "start_slideshow_at": "selected",
   "theme": "black",
   "transition": "none",
   "width": "100%"
  }
 },
 "nbformat": 4,
 "nbformat_minor": 5
}
