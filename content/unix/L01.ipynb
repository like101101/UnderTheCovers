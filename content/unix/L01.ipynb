{
 "cells": [
  {
   "cell_type": "code",
   "execution_count": null,
   "id": "919e2464",
   "metadata": {
    "hide_input": true,
    "jupyter": {
     "source_hidden": true
    },
    "slideshow": {
     "slide_type": "skip"
    },
    "tags": [
     "remove-cell"
    ]
   },
   "outputs": [],
   "source": [
    "%run -i ../python/common.py\n",
    "bash = BashSession()"
   ]
  },
  {
   "cell_type": "markdown",
   "id": "19379863",
   "metadata": {
    "hide_input": true,
    "slideshow": {
     "slide_type": "slide"
    }
   },
   "source": [
    "# SLS: Part I - UNIX : Introduction &  Preliminaries "
   ]
  },
  {
   "cell_type": "markdown",
   "id": "c4cf088c-430b-4918-8de7-7c5b1b5d12d4",
   "metadata": {
    "slideshow": {
     "slide_type": "skip"
    },
    "tags": []
   },
   "source": [
    "<hr>"
   ]
  },
  {
   "cell_type": "markdown",
   "id": "aab0fa4d",
   "metadata": {
    "slideshow": {
     "slide_type": "notes"
    }
   },
   "source": [
    "**Notes**\n",
    "\n",
    "- In general our goal is not to just learn a bunch of facts or commands.  \n",
    "- Rather it is to understand how thing work \n",
    "  - developing a mental model \n",
    "  - to this end we will often try and develop visualizations\n",
    "- To this end we will start our exploration of UNIX by developing a way of visualizing how the layers of software and hardware relate and interact.\n"
   ]
  },
  {
   "cell_type": "markdown",
   "id": "410af07c",
   "metadata": {
    "slideshow": {
     "slide_type": "slide"
    }
   },
   "source": [
    "## UNIX is an operating system\n",
    "\n",
    "- But what is an operating system?\n",
    "> A collection of software that makes a ***computer*** ***useful***.\n"
   ]
  },
  {
   "cell_type": "markdown",
   "id": "872af688-553d-47dd-8485-bb0a39197e18",
   "metadata": {
    "slideshow": {
     "slide_type": "skip"
    },
    "tags": []
   },
   "source": [
    "<hr>"
   ]
  },
  {
   "cell_type": "markdown",
   "id": "67c7e449",
   "metadata": {
    "hide_input": true,
    "slideshow": {
     "slide_type": "slide"
    }
   },
   "source": [
    "<center>\n",
    "\n",
    "## Computer?  \n",
    "\n",
    "</center>"
   ]
  },
  {
   "cell_type": "markdown",
   "id": "f31efa6c",
   "metadata": {
    "slideshow": {
     "slide_type": "notes"
    }
   },
   "source": [
    "**Notes**\n",
    "\n",
    "- On the practical side computers are hardware devices that are programmable \n",
    "    - we will focus on those that conform to a \"Classic\" model of programmable device called a von Neuman Architecture \n",
    "        - today this encompasses Laptops, smart phones, tablets, smart watches, desktops, servers, supercomputers, and thousands of embedded systems around you\n",
    "\n",
    "FIXME: Add some images"
   ]
  },
  {
   "cell_type": "markdown",
   "id": "42da641f",
   "metadata": {
    "hide_input": true,
    "slideshow": {
     "slide_type": "fragment"
    }
   },
   "source": [
    "### An Organized  Collection of Hardware "
   ]
  },
  {
   "cell_type": "markdown",
   "id": "235e8d60-edbf-44df-bb32-54b32b3fcbb8",
   "metadata": {
    "hide_input": false,
    "slideshow": {
     "slide_type": "-"
    },
    "tags": [
     "remove-input"
    ]
   },
   "source": [
    "<img src=\"../images/SLS_TheMachine.png\" width=\"1024\" style=\"border:0px; margin: 0px 0px; background-color: #00000000; display: block; margin-left: auto; margin-right: auto;\">"
   ]
  },
  {
   "cell_type": "markdown",
   "id": "0a97b7b8",
   "metadata": {
    "slideshow": {
     "slide_type": "notes"
    }
   },
   "source": [
    "**Notes**\n",
    "\n",
    "- We will learn much more later but for the moment we need a working model:\n",
    "    - three core components \n",
    "        - CPU \n",
    "            - the smart bits that \"execute\" the instructions of software -- performs calculations\n",
    "        - Memory \n",
    "            - the devices that hold the instructions and data that make up the running software\n",
    "            - physically directly connected to the CPU -- often referred to as RAM and ROM, main memory, etc\n",
    "            - fast, power hungry. and volatile\n",
    "        - I/O devices - for the moment two main categories\n",
    "            - Storage devices\n",
    "                - hard drives, ssd's, flash memory, flash drives/usb sticks, etc\n",
    "                - slow and large compared to main memory\n",
    "                - non-volatile\n",
    "            - Communication devices\n",
    "                - allow connections to the outside world \n",
    "                - networks, terminals, usb devices -- keyboards, mice, etc.\n",
    "                "
   ]
  },
  {
   "cell_type": "markdown",
   "id": "15b6b5a5-250f-496d-b8da-803f8a11fa3f",
   "metadata": {
    "slideshow": {
     "slide_type": "skip"
    },
    "tags": []
   },
   "source": [
    "<hr>"
   ]
  },
  {
   "cell_type": "markdown",
   "id": "352f7490",
   "metadata": {
    "slideshow": {
     "slide_type": "slide"
    },
    "tags": []
   },
   "source": [
    "<center>\n",
    "    \n",
    "## Useful?\n",
    "    \n",
    "</center>"
   ]
  },
  {
   "cell_type": "markdown",
   "id": "68ab914f",
   "metadata": {
    "slideshow": {
     "slide_type": "notes"
    }
   },
   "source": [
    "- Hardware is like the raw parts \n",
    "    - not really useful until we add software to have it do stuff\n",
    "        - aka run programs/apps\n",
    "        - but what stuff\n",
    "- For most people they want to run programs that allow them to use the computer to:\n",
    "    - surf the web\n",
    "    - read and write email\n",
    "    - record, view and edit audio, pictures and video\n",
    "    - compose documents\n",
    "    - analyze and visualize data\n",
    "    - play games\n",
    "    - etc ...\n",
    "- but for some of us, programmers, our primary goal is to write programs "
   ]
  },
  {
   "cell_type": "markdown",
   "id": "b0d9762a-d0c8-493b-9210-af121bcd2abc",
   "metadata": {
    "slideshow": {
     "slide_type": "skip"
    },
    "tags": []
   },
   "source": [
    "<hr>"
   ]
  },
  {
   "cell_type": "markdown",
   "id": "704a47fc",
   "metadata": {
    "slideshow": {
     "slide_type": "slide"
    }
   },
   "source": [
    "### The \"Kernel\" -- Unique to Every OS"
   ]
  },
  {
   "cell_type": "markdown",
   "id": "d95cea82-5a01-42d6-aa31-6a310569db51",
   "metadata": {
    "cell_style": "split",
    "hide_input": true,
    "slideshow": {
     "slide_type": "-"
    },
    "tags": [
     "remove-input"
    ]
   },
   "source": [
    "\n",
    "\n",
    "<table>\n",
    "<tr>\n",
    "   <td width=\"600\">\n",
    "       \n",
    "<img src=\"../images/kerneldef.png\">\n",
    "    \n",
    "   <td> \n",
    "      <p>\n",
    "          \n",
    "1. Bootstraps the HW and has direct access to all of it\n",
    "1. Bottom layer that enables other programs to run\n",
    "2. A unique collection of functions that programs can invoke\n",
    "                           </p>\n",
    "    </td>\n",
    "    </tr>\n",
    "</table>    "
   ]
  },
  {
   "cell_type": "markdown",
   "id": "9260a616",
   "metadata": {
    "cell_style": "split",
    "slideshow": {
     "slide_type": "-"
    }
   },
   "source": [
    "Not useful on its own only useful and accessed by running other programs."
   ]
  },
  {
   "cell_type": "markdown",
   "id": "e95c06cc-d7e4-44fb-9cce-ad119cb165e7",
   "metadata": {
    "slideshow": {
     "slide_type": "skip"
    },
    "tags": []
   },
   "source": [
    "<hr>"
   ]
  },
  {
   "cell_type": "markdown",
   "id": "3f674efd",
   "metadata": {
    "slideshow": {
     "slide_type": "slide"
    }
   },
   "source": [
    "## Hardware + Kernel"
   ]
  },
  {
   "cell_type": "markdown",
   "id": "afbe1cdd-17ef-46fe-846c-d22fcedb6e0e",
   "metadata": {
    "slideshow": {
     "slide_type": "skip"
    },
    "tags": []
   },
   "source": [
    "<hr>"
   ]
  },
  {
   "cell_type": "code",
   "execution_count": null,
   "id": "c5eb96a0",
   "metadata": {
    "hide_input": true,
    "jupyter": {
     "source_hidden": true
    },
    "slideshow": {
     "slide_type": "slide"
    },
    "tags": [
     "remove-input"
    ]
   },
   "outputs": [],
   "source": [
    "display(Markdown(htmlFig([\"../images/src/SLS_WPIM.svg\", \"../images/src/SLS_TheMachine.svg\"],width=\"1024\")))"
   ]
  },
  {
   "cell_type": "markdown",
   "id": "fa2cfb35",
   "metadata": {
    "cell_style": "center",
    "hide_input": true,
    "slideshow": {
     "slide_type": "notes"
    }
   },
   "source": [
    "- bottom layer of the software that has direct access to all the hardware\n",
    "- single instance that bootstraps the hardware\n",
    "- provides means for starting application/user programs\n",
    "    - enables several to run at a time\n",
    "    - keeps them isolated from each other\n",
    "    - program can start and end  \n",
    "        - but kernel is always present and running \n",
    "        - facilities for managing the running user programs\n",
    "            - listing, pausing, terminating, etc.\n",
    "- a collection of ever present functions and objects that programs/programmers can rely on\n",
    "    - provides core \"software\" \"abstraction\" such as files \n",
    "        - makes it easier for programs to use the hardware \n",
    "        - consistent across different hardware \n",
    "    - programs / programmers need not worry about the details of the hardware \n",
    "- programs NOT humans interact with the kernel"
   ]
  },
  {
   "cell_type": "markdown",
   "id": "97ff75af-b8ec-4c48-8c2c-b1ac17eafa8e",
   "metadata": {
    "slideshow": {
     "slide_type": "skip"
    },
    "tags": []
   },
   "source": [
    "<hr>"
   ]
  },
  {
   "cell_type": "markdown",
   "id": "f6336754-d4a2-456f-88cf-7961c3fbaea1",
   "metadata": {
    "slideshow": {
     "slide_type": "slide"
    },
    "tags": []
   },
   "source": [
    "## System calls"
   ]
  },
  {
   "cell_type": "markdown",
   "id": "d2ade98c-8164-41f9-ab79-fe7ddab03b1f",
   "metadata": {
    "slideshow": {
     "slide_type": "skip"
    },
    "tags": []
   },
   "source": [
    "<hr>"
   ]
  },
  {
   "cell_type": "markdown",
   "id": "0d005f82-dd0d-494b-a94d-687ee16931f0",
   "metadata": {
    "slideshow": {
     "slide_type": "slide"
    },
    "tags": []
   },
   "source": [
    "<img  src=\"../images/syscalls.png\" width=\"1024\" style=\"border:0px; margin: 0px 0px; background-color: #00000000; display: block; margin-left: auto; margin-right: auto;\">"
   ]
  },
  {
   "cell_type": "markdown",
   "id": "763435c6-bb3e-4ecf-85b4-a4408beaf149",
   "metadata": {
    "slideshow": {
     "slide_type": "skip"
    },
    "tags": []
   },
   "source": [
    "<hr>"
   ]
  },
  {
   "cell_type": "markdown",
   "id": "3abcb194",
   "metadata": {
    "cell_style": "center",
    "slideshow": {
     "slide_type": "slide"
    }
   },
   "source": [
    "### User Programs\n",
    "\n",
    "Programs that come with the Kernel -- all the other stuff\n",
    "\n",
    "1. Display / Interface Mangers\n",
    "2. Finders/Explores \n",
    "3. All the Other Apps/Utilities\n",
    "\n",
    "This collection is unique to every OS and depends on its target audience."
   ]
  },
  {
   "cell_type": "markdown",
   "id": "e6100436",
   "metadata": {
    "cell_style": "center",
    "hide_input": true,
    "slideshow": {
     "slide_type": "notes"
    }
   },
   "source": [
    "- a collection of programs that come pre-packaged with the OS\n",
    "    - one or more interface programs \n",
    "        - provides a human with a way of interacting with the OS to use the other programs installed. Eg. \n",
    "            - the graphical front-end of your OS aka the \"desktop\", the \"home\" screen, the car menu system\n",
    "            - text based command line\n",
    "    - programs for exploring and finding information about the other programs and data installed\n",
    "        - eg. The Windows File Explore, OSX Finder, etc.\n",
    "    - Many other utilities depending of different categories depending on the OS\n",
    "        - personal computers -- media programs, web-browsers, productivity apps, etc.\n",
    "        - tools for developing new programs:\n",
    "            - program editors\n",
    "            - programming language software: python, ruby, etc.\n",
    "            - debuggers\n",
    "    - The nature and feel of these programs is specific to the goals or target audience of the OS\n",
    "        - Most of commodity OS's are targeted at non-programmers\n",
    "        - assumes ease of use is primary and programability is secondary"
   ]
  },
  {
   "cell_type": "markdown",
   "id": "9bbeac9d-1446-4c29-a853-37e7205be0ab",
   "metadata": {
    "slideshow": {
     "slide_type": "skip"
    },
    "tags": []
   },
   "source": [
    "<hr>"
   ]
  },
  {
   "cell_type": "markdown",
   "id": "b2c4f1be",
   "metadata": {
    "slideshow": {
     "slide_type": "slide"
    }
   },
   "source": [
    "## Hardware + Kernel + User Programs"
   ]
  },
  {
   "cell_type": "markdown",
   "id": "012d3334-beb3-450d-a68a-f785a1fab29d",
   "metadata": {
    "slideshow": {
     "slide_type": "skip"
    },
    "tags": []
   },
   "source": [
    "<hr>"
   ]
  },
  {
   "cell_type": "code",
   "execution_count": null,
   "id": "230f8121",
   "metadata": {
    "hide_input": true,
    "jupyter": {
     "source_hidden": true
    },
    "slideshow": {
     "slide_type": "slide"
    },
    "tags": [
     "remove-input"
    ]
   },
   "outputs": [],
   "source": [
    "display(Markdown(htmlFig(\"../images/UnixRunning.png\",\n",
    "             width=\"1024\", align=\"center\", \n",
    "             margin=\"auto auto auto auto\")))"
   ]
  },
  {
   "cell_type": "markdown",
   "id": "16301710-d250-45c6-aaf5-5030d5798c39",
   "metadata": {
    "slideshow": {
     "slide_type": "skip"
    },
    "tags": []
   },
   "source": [
    "<hr>"
   ]
  },
  {
   "cell_type": "markdown",
   "id": "6f36fe7e",
   "metadata": {
    "slideshow": {
     "slide_type": "slide"
    }
   },
   "source": [
    "## Why Unix?\n",
    "\n",
    "By programmers for programmers -- teaches you to think like a programmer.\n",
    "\n",
    "- automation is the name of the game -- every aspect is programmable\n",
    "- text oriented interfaces and utilities makes it easy to write programs that translate and transform information\n",
    "- it is easy to access and see what other OS's purposely hide\n",
    "\n",
    "A lot of the world around you runs on some form of Unix!"
   ]
  },
  {
   "cell_type": "markdown",
   "id": "7c4ed083",
   "metadata": {
    "slideshow": {
     "slide_type": "notes"
    }
   },
   "source": [
    "### Benefits to understanding/learning  Unix\n",
    "Unix's terminal interface and program development environment became the gold standard for university CS education\n",
    "- A programmer oriented model for interacting and using the computer -- The Shell\n",
    "- A collection of composable and extensible tools for processing ASCII documents\n",
    "  - Making it easy to write new programs \n",
    "    - including programs that translate ASCII documents into new programs\n",
    "- While it takes some effort to learn: \n",
    "  - it teaches you to think like a programmer\n",
    "    - writing little re-usable programs  \n",
    "    - incrementally evolving those as needed\n",
    "    - makes the value in decomposing and reusing existing programs obvious \n",
    "  - it unleashes your creativity by providing simple building blocks\n",
    "    - minimizes time and effort from idea to prototype \n",
    "    - provide a environment where everything can be customized and programmed\n",
    "    - automation is the name of the game\n",
    "  - it only has a few small core ideas that you need to understand to get going\n",
    "    - files, processes, I/O redirection\n",
    "  - Rich body of existing software for program development \n",
    "  - The computers of the Internet and Cloud primarily runs some form of Unix\n",
    "  - The embedded systems around you often run Unix\n",
    "  - Foundation of Open Source software is Unix based -- ala Linux"
   ]
  },
  {
   "cell_type": "markdown",
   "id": "e35b7075-c464-4a25-8a02-9937f362310b",
   "metadata": {
    "slideshow": {
     "slide_type": "skip"
    },
    "tags": []
   },
   "source": [
    "<hr>"
   ]
  },
  {
   "cell_type": "markdown",
   "id": "43127c61",
   "metadata": {
    "slideshow": {
     "slide_type": "slide"
    }
   },
   "source": [
    "## UNIX Preliminaries \n",
    "1. Files and Directories\n",
    "2. ASCII\n",
    "3. The Terminal and the Shell"
   ]
  },
  {
   "cell_type": "markdown",
   "id": "5565d9ef-3675-4ee9-b627-ebb4d76322f3",
   "metadata": {
    "slideshow": {
     "slide_type": "skip"
    },
    "tags": []
   },
   "source": [
    "<hr>"
   ]
  },
  {
   "cell_type": "markdown",
   "id": "681aa32d",
   "metadata": {
    "cell_style": "split",
    "slideshow": {
     "slide_type": "slide"
    }
   },
   "source": [
    "### Files and directories (folders)?\n",
    "\n",
    "<table>\n",
    "<tr>\n",
    "   <td width=\"600\">\n",
    "       \n",
    "<img src=\"../images/Files-Cabinets.jpg\">\n",
    "    \n",
    "   <td> \n",
    "      <p>\n",
    "OS converts HW into an information management and processing system\n",
    "\n",
    "- primitive for representing information: The File\n",
    "- primitive for organize the information:  Hierarchy of Directories          \n",
    "                           </p>\n",
    "    </td>\n",
    "    </tr>\n",
    "</table>    \n"
   ]
  },
  {
   "cell_type": "markdown",
   "id": "31f9ac44-6af4-4647-bf75-a1e8f7cf17c6",
   "metadata": {
    "slideshow": {
     "slide_type": "skip"
    },
    "tags": []
   },
   "source": [
    "<hr>"
   ]
  },
  {
   "cell_type": "markdown",
   "id": "34e9ade2",
   "metadata": {
    "cell_style": "center",
    "slideshow": {
     "slide_type": "slide"
    }
   },
   "source": [
    "### Files - But first the Byte and some notation\n",
    "- The byte \n",
    "    - basic unit of information the hardware can store and manipulate \n",
    "\n",
    "<center>\n",
    "<img  src=\"../images/8switches.png\" width=\"60%\"> \n",
    "</center>"
   ]
  },
  {
   "cell_type": "markdown",
   "id": "0a2dd204",
   "metadata": {
    "cell_style": "center",
    "slideshow": {
     "slide_type": "fragment"
    },
    "tags": []
   },
   "source": [
    "\n",
    "- A byte: 8 switches that form a single location of memory/storage"
   ]
  },
  {
   "cell_type": "markdown",
   "id": "3fe042ef",
   "metadata": {
    "cell_style": "center",
    "slideshow": {
     "slide_type": "fragment"
    }
   },
   "source": [
    "- We measure capacity or size of memory/storage in units of bytes"
   ]
  },
  {
   "cell_type": "markdown",
   "id": "9135657c",
   "metadata": {
    "cell_style": "center",
    "slideshow": {
     "slide_type": "fragment"
    }
   },
   "source": [
    "- We think of each byte of memory or data as a vector of 8 bits"
   ]
  },
  {
   "cell_type": "markdown",
   "id": "9ea98b08",
   "metadata": {
    "cell_style": "center",
    "slideshow": {
     "slide_type": "fragment"
    }
   },
   "source": [
    "\n",
    "$[b_7 b_6 b_5 b_4 b_3 b_2 b_1 b_0]$ where each $b_i$ is ${0,1}$    \n"
   ]
  },
  {
   "cell_type": "code",
   "execution_count": null,
   "id": "8708bdfe",
   "metadata": {
    "hide_input": true,
    "jupyter": {
     "source_hidden": true
    },
    "tags": [
     "remove-input"
    ]
   },
   "outputs": [],
   "source": [
    "displayBytes([[0x00],[0xff]], labels=[\"ALL OFF\", \"ALL ON\"])"
   ]
  },
  {
   "cell_type": "markdown",
   "id": "5157fe25",
   "metadata": {
    "cell_style": "center",
    "slideshow": {
     "slide_type": "fragment"
    },
    "tags": []
   },
   "source": [
    "\n",
    "- A byte : can take on 256 unique values -- $2^8 = 256$ possible values\n"
   ]
  },
  {
   "cell_type": "markdown",
   "id": "62624f5e-4c03-4479-8b6d-c628cca0a322",
   "metadata": {
    "slideshow": {
     "slide_type": "skip"
    },
    "tags": []
   },
   "source": [
    "<hr>"
   ]
  },
  {
   "cell_type": "markdown",
   "id": "14282cfb",
   "metadata": {
    "cell_style": "center",
    "slideshow": {
     "slide_type": "slide"
    }
   },
   "source": [
    "## Hexadecimal \n",
    "\n",
    "- often times we see base 16 (hexadecimal) used to express a particular binary byte value\n",
    "  - it is easier to write down 2 base hex digits than 8 binary digits\n",
    "\n",
    "We prefix a hex value with `0x` to distinguish base 16 values (eg. `0x11`)\n",
    "\n",
    "And we use `0b` to distinguish base 2 value (eg. `0b11`).\n",
    "\n",
    "If we don't prefix we will assume it is obvious from context or we are assuming base 10."
   ]
  },
  {
   "cell_type": "markdown",
   "id": "191f4bd6-5046-4587-9628-5461cb1d8e20",
   "metadata": {
    "slideshow": {
     "slide_type": "skip"
    },
    "tags": []
   },
   "source": [
    "<hr>"
   ]
  },
  {
   "cell_type": "code",
   "execution_count": null,
   "id": "12ead6e8",
   "metadata": {
    "hide_input": false,
    "jupyter": {
     "source_hidden": true
    },
    "slideshow": {
     "slide_type": "slide"
    },
    "tags": [
     "remove-input"
    ]
   },
   "outputs": [],
   "source": [
    "X=np.uint8(0xae)\n",
    "XL=np.bitwise_and(X,0xf)\n",
    "XH=np.bitwise_and(np.right_shift(X,4),0xf)\n",
    "#displayBytes(bytes=[[X]],td_font_size=\"2.5em\", th_font_size=\"1.5em\")\n",
    "displayBytes(bytes=[[X]])"
   ]
  },
  {
   "cell_type": "code",
   "execution_count": null,
   "id": "b138a97e",
   "metadata": {
    "cell_style": "split",
    "hide_input": false,
    "jupyter": {
     "source_hidden": true
    },
    "slideshow": {
     "slide_type": "-"
    },
    "tags": [
     "remove-input"
    ]
   },
   "outputs": [],
   "source": [
    "displayBytes(bytes=[[i] for i in range(16)], numbits=4, columns=[\"[$b_3$\", \"$b_2$\", \"$b_1$\", \"$b_0$]\"], labels=[format(i,\"1X\")for i in range(16)], labelstitle=\"HEX\", center=True)"
   ]
  },
  {
   "cell_type": "code",
   "execution_count": null,
   "id": "e72ae8e3",
   "metadata": {
    "cell_style": "split",
    "hide_input": false,
    "jupyter": {
     "source_hidden": true
    },
    "slideshow": {
     "slide_type": "fragment"
    },
    "tags": [
     "remove-input"
    ]
   },
   "outputs": [],
   "source": [
    "displayBytes(bytes=[[XH]], numbits=4,columns=[\"[$b_7$\", \"$b_6$\", \"$b_5$\", \"$b_4$]\"])"
   ]
  },
  {
   "cell_type": "code",
   "execution_count": null,
   "id": "7d7cdb44",
   "metadata": {
    "cell_style": "split",
    "hide_input": false,
    "jupyter": {
     "source_hidden": true
    },
    "slideshow": {
     "slide_type": "fragment"
    },
    "tags": [
     "remove-input"
    ]
   },
   "outputs": [],
   "source": [
    "displayBytes(bytes=[[XL]], numbits=4,columns=[\"[$b_3$\", \"$b_2$\", \"$b_1$\", \"$b_0$]\"])"
   ]
  },
  {
   "cell_type": "code",
   "execution_count": null,
   "id": "79e76a93",
   "metadata": {
    "cell_style": "split",
    "hide_input": false,
    "jupyter": {
     "source_hidden": true
    },
    "slideshow": {
     "slide_type": "fragment"
    },
    "tags": [
     "remove-input"
    ]
   },
   "outputs": [],
   "source": [
    "displayStr(format(XH,\"1X\"), size=\"4em\", align=\"center\")"
   ]
  },
  {
   "cell_type": "code",
   "execution_count": null,
   "id": "d8a9d7ce",
   "metadata": {
    "cell_style": "split",
    "hide_input": false,
    "jupyter": {
     "source_hidden": true
    },
    "slideshow": {
     "slide_type": "fragment"
    },
    "tags": [
     "remove-input"
    ]
   },
   "outputs": [],
   "source": [
    "displayStr(format(XL,\"1X\"), size=\"4em\", align=\"center\")"
   ]
  },
  {
   "cell_type": "code",
   "execution_count": null,
   "id": "0ddc6b92",
   "metadata": {
    "hide_input": false,
    "jupyter": {
     "source_hidden": true
    },
    "slideshow": {
     "slide_type": "fragment"
    },
    "tags": [
     "remove-input"
    ]
   },
   "outputs": [],
   "source": [
    "displayStr(\"0b10101110 = 0x\"+format(X,\"02X\"), size=\"4em\", align=\"center\")"
   ]
  },
  {
   "cell_type": "markdown",
   "id": "b8d36feb",
   "metadata": {
    "cell_style": "center",
    "slideshow": {
     "slide_type": "notes"
    }
   },
   "source": [
    "In base 16 (hexadecimal) each digit has 16 possible values.  The following table shows how we map all 16 possible patterns of 4 bits to a single hex digit.  This allows us to easily express any byte value as two hex digits.  We simply rewrite the two groups of 4 bits of a byte as two hex digits.\n",
    "Use chalkboard to illustrate \n",
    "- `bin2Hex(0b00010000)` : 0b00010000 $\\rightarrow$ 0x10\n",
    "- `bin2Hex(0b10000001)` : 0b10000001 $\\rightarrow$ 0x81\n",
    "- `bin2Hex(0b10111001)` : 0b10111001 $\\rightarrow$ 0xb9\n",
    "- `bin2Hex(0b10101010)` : 0b10101010 $\\rightarrow$ 0xaa\n",
    "- `bin2Hex(0b01010101)` : 0b01010101 $\\rightarrow$ 0x55\n",
    "- `bin2Hex(0b11110111)` : 0b11110111 $\\rightarrow$ 0xf7"
   ]
  },
  {
   "cell_type": "markdown",
   "id": "317c4c84",
   "metadata": {
    "cell_style": "split",
    "slideshow": {
     "slide_type": "-"
    },
    "tags": []
   },
   "source": [
    "<font size=\"5vw\">\n",
    "    \n",
    "- 0b00010000 $\\rightarrow$ 0x ?\n",
    "- 0b10000001 $\\rightarrow$ 0x ?\n",
    "- 0b10111001 $\\rightarrow$  0x ?\n",
    "- 0b10101010 $\\rightarrow$ 0x ? \n",
    "- 0b01010101 $\\rightarrow$ 0x ?\n",
    "- 0b11110111 $\\rightarrow$ 0x ?\n",
    "    \n",
    "</font>"
   ]
  },
  {
   "cell_type": "markdown",
   "id": "2fdc3f4c-c2c0-4fbf-bdec-d9c7ac1f5c5d",
   "metadata": {
    "slideshow": {
     "slide_type": "skip"
    },
    "tags": []
   },
   "source": [
    "<hr>"
   ]
  },
  {
   "cell_type": "code",
   "execution_count": null,
   "id": "84505c13",
   "metadata": {
    "cell_style": "split",
    "hide_input": false,
    "jupyter": {
     "source_hidden": true
    },
    "slideshow": {
     "slide_type": "slide"
    },
    "tags": [
     "output_scroll",
     "remove-input"
    ]
   },
   "outputs": [],
   "source": [
    "displayBytes(bytes=[[i] for i in range(256)], labelstitle=\"HEX (DEC)\", labels=[\"0x\"+format(i,\"02x\")+ \" (\" + format(i,\"03d\") +\")\" for i in range(256)], center=True)"
   ]
  },
  {
   "cell_type": "markdown",
   "id": "773547a6",
   "metadata": {
    "cell_style": "split",
    "tags": []
   },
   "source": [
    "This table shows all 256 patterns of bits that a single byte could have.  On the left is how we would refer to the value in both Hex and (decimal)"
   ]
  },
  {
   "cell_type": "markdown",
   "id": "f99d82ac-468c-4578-ab75-94a66ec01e3c",
   "metadata": {
    "slideshow": {
     "slide_type": "skip"
    },
    "tags": []
   },
   "source": [
    "<hr>"
   ]
  },
  {
   "cell_type": "markdown",
   "id": "3608f838",
   "metadata": {
    "slideshow": {
     "slide_type": "slide"
    }
   },
   "source": [
    "### Files - Data"
   ]
  },
  {
   "cell_type": "markdown",
   "id": "926a2aea-1e3b-4923-be3a-e20129ebde51",
   "metadata": {
    "slideshow": {
     "slide_type": "skip"
    },
    "tags": []
   },
   "source": [
    "<hr>"
   ]
  },
  {
   "cell_type": "markdown",
   "id": "b443e42b-c0da-4ec9-964f-5ff6cc5cf299",
   "metadata": {
    "cell_style": "split",
    "hide_input": false,
    "slideshow": {
     "slide_type": "slide"
    },
    "tags": []
   },
   "source": [
    "### The information a file contains is its data"
   ]
  },
  {
   "cell_type": "markdown",
   "id": "80ac7912-01ca-44f1-90f7-4805214a112a",
   "metadata": {
    "slideshow": {
     "slide_type": "skip"
    },
    "tags": []
   },
   "source": [
    "<hr>"
   ]
  },
  {
   "cell_type": "markdown",
   "id": "991cb34f-d953-4d2e-a572-878940e6e671",
   "metadata": {
    "cell_style": "split",
    "hide_input": false,
    "slideshow": {
     "slide_type": "slide"
    },
    "tags": []
   },
   "source": [
    "<table>\n",
    "    <tr>\n",
    "        <td>\n",
    "<img align=\"left\" src=\"../images/file.png\">\n",
    "        </td>\n",
    "        <td>\n",
    "            <p>\n",
    "                \n",
    "**Data:** is a collection of bytes:\n",
    "\n",
    "In Unix there is no explicit type that tells us what the bytes \"are\" <br>\n",
    "- they could be human readable program code\n",
    "- they could be pixel data of an image\n",
    "                </p>\n",
    "        </td>\n",
    "    </tr>\n",
    "</table>"
   ]
  },
  {
   "cell_type": "markdown",
   "id": "7476564d-6c6f-4efd-9507-324a00f712b2",
   "metadata": {
    "slideshow": {
     "slide_type": "skip"
    },
    "tags": []
   },
   "source": [
    "<hr>"
   ]
  },
  {
   "cell_type": "markdown",
   "id": "0afee1a7",
   "metadata": {
    "cell_style": "center",
    "slideshow": {
     "slide_type": "slide"
    },
    "tags": []
   },
   "source": [
    "We are free to try and interpret the bytes in any way we like depending on what programs we use to process them. \n",
    "\n",
    "UNIX assumes we know what we are doing!\n",
    "\n",
    "There are many tools that let us just work with raw bytes so we can always use these tools with any file! (eg dump its data as hexadecimal values)"
   ]
  },
  {
   "cell_type": "markdown",
   "id": "5cf4cdcf-c4a2-4def-a289-06a2b54f01ec",
   "metadata": {
    "slideshow": {
     "slide_type": "skip"
    },
    "tags": []
   },
   "source": [
    "<hr>"
   ]
  },
  {
   "cell_type": "markdown",
   "id": "1e63650a",
   "metadata": {
    "cell_style": "split",
    "slideshow": {
     "slide_type": "slide"
    }
   },
   "source": [
    "### Files - Meta Data"
   ]
  },
  {
   "cell_type": "markdown",
   "id": "0b44f41b-cb90-4e86-85b8-d1f387bf737a",
   "metadata": {
    "slideshow": {
     "slide_type": "skip"
    },
    "tags": []
   },
   "source": [
    "<hr>"
   ]
  },
  {
   "cell_type": "markdown",
   "id": "5f955cdb-ea8c-4c35-b423-89e73f446112",
   "metadata": {
    "cell_style": "split",
    "slideshow": {
     "slide_type": "slide"
    },
    "tags": []
   },
   "source": [
    "### Information describing other properties of the file."
   ]
  },
  {
   "cell_type": "markdown",
   "id": "c1b09271-cd7b-435d-99e9-329755036044",
   "metadata": {
    "slideshow": {
     "slide_type": "skip"
    },
    "tags": []
   },
   "source": [
    "<hr>"
   ]
  },
  {
   "cell_type": "markdown",
   "id": "7daf8707-2769-4f52-bbb8-8274bbe54f30",
   "metadata": {
    "cell_style": "split",
    "slideshow": {
     "slide_type": "slide"
    },
    "tags": []
   },
   "source": [
    "<table>\n",
    "<tr>\n",
    "   <td width=\"40%\">\n",
    "      <img  src=\"../images/file.png\">\n",
    "    </td>\n",
    "   <td> \n",
    "      <p>\n",
    "          \n",
    "**Meta-data:** Bytes that encode extra descriptive facts:\n",
    "- who owns the file \n",
    "- the length of the file (measured in bytes)\n",
    "- who has permissions to read or write its contents \n",
    "- the time the contents was last modified\n",
    "- the time that it was last read\n",
    "- the time that the descriptive facts where last changed (eg the file permissions were modified)\n",
    "                 </p>\n",
    "    </td>\n",
    "</table>    "
   ]
  },
  {
   "cell_type": "markdown",
   "id": "51fd4ae6-2306-4c86-a549-d63cd62c0556",
   "metadata": {
    "slideshow": {
     "slide_type": "skip"
    },
    "tags": []
   },
   "source": [
    "<hr>"
   ]
  },
  {
   "cell_type": "markdown",
   "id": "83451e2a-61a9-49a8-98fb-0a726bdd7a83",
   "metadata": {
    "slideshow": {
     "slide_type": "slide"
    },
    "tags": []
   },
   "source": [
    "The meta data is key to use being able to control access to the data of a file."
   ]
  },
  {
   "cell_type": "markdown",
   "id": "898df2b2-4416-4cac-b813-83b3d7e8198e",
   "metadata": {
    "slideshow": {
     "slide_type": "skip"
    },
    "tags": []
   },
   "source": [
    "<hr>"
   ]
  },
  {
   "cell_type": "markdown",
   "id": "dd42c25c",
   "metadata": {
    "cell_style": "split",
    "slideshow": {
     "slide_type": "slide"
    },
    "tags": []
   },
   "source": [
    "\n",
    "<img src=\"../images/359px-ENC_SYSTEME_FIGURE.jpeg\" width=\"40%\" style=\"margin:2em 1em 0em 0em\" align=\"left\" >\n",
    "\n",
    "## Hierarchy -- Trees and Directories\n",
    "\n",
    "Files are a good start but not enough to stay organized\n",
    "\n",
    "Must have a way for naming and finding files that flexible and can be easily understood and organized by the users\n",
    "\n",
    "**Directory:** a list of names each name identifies either a single file or another directory. Entries of this are *in* the directory.\n",
    "\n",
    "**Sub-directory:** contained with a parent directory\n",
    "\n",
    "Like files directories have meta-data but the data is just its list of entries. Results in a tree and the name of any file is a path within the tree.\n",
    "\n",
    "Users are empowered to organized their files as they see fit both in names and directory structure.  \n",
    "\n"
   ]
  },
  {
   "cell_type": "markdown",
   "id": "6c5a1a8f-b003-4ad6-8807-0930dc56af50",
   "metadata": {
    "slideshow": {
     "slide_type": "skip"
    },
    "tags": []
   },
   "source": [
    "<hr>"
   ]
  },
  {
   "cell_type": "markdown",
   "id": "c55bf30b",
   "metadata": {
    "cell_style": "center",
    "slideshow": {
     "slide_type": "slide"
    }
   },
   "source": [
    "### PATHS and the ROOT"
   ]
  },
  {
   "cell_type": "markdown",
   "id": "1ad99143-c79d-4306-a452-2a52356d5c9e",
   "metadata": {
    "slideshow": {
     "slide_type": "skip"
    },
    "tags": []
   },
   "source": [
    "<hr>"
   ]
  },
  {
   "cell_type": "markdown",
   "id": "b00878c8",
   "metadata": {
    "cell_style": "split",
    "slideshow": {
     "slide_type": "slide"
    },
    "tags": []
   },
   "source": [
    "<!-- produced by: \n",
    "htmlFig(\"[{'src': '../images/dirtree.png'}]\", \n",
    "        id=\"\", \n",
    "        align=\"center\", \n",
    "        width=\"80%\",\n",
    "        margin=\"auto auto auto auto\",\n",
    "        caption=\"\", \n",
    "        captionalign=\"left\")\n",
    "-->\n",
    "<table align=\"left\" width=\"40%\" cellpadding=\"0\" cellspacing=\"0\" border=\"0\" style=\"border-collapse: collapse; margin: auto auto auto auto\">\n",
    "    <tr style=\"padding: 0; margin: 0;\"> \n",
    "        <td colspan=\"1\" width=\"100%\" style=\"padding: 0; margin: 0 0 0 0; background-color:inherit;\">\n",
    "            <div style=\"padding: 0; margin: 0 0 0 0;\">\n",
    "              <figure style=\"padding: 0; margin: 0 0 0 0; width:100%;\">\n",
    "                   <img src=\"../images/dirtree.png\" width=\"100%\" style=\"padding: 0; margin: 0;\">\n",
    "                </figure>\n",
    "            </div>\n",
    "        </td>\n",
    "    </tr>\n",
    "</table>\n",
    "\n",
    "\n",
    "`/` $+$ `home` $+$ `jonathan` $+$ `Classes` $+$ `CS` $+$ `210` $+$ `Assignment 1` $+$ `Problem 1`     \n",
    "\n",
    "`/` $+$ `home` $+$ `jonathan` $+$ `Classes` $+$ `CS` $+$ `210` $+$ `Assignment 2` $+$ `Problem 1` \n",
    "\n",
    "`/` $+$ `home` $+$ `jonathan` $+$ `Classes` $+$ `CS` $+$ `210` $+$ `Assignment 3` $+$ `Problem 1` \n",
    "\n",
    "\"Full\" path name: join independent components with the \"/\" character.  So the above three files as proper unix path names would be:\n",
    "\n",
    "`/home/jonathan/Classes/CS/210/Assignment 1/Problem 1\n",
    "/home/jonathan/Classes/CS/210/Assignment 2/Problem 1\n",
    "/home/jonathan/Classes/CS/210/Assignment 3/Problem 1`"
   ]
  },
  {
   "cell_type": "markdown",
   "id": "1a2e90fe",
   "metadata": {
    "cell_style": "center",
    "slideshow": {
     "slide_type": "notes"
    }
   },
   "source": [
    "- Talk through the example draw as necessary to highlight idea of a path\n",
    "- note the notion of root as an anchor\n",
    "- later we will get to relative paths and lack of constraints on file names"
   ]
  },
  {
   "cell_type": "markdown",
   "id": "8c0021e8-4cef-4b65-aa73-d56b4e99e044",
   "metadata": {
    "slideshow": {
     "slide_type": "skip"
    },
    "tags": []
   },
   "source": [
    "<hr>"
   ]
  },
  {
   "cell_type": "markdown",
   "id": "f1ebd5d5",
   "metadata": {
    "cell_style": "center",
    "slideshow": {
     "slide_type": "slide"
    }
   },
   "source": [
    "### ASCII - One more thing\n",
    "- An important encoding of bytes that many Unix tools assume is ASCII\n",
    "<img src=\"../images/ascii.png\" width=\"70%\">\n",
    "- ASCII provides a simple code that maps bytes to English letters, numbers, punctuation, and some text orient controls. \n",
    "- The \"base\" encoding that programs use."
   ]
  },
  {
   "cell_type": "markdown",
   "id": "4673ea83-7459-4701-84d6-74cefabad9d0",
   "metadata": {
    "slideshow": {
     "slide_type": "skip"
    },
    "tags": []
   },
   "source": [
    "<hr>"
   ]
  },
  {
   "cell_type": "markdown",
   "id": "9cd1fb0e",
   "metadata": {
    "slideshow": {
     "slide_type": "slide"
    }
   },
   "source": [
    "## Terminal and the Shell - Here we go\n",
    "\n",
    "Finally ready to get on with it \n",
    "- a computer - the hardware\n",
    "- with the Unix kernel booted and running on it waiting for us!"
   ]
  },
  {
   "cell_type": "markdown",
   "id": "058c076a",
   "metadata": {
    "cell_style": "center",
    "hide_input": false,
    "slideshow": {
     "slide_type": "notes"
    }
   },
   "source": [
    "### Shell: One program to \"rule/run\" them all\n",
    "- Every story has to start somewhere\n",
    "  - every new terminal connection made to the UNIX system starts a shell and directs its input and output to the the terminal\n",
    "  - Shell is designed to have a text based conversation with a programmer --\n",
    "      - the conversation is exchanges between the programmer and the shell - eg.  \n",
    "```\n",
    "SHLL -> READY\n",
    "PGMR -> <enter> '\\n'\n",
    "SHLL -> READY\n",
    "SHLL -> #<enter> \n",
    "SHLL -> READY\n",
    "PGMR -> echo \"Hello\"\n",
    "SHLL -> Hello\n",
    "SHLL -> READY\n",
    "PGMR -> for ((i=0; i<3; i++)); do echo $i; done\n",
    "SHLL -> 0 \n",
    "SHLL -> 1\n",
    "SHLL -> 2\n",
    "SHLL -> READY\n",
    "PGMR -> Bye \n",
    "SHLL EXITS AND KERNELENDS THE TERMINAL SESSION\n",
    "          \n",
    "      - the shell begins the conversation by send a prompt \"string\" to the terminal\n",
    "      - the programmer sends requests to the shell in a \"line oriented\" way \n",
    "          - A line is a set of ASCII characters terminated by a single \"newline\" character\n",
    "              - '10', '0x0a', '\\n'\n",
    "              - the terminal sends this character when the programmer presses the \"return\" or \"enter\" key\n",
    "          \n",
    "  - Internal vs External command"
   ]
  },
  {
   "cell_type": "markdown",
   "id": "5bfda414-920c-4c9d-918f-306254681cb6",
   "metadata": {
    "slideshow": {
     "slide_type": "skip"
    },
    "tags": []
   },
   "source": [
    "<hr>"
   ]
  },
  {
   "cell_type": "markdown",
   "id": "a75358c6-2113-4fe2-880b-a1aca6fc65d1",
   "metadata": {
    "cell_style": "center",
    "hide_input": true,
    "slideshow": {
     "slide_type": "-"
    },
    "tags": [
     "remove-input"
    ]
   },
   "source": [
    "<img src=\"../images/UnixL01_SHCHT/00SHLLChat.png\" width=\"1024\" style=\"border:0px; margin: 0px 0px; background-color: #00000000; display: block; margin-left: auto; margin-right: auto;\">"
   ]
  },
  {
   "cell_type": "markdown",
   "id": "95023864-6788-4246-89fd-88946df9ca91",
   "metadata": {
    "slideshow": {
     "slide_type": "skip"
    },
    "tags": []
   },
   "source": [
    "<hr>"
   ]
  },
  {
   "cell_type": "markdown",
   "id": "441e7cd2",
   "metadata": {
    "cell_style": "split",
    "slideshow": {
     "slide_type": "slide"
    }
   },
   "source": [
    "<img src=\"../images/UnixL01_SHCHT/01SHLLChat.png\" width=\"1024\" style=\"border:0px; margin: 0px 0px; background-color: #00000000; display: block; margin-left: auto; margin-right: auto;\"> "
   ]
  },
  {
   "cell_type": "markdown",
   "id": "1d622e6f",
   "metadata": {
    "cell_style": "split",
    "slideshow": {
     "slide_type": "-"
    }
   },
   "source": [
    "### Connect a Terminal\n",
    "\n",
    "- Connect a terminal so that the system can communicate with a user via ASCII data\n",
    "- Unix kernel awaits for a user to login on the terminal"
   ]
  },
  {
   "cell_type": "markdown",
   "id": "c0ce2aab-c415-4912-8aea-dbc4668ec924",
   "metadata": {
    "slideshow": {
     "slide_type": "skip"
    },
    "tags": []
   },
   "source": [
    "<hr>"
   ]
  },
  {
   "cell_type": "markdown",
   "id": "9fa17d67",
   "metadata": {
    "cell_style": "split",
    "slideshow": {
     "slide_type": "slide"
    }
   },
   "source": [
    "<img src=\"../images/UnixL01_SHCHT/02SHLLChat.png\" width=\"1024\" style=\"border:0px; margin: 0px 0px; background-color: #00000000; display: block; margin-left: auto; margin-right: auto;\">"
   ]
  },
  {
   "cell_type": "markdown",
   "id": "d03d9116-672d-423d-a923-d6c447b8bf2e",
   "metadata": {
    "slideshow": {
     "slide_type": "skip"
    },
    "tags": []
   },
   "source": [
    "<hr>"
   ]
  },
  {
   "cell_type": "markdown",
   "id": "ddac223f-2438-45a9-8f90-bb2cc0e1020a",
   "metadata": {
    "slideshow": {
     "slide_type": "slide"
    },
    "tags": []
   },
   "source": [
    "<img src=\"../images/shellsystemcalls2.png\" width=\"1024\" style=\"border:0px; margin: 0px 0px; background-color: #00000000; display: block; margin-left: auto; margin-right: auto;\">"
   ]
  },
  {
   "cell_type": "markdown",
   "id": "a9929cf7-5891-448e-8190-de8af57aa5a1",
   "metadata": {
    "slideshow": {
     "slide_type": "skip"
    },
    "tags": []
   },
   "source": [
    "<hr>"
   ]
  },
  {
   "cell_type": "markdown",
   "id": "2c368e6f",
   "metadata": {
    "cell_style": "split",
    "slideshow": {
     "slide_type": "slide"
    },
    "tags": []
   },
   "source": [
    "### Start a Shell \n",
    "\n",
    "- Terminal prints/displays ASCII sent\n",
    "    - ASCII Byte $\\rightarrow$ character image on screen\n",
    "- User presses keys terminals sends ASCII byte\n",
    "    - key press $\\rightarrow$ ASCII Byte\n",
    "- After Login\n",
    "  - Kernel Starts users specified shell\n",
    "- The Kernel will ensure that:\n",
    "    1. Shell output $\\rightarrow$ Terminal\n",
    "    2. Terminal $\\rightarrow$ Shell "
   ]
  },
  {
   "cell_type": "markdown",
   "id": "f465348e",
   "metadata": {
    "slideshow": {
     "slide_type": "notes"
    }
   },
   "source": [
    "- Terminal prints ASCII sent to on the screen as appropriate images of the corresponding characters\n",
    "- User presses keys on the keyboard to have the Terminal send the corresponding ASCII values to the Kernel\n",
    "- After Login the kernel launches an instance of the user's chosen shell program\n",
    "- Default on Linux is Bash (Bourne Again Shell), however, there are others (eg. csh, ksh, zsh, sh, ...) \n",
    "- The Kernel will ensure that:\n",
    "    1. Shell's output will be sent to the Terminal \n",
    "    2. and values sent by the Terminal will be available to the Shell as input "
   ]
  },
  {
   "cell_type": "markdown",
   "id": "35f9f771-39c7-4811-be5f-acacdd3ae8c6",
   "metadata": {
    "slideshow": {
     "slide_type": "skip"
    },
    "tags": []
   },
   "source": [
    "<hr>"
   ]
  },
  {
   "cell_type": "markdown",
   "id": "662c93e8",
   "metadata": {
    "cell_style": "split",
    "slideshow": {
     "slide_type": "slide"
    }
   },
   "source": [
    "<img src=\"../images/UnixL01_SHCHT/03SHLLChat.png\" width=\"1024\" style=\"border:0px; margin: 0px 0px; background-color: #00000000; display: block; margin-left: auto; margin-right: auto;\">"
   ]
  },
  {
   "cell_type": "markdown",
   "id": "18586703",
   "metadata": {
    "cell_style": "split"
   },
   "source": [
    "## Shell Conversation    \n",
    "\n",
    "Exchanges:\n",
    "\n",
    "1. Request -- Command <b>line</b> sent by the user \n",
    "2. Reply -- Response sent by shell\n",
    "\n",
    "Shell Loop:\n",
    "\n",
    "``` \n",
    "while true:\n",
    "    Wait for a command \"line\"\n",
    "    Process line sending output as reply\n",
    "```\n",
    "\n",
    "Newlines `\\n` -- `0xa` mark end-of-line\n",
    "```\n",
    "hello\\n\n",
    "```"
   ]
  },
  {
   "cell_type": "markdown",
   "id": "ab8d7a22",
   "metadata": {
    "slideshow": {
     "slide_type": "notes"
    }
   },
   "source": [
    "    \n",
    "- The shell is an ASCII line oriented interface program\n",
    "- Communication is structured as a conversation between the user and the shell\n",
    "   1. Request -- Command <b>line</b> sent by the user \n",
    "   2. Reply -- Response sent by shell\n",
    "\n",
    "``` \n",
    "while true:\n",
    "    Wait for a command \"line\"\n",
    "    Process line sending output as reply\n",
    "```\n",
    "\n",
    "Lines are a sequence of ASCII characters terminated by a `\\n` -- `0xa` eg.\n",
    "```\n",
    "hello\\n\n",
    "```"
   ]
  },
  {
   "cell_type": "markdown",
   "id": "42ca1993-0f86-4687-95e7-3c8cb496f285",
   "metadata": {
    "slideshow": {
     "slide_type": "skip"
    },
    "tags": []
   },
   "source": [
    "<hr>"
   ]
  },
  {
   "cell_type": "markdown",
   "id": "2f566e57",
   "metadata": {
    "cell_style": "split",
    "slideshow": {
     "slide_type": "slide"
    }
   },
   "source": [
    "<img src=\"../images/UnixL01_SHCHT/04SHLLChat.png\" width=\"1024\" style=\"border:0px; margin: 0px 0px; background-color: #00000000; display: block; margin-left: auto; margin-right: auto;\">"
   ]
  },
  {
   "cell_type": "markdown",
   "id": "178e5f54",
   "metadata": {
    "cell_style": "split"
   },
   "source": [
    "## The Prompt\n",
    "- The prompt a string of characters that the shell sends when it is ready for input \n",
    "- It is the responsibility of the user to recognize that the shell is Ready for the their next request.\n",
    "- Here we assume the Prompt is set to be dollar sign followed by a space `$ ` or there byte values in hex `0x24,0x20` \n",
    "   - We will see later how you can customize the prompt string to your liking "
   ]
  },
  {
   "cell_type": "markdown",
   "id": "32e6f208-8a3e-4946-b3da-3d2ec9f75923",
   "metadata": {
    "slideshow": {
     "slide_type": "skip"
    },
    "tags": []
   },
   "source": [
    "<hr>"
   ]
  },
  {
   "cell_type": "markdown",
   "id": "bdb46e7e",
   "metadata": {
    "slideshow": {
     "slide_type": "slide"
    }
   },
   "source": [
    "## Terminals vs Terminal Emulators "
   ]
  },
  {
   "cell_type": "markdown",
   "id": "7b2e3a1e-d3ce-44e3-8f2b-cf754942b286",
   "metadata": {
    "slideshow": {
     "slide_type": "skip"
    },
    "tags": []
   },
   "source": [
    "<hr>"
   ]
  },
  {
   "cell_type": "code",
   "execution_count": null,
   "id": "c2aa94bf-b175-4d7b-867e-5811a6a42e0f",
   "metadata": {
    "jupyter": {
     "source_hidden": true
    },
    "slideshow": {
     "slide_type": "slide"
    },
    "tags": [
     "remove-input"
    ]
   },
   "outputs": [],
   "source": [
    "display(HTML(htmlFig(\n",
    "    [[\n",
    "        {'src':\"../images/UnixL01_SHCHT/041SHLLChat.png\",\n",
    "         'cellwidth': '47.5%',\n",
    "         'bgcolor' : 'white'\n",
    "        },\n",
    "        {'src':\"../images/terminalroom.jpg\",\n",
    "         'cellwidth': '54%',\n",
    "         'bgcolor': 'white'\n",
    "        }\n",
    "     ]], width=\"1024\"\n",
    ")))"
   ]
  },
  {
   "cell_type": "markdown",
   "id": "e8e84501-51a7-46b6-a7b2-70488f7b0be1",
   "metadata": {
    "slideshow": {
     "slide_type": "skip"
    },
    "tags": []
   },
   "source": [
    "<hr>"
   ]
  },
  {
   "cell_type": "markdown",
   "id": "5bf48b60",
   "metadata": {
    "cell_style": "split",
    "hide_input": false,
    "slideshow": {
     "slide_type": "slide"
    },
    "tags": []
   },
   "source": [
    "<img src=\"../images/UnixL01_SHCHT/042SHLLChat.png\" width=\"1024\" style=\"border:0px; margin: 0px 0px; background-color: #00000000; display: block; margin-left: auto; margin-right: auto;\">"
   ]
  },
  {
   "cell_type": "markdown",
   "id": "a7241ebc",
   "metadata": {
    "hide_input": false,
    "slideshow": {
     "slide_type": "fragment"
    }
   },
   "source": [
    "- Today a single user can create many \"terminal\" connections to organize their work.  Eg.\n",
    "   1. One to run arbitrary shell commands\n",
    "   2. One to run an ascii text editor \n",
    "   3. One to run an ascii email client\n",
    "- A Terminal is now just a program called a Terminal Emulator:\n",
    "   - You can run one to create a terminal \"session/connection\" on  your personal computers:\n",
    "       - [\"Terminal\"](https://en.wikipedia.org/wiki/Terminal_(macOS)) App on OSX\n",
    "       - [\"Windows Terminal\"](https://docs.microsoft.com/en-us/windows/terminal/) on Windows\n",
    "       - [\"xterm\"](https://en.wikipedia.org/wiki/Xterm) on Linux\n",
    "       - Or as in our case [xterm.js](https://xtermjs.org) which lets us run terminals within a web-browser (to the right) -- nice thing is then that we don't need any extra software"
   ]
  },
  {
   "cell_type": "markdown",
   "id": "c8c782c2-2fba-44fb-83fa-3d87d6c3d5f9",
   "metadata": {
    "slideshow": {
     "slide_type": "skip"
    },
    "tags": []
   },
   "source": [
    "<hr>"
   ]
  },
  {
   "cell_type": "markdown",
   "id": "0212e77e",
   "metadata": {
    "slideshow": {
     "slide_type": "slide"
    }
   },
   "source": [
    "## Shell: Lets have a conversation\n",
    "\n",
    "Lets build up our understanding by poking around a little"
   ]
  },
  {
   "cell_type": "markdown",
   "id": "7d6c1211-d978-4bdc-ab98-23fa420e9873",
   "metadata": {
    "slideshow": {
     "slide_type": "skip"
    },
    "tags": []
   },
   "source": [
    "<hr>"
   ]
  },
  {
   "cell_type": "markdown",
   "id": "7cb5a3d9-37ad-4598-aa47-d841eaff0e0a",
   "metadata": {
    "slideshow": {
     "slide_type": "slide"
    },
    "tags": []
   },
   "source": [
    "<img src=\"../images/UnixL01_SHCHT/05SHLLChat.png\" width=\"1024\" style=\"border:0px; margin: 0px 0px; background-color: #00000000; display: block; margin-left: auto; margin-right: auto;\">"
   ]
  },
  {
   "cell_type": "markdown",
   "id": "f707354f-b0a8-4ec8-9747-385288ba6141",
   "metadata": {
    "slideshow": {
     "slide_type": "skip"
    },
    "tags": []
   },
   "source": [
    "<hr>"
   ]
  },
  {
   "cell_type": "markdown",
   "id": "1aed4cfd-b96c-4cc6-bc80-c965635640d5",
   "metadata": {
    "slideshow": {
     "slide_type": "slide"
    },
    "tags": []
   },
   "source": [
    "<img src=\"../images/UnixL01_SHCHT/06SHLLChat.png\" width=\"1024\" style=\"border:0px; margin: 0px 0px; background-color: #00000000; display: block; margin-left: auto; margin-right: auto;\">"
   ]
  },
  {
   "cell_type": "markdown",
   "id": "70b451dc-9c75-41b5-82f1-a8dc4f0d106f",
   "metadata": {
    "slideshow": {
     "slide_type": "skip"
    },
    "tags": []
   },
   "source": [
    "<hr>"
   ]
  },
  {
   "cell_type": "markdown",
   "id": "d822ff70-344f-4ba5-b21b-21e2862f4f7d",
   "metadata": {
    "slideshow": {
     "slide_type": "slide"
    },
    "tags": []
   },
   "source": [
    "<img src=\"../images/UnixL01_SHCHT/08SHLLChat.png\" width=\"1024\" style=\"border:0px; margin: 0px 0px; background-color: #00000000; display: block; margin-left: auto; margin-right: auto;\">"
   ]
  },
  {
   "cell_type": "markdown",
   "id": "45a1e29c-b90c-4113-9266-c7e78bfa1246",
   "metadata": {
    "slideshow": {
     "slide_type": "skip"
    },
    "tags": []
   },
   "source": [
    "<hr>"
   ]
  },
  {
   "cell_type": "markdown",
   "id": "7bbee1ca-6de1-4cee-bcb7-9dd70d4e3574",
   "metadata": {
    "slideshow": {
     "slide_type": "slide"
    },
    "tags": []
   },
   "source": [
    "<img src=\"../images/UnixL01_SHCHT/09SHLLChat.png\" width=\"1024\" style=\"border:0px; margin: 0px 0px; background-color: #00000000; display: block; margin-left: auto; margin-right: auto;\">"
   ]
  },
  {
   "cell_type": "markdown",
   "id": "00d1bd60-b0b7-4efc-9ade-f024646e628b",
   "metadata": {
    "slideshow": {
     "slide_type": "skip"
    },
    "tags": []
   },
   "source": [
    "<hr>"
   ]
  },
  {
   "cell_type": "markdown",
   "id": "582d2816-b864-46aa-a93b-4d2e619034b3",
   "metadata": {
    "slideshow": {
     "slide_type": "slide"
    },
    "tags": []
   },
   "source": [
    "<img src=\"../images/UnixL01_SHCHT/11SHLLChat.png\" width=\"1024\" style=\"border:0px; margin: 0px 0px; background-color: #00000000; display: block; margin-left: auto; margin-right: auto;\">"
   ]
  },
  {
   "cell_type": "markdown",
   "id": "55f9e025-d323-4268-bfa1-251cc5c8feb7",
   "metadata": {
    "slideshow": {
     "slide_type": "slide"
    },
    "tags": []
   },
   "source": [
    "<img src=\"../images/UnixL01_SHCHT/12SHLLChat.png\" width=\"1024\" style=\"border:0px; margin: 0px 0px; background-color: #00000000; display: block; margin-left: auto; margin-right: auto;\">"
   ]
  },
  {
   "cell_type": "markdown",
   "id": "4a2c3570-fcc3-48de-bbbe-c3fa6bb9dd2c",
   "metadata": {
    "slideshow": {
     "slide_type": "skip"
    },
    "tags": []
   },
   "source": [
    "<hr>"
   ]
  },
  {
   "cell_type": "markdown",
   "id": "7af0f423-fa20-4535-b72e-37b865082e86",
   "metadata": {
    "slideshow": {
     "slide_type": "slide"
    },
    "tags": []
   },
   "source": [
    "<img src=\"../images/UnixL01_SHCHT/13SHLLChat.png\" width=\"1024\" style=\"border:0px; margin: 0px 0px; background-color: #00000000; display: block; margin-left: auto; margin-right: auto;\">"
   ]
  },
  {
   "cell_type": "markdown",
   "id": "a1364d30-724c-49c4-a598-782997c99f96",
   "metadata": {
    "slideshow": {
     "slide_type": "skip"
    },
    "tags": []
   },
   "source": [
    "<hr>"
   ]
  },
  {
   "cell_type": "markdown",
   "id": "3eef3ab1-2c3b-445e-9a31-b47a8c204858",
   "metadata": {
    "slideshow": {
     "slide_type": "slide"
    },
    "tags": []
   },
   "source": [
    "<img src=\"../images/UnixL01_SHCHT/14SHLLChat.png\" width=\"1024\" style=\"border:0px; margin: 0px 0px; background-color: #00000000; display: block; margin-left: auto; margin-right: auto;\">"
   ]
  },
  {
   "cell_type": "markdown",
   "id": "91ebf8a4-4a76-4d0c-b3a4-9ddf9f0a7026",
   "metadata": {
    "slideshow": {
     "slide_type": "skip"
    },
    "tags": []
   },
   "source": [
    "<hr>"
   ]
  },
  {
   "cell_type": "markdown",
   "id": "4998908c-ccba-4e30-9687-38b927073692",
   "metadata": {
    "slideshow": {
     "slide_type": "slide"
    },
    "tags": []
   },
   "source": [
    "<img src=\"../images/UnixL01_SHCHT/15SHLLChat.png\" width=\"1024\" style=\"border:0px; margin: 0px 0px; background-color: #00000000; display: block; margin-left: auto; margin-right: auto;\">"
   ]
  },
  {
   "cell_type": "markdown",
   "id": "e8264911-07e1-4f63-97ac-f7c28bd2a158",
   "metadata": {
    "slideshow": {
     "slide_type": "skip"
    },
    "tags": []
   },
   "source": [
    "<hr>"
   ]
  },
  {
   "cell_type": "markdown",
   "id": "9baee847-0b9a-43df-97ee-17f4a05b9b91",
   "metadata": {
    "slideshow": {
     "slide_type": "slide"
    },
    "tags": []
   },
   "source": [
    "<img src=\"../images/UnixL01_SHCHT/16SHLLChat.png\" width=\"1024\" style=\"border:0px; margin: 0px 0px; background-color: #00000000; display: block; margin-left: auto; margin-right: auto;\">"
   ]
  },
  {
   "cell_type": "markdown",
   "id": "6c7d342b-09ad-429d-859c-1f8ef46075ca",
   "metadata": {
    "slideshow": {
     "slide_type": "skip"
    },
    "tags": []
   },
   "source": [
    "<hr>"
   ]
  },
  {
   "cell_type": "markdown",
   "id": "f6604016-e86b-4568-8057-787188218f30",
   "metadata": {
    "slideshow": {
     "slide_type": "slide"
    },
    "tags": []
   },
   "source": [
    "<img src=\"../images/UnixL01_SHCHT/17SHLLChat.png\" width=\"1024\" style=\"border:0px; margin: 0px 0px; background-color: #00000000; display: block; margin-left: auto; margin-right: auto;\">"
   ]
  },
  {
   "cell_type": "markdown",
   "id": "5de6bf08-88f5-470e-800c-94b8c81f1938",
   "metadata": {
    "slideshow": {
     "slide_type": "skip"
    },
    "tags": []
   },
   "source": [
    "<hr>"
   ]
  },
  {
   "cell_type": "markdown",
   "id": "6270642e-c41b-4c62-87f5-8d6a6dce8fce",
   "metadata": {
    "slideshow": {
     "slide_type": "slide"
    },
    "tags": []
   },
   "source": [
    "<img src=\"../images/UnixL01_SHCHT/18SHLLChat.png\" width=\"1024\" style=\"border:0px; margin: 0px 0px; background-color: #00000000; display: block; margin-left: auto; margin-right: auto;\">"
   ]
  },
  {
   "cell_type": "markdown",
   "id": "980fffd2-6872-4e98-8aaf-e0e0c4def19c",
   "metadata": {
    "slideshow": {
     "slide_type": "skip"
    },
    "tags": []
   },
   "source": [
    "<hr>"
   ]
  },
  {
   "cell_type": "markdown",
   "id": "4a84341d-427d-412e-9496-18309f223061",
   "metadata": {
    "slideshow": {
     "slide_type": "slide"
    },
    "tags": []
   },
   "source": [
    "<img src=\"../images/UnixL01_SHCHT/19SHLLChat.png\" width=\"1024\" style=\"border:0px; margin: 0px 0px; background-color: #00000000; display: block; margin-left: auto; margin-right: auto;\">"
   ]
  },
  {
   "cell_type": "markdown",
   "id": "fe26e697-6776-49a8-a2f6-9490cdd8f55e",
   "metadata": {
    "slideshow": {
     "slide_type": "skip"
    },
    "tags": []
   },
   "source": [
    "<hr>"
   ]
  },
  {
   "cell_type": "markdown",
   "id": "c282873a",
   "metadata": {
    "slideshow": {
     "slide_type": "slide"
    }
   },
   "source": [
    "## Shell: Built-ins\n",
    "\n",
    "- So we can see that there is some  \"built-in\" behavior\n",
    "    - Actually \"built-in\" syntax forms an entire programming language ;-)\n",
    "    - more on these commands and language later\n",
    "- Lets dig deeper into the shell's inherent loop as there is more going on than you might think"
   ]
  },
  {
   "cell_type": "markdown",
   "id": "b79d18aa-40fa-4628-b0f5-3d4d317b8a28",
   "metadata": {
    "slideshow": {
     "slide_type": "skip"
    },
    "tags": []
   },
   "source": [
    "<hr>"
   ]
  },
  {
   "cell_type": "markdown",
   "id": "0761fe3f",
   "metadata": {
    "slideshow": {
     "slide_type": "slide"
    }
   },
   "source": [
    "### Shell: Processing a command line ... so far\n",
    "\n",
    "1. Splits line into blank (space or tab) separated `words`\n",
    "    - first word is the **Simple** Command to execute eg. `echo foo bar`,   `echo` is command\n",
    "        - later we will see that simple commands can be chained in interesting ways on one line\n",
    "        - optionally prefixing the command with some variable assignments\n",
    "    - remaining words are treated as arguments to the command   eg `echo foo bar`, arguments are `foo` and `bar`\n",
    "    - see [Shell Grammer](https://man7.org/linux/man-pages/man1/bash.1.html#SHELL_GRAMMAR) for the gory details \n",
    "2. Does expansions -- so far we have only seen one kind\n",
    "    - But there are actually 9 kinds of expansion \n",
    "        - we will cover aspects as we need to\n",
    "3. Execute the command\n",
    "    - If the simple command is one of the known built-ins then execute it\n",
    "    - But what happens if it is not"
   ]
  },
  {
   "cell_type": "markdown",
   "id": "e93ccef4-3c3b-4b74-aa85-65b9fb7edcb3",
   "metadata": {
    "slideshow": {
     "slide_type": "skip"
    },
    "tags": []
   },
   "source": [
    "<hr>"
   ]
  },
  {
   "cell_type": "code",
   "execution_count": null,
   "id": "0f5076ac",
   "metadata": {
    "hide_input": true,
    "jupyter": {
     "source_hidden": true
    },
    "slideshow": {
     "slide_type": "slide"
    },
    "tags": [
     "remove-input"
    ]
   },
   "outputs": [],
   "source": [
    "TermShellCmd('hello')"
   ]
  },
  {
   "cell_type": "markdown",
   "id": "f1a44a0d",
   "metadata": {
    "slideshow": {
     "slide_type": "fragment"
    }
   },
   "source": [
    "### This is where things get interesting\n",
    "### Its not quite as obvious as you might think"
   ]
  },
  {
   "cell_type": "markdown",
   "id": "2e50d330-1fda-4e79-93b7-b88e914112c2",
   "metadata": {
    "slideshow": {
     "slide_type": "skip"
    },
    "tags": []
   },
   "source": [
    "<hr>"
   ]
  },
  {
   "cell_type": "markdown",
   "id": "b82433f0",
   "metadata": {
    "cell_style": "center",
    "hide_input": true,
    "slideshow": {
     "slide_type": "slide"
    }
   },
   "source": [
    "## Shell: Externals\n",
    "\n",
    "So what happens if the first `word` of what you type does NOT match the name of a built in?\n",
    "First off what are the built-ins?\n"
   ]
  },
  {
   "cell_type": "markdown",
   "id": "a0cf9c3e",
   "metadata": {
    "slideshow": {
     "slide_type": "fragment"
    }
   },
   "source": [
    "### Bash: Built in `help` command \n",
    "\n",
    "Lets figure it out using the bash `help` built-in"
   ]
  },
  {
   "cell_type": "code",
   "execution_count": null,
   "id": "e52e0349",
   "metadata": {
    "hide_input": false,
    "jupyter": {
     "source_hidden": true
    },
    "slideshow": {
     "slide_type": "fragment"
    },
    "tags": [
     "remove-input"
    ]
   },
   "outputs": [],
   "source": [
    "bash.run(\"help\", height=\"10em\")"
   ]
  },
  {
   "cell_type": "markdown",
   "id": "9be1f98f",
   "metadata": {},
   "source": [
    "No surprise we don't see a command called `hello` ... we also don't see `ls` but ..."
   ]
  },
  {
   "cell_type": "code",
   "execution_count": null,
   "id": "b5d360a5",
   "metadata": {
    "hide_input": false,
    "jupyter": {
     "source_hidden": true
    },
    "slideshow": {
     "slide_type": "fragment"
    },
    "tags": [
     "remove-input"
    ]
   },
   "outputs": [],
   "source": [
    "bash.run(\"ls\")"
   ]
  },
  {
   "cell_type": "code",
   "execution_count": null,
   "id": "22886aac",
   "metadata": {
    "hide_input": true,
    "jupyter": {
     "source_hidden": true
    },
    "slideshow": {
     "slide_type": "fragment"
    },
    "tags": [
     "remove-input"
    ]
   },
   "outputs": [],
   "source": [
    "bash.run(\"help ls\")"
   ]
  },
  {
   "cell_type": "markdown",
   "id": "4d7b4351",
   "metadata": {
    "slideshow": {
     "slide_type": "fragment"
    }
   },
   "source": [
    "What's going? If 'ls' is not an built-in?"
   ]
  },
  {
   "cell_type": "markdown",
   "id": "451d4fc0-2fc2-476d-8b94-f1fb1ad6b0a4",
   "metadata": {
    "slideshow": {
     "slide_type": "skip"
    },
    "tags": []
   },
   "source": [
    "<hr>"
   ]
  },
  {
   "cell_type": "markdown",
   "id": "aba08cd4-b80c-4dfd-94db-67214ad97b96",
   "metadata": {},
   "source": [
    "## The gory details\n",
    "<img src=\"../images/shellexecuteflowchart.png\" width=\"1024\" style=\"border:0px; margin: 0px 0px; background-color: #ffffff; display: block; margin-left: auto; margin-right: auto;\">"
   ]
  },
  {
   "cell_type": "markdown",
   "id": "69206d0a-1ddf-4fe3-837d-0e93e7e26352",
   "metadata": {
    "slideshow": {
     "slide_type": "slide"
    },
    "tags": []
   },
   "source": [
    "## Step 4B Execute as external command"
   ]
  },
  {
   "cell_type": "markdown",
   "id": "82e81270-c495-4593-aad0-f705cbc7586d",
   "metadata": {
    "slideshow": {
     "slide_type": "slide"
    },
    "tags": []
   },
   "source": [
    "<img src=\"../images/BashProcessExecution-Step4B.png\" width=\"1024\" style=\"border:0px; margin: 0px 0px; background-color: #00000000; display: block; margin-left: auto; margin-right: auto;\">"
   ]
  },
  {
   "cell_type": "markdown",
   "id": "e55eb040-5f58-4f92-ad82-a9015920b687",
   "metadata": {
    "slideshow": {
     "slide_type": "skip"
    },
    "tags": []
   },
   "source": [
    "<hr>"
   ]
  },
  {
   "cell_type": "markdown",
   "id": "fc9f4917-8935-4944-8d7e-f2884cabc00d",
   "metadata": {
    "slideshow": {
     "slide_type": "slide"
    },
    "tags": []
   },
   "source": [
    "<img src=\"../images/BashProcessExecution-Step4B-forkexec.png\" width=\"1024\" style=\"border:0px; margin: 0px 0px; background-color: #00000000; display: block; margin-left: auto; margin-right: auto;\">"
   ]
  },
  {
   "cell_type": "markdown",
   "id": "9ad4b74d-1c6d-4f31-9cad-d2c0d22aac3c",
   "metadata": {
    "slideshow": {
     "slide_type": "skip"
    },
    "tags": []
   },
   "source": [
    "<hr>"
   ]
  },
  {
   "cell_type": "markdown",
   "id": "b68b6d1b-2866-49bf-870b-1b189ce4a14d",
   "metadata": {
    "slideshow": {
     "slide_type": "slide"
    },
    "tags": []
   },
   "source": [
    "<img src=\"../images/BashProcessExecution-Step4B-lsrunning.png\" width=\"1024\" style=\"border:0px; margin: 0px 0px; background-color: #00000000; display: block; margin-left: auto; margin-right: auto;\">"
   ]
  },
  {
   "cell_type": "markdown",
   "id": "0fb8e677-20ee-48df-91a1-f9979a207298",
   "metadata": {
    "slideshow": {
     "slide_type": "skip"
    },
    "tags": []
   },
   "source": [
    "<hr>"
   ]
  },
  {
   "cell_type": "markdown",
   "id": "c09ec1cc-fee6-45cc-bed4-2e18319ffc5c",
   "metadata": {
    "slideshow": {
     "slide_type": "slide"
    },
    "tags": []
   },
   "source": [
    "### synchronous execution\n",
    "\n",
    "<img src=\"../images/BashProcessExecution-Step5-waitcalled.png\" width=\"1024\" style=\"border:0px; margin: 0px 0px; background-color: #00000000; display: block; margin-left: auto; margin-right: auto;\">"
   ]
  },
  {
   "cell_type": "markdown",
   "id": "205f58d6-799c-4753-ae39-916e69817ba8",
   "metadata": {
    "slideshow": {
     "slide_type": "skip"
    },
    "tags": []
   },
   "source": [
    "<hr>"
   ]
  },
  {
   "cell_type": "markdown",
   "id": "9ef418d1-d97f-4d71-bd62-b44d68abe731",
   "metadata": {
    "slideshow": {
     "slide_type": "slide"
    },
    "tags": []
   },
   "source": [
    "<img src=\"../images/BashProcessExecution-Step5-exitcall.png\" width=\"1024\" style=\"border:0px; margin: 0px 0px; background-color: #00000000; display: block; margin-left: auto; margin-right: auto;\">"
   ]
  },
  {
   "cell_type": "markdown",
   "id": "cfb23a96-1994-4717-aaca-24d7be162c03",
   "metadata": {
    "slideshow": {
     "slide_type": "skip"
    },
    "tags": []
   },
   "source": [
    "<hr>"
   ]
  },
  {
   "cell_type": "markdown",
   "id": "c84d4b14",
   "metadata": {
    "cell_style": "split",
    "hide_input": false,
    "slideshow": {
     "slide_type": "slide"
    },
    "tags": []
   },
   "source": [
    "## Practical summary\n",
    "\n",
    "1. Shell searches for Simple Command in PATH"
   ]
  },
  {
   "cell_type": "code",
   "execution_count": null,
   "id": "43337591",
   "metadata": {
    "cell_style": "split",
    "hide_input": true,
    "jupyter": {
     "source_hidden": true
    },
    "slideshow": {
     "slide_type": "fragment"
    },
    "tags": [
     "remove-input"
    ]
   },
   "outputs": [],
   "source": [
    "bash.run(\"echo $PATH\")"
   ]
  },
  {
   "cell_type": "markdown",
   "id": "00fe66ee",
   "metadata": {
    "cell_style": "split",
    "slideshow": {
     "slide_type": "fragment"
    }
   },
   "source": [
    "2. if matching name of executable \"in PATH\" with the help of the kernel **start program** connecting its output\n",
    "    - wait until it exits"
   ]
  },
  {
   "cell_type": "markdown",
   "id": "a83c6a98",
   "metadata": {
    "cell_style": "split",
    "slideshow": {
     "slide_type": "fragment"
    }
   },
   "source": [
    "3. `/bin/ls` runs - more about `ls` later\n",
    "   - output goes to the terminal"
   ]
  },
  {
   "cell_type": "markdown",
   "id": "c50d88d2",
   "metadata": {
    "cell_style": "split",
    "hide_input": true,
    "slideshow": {
     "slide_type": "fragment"
    }
   },
   "source": [
    "4. Exits and gets cleaned up by Kernel\n",
    "   - shell wake's up \n",
    "   - shell picks up return value"
   ]
  },
  {
   "cell_type": "markdown",
   "id": "43484250",
   "metadata": {
    "cell_style": "split",
    "slideshow": {
     "slide_type": "fragment"
    }
   },
   "source": [
    "5. Shell sets special variable `?` to return value\n",
    "   - prints prompt \n",
    "   \n",
    "This skips several of the details."
   ]
  },
  {
   "cell_type": "markdown",
   "id": "f6280f54",
   "metadata": {
    "slideshow": {
     "slide_type": "slide"
    }
   },
   "source": [
    "### PATH Variable and Alternative\n",
    "\n",
    "- PATH environment variable is\n",
    "   - colon ':' separated list of directories \n",
    "   - the shell search list, **in order**,  for an <u>*executable*</u> file who's name matches the command name entered.\n",
    "     - more about what an <u>*executable*</u> file is later\n",
    "       - and how to mark one as such\n",
    "     - first match is used so order of directories matters"
   ]
  },
  {
   "cell_type": "markdown",
   "id": "caf3225d",
   "metadata": {
    "slideshow": {
     "slide_type": "fragment"
    }
   },
   "source": [
    "- Alternatively if the command name has a slash anywhere in it Eg. `/home/joyvan/bin/foobar`\n",
    "   - then PATH search is skipped\n",
    "   - if there is an <u>*executable*</u> who's name matches run it"
   ]
  },
  {
   "cell_type": "markdown",
   "id": "defefbb4",
   "metadata": {
    "slideshow": {
     "slide_type": "fragment"
    }
   },
   "source": [
    "Two ways to get the shell to execute programs:\n",
    "1. Modify path so shell finds it\n",
    "2. Explicitly specify the full path name of the program as if it where a command\n",
    "\n",
    "Notes: \n",
    " - Current environment variables and their values are \"copied into the new program\"\n",
    " - extra arguments on the command line are \"copied into the new program command line arguments\""
   ]
  },
  {
   "cell_type": "markdown",
   "id": "c1a6afa5",
   "metadata": {
    "cell_style": "center",
    "hide_input": true,
    "slideshow": {
     "slide_type": "slide"
    }
   },
   "source": [
    "<center>\n",
    "    \n",
    "## PAY ATTENTION\n",
    "\n",
    "</center>\n",
    "\n",
    "\n",
    "- This is where a lot of the magic and confusion about the shell and Unix comes in."
   ]
  },
  {
   "cell_type": "markdown",
   "id": "3b376865",
   "metadata": {
    "cell_style": "center",
    "hide_input": true,
    "slideshow": {
     "slide_type": "fragment"
    }
   },
   "source": [
    "1. We now see how the shell is the program we use to find and run other programs!"
   ]
  },
  {
   "cell_type": "markdown",
   "id": "fcd7d1b1",
   "metadata": {
    "cell_style": "center",
    "hide_input": true,
    "slideshow": {
     "slide_type": "fragment"
    }
   },
   "source": [
    "2. Other programs, if written in the UNIX way, will feel like they are commands of the shell\n",
    "    - technically externals are not part of the shell\n",
    "    - but there is a whole set of standard external programs that come with UNIX that one relies on to do anything \n",
    "        - including navigating the file system\n",
    "            - see what files and programs exist\n",
    "            - adding, remove and organizing\n",
    "    - by initializing PATH these standard programs *'become'* shell commands\n",
    "    "
   ]
  },
  {
   "cell_type": "markdown",
   "id": "6bd1c7b4",
   "metadata": {
    "cell_style": "center",
    "hide_input": true,
    "slideshow": {
     "slide_type": "fragment"
    }
   },
   "source": [
    "3. A user's programs can naturally extend and customize their command line experience\n",
    "    - place your own programs in to directories eg. put `hello` into `$HOME/bin`\n",
    "    - add these directories to the `PATH` variable eg. `export PATH=$PATH:$HOME/bin`\n",
    "    - `hello` is now a 'shell command'"
   ]
  },
  {
   "cell_type": "markdown",
   "id": "96d3ab50",
   "metadata": {
    "cell_style": "center",
    "hide_input": false,
    "slideshow": {
     "slide_type": "slide"
    }
   },
   "source": [
    "    \n",
    "## The UNIX Way\n",
    "\n",
    "<center>\n",
    "\n",
    "### Don't  *Hard code* - Decompose and put the power in the hands of programmers!\n",
    "\n",
    "</center>\n",
    "\n",
    "- break things down into little independent units \n",
    "    - building blocks eg. programs like `ls`, `grep`, and `wc` (even `bash`)\n",
    "        - that compose with what exists \n",
    "        - naturally extends the current environment \n",
    "        - can also be easily over-ridden or customized\n",
    "    - make everything programmable!\n",
    "\n",
    "Pay attention and you will constantly see examples of the above as we explore Unix\n",
    "    "
   ]
  },
  {
   "cell_type": "markdown",
   "id": "d4390865",
   "metadata": {
    "slideshow": {
     "slide_type": "notes"
    }
   },
   "source": [
    "- ls : reads the contents of one or more directories and prints them out\n",
    "- grep : searches ascii data for specified target patterns \n",
    "- wc: can count characters, words and lines of ascii data"
   ]
  },
  {
   "cell_type": "markdown",
   "id": "127aa088",
   "metadata": {
    "slideshow": {
     "slide_type": "slide"
    },
    "tags": []
   },
   "source": [
    "## The Shell Way\n",
    "\n",
    "### lots of little programs that naturally feel like built-ins\n",
    "- `echo $PATH`\n",
    "   - `ls /bin`\n",
    "      - see `ls` there?\n",
    "      - notice `bash` ;-)\n",
    "   - how can we figure out where `ls` is coming from\n",
    "      - bash has handy built in called `type`\n",
    "        - `help type`\n",
    "        - `type -a ls`\n",
    "   - by tradition all preinstalled programs should have a manual page\n",
    "     - `man ls`\n",
    "     - `man bash`\n",
    "     - `man <something in /bin>`\n",
    "   - many programs also have a help flag \n",
    "        - `ls --help` \n",
    "\n",
    "### extending the shell is easy\n",
    "- set `PATH=\"$HOME/bin:$PATH`\n",
    "  - putting a program or script called `hello` in `$HOME/bin`\n",
    "    - now `$ hello` will feel like a built-in\n",
    "\n",
    "### overide what's there\n",
    "- putting `ls` in `$HOME/bin` will now overide the others\n",
    "- Even override a built in\n",
    "  - `function echo() { builtin echo -n \"myecho: \"; builtin echo $@ }`\n",
    "  - will talk about this one later\n",
    "\n",
    "#### natural ways of composing and extending via programming\n",
    "Two important ones:\n",
    "\n",
    "1. shell scripts\n",
    "2. command pipelines\n",
    "\n",
    "#### shell provide natural model for composition\n",
    "\n",
    "- put shell commands in a file : eg put this in `hello`\n",
    "``` bash\n",
    "#!/bin/bash\n",
    "echo \"My first shell script\"\n",
    "echo \"hello\"\n",
    "```\n",
    "- mark as executable\n",
    "- now shell will be able to run `hello`\n",
    "\n",
    "#### pipeline: allow programs to be easily composed\n",
    "\n",
    "- `ls -1` list files - one per line\n",
    "- `wc -l` counts lines\n",
    "- `ls -1 | wc -l` - tells us how man files in this direcotyr\n",
    "- `ls -1 /bin | wc -l`\n",
    "-  or to get really fancy\n",
    "  - exploit more knowledge about shell expansion abilities\n",
    "  - `echo $PATH`\n",
    "  - `echo ${PATH//:/ }`\n",
    "  - `ls -1 ${PATH//:/ } | wc -l`\n",
    "     - what do you think this did?  "
   ]
  },
  {
   "cell_type": "markdown",
   "id": "5a9887c3",
   "metadata": {
    "slideshow": {
     "slide_type": "slide"
    },
    "tags": []
   },
   "source": [
    "A lot of the above are just teasers we will be covering these topics in more detail now that we have a more general idea of how things work"
   ]
  },
  {
   "cell_type": "markdown",
   "id": "51037765",
   "metadata": {
    "slideshow": {
     "slide_type": "slide"
    }
   },
   "source": [
    "## Before we end lets reveal more of the Shell  Loop \n",
    "\n",
    "- explore aspects over the next few lectures and the rest of our lives ;-)\n",
    "\n",
    "\n"
   ]
  },
  {
   "cell_type": "markdown",
   "id": "374776f1",
   "metadata": {
    "slideshow": {
     "slide_type": "slide"
    }
   },
   "source": [
    "### Bash Processing Loop for simple commands\n",
    "\n",
    "0. Read input line"
   ]
  },
  {
   "cell_type": "markdown",
   "id": "de3c7c01",
   "metadata": {
    "slideshow": {
     "slide_type": "fragment"
    }
   },
   "source": [
    "1. Splits line into `words` and operators \n",
    "   - applies **quoting** rules as part of this step\n",
    "     - we will cover as much of this as we need to\n",
    "       - eg. examples of when to use `\"\"`, `''`, `/` and no quotes or escapes"
   ]
  },
  {
   "cell_type": "markdown",
   "id": "50653be7",
   "metadata": {
    "slideshow": {
     "slide_type": "fragment"
    }
   },
   "source": [
    "2. **Expansions**: Nine of them we will primarily focus on core aspect of these 3\n",
    "- tilde\n",
    "- variable\n",
    "- filename\n",
    "\n",
    "See notes for more info"
   ]
  },
  {
   "cell_type": "markdown",
   "id": "a2d3e3af",
   "metadata": {
    "slideshow": {
     "slide_type": "notes"
    }
   },
   "source": [
    "    1. Brace Expansion: useful but you can wait to learn about it\n",
    "    2. **Tilde Expansion** : simple and worth knowing\n",
    "    3. *Parameter and Variable Expansion*: really useful to know basics - rest can wait till later\n",
    "    4. Command Substitutions: useful but you can wait to learn about it\n",
    "    5. Arithmetic Expansion: useful but you can wait to learn about it \n",
    "    6. Process Substitutions: subtle you can really wait on this one\n",
    "    7. Word Splitting on expansion results: subtle you can wait on this one\n",
    "    8. **Filename expansion**: basics are a must know\n",
    "    9. Quote removal: nothing really fancy here just removal of left over quotes\n",
    "      - eg. echo \"hello\"\n",
    "      \n",
    "See https://www.gnu.org/software/bash/manual/bash.html#Command-Search-and-Execution\n",
    "\n",
    "See https://www.gnu.org/software/bash/manual/bash.html#Shell-Operation"
   ]
  },
  {
   "cell_type": "markdown",
   "id": "cd1beef1",
   "metadata": {
    "slideshow": {
     "slide_type": "fragment"
    }
   },
   "source": [
    "3. **Redirections**:  how we control where input and output goes\n",
    "   - very important we will cover the basics"
   ]
  },
  {
   "cell_type": "markdown",
   "id": "009bece8",
   "metadata": {
    "slideshow": {
     "slide_type": "fragment"
    }
   },
   "source": [
    "4. Execute the command: (steps 1, 2 and 3 affect how the execution will happen) \n",
    "    1. if command has no slashes '/'\n",
    "      - if there is a 'shell function' who's name matches invoke it: **DONE**\n",
    "      - else look for a matching built-in and invoke it: **DONE**\n",
    "      - else look for matching file in path\n",
    "        - if found then carry on to B\n",
    "        - else print error : **DONE**\n",
    "    2. External program execution: either command had a slash or was found in path\n",
    "      - ask kernel to run program passing copy of arguments and environment variables\n",
    "        - a command can be prefixed with some extra variable assignments\n",
    "      - if kernel request fails\n",
    "        - if failure was due to file not being executable (and it is not a directory)\n",
    "           - then try attempt to run it as a shell script (eg. bash /tmp/hello) : **DONE**\n",
    "        - else print error: **DONE**\n",
    "        \n",
    "5. Optionally waits for command to complete and get return code\n",
    "   - update `$?`  \n",
    " \n",
    "6. Print prompt if Interactive"
   ]
  },
  {
   "cell_type": "markdown",
   "id": "afdcc5b3",
   "metadata": {
    "cell_style": "split",
    "slideshow": {
     "slide_type": "slide"
    }
   },
   "source": [
    "#### Two basic modes\n",
    "1. Interactive:\n",
    "   - Command lines are read from the terminal connection\n",
    "   \n",
    "2. Non-Interactive: \n",
    "   1. Command lines read from a file (Shell scripts)\n",
    "      - explicit: \n",
    "   2. Command line passed "
   ]
  },
  {
   "cell_type": "markdown",
   "id": "0b2e62f1",
   "metadata": {
    "hide_input": true,
    "slideshow": {
     "slide_type": "notes"
    }
   },
   "source": [
    "## NEXT\n",
    "\n",
    "### Now that we understand some basic Terminal and Shell concepts we can get on with learning some more factual / functional information\n",
    "\n",
    "- Syntax of the shell as a programming language: \n",
    "  - What the shell does beyond simple commands:\n",
    "     - loops, if, case, functions, more about variables\n",
    "- More about some the expansions the shell performs\n",
    "- Working with files and directories\n",
    "  - current working directory\n",
    "  - changing directory\n",
    "  - relative vs full path\n",
    "- I/O redirection. \n",
    "- Processes and Process control\n",
    "\n",
    "### After that we will focus on some particular Programming Tools\n"
   ]
  },
  {
   "cell_type": "markdown",
   "id": "1151a7b0",
   "metadata": {
    "slideshow": {
     "slide_type": "slide"
    }
   },
   "source": [
    "## Things worth looking at.\n",
    "\n",
    "- `help`\n",
    "- `man intro`\n",
    "- `man man`\n",
    "- `info info`\n",
    "- `info bash`\n",
    "- `man bash`  This is very big and detailed. Best to skim it and see what catches you eye. Eg.\n",
    "  - Definitions\n",
    "  - Reserved Words\n",
    "  - Shell Grammar\n",
    "    - Simple Commands\n",
    "    - Pipelines\n",
    "    - Lists\n",
    "    - Compound Commands\n",
    "  - Shell Function Definitions\n",
    "  - Shell Variables\n",
    "  - Expansion \n",
    "- `man ls`\n",
    "- `man wc`\n",
    "- `man grep`\n",
    "- `man <cmd>`\n",
    "- `info info`\n",
    "- `info bash`\n",
    "\n",
    "- Online official bash manual: https://www.gnu.org/software/bash/manual/bash.html\n",
    "- `whatis` display one-line manual page descriptions\n",
    "  - `man whatis` \n",
    "  - eg.  `whatis ls`\n",
    "- `apropos` search the manual page names and descriptions\n",
    "  - `man apropos` \n",
    "  - eg `apropos games`"
   ]
  },
  {
   "cell_type": "code",
   "execution_count": null,
   "id": "4ecb5401-7f50-4476-9529-312a1c1bb07f",
   "metadata": {
    "jupyter": {
     "source_hidden": true
    },
    "slideshow": {
     "slide_type": "skip"
    },
    "tags": [
     "remove-cell"
    ]
   },
   "outputs": [],
   "source": [
    "del bash"
   ]
  }
 ],
 "metadata": {
  "celltoolbar": "Slideshow",
  "hide_input": true,
  "kernelspec": {
   "display_name": "Python 3 (ipykernel)",
   "language": "python",
   "name": "python3"
  },
  "language_info": {
   "codemirror_mode": {
    "name": "ipython",
    "version": 3
   },
   "file_extension": ".py",
   "mimetype": "text/x-python",
   "name": "python",
   "nbconvert_exporter": "python",
   "pygments_lexer": "ipython3",
   "version": "3.10.5"
  },
  "rise": {
   "enable_chalkboard": true,
   "footer": "UCSLS -- Lecture 1",
   "header": "UNIX and Shell Intro",
   "rise": {
    "height": "90%",
    "width": "90%"
   },
   "scroll": true,
   "start_slideshow_at": "selected",
   "transition": "none"
  }
 },
 "nbformat": 4,
 "nbformat_minor": 5
}
