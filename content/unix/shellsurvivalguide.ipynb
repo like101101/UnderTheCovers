{
 "cells": [
  {
   "cell_type": "code",
   "execution_count": null,
   "id": "6983d188-c90d-47ad-88f9-1ce6dce1d12e",
   "metadata": {},
   "outputs": [],
   "source": [
    "%run -i ../python/common.py"
   ]
  },
  {
   "cell_type": "markdown",
   "id": "d0746bf8-fce3-4f6a-8868-8a27ffedd025",
   "metadata": {},
   "source": [
    "# Terminal and Shell Survival Guide/Reference"
   ]
  },
  {
   "cell_type": "markdown",
   "id": "a7871a5f-8399-4541-ad80-402e44c553c1",
   "metadata": {},
   "source": [
    "## The Shell\n",
    "\n",
    "### General notes about UNIX commands  \n",
    "\n",
    "In general UNIX commands are designed to process input and produce outputs. If no redirections are specified when starting the command. The input data typically comes from files specified as arguments to the command and the output by default is sent to the standard output which will be the same terminal that the shell is using for its standard output.  If no input files are specified and no input redirection is done then the input will come from the standard input which again by default will be the terminal that the shell is using for its inputs.\n",
    "\n",
    "### Working with Files and directories\n",
    "\n",
    "\n",
    "#### list contents of a directory\n",
    "\n",
    "##### using ls \n",
    "\n",
    "##### using find\n",
    "\n",
    "#### navigating the directory tree\n",
    "\n",
    "##### current working directory\n",
    "\n",
    "#### making a new directory\n",
    "\n",
    "#### renaming / moving a directory\n",
    "\n",
    "#### creating an empty file\n",
    "\n",
    "#### using redirection to save output to a file\n",
    "\n",
    "#### using redirection to get input from a file\n",
    "\n",
    "#### using cat to read the contents of a file and write it some where else\n",
    "\n",
    "##### using cat with ASCII files\n",
    "\n",
    "###### adding line numbers\n",
    "\n",
    "##### using cat with non-ASCII files\n",
    "\n",
    "#### using grep to search ASCII files\n",
    "\n",
    "#### using diff to compare ASCII files\n",
    "\n",
    "#### using wc to count lines, words and characters\n",
    "\n",
    "#### examining and changing permissions of files and directories\n",
    "\n",
    "#### deleting file\n",
    "\n",
    "#### deleting a directory\n",
    "\n",
    "\n"
   ]
  },
  {
   "cell_type": "markdown",
   "id": "b90eb60e-ded3-4dbf-9059-379d2bb10a64",
   "metadata": {},
   "source": [
    "### Usefull pipelines\n",
    "\n",
    "#### Using grep to process the output of commands\n",
    "\n",
    "The grep command is very useful in pipelines to filter or search for certain values in the output of another command.  Here we will look at a few examples.  As always remember there can be many way to accomplish the same thing on UNIX.  It is important it to find patterns of doing things that you understand and can reuse creatively.\n"
   ]
  },
  {
   "cell_type": "code",
   "execution_count": null,
   "id": "8eaab09d-48e8-4880-b5de-95cb299b01bf",
   "metadata": {},
   "outputs": [],
   "source": []
  },
  {
   "cell_type": "code",
   "execution_count": null,
   "id": "14d688fd-9366-43e3-a129-258e146a7358",
   "metadata": {},
   "outputs": [],
   "source": [
    "TermShellCmd('cat /etc/password', cwd=\"/home/jovyan\", wait=False, markdown=False)"
   ]
  },
  {
   "cell_type": "markdown",
   "id": "570ed5f1-b30d-4dd7-a0a0-3420f15e9207",
   "metadata": {},
   "source": [
    "#### Using while and read to process lines\n"
   ]
  },
  {
   "cell_type": "markdown",
   "id": "cc4e48cc-62ed-412e-bf95-6604784ae624",
   "metadata": {},
   "source": [
    "### More adanced useful shell idoms"
   ]
  },
  {
   "cell_type": "markdown",
   "id": "0d92269b-3276-4cb4-829d-807924cef61d",
   "metadata": {},
   "source": [
    "#### Combining pipes with AND and OR Lists\n",
    "\n",
    "The following use a date, grep pipeline "
   ]
  },
  {
   "cell_type": "code",
   "execution_count": null,
   "id": "b4b1f449-130f-4ffb-a71d-8fb20f96249d",
   "metadata": {
    "jupyter": {
     "source_hidden": true
    },
    "tags": []
   },
   "outputs": [],
   "source": [
    "TermShellCmd('date  | grep -i Mon && echo \"run this on Monday\" || echo \"Run this all other days\"', cwd=\"/home/jovyan\", wait=False, markdown=False)"
   ]
  },
  {
   "cell_type": "markdown",
   "id": "94a7b7c1-ac18-4c63-9849-c7cf49101dfe",
   "metadata": {},
   "source": [
    "### Working with processes"
   ]
  },
  {
   "cell_type": "markdown",
   "id": "2b2ee5ce-bafd-477d-8530-a78891b631dd",
   "metadata": {},
   "source": [
    "## Editing files"
   ]
  },
  {
   "cell_type": "markdown",
   "id": "2bcdfb22-d1e0-4220-a185-024976558adf",
   "metadata": {},
   "source": [
    "## GIT"
   ]
  },
  {
   "cell_type": "markdown",
   "id": "2fc9c2f2-b021-454e-9c8e-0e33f4da3825",
   "metadata": {},
   "source": [
    "## Make"
   ]
  }
 ],
 "metadata": {
  "kernelspec": {
   "display_name": "Python 3 (ipykernel)",
   "language": "python",
   "name": "python3"
  },
  "language_info": {
   "codemirror_mode": {
    "name": "ipython",
    "version": 3
   },
   "file_extension": ".py",
   "mimetype": "text/x-python",
   "name": "python",
   "nbconvert_exporter": "python",
   "pygments_lexer": "ipython3",
   "version": "3.9.6"
  }
 },
 "nbformat": 4,
 "nbformat_minor": 5
}
