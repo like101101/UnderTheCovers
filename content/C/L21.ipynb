{
 "cells": [
  {
   "cell_type": "markdown",
   "id": "0c7361cc-36ef-4e52-9fd6-a6270f7811fc",
   "metadata": {},
   "source": [
    "# UC-SLS Lecture 21 : The rest of LibC and other libraries\n",
    "\n",
    "- string functions\n",
    "- math\n",
    "- random\n",
    "- setjmp, longjmp \n",
    "- communications\n",
    "- UNIX\n",
    "  - tty\n",
    "    - curses\n",
    "  - mkdir\n",
    "  - rmdir\n",
    "  - remove\n",
    "  - rename "
   ]
  },
  {
   "cell_type": "code",
   "execution_count": null,
   "id": "831bbafb",
   "metadata": {},
   "outputs": [],
   "source": []
  }
 ],
 "metadata": {
  "hide_input": false,
  "kernelspec": {
   "display_name": "Python 3 (ipykernel)",
   "language": "python",
   "name": "python3"
  },
  "language_info": {
   "codemirror_mode": {
    "name": "ipython",
    "version": 3
   },
   "file_extension": ".py",
   "mimetype": "text/x-python",
   "name": "python",
   "nbconvert_exporter": "python",
   "pygments_lexer": "ipython3",
   "version": "3.9.6"
  }
 },
 "nbformat": 4,
 "nbformat_minor": 5
}
