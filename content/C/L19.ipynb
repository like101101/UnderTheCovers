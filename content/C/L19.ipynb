{
 "cells": [
  {
   "cell_type": "markdown",
   "id": "8acc092a-c399-4b65-b6ec-7461dcdfb6e5",
   "metadata": {},
   "source": [
    "# UC-SLS Lecture 19 : Using C to map and organize our data bytes - Data Types\n",
    "\n",
    "1. Intrinsic Types\n",
    "2. Arrays\n",
    "3. Structures\n",
    "4. Unions\n",
    "\n",
    "Underlying Themes:\n",
    "- Memory and Memory Layout is exposed \n",
    "- Pointers provide first class support for working with address and types\n",
    "- Alignment and Endianess\n",
    "- Opcodes are generated to match type \n",
    "  - you no longer have to worry about being consistent\n",
    "    - as long as you carefully type things\n",
    "  - subtle gotchas \n",
    "    - mixing types\n",
    "    - mixing sizes"
   ]
  },
  {
   "cell_type": "code",
   "execution_count": null,
   "id": "b85147c9",
   "metadata": {},
   "outputs": [],
   "source": []
  }
 ],
 "metadata": {
  "hide_input": false,
  "kernelspec": {
   "display_name": "Python 3 (ipykernel)",
   "language": "python",
   "name": "python3"
  },
  "language_info": {
   "codemirror_mode": {
    "name": "ipython",
    "version": 3
   },
   "file_extension": ".py",
   "mimetype": "text/x-python",
   "name": "python",
   "nbconvert_exporter": "python",
   "pygments_lexer": "ipython3",
   "version": "3.9.6"
  }
 },
 "nbformat": 4,
 "nbformat_minor": 5
}
