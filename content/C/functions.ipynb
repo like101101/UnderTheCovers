{
 "cells": [
  {
   "cell_type": "code",
   "execution_count": null,
   "id": "238798af-24c2-48ca-9046-d9144c7ec3f0",
   "metadata": {},
   "outputs": [],
   "source": [
    "%run -i ../python/common.py\n",
    "#%run -i ../python/ln_preamble.py"
   ]
  },
  {
   "cell_type": "markdown",
   "id": "20d36a3e-f85f-4dae-a2c9-27d9f3b9c75e",
   "metadata": {},
   "source": [
    "# Organizing and writing '.text'"
   ]
  },
  {
   "cell_type": "markdown",
   "id": "878378a4-a308-4961-bf78-9b799b4602ee",
   "metadata": {},
   "source": [
    "As we saw in the prior section of the book a core aspect of programming a computer is to organize and layout opcodes into memory.  \n"
   ]
  },
  {
   "cell_type": "code",
   "execution_count": null,
   "id": "7fac2bd9-7f23-4867-98a5-cc8c4db8cbdf",
   "metadata": {
    "hide_input": true
   },
   "outputs": [],
   "source": [
    "TermShellCmd(\"gcc -fcf-protection=none -fno-asynchronous-unwind-tables -Os -S -masm=intel myfunc0.c\")"
   ]
  },
  {
   "cell_type": "code",
   "execution_count": null,
   "id": "dadea6f5-c80f-4879-9be2-9519a8dfc3c6",
   "metadata": {
    "hide_input": true
   },
   "outputs": [],
   "source": [
    "display(Markdown(FileCodeBox(\n",
    "    file=\"./myfunc0.s\", \n",
    "    lang=\"gas\", \n",
    "    title=\"<b>CODE: asm - myfunc0.s\",\n",
    "    h=\"100%\", \n",
    "    w=\"107em\"\n",
    ")))"
   ]
  },
  {
   "cell_type": "code",
   "execution_count": null,
   "id": "d6fe6712-51dc-4956-ab7d-d230448010d9",
   "metadata": {},
   "outputs": [],
   "source": []
  }
 ],
 "metadata": {
  "hide_input": true,
  "kernelspec": {
   "display_name": "Python 3 (ipykernel)",
   "language": "python",
   "name": "python3"
  },
  "language_info": {
   "codemirror_mode": {
    "name": "ipython",
    "version": 3
   },
   "file_extension": ".py",
   "mimetype": "text/x-python",
   "name": "python",
   "nbconvert_exporter": "python",
   "pygments_lexer": "ipython3",
   "version": "3.9.6"
  }
 },
 "nbformat": 4,
 "nbformat_minor": 5
}
