{
 "cells": [
  {
   "cell_type": "code",
   "execution_count": null,
   "id": "436c18bd",
   "metadata": {
    "hide_input": false,
    "jupyter": {
     "source_hidden": true
    },
    "tags": [
     "remove-cell"
    ]
   },
   "outputs": [],
   "source": [
    "%run -i ../python/common.py\n",
    "UC_SKIPTERMS=True\n",
    "%run -i ../python/ln_preamble.py"
   ]
  },
  {
   "cell_type": "markdown",
   "id": "de926147-e4b1-48d7-9529-5af8052def53",
   "metadata": {},
   "source": [
    "# UC-SLS Lecture 9 : Assembly : Operations and Data Types"
   ]
  },
  {
   "cell_type": "markdown",
   "id": "be5b3593-7508-464d-8309-08d57961e21e",
   "metadata": {
    "slideshow": {
     "slide_type": "skip"
    },
    "tags": []
   },
   "source": [
    "<hr>"
   ]
  },
  {
   "cell_type": "markdown",
   "id": "13da3d14-3536-4c05-8482-60db2c977fbf",
   "metadata": {
    "slideshow": {
     "slide_type": "slide"
    },
    "tags": []
   },
   "source": [
    "% BODY\n",
    "<img src=\"../images/ASSEMBLY-PGMI/ASSEMBLY-PGMI.029.png\" width=\"100%\">"
   ]
  },
  {
   "cell_type": "markdown",
   "id": "bd94b2f9-6036-40e3-9233-df45c08ff737",
   "metadata": {
    "slideshow": {
     "slide_type": "notes"
    },
    "tags": []
   },
   "source": [
    "% NOTES"
   ]
  },
  {
   "cell_type": "markdown",
   "id": "bdce3628-0260-46cf-998b-3953ba75f1bf",
   "metadata": {
    "slideshow": {
     "slide_type": "skip"
    },
    "tags": []
   },
   "source": [
    "<hr>"
   ]
  },
  {
   "cell_type": "markdown",
   "id": "ea2910f7-ccf8-4684-8999-186aac150c19",
   "metadata": {
    "slideshow": {
     "slide_type": "slide"
    },
    "tags": []
   },
   "source": [
    "## Let's start with some preliminaries about Bytes "
   ]
  },
  {
   "cell_type": "markdown",
   "id": "d7d38032-03ca-4759-b547-e8ce286960ed",
   "metadata": {
    "slideshow": {
     "slide_type": "slide"
    }
   },
   "source": [
    "## We need some notation \n",
    "[UC-SLS:Representing information - Preliminaries: Bits, Bytes and Notation](https://jappavoo.github.io/UndertheCovers/textbook/assembly/InfoRepI.html)"
   ]
  },
  {
   "cell_type": "markdown",
   "id": "b5adc36c-d108-4142-9b44-086a20d39666",
   "metadata": {
    "slideshow": {
     "slide_type": "slide"
    }
   },
   "source": [
    "### Vectors of bits"
   ]
  },
  {
   "cell_type": "markdown",
   "id": "b59f5536-6a8b-4567-ab31-917a192d2d60",
   "metadata": {
    "slideshow": {
     "slide_type": "slide"
    }
   },
   "source": [
    "- Byte a vector of 8 bits\n",
    "\n",
    "$$\n",
    "[b_7 b_6 b_5 b_4 b_3 b_2 b_1 b_0] \\; \\text{where} \\; b_i \\in \\{0,1\\}\n",
    "$$  "
   ]
  },
  {
   "cell_type": "code",
   "execution_count": null,
   "id": "df4ba5e7",
   "metadata": {
    "hide_input": true,
    "jupyter": {
     "source_hidden": true
    },
    "tags": [
     "remove-input"
    ]
   },
   "outputs": [],
   "source": [
    "displayBytes([[0x00],[0xff]], labels=[\"ALL OFF\", \"ALL ON\"])"
   ]
  },
  {
   "cell_type": "markdown",
   "id": "62373b0d-488e-44b0-b008-f6e655f9948e",
   "metadata": {
    "slideshow": {
     "slide_type": "slide"
    }
   },
   "source": [
    "Natural to define value, as a non-negative integer (UINT), as the positional sum of powers of two as follows:\n",
    "\n",
    "$$ \n",
    "\\sum_{i=0}^{7} b_i \\times 2^{i}\n",
    "$$\n"
   ]
  },
  {
   "cell_type": "markdown",
   "id": "60a6e975-0fbe-476a-a610-c874c67451fb",
   "metadata": {},
   "source": [
    "$$ [10010011] $$\n",
    "\n",
    "$$ 1\\times2^7 + 0 \\times  2^6  + 0 \\times 2^5 + 1 \\times 2^4 + 0 \\times 2^3 + 0 \\times 2^2 + 1 \\times 2^1 + 1 \\times 2^0 $$ \n",
    "\n",
    "$$ (2*2*2*2*2*2*2)  + 0 + 0 + (2*2*2*2) + 0 + 0 + 2 + 1 $$\n",
    "\n",
    "$$ 128 + 32 + 2 + 1 $$\n",
    "\n",
    "$$ 147 $$"
   ]
  },
  {
   "cell_type": "markdown",
   "id": "a9ac2ad6-76f7-4464-ab42-40e631d3536e",
   "metadata": {
    "slideshow": {
     "slide_type": "slide"
    }
   },
   "source": [
    "### Beyond 8 bits \n",
    "\n",
    "More generally $n$-bit binary vector\n",
    "\n",
    "$$ \n",
    "X_{n} \\equiv [ x_{n-1} x_{n-2} \\ldots x_{0} ] \n",
    "$$\n",
    "\n",
    "$$ \n",
    "\\sum_{i=0}^{n-1} b_i \\times 2^{i}\n",
    "$$\n",
    "\n",
    "Standard lengths are certain multiples of 8 \n",
    "\n",
    "\n",
    "| Multiplication | Number of Bits| Notation | Names |\n",
    "| --- | --- | --- | --- |\n",
    "| $1 \\times 8$  |  8 bits  | $X_{8}$   | Byte, C: unsigned  char  |\n",
    "| $2 \\times 8$  | 16 bits  | $X_{16}$  | INTEL: Word, ARM: Half Word, C: unsigned short |\n",
    "| $4 \\times 8$  | 32 bits  | $X_{32}$  | INTEL: Double Word, ARM: Word, C: unsigned int |\n",
    "| $8 \\times 8$  | 64 bits  | $X_{64}$  | INTEL: Quad Word, ARM: Double Word, C: unsigned long long  | \n",
    "| $16 \\times 8$ | 128 bits | $X_{128}$ | INTEL: Double Quad Word, ARM: Quad Word |\n",
    "| $32 \\times 8$ | 256 bits | $X_{256}$ | ? |\n",
    "| $64 \\times 8$ | 512 bits | $X_{512}$ | ? |\n",
    "\n",
    "1. Memory is an array of bytes\n",
    "2. Registers vary in their sizes depends on the CPU "
   ]
  },
  {
   "cell_type": "markdown",
   "id": "85b870d0-17c7-4645-854c-608baf3a9431",
   "metadata": {
    "slideshow": {
     "slide_type": "slide"
    }
   },
   "source": [
    "## A program is bytes and manipulates bytes\n",
    " - codes is represented with bytes\n",
    " - data is represented with bytes\n",
    " - CPU operations are encoded with bytes \n",
    "    - byte oriented operations of CPU are our building blocks "
   ]
  },
  {
   "cell_type": "markdown",
   "id": "22b2d09e-375c-444d-9ada-915c3051f0fc",
   "metadata": {
    "slideshow": {
     "slide_type": "slide"
    }
   },
   "source": [
    "## One more word about integers"
   ]
  },
  {
   "cell_type": "markdown",
   "id": "f783e0c9-ff69-4890-8006-7d4ed43b46d5",
   "metadata": {
    "slideshow": {
     "slide_type": "-"
    }
   },
   "source": [
    "- As humans we very quickly become comfortable with the idea of negative quantities\n",
    "- But what does negative and positive \"mean\" when dealing with binary vectors\n",
    "   - CPUs default support is for unsigned $n$ bit integers $0$ to $2^{n} - 1$ \n",
    "     - add, subtract, bitwise and, bitwise or, compare, etc\n",
    "   - CPUs typically have special support to for signed integers\n",
    "      - a very clever encoding \n",
    "        - \"2's Complement\" encodes a positive and negative values \n",
    "           - $-2^{n-1}$ to $2^{n-1}-1$ in $n$ bits\n",
    "        - As Assembly programmers we will need to carefully know what instructions are sensitive\n",
    "           - does NOT matter\n",
    "              - add, subtract, bitwise and, bitwise or\n",
    "           - does matter\n",
    "              - operations that depend on comparison (eg less than, greater than)\n",
    "   - punt on the details of 2's complement till later\n",
    "   - we will assume signed values and focus on when it matters"
   ]
  },
  {
   "cell_type": "markdown",
   "id": "a9ff8d01-262b-4ea6-8290-1a5a46649eac",
   "metadata": {
    "slideshow": {
     "slide_type": "slide"
    },
    "tags": []
   },
   "source": [
    "% BODY\n",
    "<img src=\"../images/ASSEMBLY-PGMI/ASSEMBLY-PGMI.030.png\" width=\"100%\">"
   ]
  },
  {
   "cell_type": "markdown",
   "id": "86728903-3360-47a2-8e93-9396c018e838",
   "metadata": {
    "slideshow": {
     "slide_type": "notes"
    },
    "tags": []
   },
   "source": [
    "% NOTES"
   ]
  },
  {
   "cell_type": "markdown",
   "id": "cba67a22-af2d-47d4-9141-7b9bad9d732f",
   "metadata": {
    "slideshow": {
     "slide_type": "skip"
    },
    "tags": []
   },
   "source": [
    "<hr>"
   ]
  },
  {
   "cell_type": "markdown",
   "id": "7a9a1f76-ad46-4ba2-af7e-06fced117c7e",
   "metadata": {
    "slideshow": {
     "slide_type": "slide"
    },
    "tags": []
   },
   "source": [
    "% BODY\n",
    "<img src=\"../images/ASSEMBLY-PGMI/ASSEMBLY-PGMI.031.png\" width=\"100%\">"
   ]
  },
  {
   "cell_type": "markdown",
   "id": "10f1e4e5-2b0d-4750-9cc6-31ac79edde5a",
   "metadata": {
    "slideshow": {
     "slide_type": "notes"
    },
    "tags": []
   },
   "source": [
    "% NOTES"
   ]
  },
  {
   "cell_type": "markdown",
   "id": "24bb0afc-d4df-4a57-8bd9-660c15a2214f",
   "metadata": {
    "slideshow": {
     "slide_type": "skip"
    },
    "tags": []
   },
   "source": [
    "<hr>"
   ]
  },
  {
   "cell_type": "markdown",
   "id": "952c11c0-0802-4590-824d-63c297cb5864",
   "metadata": {
    "slideshow": {
     "slide_type": "slide"
    },
    "tags": []
   },
   "source": [
    "% BODY\n",
    "<img src=\"../images/ASSEMBLY-PGMI/ASSEMBLY-PGMI.032.png\" width=\"100%\">"
   ]
  },
  {
   "cell_type": "markdown",
   "id": "6aa3e34d-559e-440e-bf4f-423d7cdf289d",
   "metadata": {
    "slideshow": {
     "slide_type": "notes"
    },
    "tags": []
   },
   "source": [
    "% NOTES"
   ]
  },
  {
   "cell_type": "markdown",
   "id": "58a61c00-a54a-46fa-89e0-232f60ec3845",
   "metadata": {
    "slideshow": {
     "slide_type": "skip"
    },
    "tags": []
   },
   "source": [
    "<hr>"
   ]
  },
  {
   "cell_type": "markdown",
   "id": "687b44e3-adb3-4950-8df1-a96c42101e2f",
   "metadata": {
    "slideshow": {
     "slide_type": "slide"
    },
    "tags": []
   },
   "source": [
    "% BODY\n",
    "<img src=\"../images/ASSEMBLY-PGMI/ASSEMBLY-PGMI.033.png\" width=\"100%\">"
   ]
  },
  {
   "cell_type": "markdown",
   "id": "d02c2179-e1bc-4c52-bb85-5782a0950aab",
   "metadata": {
    "slideshow": {
     "slide_type": "notes"
    },
    "tags": []
   },
   "source": [
    "% NOTES"
   ]
  },
  {
   "cell_type": "markdown",
   "id": "0f104c95-4e84-4839-a9f0-fa8316d88c31",
   "metadata": {
    "slideshow": {
     "slide_type": "skip"
    },
    "tags": []
   },
   "source": [
    "<hr>"
   ]
  },
  {
   "cell_type": "markdown",
   "id": "7afd2e1e-c688-4913-b5e3-02d483cc1719",
   "metadata": {
    "slideshow": {
     "slide_type": "slide"
    },
    "tags": []
   },
   "source": [
    "% BODY\n",
    "<img src=\"../images/ASSEMBLY-PGMI/ASSEMBLY-PGMI.034.png\" width=\"100%\">"
   ]
  },
  {
   "cell_type": "markdown",
   "id": "192d0050-b569-4313-adf0-ce7f133551ad",
   "metadata": {
    "slideshow": {
     "slide_type": "notes"
    },
    "tags": []
   },
   "source": [
    "% NOTES"
   ]
  },
  {
   "cell_type": "markdown",
   "id": "410e8f11-92ab-4632-9979-7cff10b728aa",
   "metadata": {
    "slideshow": {
     "slide_type": "skip"
    },
    "tags": []
   },
   "source": [
    "<hr>"
   ]
  },
  {
   "cell_type": "markdown",
   "id": "bb881c61-d93d-4192-a90e-4b1540b533f6",
   "metadata": {
    "slideshow": {
     "slide_type": "slide"
    },
    "tags": []
   },
   "source": [
    "% BODY\n",
    "<img src=\"../images/ASSEMBLY-PGMI/ASSEMBLY-PGMI.035.png\" width=\"100%\">"
   ]
  },
  {
   "cell_type": "markdown",
   "id": "8db01189-9f21-4c70-8325-9b9b7e318d70",
   "metadata": {
    "slideshow": {
     "slide_type": "notes"
    },
    "tags": []
   },
   "source": [
    "% NOTES"
   ]
  },
  {
   "cell_type": "markdown",
   "id": "0895a6c3-95bf-48f8-8529-4b8264236fe7",
   "metadata": {
    "slideshow": {
     "slide_type": "skip"
    },
    "tags": []
   },
   "source": [
    "<hr>"
   ]
  },
  {
   "cell_type": "markdown",
   "id": "73e19a29-50d2-424a-9d4b-aa35931786eb",
   "metadata": {
    "slideshow": {
     "slide_type": "slide"
    },
    "tags": []
   },
   "source": [
    "% BODY\n",
    "<img src=\"../images/ASSEMBLY-PGMI/ASSEMBLY-PGMI.036.png\" width=\"100%\">"
   ]
  },
  {
   "cell_type": "markdown",
   "id": "61c0d7bc-0f6f-452a-89ff-3e9dc39a9199",
   "metadata": {
    "slideshow": {
     "slide_type": "notes"
    },
    "tags": []
   },
   "source": [
    "% NOTES"
   ]
  },
  {
   "cell_type": "markdown",
   "id": "b49b8a71-3d0b-4cec-b2d0-5bd6a182f9b8",
   "metadata": {
    "slideshow": {
     "slide_type": "skip"
    },
    "tags": []
   },
   "source": [
    "<hr>"
   ]
  },
  {
   "cell_type": "markdown",
   "id": "d48d2ed4-86f2-4551-a13c-2fe389057c76",
   "metadata": {
    "slideshow": {
     "slide_type": "slide"
    },
    "tags": []
   },
   "source": [
    "% BODY\n",
    "<img src=\"../images/ASSEMBLY-PGMI/ASSEMBLY-PGMI.037.png\" width=\"100%\">"
   ]
  },
  {
   "cell_type": "markdown",
   "id": "d1304cd6-25ce-4269-b3c3-3558fec3141d",
   "metadata": {
    "slideshow": {
     "slide_type": "notes"
    },
    "tags": []
   },
   "source": [
    "% NOTES"
   ]
  },
  {
   "cell_type": "markdown",
   "id": "639ef8cb-b545-4caf-bc51-398a40a623e4",
   "metadata": {
    "slideshow": {
     "slide_type": "skip"
    },
    "tags": []
   },
   "source": [
    "<hr>"
   ]
  },
  {
   "cell_type": "markdown",
   "id": "93ff24ed-d763-4e85-a699-4d12c92d8b54",
   "metadata": {
    "slideshow": {
     "slide_type": "slide"
    },
    "tags": []
   },
   "source": [
    "% BODY\n",
    "<img src=\"../images/ASSEMBLY-PGMI/ASSEMBLY-PGMI.038.png\" width=\"100%\">"
   ]
  },
  {
   "cell_type": "markdown",
   "id": "7ed06bde-563a-48f7-8d69-30fb06856f32",
   "metadata": {
    "slideshow": {
     "slide_type": "notes"
    },
    "tags": []
   },
   "source": [
    "% NOTES"
   ]
  },
  {
   "cell_type": "markdown",
   "id": "cc90e7dc-8ab2-4a5f-b8b7-b4b743dfca73",
   "metadata": {
    "slideshow": {
     "slide_type": "skip"
    },
    "tags": []
   },
   "source": [
    "<hr>"
   ]
  },
  {
   "cell_type": "markdown",
   "id": "d92b1954-885d-42e9-bd2a-97162de205d5",
   "metadata": {
    "slideshow": {
     "slide_type": "slide"
    },
    "tags": []
   },
   "source": [
    "% BODY\n",
    "<img src=\"../images/ASSEMBLY-PGMI/ASSEMBLY-PGMI.039.png\" width=\"100%\">"
   ]
  },
  {
   "cell_type": "markdown",
   "id": "cddf10fd-2d44-4840-a3cc-176c3019f6bd",
   "metadata": {
    "slideshow": {
     "slide_type": "notes"
    },
    "tags": []
   },
   "source": [
    "% NOTES"
   ]
  },
  {
   "cell_type": "markdown",
   "id": "1e8e1fec-6938-42c4-8727-e54bf3b96aa8",
   "metadata": {
    "slideshow": {
     "slide_type": "skip"
    },
    "tags": []
   },
   "source": [
    "<hr>"
   ]
  },
  {
   "cell_type": "markdown",
   "id": "f482e558-dc7e-470c-9352-effec3173232",
   "metadata": {
    "slideshow": {
     "slide_type": "slide"
    },
    "tags": []
   },
   "source": [
    "% BODY\n",
    "<img src=\"../images/ASSEMBLY-PGMI/ASSEMBLY-PGMI.040.png\" width=\"100%\">"
   ]
  },
  {
   "cell_type": "markdown",
   "id": "10363b53-145a-469e-8a3f-7e73d41b629a",
   "metadata": {
    "slideshow": {
     "slide_type": "notes"
    },
    "tags": []
   },
   "source": [
    "% NOTES"
   ]
  },
  {
   "cell_type": "markdown",
   "id": "884b4cd0-499e-4758-882e-5e64f6460295",
   "metadata": {
    "slideshow": {
     "slide_type": "skip"
    },
    "tags": []
   },
   "source": [
    "<hr>"
   ]
  },
  {
   "cell_type": "markdown",
   "id": "2580ab7f-925a-452c-a89a-9e824fe8c590",
   "metadata": {
    "slideshow": {
     "slide_type": "slide"
    },
    "tags": []
   },
   "source": [
    "% BODY\n",
    "<img src=\"../images/ASSEMBLY-PGMI/ASSEMBLY-PGMI.041.png\" width=\"100%\">"
   ]
  },
  {
   "cell_type": "markdown",
   "id": "601ad224-af49-4017-a075-691c542b149d",
   "metadata": {
    "slideshow": {
     "slide_type": "notes"
    },
    "tags": []
   },
   "source": [
    "% NOTES"
   ]
  },
  {
   "cell_type": "markdown",
   "id": "a24dcfd7-c158-44a2-a322-1530c0bb3e16",
   "metadata": {
    "slideshow": {
     "slide_type": "skip"
    },
    "tags": []
   },
   "source": [
    "<hr>"
   ]
  },
  {
   "cell_type": "markdown",
   "id": "f71e3429-78b4-4d86-a6d5-e036a42b9b8e",
   "metadata": {
    "slideshow": {
     "slide_type": "slide"
    },
    "tags": []
   },
   "source": [
    "% BODY\n",
    "<img src=\"../images/ASSEMBLY-PGMI/ASSEMBLY-PGMI.042.png\" width=\"100%\">"
   ]
  },
  {
   "cell_type": "markdown",
   "id": "3835fafd-315d-4139-ac66-85bb790947c2",
   "metadata": {
    "slideshow": {
     "slide_type": "notes"
    },
    "tags": []
   },
   "source": [
    "% NOTES"
   ]
  },
  {
   "cell_type": "markdown",
   "id": "0437c418-1be9-470f-9c14-190d7b8999f7",
   "metadata": {
    "slideshow": {
     "slide_type": "skip"
    },
    "tags": []
   },
   "source": [
    "<hr>"
   ]
  },
  {
   "cell_type": "markdown",
   "id": "1078dacc-e169-42b4-b80c-518568b29185",
   "metadata": {
    "slideshow": {
     "slide_type": "slide"
    },
    "tags": []
   },
   "source": [
    "% BODY\n",
    "<img src=\"../images/ASSEMBLY-PGMI/ASSEMBLY-PGMI.043.png\" width=\"100%\">"
   ]
  },
  {
   "cell_type": "markdown",
   "id": "85315635-7416-40e2-adcf-8e9393ffe488",
   "metadata": {
    "slideshow": {
     "slide_type": "notes"
    },
    "tags": []
   },
   "source": [
    "% NOTES"
   ]
  },
  {
   "cell_type": "markdown",
   "id": "01f1ba5f-1224-45ee-a0a8-8dbcf102b784",
   "metadata": {
    "slideshow": {
     "slide_type": "skip"
    },
    "tags": []
   },
   "source": [
    "<hr>"
   ]
  },
  {
   "cell_type": "markdown",
   "id": "965995a1-3212-45b5-a131-cc134aa916b1",
   "metadata": {
    "slideshow": {
     "slide_type": "slide"
    },
    "tags": []
   },
   "source": [
    "% BODY\n",
    "<img src=\"../images/ASSEMBLY-PGMI/ASSEMBLY-PGMI.045.png\" width=\"100%\">"
   ]
  },
  {
   "cell_type": "markdown",
   "id": "c1ca48c1-f9f1-4798-b133-8a730bb4b2eb",
   "metadata": {
    "slideshow": {
     "slide_type": "notes"
    },
    "tags": []
   },
   "source": [
    "% NOTES"
   ]
  },
  {
   "cell_type": "markdown",
   "id": "ae1c11b9-2db1-40c8-95a7-a85601d9643d",
   "metadata": {
    "slideshow": {
     "slide_type": "skip"
    },
    "tags": []
   },
   "source": [
    "<hr>"
   ]
  },
  {
   "cell_type": "markdown",
   "id": "b7bdeae8-3a62-4289-9e99-4c4f263ce735",
   "metadata": {
    "slideshow": {
     "slide_type": "slide"
    },
    "tags": []
   },
   "source": [
    "% BODY\n",
    "<img src=\"../images/ASSEMBLY-PGMI/ASSEMBLY-PGMI.046.png\" width=\"100%\">"
   ]
  },
  {
   "cell_type": "markdown",
   "id": "b4140b2f-90d3-465e-9098-1fa61f5b5b17",
   "metadata": {
    "slideshow": {
     "slide_type": "notes"
    },
    "tags": []
   },
   "source": [
    "% NOTES"
   ]
  },
  {
   "cell_type": "markdown",
   "id": "e7c7529b-251c-4ec4-84be-e48199771bd7",
   "metadata": {
    "slideshow": {
     "slide_type": "skip"
    },
    "tags": []
   },
   "source": [
    "<hr>"
   ]
  },
  {
   "cell_type": "markdown",
   "id": "b9dbca15-9815-485b-9214-08cf142ccaf8",
   "metadata": {
    "slideshow": {
     "slide_type": "slide"
    },
    "tags": []
   },
   "source": [
    "% BODY\n",
    "<img src=\"../images/ASSEMBLY-PGMI/ASSEMBLY-PGMI.047.png\" width=\"100%\">"
   ]
  },
  {
   "cell_type": "markdown",
   "id": "7beac845-758b-4580-abd8-b6ab8ec092c3",
   "metadata": {
    "slideshow": {
     "slide_type": "notes"
    },
    "tags": []
   },
   "source": [
    "% NOTES"
   ]
  },
  {
   "cell_type": "markdown",
   "id": "3caf6d08-055e-4dca-86e6-8e42c71b44e1",
   "metadata": {
    "slideshow": {
     "slide_type": "skip"
    },
    "tags": []
   },
   "source": [
    "<hr>"
   ]
  },
  {
   "cell_type": "markdown",
   "id": "115a5b2e-7efc-45d1-a438-a13c29561e73",
   "metadata": {
    "slideshow": {
     "slide_type": "slide"
    },
    "tags": []
   },
   "source": [
    "% BODY\n",
    "<img src=\"../images/ASSEMBLY-PGMI/ASSEMBLY-PGMI.048.png\" width=\"100%\">"
   ]
  },
  {
   "cell_type": "markdown",
   "id": "2d8d0e49-9c0e-4418-a455-fd09a0cc42bb",
   "metadata": {
    "slideshow": {
     "slide_type": "skip"
    },
    "tags": []
   },
   "source": [
    "<hr>"
   ]
  },
  {
   "cell_type": "markdown",
   "id": "6107f496-c13a-41a6-9808-a096879c8b7e",
   "metadata": {
    "slideshow": {
     "slide_type": "slide"
    },
    "tags": []
   },
   "source": [
    "## Programming Homework\n",
    "\n",
    "The following will get us started applying the ideas we have explored by:\n",
    "\n",
    "1. introducing the basic INTEL syntax we will need to write code composed of INTEL cpu instructions\n",
    "2. introducing the \"Addressing Mode\" syntax that we use to specify \"operands\" for our operations\n",
    "3. learn how to use the `mov` INTEL instruction\n",
    "4. use gdb to explore binaries created from our code"
   ]
  },
  {
   "cell_type": "markdown",
   "id": "07389d26-c847-47ca-9bf8-5040f79d44a4",
   "metadata": {
    "slideshow": {
     "slide_type": "skip"
    },
    "tags": []
   },
   "source": [
    "<hr>"
   ]
  },
  {
   "cell_type": "markdown",
   "id": "f582e2a1-5f98-4833-9bbd-6056aefa8dfc",
   "metadata": {
    "hide_input": true,
    "slideshow": {
     "slide_type": "slide"
    }
   },
   "source": [
    "## A simple mov.S program"
   ]
  },
  {
   "cell_type": "markdown",
   "id": "43bdbc03-9851-474a-be5a-7a2c2f0343ac",
   "metadata": {},
   "source": [
    "### Setup"
   ]
  },
  {
   "cell_type": "code",
   "execution_count": null,
   "id": "46788170",
   "metadata": {
    "hide_input": false,
    "jupyter": {
     "source_hidden": true
    },
    "slideshow": {
     "slide_type": "-"
    },
    "tags": [
     "remove-input"
    ]
   },
   "outputs": [],
   "source": [
    "# setup for mov example\n",
    "movdir=os.getenv('HOME')\n",
    "movdir=movdir + \"/mov\"\n",
    "#print(movdir)\n",
    "output=runTermCmd(\"[[ -d \" + movdir + \" ]] &&  rm -rf \"+ movdir + \n",
    "             \";mkdir \" + movdir + \n",
    "             \";cp ../src/mov.S ../src/Makefile ../src/setup.gdb ../src/movexamples.s \" + movdir)\n",
    "#TermShellCmd(\"ls\", cwd=movdir)\n",
    "Markdown('''\n",
    "- create a directory `mkdir mov; cd mov`\n",
    "- create and write  `mov.S` below\n",
    "- add a `Makefile` to automate assembling and linking\n",
    "    - we are going run the commands by hand this time to highlight the details\n",
    "- add our `setup.gdb` to make working in gdb easier\n",
    "- normally you would want to track everything in git\n",
    "''')"
   ]
  },
  {
   "cell_type": "code",
   "execution_count": null,
   "id": "186f135a",
   "metadata": {
    "hide_input": false,
    "jupyter": {
     "source_hidden": true
    },
    "tags": [
     "remove-input"
    ]
   },
   "outputs": [],
   "source": [
    "display(Markdown(FileCodeBox(\n",
    "    file=movdir+\"/mov.S\", \n",
    "    lang=\"gas\", \n",
    "    title=\"<b>CODE: asm - mov.S\",\n",
    "    h=\"100%\", \n",
    "    w=\"107em\"\n",
    ")))"
   ]
  },
  {
   "cell_type": "markdown",
   "id": "c9c8c152-4026-443c-a5df-bca1c9fc6465",
   "metadata": {
    "hide_input": false,
    "slideshow": {
     "slide_type": "slide"
    }
   },
   "source": [
    "### Assemble `mov.S ` into `mov.o`  directly with assembler (as)\n",
    "\n",
    "- we could add `-g` flag to add extra debugger information but lets skip it for now"
   ]
  },
  {
   "cell_type": "code",
   "execution_count": null,
   "id": "56682252",
   "metadata": {
    "hide_input": false,
    "jupyter": {
     "source_hidden": true
    },
    "tags": [
     "remove-input"
    ]
   },
   "outputs": [],
   "source": [
    "TermShellCmd(\"[[ -a mov.o ]] && rm mov.o;make DEBUG='' ASFLAGS='' mov.o\", prompt='', cwd=movdir)"
   ]
  },
  {
   "cell_type": "markdown",
   "id": "53c4138e-b0d2-454d-b41c-b45925529c9b",
   "metadata": {},
   "source": [
    "#### `mov.o` is NOT an executable"
   ]
  },
  {
   "cell_type": "code",
   "execution_count": null,
   "id": "0efd9e75",
   "metadata": {
    "hide_input": false,
    "jupyter": {
     "source_hidden": true
    },
    "tags": [
     "remove-input"
    ]
   },
   "outputs": [],
   "source": [
    "TermShellCmd(\"ls -l mov.o\", cwd=movdir, pretext='$ ls -l mov.o', prompt='')"
   ]
  },
  {
   "cell_type": "markdown",
   "id": "a027b19a-da27-4ee1-8293-fa22e0ad767e",
   "metadata": {
    "tags": []
   },
   "source": [
    "#### What kind of file is is it?"
   ]
  },
  {
   "cell_type": "code",
   "execution_count": null,
   "id": "35bdd4bb",
   "metadata": {
    "hide_input": true,
    "jupyter": {
     "source_hidden": true
    },
    "tags": [
     "remove-input"
    ]
   },
   "outputs": [],
   "source": [
    "TermShellCmd(\"file mov.o\", cwd=movdir, pretext='$ file mov.o', prompt='')"
   ]
  },
  {
   "cell_type": "markdown",
   "id": "eb167f53-2837-4373-867b-a48072ff8464",
   "metadata": {},
   "source": [
    "#### Examine Symbol Table\n",
    "\n",
    "The assembler records a table, in the output object file, that  containing all the symbols we created in our assembly code.\n",
    "In our case, the two lines of our code that introduces symbols were:\n",
    "\n",
    "1. the `.equ` that introduced the symbol `EXIT_SYSCALL_NR` that we explicitly gave a value of decimal 60 to\n",
    "2. the label line `start:` introduced a symbol whose value is the address in memory of where our `mov` instruction will be placed\n",
    "\n",
    "We can use the `objdump -t` command to see this table.  It displays one line per symbol with several pieces of information per symbol.\n",
    "For now, all we care about, is the first number and the name which appears at the end of the line.\n",
    "The first number is the symbols value.  Most of symbols we introduce will be labels (like `_start`).  For labels the value is a location in \n",
    "memory -- a memory address.   Note by default `objdump` prints values using hexadecimal notation."
   ]
  },
  {
   "cell_type": "code",
   "execution_count": null,
   "id": "c846b7ce",
   "metadata": {
    "hide_input": true,
    "jupyter": {
     "source_hidden": true
    },
    "tags": [
     "remove-input"
    ]
   },
   "outputs": [],
   "source": [
    "TermShellCmd(\"objdump -t mov.o\", cwd=movdir, pretext='$ objdump -t mov.o', prompt='')"
   ]
  },
  {
   "cell_type": "markdown",
   "id": "ed190de1-a72a-4c04-9236-6c979299bd87",
   "metadata": {},
   "source": [
    "Notice in our object file the symbol `_start` has not been assigned a location in memory yet.  This is indicated by the zeros as its value.\n",
    "It will be the linker's job to assign the symbols, that are labels,  their locations in memory and hence give them their final value."
   ]
  },
  {
   "cell_type": "markdown",
   "id": "0c1d7255-5e84-488c-a4ad-8673d1a8925a",
   "metadata": {
    "hide_input": true,
    "slideshow": {
     "slide_type": "slide"
    }
   },
   "source": [
    "### Link  `mov.o` to produce the binary `mov` with linker (ld)\n",
    "\n",
    "- we don't really have any other files to link \n",
    "- simply need to have linker organize things as per guidelines provided by the Operating Systems\n",
    "  - these guidelines are provided in something called a linker script \n",
    "  - You can use `ld -verbose` to see the default linker script it uses\n",
    "     - if you do look at it beware the syntax is very cryptic"
   ]
  },
  {
   "cell_type": "markdown",
   "id": "398bb483-f5cb-4d56-b1c6-0a2248401459",
   "metadata": {},
   "source": [
    "Use ld to link"
   ]
  },
  {
   "cell_type": "code",
   "execution_count": null,
   "id": "4da1489f",
   "metadata": {
    "hide_input": true,
    "jupyter": {
     "source_hidden": true
    },
    "tags": [
     "remove-input"
    ]
   },
   "outputs": [],
   "source": [
    "TermShellCmd(\"make LDFLAGS='' DEBUG=''  mov\", cwd=movdir, prompt='')"
   ]
  },
  {
   "cell_type": "code",
   "execution_count": null,
   "id": "acd759b4",
   "metadata": {
    "hide_input": true,
    "jupyter": {
     "source_hidden": true
    },
    "tags": [
     "remove-input"
    ]
   },
   "outputs": [],
   "source": [
    "TermShellCmd(\"ls -l mov\",cwd=movdir, pretext='$ ls -l mov', prompt='')"
   ]
  },
  {
   "cell_type": "code",
   "execution_count": null,
   "id": "92a4f868",
   "metadata": {
    "hide_input": false,
    "jupyter": {
     "source_hidden": true
    },
    "tags": [
     "remove-input"
    ]
   },
   "outputs": [],
   "source": [
    "TermShellCmd(\"file mov\", cwd=movdir, pretext=\"$ file mov\", prompt='')"
   ]
  },
  {
   "cell_type": "code",
   "execution_count": null,
   "id": "5a1e3f28",
   "metadata": {
    "hide_input": false,
    "jupyter": {
     "source_hidden": true
    },
    "tags": [
     "remove-input"
    ]
   },
   "outputs": [],
   "source": [
    "TermShellCmd(\"objdump -t mov\", cwd=movdir, prompt='', pretext='$ objdump -t mov') "
   ]
  },
  {
   "cell_type": "markdown",
   "id": "e8eee313-5a44-4713-8a39-88341995cbe9",
   "metadata": {},
   "source": [
    "Notice that the symbol table of the final binary executable, `mov`, has a value assigned for `_start`.  This tells us that the data that we placed after the label will be located at the address that is the symbol's value.  In our case the address is `0x401000`.  When we use `gdb`, we should find at that address, is the bytes that encode the `mov` instruction we wrote (`mov rax, 0b1000`).  This can be tricky at first to keep straight.  A label is assigned a memory address by the linker but the byte values at the location in memory will be generated from the assembly statements we place after the label.  In this way labels are just human names for location's in memory.  However, at those locations are values that give the location meaning.\n",
    "\n",
    "Next when you use `gdb` poke around and try to draw a picture to clarify what is going on.  Try to make sure you can understand the difference between the address of `_start` versus the values of the bytes at that address."
   ]
  },
  {
   "cell_type": "markdown",
   "id": "1cad1e1e-df6f-421c-b4d0-4e3f3c9e44a1",
   "metadata": {},
   "source": [
    "````{note}\n",
    "**Running our binary:** Since we added the proper exit code we can certainly run out binary but it's not that interesting.\n",
    "```bash\n",
    "$ ./mov\n",
    "$ echo $?\n",
    "2\n",
    "```\n",
    "````"
   ]
  },
  {
   "cell_type": "markdown",
   "id": "6dacc120-b281-4076-a967-a8ee0f0020bf",
   "metadata": {
    "slideshow": {
     "slide_type": "slide"
    }
   },
   "source": [
    "### Use debugger to explore\n",
    "\n",
    "To really learn something from this program we have to explore it with the debugger.`"
   ]
  },
  {
   "cell_type": "markdown",
   "id": "3ec722d6-5554-4d59-8509-4240de75b6e9",
   "metadata": {},
   "source": [
    "#### rebuild with more debug info `-g`"
   ]
  },
  {
   "cell_type": "code",
   "execution_count": null,
   "id": "9486e360",
   "metadata": {
    "hide_input": true,
    "jupyter": {
     "source_hidden": true
    },
    "tags": [
     "remove-input"
    ]
   },
   "outputs": [],
   "source": [
    "TermShellCmd(\"make clean; make LDFLAGS='' ASFLAGS='' mov\", cwd=movdir, prompt='',pretext='')"
   ]
  },
  {
   "cell_type": "markdown",
   "id": "fa159975-588c-4a82-ae9c-4997cbb3aeaf",
   "metadata": {
    "tags": []
   },
   "source": [
    "### start gdb and poke around\n",
    "\n",
    "gdb -tui mov -x setup.gdb \n",
    "\n",
    "Don't just run the following command blindly.  You are trying to use GDB commands to learn about how things work.\n",
    "\n",
    "1. set a break point at `_start`\n",
    "2. start a process from the binary `run`\n",
    "3. examine the value of `rax` and the pc (`rip`)\n",
    "   - What is the address of the `rip`?\n",
    "   - What is the address of `_start`?\n",
    "   - What does `disass _start` do?\n",
    "   - What are the values of the bytes at `_start` (use the examine (`x/7xb _start`))?\n",
    "4. single step on instruction (`stepi`)\n",
    "5. examine `rax`\n",
    "6. quit the debugger\n",
    "\n",
    "Now try modifying the code to load a different value, rebuild and use gdb again to explore your new binary.  **Remember to create a binary from your code you must always rerun the assembler and linker to translate it.**  Writing a `Makefile` to automate this step will save you a lot of headaches.  All of us change our code and forget to rebuild and wonder why things aren't working ;-)"
   ]
  },
  {
   "cell_type": "markdown",
   "id": "7e77e176-638a-476b-af4b-14285aa1c537",
   "metadata": {
    "slideshow": {
     "slide_type": "skip"
    },
    "tags": []
   },
   "source": [
    "<hr>"
   ]
  },
  {
   "cell_type": "markdown",
   "id": "2e290447-f6de-4d24-af2c-03b5f35f05d8",
   "metadata": {},
   "source": [
    "## Formally getting started with Assembly Programming Syntax "
   ]
  },
  {
   "cell_type": "markdown",
   "id": "9a43739d-87ed-4e41-bb4f-b73e967a137b",
   "metadata": {
    "slideshow": {
     "slide_type": "skip"
    },
    "tags": []
   },
   "source": [
    "<hr>"
   ]
  },
  {
   "cell_type": "markdown",
   "id": "dd5e8331-a52e-4223-a456-66917a7fb768",
   "metadata": {
    "slideshow": {
     "slide_type": "slide"
    }
   },
   "source": [
    "## Assembly Instruction Statement Syntax\n",
    "\n",
    "Lets take a minute to examine the syntax of using the assembler to specify \n",
    "CPU operations we want done.  Remember the CPU's manual provides is with a \n",
    "short name called a **mnemonic** is the short-hand name of an operation it \n",
    "supports.  These sometime are also called instructions.\n",
    "\n",
    "Here is the syntax:\n",
    "\n",
    "```gas\n",
    "[label:] mnemonic [operands][ # comment ]\n",
    "```\n",
    "\n",
    "Anything in square brackets is optional depending on the mnemonic.  \n",
    "\n",
    "The following are the four types of Intel instructions\n",
    "\n",
    "1. `mnemonic` - alone no explicitly defined operands\n",
    "2. `mnemonic <destination>` - a single operand \n",
    "   - which is the destination ... where the result will be stored\n",
    "3. `mnemonic <destination>, <source>` - two operands \n",
    "  - one that names a source location for input\n",
    "  - and one that is the destination\n",
    "4. `mnemonic <destination>, <source A>, <source B>` - three operands\n",
    "   - two that name input sources \n",
    "   - and one that names the destination \n",
    "   \n",
    "### Labels\n",
    "\n",
    "By placing a label, before an assembly instruction statement, we are introducing a symbol.  This symbol marks the location where the instruction gets located in memory.\n",
    "We can use this symbol in other parts of our code to refer back to the location of where this instruction ends up.  This is really useful when we start writing\n",
    "loops, conditional logic, functions etc.\n"
   ]
  },
  {
   "cell_type": "markdown",
   "id": "8b528d67-87f2-4ec4-ba90-e21f9bdf3eb2",
   "metadata": {},
   "source": [
    "<hr>"
   ]
  },
  {
   "cell_type": "markdown",
   "id": "181dcbca-b29a-4af3-86f2-64135ba3961d",
   "metadata": {
    "slideshow": {
     "slide_type": "slide"
    }
   },
   "source": [
    "### Sources and destinations (Operand Addressing)\n",
    "\n",
    "When we write assembly code the operations like `mov` or `add` will need arguments.  Generically we call the arguments **operands**.\n",
    "Some operands specify where the input values for the operation should come from.  Similarly other operands specify where the output value should go.\n",
    "We call the inputs `sources` and the output `destinations`.\n",
    "\n",
    "Sources and destinations must name both a location of a value and its length.\n",
    "\n",
    "-Eg. `2` bytes at Address `0x10000` is the operand for the instruction\n",
    "\n",
    "Lets look at this a little more closely."
   ]
  },
  {
   "cell_type": "markdown",
   "id": "048b4878-40e6-463c-bee2-8ac452ae60c4",
   "metadata": {},
   "source": [
    "<hr>"
   ]
  },
  {
   "cell_type": "markdown",
   "id": "409d4f77-cc07-4750-a5d9-3d56fbe5c96d",
   "metadata": {
    "slideshow": {
     "slide_type": "slide"
    }
   },
   "source": [
    "## Addressing Modes for sources and destinations\n",
    "\n",
    "- lets look more closely now at the \"address modes\" by carefully studying the various ways we can use the `mov` instruction\n",
    "  - by looking at the ways that we can specify its `operands`\n",
    "  \n",
    "```\n",
    "      mov <destination>, <source>\n",
    "```\n",
    "\n",
    "`<destination>` and `<source>` are the operands and the `mov` is the mnemonic of instruction we want to encode.\n"
   ]
  },
  {
   "cell_type": "markdown",
   "id": "f0b70e4f-bbb6-43a4-ad95-b6eda027a969",
   "metadata": {
    "slideshow": {
     "slide_type": "slide"
    }
   },
   "source": [
    "### The INTEL `mov` instruction\n",
    "\n",
    "Overwrite the `<destination>` with a copy of what is in the `<source>`\n",
    "- note the value that was in `<destination>` is **over-written**\n",
    "  - its \"gone\"\n",
    "- the `<source>` still has its version \n",
    "\n",
    "This is actually more like copy than move!\n",
    "\n",
    "From a high level programming perspective it is like an assignment statement\n",
    "\n",
    "```x = y;```\n"
   ]
  },
  {
   "cell_type": "markdown",
   "id": "da982144-9603-47d8-9954-13876d75b4b5",
   "metadata": {
    "slideshow": {
     "slide_type": "slide"
    }
   },
   "source": [
    "### destinations and sources\n",
    "\n",
    "Here are the various types of locations that can be a source or destination\n",
    "\n",
    "1. Register  (reg) -- one of the processor's registers\n",
    "2. Memory    (mem) -- an address of an arbitrary memory location\n",
    "3. Immediate (imm) -- a special type of Memory location where the value is in the bytes following the opcode\n",
    "     - You can only use Immediates as a source\n",
    "\n",
    "Here is the valid combinations that you can have\n",
    "\n",
    "- `mov <reg>, <reg>`\n",
    "- `mov <reg>, <mem>`\n",
    "- `mov <mem>, <reg>`\n",
    "- `mov <reg>, <imm>`\n",
    "\n",
    "What is missing?"
   ]
  },
  {
   "cell_type": "markdown",
   "id": "619e2c79-dded-4cd2-a1ba-51321cfdab59",
   "metadata": {
    "slideshow": {
     "slide_type": "slide"
    }
   },
   "source": [
    "#### Sizes\n",
    "\n",
    "- Register names specify size of location\n",
    "  - The rules for mixing is a little subtle (eg moving from a smaller to larger register)\n",
    "- Immediates generally are 1,2,4 bytes in size\n",
    "- We will see memory syntax next"
   ]
  },
  {
   "cell_type": "markdown",
   "id": "d00fbe2f-10d5-4ec1-95b3-2052486ce797",
   "metadata": {
    "slideshow": {
     "slide_type": "slide"
    }
   },
   "source": [
    "#### Specifying memory locations is subtle -- Effective Address\n",
    "\n",
    "Here is a brief summary.   \n",
    "\n",
    "- Most general form \n",
    "$$ EA={Base}_{reg} + ({Index}_{reg} * {Scale}) + {Displacement} $$\n",
    "where\n",
    "- $Scale = \\{1,2,5,8\\}$ \n",
    "- ${Displacement}$ is 8-bit, 16-bit, or 32-bit value\n",
    "- ${Base}_{reg}$ and ${Index}_{reg}$ are the value in a 64-bit general-purpose register.\n",
    "\n",
    "The components can be mixed and matched to make it easier to work with arrays and data structures of various kinds located in memory.  \n",
    "\n",
    "There are several version of syntax for these combinations"
   ]
  },
  {
   "cell_type": "markdown",
   "id": "2ddafc99-5170-4150-b202-2c3b2814f7de",
   "metadata": {
    "slideshow": {
     "slide_type": "notes"
    }
   },
   "source": [
    "#### Specifying and offset/address to be used to locate the operand value\n",
    "\n",
    "They Gory details from the INTEL manuals -- At this point this is really just for reference sake.\n",
    "\n",
    "- A lot of the subtly and confusion come from how we work with memory locations \n",
    "  - Effective address\n",
    "     1. static location: \n",
    "       - \" Displacement: A displacement alone represents a direct (uncomputed) offset to the operand. Because the displacement is encoded in the instruction, this form of an address is sometimes called an absolute or static address. It is commonly used to access a statically allocated scalar operand.\n",
    "     2. dynamic location:\n",
    "       - \"Base: A base alone represents an indirect offset to the operand. Since the value in the base register can change, it can be used for dynamic storage of variables and data structures.\"\n",
    "     3. dynamic + static\n",
    "     \"Base + Displacement: A base register and a displacement can be used together for two distinct purposes:\n",
    "          - As an index into an array when the element size is not 2, 4, or 8 bytes \n",
    "            - The displacement component encodes the static offset to the beginning of the array.\n",
    "            - The base register holds the results of a calculation to determine the offset to a specific element within the array.\n",
    "          - To access a field of a record: \n",
    "             - the base register holds the address of the beginning of the record,\n",
    "             - while the displacement is a static offset to the field.\"\n",
    "             - this form is really useful for stack frame records (rbp base) -- more later on this\n",
    "     4. \"(Index * Scale) + Displacement : This address mode offers an efficient way to index into a static array when the element size is 2, 4, or 8 bytes. The displacement locates the beginning of the array, the index register holds the subscript of the desired array element, and the processor automatically converts the subscript into an index by applying the scaling factor.\"\n",
    "     5. \"Base + Index + Displacement : Using two registers together supports either \n",
    "       - a two-dimensional array (the displacement holds the address of the beginning of the array) or \n",
    "       - one of several instances of an array of records (the displacement is an offset to a field within the record).\"\n",
    "     6. \"Base + (Index * Scale) + Displacement : Using all the addressing components together allows efficient indexing of a two-dimensional array when the elements of the array are 2, 4, or 8 bytes in size.\"\n",
    "     7. PC Relative: \"RIP + Displacement : In 64-bit mode, RIP-relative addressing uses a signed 32-bit displacement to calculate the effective address of the next instruction by sign-extend the 32-bit value and add to the 64-bit value in RIP.\"\n",
    "         "
   ]
  },
  {
   "cell_type": "markdown",
   "id": "9515d989-fbe6-40bc-a18a-85c43decc625",
   "metadata": {},
   "source": [
    "<hr>"
   ]
  },
  {
   "cell_type": "markdown",
   "id": "b3c6c135-1e36-47fc-83fb-941fee71d750",
   "metadata": {
    "slideshow": {
     "slide_type": "slide"
    }
   },
   "source": [
    "### Intel Syntax examples\n",
    "\n",
    "When we specify a memory location we must also clearly state how many bytes we want to work with at that location. Eg. the size in bytes of the value at the memory location.\n",
    "To do this, in addition to the address expression, we must also prefix it with the appropriate size syntax as follows:\n",
    "\n",
    "- `<BYTE|WORD|DWORD|QWORD> PTR [displacement]` where `displacement` is either a number or symbol\n",
    "  - the assembler will often let you skip the `<TYPE> PTR` if it can figure it out\n",
    "    - but I think it is safer to be verbose\n",
    "  - the assembler will let you skip the `[]` if you are using a label\n",
    "    - but again I think it is more clear that you mean that value at the label\n",
    "- `OFFSET [symbol]` can be used as a source if you want to use the address of the symbol itself as a number\n",
    "- `<BYTE|WORD|DWORD|QWORD> PTR [RegBase + displacement]`\n",
    "- `<BYTE|WORD|DWORD|QWORD> PTR [RegIdx * scale + displacement]`\n",
    "- `<BYTE|WORD|DWORD|QWORD> PTR [RegBase + RegIdx * scale + displacement]`"
   ]
  },
  {
   "cell_type": "markdown",
   "id": "d0eac698-7e97-4acd-b0b8-8b04a5f52a38",
   "metadata": {
    "slideshow": {
     "slide_type": "skip"
    },
    "tags": []
   },
   "source": [
    "<hr>"
   ]
  },
  {
   "cell_type": "markdown",
   "id": "11785496-cb51-4426-a9c9-1cabf1adf81d",
   "metadata": {
    "slideshow": {
     "slide_type": "slide"
    },
    "tags": []
   },
   "source": [
    "## Move examples\n",
    "\n",
    "So in reality we see that there are many different ways of using `mov` to move data.   The following demonstrates several of the different types.  \n",
    "\n",
    "Over the next few lectures we will use various different forms of `mov`"
   ]
  },
  {
   "cell_type": "code",
   "execution_count": null,
   "id": "668de2c0-55d1-4fca-851f-24b84ea0bde4",
   "metadata": {
    "hide_input": false,
    "jupyter": {
     "source_hidden": true
    },
    "tags": [
     "remove-input"
    ]
   },
   "outputs": [],
   "source": [
    "display(Markdown(FileCodeBox(\n",
    "    file=movdir + \"/movexamples.s\", \n",
    "    lang=\"gas\", \n",
    "    title=\"<b>CODE: asm - movexamples.s\",\n",
    "    h=\"100%\", \n",
    "    w=\"107em\"\n",
    ")))"
   ]
  },
  {
   "cell_type": "markdown",
   "id": "ee8134b5-11f4-413a-84c3-ba63dbf82cc4",
   "metadata": {},
   "source": [
    "## Test your knowledge\n",
    "\n",
    "```{note}\n",
    "We can use the `.data` directive in our assembly source code to switch sections.  Then we can add bytes to the data section of our process's memory.  Labels in the data section work exactly the same as in the text section.  Labels let us refer to the bytes following the label.  Eg. `x: .quad 142` means reserve 8 bytes and initialize those 8 bytes with the decimal value 142.  Finally, the symbol `x` will be assigned the address where these bytes end up.\n",
    "```\n",
    "\n",
    "With the above knowledge can you figure out what this code is doing and explain how it works?\n",
    "\n",
    "\n",
    "```gas\n",
    "        .intel_syntax noprefix\n",
    "        .data\n",
    "x:      .quad 142\n",
    "y:      .quad 4200\n",
    "sum:    .quad\n",
    "\n",
    "        .text\n",
    "        .global _start\n",
    "_start:\n",
    "        mov rax, QWORD PTR [x]\n",
    "        add rax, QWORD PTR [y]\n",
    "        mov QWORD PTR [sum], rax\n",
    "        \n",
    "        mov rax, 60\n",
    "        mov rdi, 0\n",
    "        syscall\n",
    "```\n",
    "\n",
    "To figure this out you will want to assemble, link and explore the resulting binary in `gdb`.  In `gdb` to examine the bytes at a label in the data area you will need to add an `&` in front of the symbol.  Eg To examine the bytes at x you could use the following gdb commands: \n",
    "- `x/8xb & x` print 8 bytes starting at the address of x in hexadecimal format\n",
    "- `x/1gd & x` print the 8 bytes at the address of x as a single 8 byte integer\n",
    "\n",
    "Finally, can you extend the code to calculate the number of 1's in the sum and save the result somewhere in the data section?\n"
   ]
  }
 ],
 "metadata": {
  "celltoolbar": "Tags",
  "hide_input": true,
  "kernelspec": {
   "display_name": "Python 3 (ipykernel)",
   "language": "python",
   "name": "python3"
  },
  "language_info": {
   "codemirror_mode": {
    "name": "ipython",
    "version": 3
   },
   "file_extension": ".py",
   "mimetype": "text/x-python",
   "name": "python",
   "nbconvert_exporter": "python",
   "pygments_lexer": "ipython3",
   "version": "3.10.5"
  },
  "rise": {
   "autolaunch": false,
   "enable_chalkboard": true,
   "footer": "UC-SLS -- Lecture 9",
   "header": "Assembly: Operations and Data Types",
   "height": "100%",
   "scroll": true,
   "start_slideshow_at": "selected",
   "transition": "none",
   "width": "100%"
  }
 },
 "nbformat": 4,
 "nbformat_minor": 5
}
