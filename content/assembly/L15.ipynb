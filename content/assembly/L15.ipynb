{
 "cells": [
  {
   "cell_type": "code",
   "execution_count": null,
   "id": "97e3d926-a5ce-48bb-a428-eade0409fa67",
   "metadata": {
    "jupyter": {
     "source_hidden": true
    },
    "slideshow": {
     "slide_type": "skip"
    },
    "tags": [
     "remove-cell"
    ]
   },
   "outputs": [],
   "source": [
    "%run -i ../python/common.py\n",
    "UC_SKIPTERMS=True\n",
    "%run -i ../python/ln_preamble.py"
   ]
  },
  {
   "cell_type": "markdown",
   "id": "badbf5ba-1c45-4eae-a1f3-c4c60bba6334",
   "metadata": {
    "tags": []
   },
   "source": [
    "# SLS Lecture 15 : Processes and Virtual Memory"
   ]
  },
  {
   "cell_type": "code",
   "execution_count": null,
   "id": "ea58ab66-76f6-4842-b19c-95d77bff93f5",
   "metadata": {
    "jupyter": {
     "source_hidden": true
    },
    "tags": [
     "remove-input"
    ]
   },
   "outputs": [],
   "source": [
    "# setup for sumit examples\n",
    "appdir=os.getenv('HOME')\n",
    "appdir=appdir + \"/vmm\"\n",
    "#print(movdir)\n",
    "output=runTermCmd(\"[[ -d \" + appdir + \" ]] &&  rm -rf \"+ appdir + \n",
    "             \";mkdir \" + appdir + \n",
    "             \";cp ../src/Makefile ../src/setup.gdb ../src/mmap.s ../src/sumitshared.s ../src/usesumshared1.s ../src/usesumshared2.s ../src/song.txt ../src/10num.txt \" + appdir)\n",
    "\n",
    "display(Markdown('''\n",
    "- create a directory `mkdir vmm; cd vmm`\n",
    "- copy examples\n",
    "- add a `Makefile` to automate assembling and linking\n",
    "    - we are going run the commands by hand this time to highlight the details\n",
    "- add our `setup.gdb` to make working in gdb easier\n",
    "- normally you would want to track everything in git\n",
    "'''))\n",
    "TermShellCmd(\"ls \" + appdir)"
   ]
  },
  {
   "cell_type": "markdown",
   "id": "cc2910b0-bcb2-4abc-a35a-fc92bc0ddb8a",
   "metadata": {
    "slideshow": {
     "slide_type": "skip"
    },
    "tags": []
   },
   "source": [
    "<hr>"
   ]
  },
  {
   "cell_type": "markdown",
   "id": "f717c9ce-9365-4367-b611-e2dabf00364d",
   "metadata": {
    "slideshow": {
     "slide_type": "slide"
    },
    "tags": []
   },
   "source": [
    "## Virtual Memory: The Idea\n",
    "\n",
    "Enable several instances of programs to be running at the same time "
   ]
  },
  {
   "cell_type": "markdown",
   "id": "ddf6e60b-b762-4868-9228-d41c0632f119",
   "metadata": {
    "slideshow": {
     "slide_type": "fragment"
    },
    "tags": []
   },
   "source": [
    "1. Allow each to have their own view of memory -- **Virtual Memory**\n",
    "   - Fool programs into thinking they have the entire memory of a very large \"virtual\" computer to themselves\n",
    "   - Where the virtual computer has the same CPU as the real hardware but whose memory can seem much bigger than the main memory of the real hardware\n",
    "     - Eg. Your laptop might have 8 GB ($1024^3 * 8$ byte) of real main memory but each running program thinks it has 17179869184 GB"
   ]
  },
  {
   "cell_type": "markdown",
   "id": "5264a9d8-2750-49a3-a6a8-dcd164eceeba",
   "metadata": {
    "slideshow": {
     "slide_type": "slide"
    },
    "tags": []
   },
   "source": [
    "2. Ensure that each running program's view of memory can be private and independent\n",
    "    - Each program has own \"Virtual Address Space\" \n",
    "    - **Virtual Address Space** is an array of memory $0$ to $2^w$\n",
    "      - where $w$ is size in bits of the Virtual Address Space supported by the CPU: Eg. 64 bits on most modern CPU's\n",
    "    - Each view has its own version of each address \n",
    "       - Eg. Each view has its own address 0 that are independent: changing the value at address 0 in one view does not affecting any of the other views."
   ]
  },
  {
   "cell_type": "markdown",
   "id": "4c59920e-4605-44fc-82c6-88742e0d3764",
   "metadata": {
    "slideshow": {
     "slide_type": "slide"
    },
    "tags": []
   },
   "source": [
    "3. Allow the views to be independent but also permit controlled sharing if desired\n",
    "    - Let two or more views of memory have some addresses that are \"shared\".\n",
    "       - Eg. Address 42 in one view and address 42 in another view share the same \"underlying\" memory so that changes made in one view are visible in the other.\n",
    "    "
   ]
  },
  {
   "cell_type": "markdown",
   "id": "53eb149c-cf9b-47e5-81d8-194ad3ccc550",
   "metadata": {
    "slideshow": {
     "slide_type": "skip"
    },
    "tags": []
   },
   "source": [
    "<hr>"
   ]
  },
  {
   "cell_type": "markdown",
   "id": "2fe9ee58-377f-499e-b7e5-5a7c91c04add",
   "metadata": {
    "slideshow": {
     "slide_type": "slide"
    },
    "tags": []
   },
   "source": [
    "## Virtual Memory: HW + SW \n",
    "\n",
    "\n",
    "The Hardware provides the mechanism for Virtual Memory and the Software of the OS uses them to implement Processes \n",
    "    \n",
    "The OS then can start Processes from the executables we create"
   ]
  },
  {
   "cell_type": "markdown",
   "id": "d97eab78-f70f-40a8-8b72-29cc622fae85",
   "metadata": {
    "slideshow": {
     "slide_type": "skip"
    },
    "tags": []
   },
   "source": [
    "<hr>"
   ]
  },
  {
   "cell_type": "markdown",
   "id": "835b8756-7c85-47c4-ac4d-e475408c8308",
   "metadata": {
    "slideshow": {
     "slide_type": "slide"
    },
    "tags": []
   },
   "source": [
    "<img src=\"../images/contexts2.png\">"
   ]
  },
  {
   "cell_type": "markdown",
   "id": "d5dc1d32-d720-45f9-bacb-4a36e3c1e205",
   "metadata": {
    "slideshow": {
     "slide_type": "skip"
    },
    "tags": []
   },
   "source": [
    "<hr>"
   ]
  },
  {
   "cell_type": "markdown",
   "id": "45541cc7-833f-4adf-8594-9eaefefd4a2d",
   "metadata": {
    "slideshow": {
     "slide_type": "slide"
    },
    "tags": []
   },
   "source": [
    "## The Road from Physical to Virtual Memory"
   ]
  },
  {
   "cell_type": "markdown",
   "id": "a2df17f7-d0d4-426b-b46d-91e9c0418b4e",
   "metadata": {
    "slideshow": {
     "slide_type": "skip"
    },
    "tags": []
   },
   "source": [
    "<hr>"
   ]
  },
  {
   "cell_type": "markdown",
   "id": "b1d5f8a9-afe8-4ff6-8550-7cd30dd6b1b7",
   "metadata": {
    "slideshow": {
     "slide_type": "slide"
    },
    "tags": []
   },
   "source": [
    "% BODY\n",
    "<img src=\"../images/VMM/000.png\">"
   ]
  },
  {
   "cell_type": "markdown",
   "id": "6915bdfe-4955-4f15-9493-180bef1ba25c",
   "metadata": {
    "slideshow": {
     "slide_type": "notes"
    },
    "tags": []
   },
   "source": [
    "% NOTES"
   ]
  },
  {
   "cell_type": "markdown",
   "id": "6b55c0df-8574-43a9-a50f-406b5ed31988",
   "metadata": {
    "slideshow": {
     "slide_type": "skip"
    },
    "tags": []
   },
   "source": [
    "<hr>"
   ]
  },
  {
   "cell_type": "markdown",
   "id": "facef468-78ce-495f-9612-cf6a15f4d0c5",
   "metadata": {
    "slideshow": {
     "slide_type": "slide"
    },
    "tags": []
   },
   "source": [
    "% BODY\n",
    "<img src=\"../images/VMM/001.png\" width=\"100%\">"
   ]
  },
  {
   "cell_type": "markdown",
   "id": "1f3a705c-547b-4bcd-a813-cbec0d0d5e41",
   "metadata": {
    "slideshow": {
     "slide_type": "notes"
    },
    "tags": []
   },
   "source": [
    "% NOTES"
   ]
  },
  {
   "cell_type": "markdown",
   "id": "9b9a5dfc-c7a6-4ae9-bf7f-acadda89ff9a",
   "metadata": {
    "slideshow": {
     "slide_type": "skip"
    },
    "tags": []
   },
   "source": [
    "<hr>"
   ]
  },
  {
   "cell_type": "markdown",
   "id": "34c975db-459a-498d-8470-e7d5d034b080",
   "metadata": {
    "slideshow": {
     "slide_type": "slide"
    },
    "tags": []
   },
   "source": [
    "% BODY\n",
    "<img src=\"../images/VMM/002.png\" width=\"100%\">"
   ]
  },
  {
   "cell_type": "markdown",
   "id": "7eacaddf-38d8-4101-941c-52dec9ec6ddc",
   "metadata": {
    "slideshow": {
     "slide_type": "notes"
    },
    "tags": []
   },
   "source": [
    "% NOTES"
   ]
  },
  {
   "cell_type": "markdown",
   "id": "f19c9810-00a2-42b0-bf79-e575a8d37e0c",
   "metadata": {
    "slideshow": {
     "slide_type": "skip"
    },
    "tags": []
   },
   "source": [
    "<hr>"
   ]
  },
  {
   "cell_type": "markdown",
   "id": "41a3e9c7-d7a8-42e6-a3c9-2142155e0b51",
   "metadata": {
    "slideshow": {
     "slide_type": "slide"
    },
    "tags": []
   },
   "source": [
    "% BODY\n",
    "<img src=\"../images/VMM/003.png\" width=\"100%\">"
   ]
  },
  {
   "cell_type": "markdown",
   "id": "a9fcd11a-b656-469b-af7f-12e176633437",
   "metadata": {
    "slideshow": {
     "slide_type": "notes"
    },
    "tags": []
   },
   "source": [
    "% NOTES"
   ]
  },
  {
   "cell_type": "markdown",
   "id": "a9228cc3-3606-43ef-bb29-ff15584d3ae2",
   "metadata": {
    "slideshow": {
     "slide_type": "skip"
    },
    "tags": []
   },
   "source": [
    "<hr>"
   ]
  },
  {
   "cell_type": "markdown",
   "id": "b6b3afbe-5288-4383-8aa2-ba11414467d3",
   "metadata": {
    "slideshow": {
     "slide_type": "slide"
    },
    "tags": []
   },
   "source": [
    "% BODY\n",
    "<img src=\"../images/VMM/004.png\" width=\"100%\">"
   ]
  },
  {
   "cell_type": "markdown",
   "id": "81fcf4ac-13fa-4e46-8876-16e20d9e386c",
   "metadata": {
    "slideshow": {
     "slide_type": "notes"
    },
    "tags": []
   },
   "source": [
    "% NOTES"
   ]
  },
  {
   "cell_type": "markdown",
   "id": "7074ad0e-f9e3-49c7-97ac-dee466a4253f",
   "metadata": {
    "slideshow": {
     "slide_type": "skip"
    },
    "tags": []
   },
   "source": [
    "<hr>"
   ]
  },
  {
   "cell_type": "markdown",
   "id": "eb689e0b-adf5-4e8b-9c4a-0f776b0d0ec2",
   "metadata": {
    "slideshow": {
     "slide_type": "slide"
    },
    "tags": []
   },
   "source": [
    "% BODY\n",
    "<img src=\"../images/VMM/005.png\" width=\"100%\">"
   ]
  },
  {
   "cell_type": "markdown",
   "id": "22049856-fb5b-4fe6-86ea-2c64bcfb8bef",
   "metadata": {
    "slideshow": {
     "slide_type": "notes"
    },
    "tags": []
   },
   "source": [
    "% NOTES"
   ]
  },
  {
   "cell_type": "markdown",
   "id": "8b203e55-9814-4d80-8c22-7738d1c73f07",
   "metadata": {
    "slideshow": {
     "slide_type": "skip"
    },
    "tags": []
   },
   "source": [
    "<hr>"
   ]
  },
  {
   "cell_type": "markdown",
   "id": "4abf7f92-3d68-4cc9-9007-fc7b69defc1c",
   "metadata": {
    "slideshow": {
     "slide_type": "slide"
    },
    "tags": []
   },
   "source": [
    "% BODY\n",
    "<img src=\"../images/VMM/006.png\" width=\"100%\">"
   ]
  },
  {
   "cell_type": "markdown",
   "id": "0f1f0f71-b477-4a45-b887-2ed789888993",
   "metadata": {
    "slideshow": {
     "slide_type": "notes"
    },
    "tags": []
   },
   "source": [
    "% NOTES"
   ]
  },
  {
   "cell_type": "markdown",
   "id": "a078481e-9144-4942-909e-1b3d56a8b8fb",
   "metadata": {
    "slideshow": {
     "slide_type": "skip"
    },
    "tags": []
   },
   "source": [
    "<hr>"
   ]
  },
  {
   "cell_type": "markdown",
   "id": "a32e146c-1652-40b7-8cdb-e094903f668f",
   "metadata": {
    "slideshow": {
     "slide_type": "slide"
    },
    "tags": []
   },
   "source": [
    "% BODY\n",
    "<img src=\"../images/VMM/007.png\" width=\"100%\">"
   ]
  },
  {
   "cell_type": "markdown",
   "id": "b1b9237f-0495-4f13-b189-fae226fa9248",
   "metadata": {
    "slideshow": {
     "slide_type": "notes"
    },
    "tags": []
   },
   "source": [
    "% NOTES"
   ]
  },
  {
   "cell_type": "markdown",
   "id": "63ea0846-b98a-4e91-93da-355a66498310",
   "metadata": {
    "slideshow": {
     "slide_type": "skip"
    },
    "tags": []
   },
   "source": [
    "<hr>"
   ]
  },
  {
   "cell_type": "markdown",
   "id": "1be0cff0-347c-4b85-8858-5c3465590439",
   "metadata": {
    "slideshow": {
     "slide_type": "slide"
    },
    "tags": []
   },
   "source": [
    "% BODY\n",
    "<img src=\"../images/VMM/008.png\" width=\"100%\">"
   ]
  },
  {
   "cell_type": "markdown",
   "id": "06de6f66-c499-4001-a1b2-cc7c0bdeeac6",
   "metadata": {
    "slideshow": {
     "slide_type": "notes"
    },
    "tags": []
   },
   "source": [
    "% NOTES"
   ]
  },
  {
   "cell_type": "markdown",
   "id": "472b8b9e-f459-492a-9f58-1ae9b802b156",
   "metadata": {
    "slideshow": {
     "slide_type": "skip"
    },
    "tags": []
   },
   "source": [
    "<hr>"
   ]
  },
  {
   "cell_type": "markdown",
   "id": "96105fad-7ba6-49f5-8372-c38f6f4b6e0d",
   "metadata": {
    "slideshow": {
     "slide_type": "slide"
    },
    "tags": []
   },
   "source": [
    "## Closing the loop \n",
    "\n",
    "Kernel maintains a page table for each process.\n",
    "\n",
    "- It initializes the page table with mappings to the content from the executable along with any additional needed\n",
    "   - Eg. bss and stack\n",
    "- As process runs additional mappings can get created:\n",
    "   - Eg. heap, dynamically linked libraries, addition program requested mappings\n",
    "   "
   ]
  },
  {
   "cell_type": "markdown",
   "id": "6746dec3-f99b-43b9-bd5e-1d559a453605",
   "metadata": {
    "slideshow": {
     "slide_type": "skip"
    },
    "tags": []
   },
   "source": [
    "<hr>"
   ]
  },
  {
   "cell_type": "markdown",
   "id": "31152b9a-9f37-4268-926d-4d7f41af19fe",
   "metadata": {
    "slideshow": {
     "slide_type": "slide"
    },
    "tags": []
   },
   "source": [
    "% BODY\n",
    "<img src=\"../images/VMM/009.png\" width=\"100%\">"
   ]
  },
  {
   "cell_type": "markdown",
   "id": "61b46087-b305-47b8-9cc9-f59e81dfb362",
   "metadata": {
    "slideshow": {
     "slide_type": "skip"
    },
    "tags": []
   },
   "source": [
    "<hr>"
   ]
  },
  {
   "cell_type": "markdown",
   "id": "04f758f6-918a-4786-8049-5e5b3f79d0ea",
   "metadata": {
    "slideshow": {
     "slide_type": "slide"
    },
    "tags": []
   },
   "source": [
    "## Virtual Memory: Party Trick 1: Paging\n",
    "\n",
    "<table>\n",
    "    <tr>\n",
    "        <td width=\"40%\">\n",
    "<img src=\"../images/VMM/010.png\" width=\"100%\">\n",
    "        </td>\n",
    "        <td>\n",
    "        \n",
    "How can we possibly allow one process to run let, alone hundreds of them?\n",
    "- $2^{64}$ bytes (17179869184 GigaBytes) of virtual memory for one process\n",
    "- most computers have at most 10's of Gigabytes of RAM.\n",
    "- Even large servers only have 100's of Gigabytes of RAM.\n",
    "- How and why can we make things fit?\n",
    "            \n",
    "</td>\n",
    "</tr>\n",
    "</table>"
   ]
  },
  {
   "cell_type": "markdown",
   "id": "fbf42cbc-faf1-4db6-83ce-c15f77b058d0",
   "metadata": {
    "slideshow": {
     "slide_type": "skip"
    },
    "tags": []
   },
   "source": [
    "<hr>"
   ]
  },
  {
   "cell_type": "markdown",
   "id": "db1e765e-c2c6-472d-a341-2a9a0660f459",
   "metadata": {
    "slideshow": {
     "slide_type": "slide"
    },
    "tags": []
   },
   "source": [
    "## Virtual Memory: Party Trick 1: Paging\n",
    "\n",
    "<table>\n",
    "    <tr>\n",
    "        <td width=\"40%\">\n",
    "<img src=\"../images/VMM/011.png\" width=\"100%\">\n",
    "        </td>\n",
    "        <td>\n",
    "        \n",
    "To solve this problem we need to introduce our \"External\" Storage devices\n",
    "- Hard drives and Solid State Drives (SSDs)\n",
    "   - typically 100 times larger then ram\n",
    "- CPU cannot directly use them as memory\n",
    "- Complex OS code can however, move data between them and memory \n",
    "- Part of our tick involves \"swapping\" memory pages in and out of external storage \"behind the backs\" of the running processes\n",
    "- Giving the illusion of a much large main memory \n",
    "\n",
    "            \n",
    "</td>\n",
    "</tr>\n",
    "</table>"
   ]
  },
  {
   "cell_type": "markdown",
   "id": "47ce5e56-5cbc-47fc-91a8-b9a134d375e1",
   "metadata": {
    "slideshow": {
     "slide_type": "skip"
    },
    "tags": []
   },
   "source": [
    "<hr>"
   ]
  },
  {
   "cell_type": "markdown",
   "id": "71bec766-7e89-481b-a68c-920d815b96ef",
   "metadata": {
    "slideshow": {
     "slide_type": "slide"
    },
    "tags": []
   },
   "source": [
    "% BODY\n",
    "<img src=\"../images/VMM/012.png\" width=\"100%\">"
   ]
  },
  {
   "cell_type": "markdown",
   "id": "de4be46a-d2b4-493e-99dc-4114fffc2659",
   "metadata": {
    "slideshow": {
     "slide_type": "notes"
    },
    "tags": []
   },
   "source": [
    "% NOTES\n",
    "\n",
    "Lets add some more details to our process picture form earlier\n",
    "- First lets introduce the idea that all \"regular\" files are stored on an external storage device\n",
    "- we can think of the files as pages of data that reside on \"disk\"\n",
    "- thus any byte of a file is on a particular page of the file\n",
    "- We will also reserve a portion of the drive or maybe even another drive to act like a large pool of \"swap\" pages for data that does not below to a file but is only associated with a running program\n",
    "- Now when a binary is \"loaded\" by the OS we are really just mapping part of the new processes address space to pages of the binary file on disk \n",
    "   - this mean that the OS will allocate free page of memory and load it with the correct data from the corresponding disk page when it is needed\n",
    "       - text pages will be loaded with the byte value from the appropriate text data from the binary and marked read and execute\n",
    "       - read-only data will be loaded with the byte values from the appropriate ro data from the binary and marked read\n",
    "       - data will be loaded from load with bytes from the the appropriate data from the binary and marked read and write\n",
    "       - for bss it will allocate free pages and fill them with zeros\n",
    "       - for the stack it will allocate free pages as needed\n",
    "       - similarly for heap and other dynamic pages\n",
    "   - pages of a process that are not associated with a specific file will be associated as needed to a page in the swap storage\n",
    "- As we can see process 21 running the binary /home/jovyan/mypgm has accessed pages\n",
    "  - /home/jovyan/mypgm: 1 r-x -- probably an text page\n",
    "  - /home/jovyan/mypgm: 5 r-- -- probably ro data\n",
    "  - finally it has a swap page mapped r-w -- probably its stack\n"
   ]
  },
  {
   "cell_type": "markdown",
   "id": "e63489a1-1f02-4277-b9e6-7e92e61f7c36",
   "metadata": {
    "slideshow": {
     "slide_type": "skip"
    },
    "tags": []
   },
   "source": [
    "<hr>"
   ]
  },
  {
   "cell_type": "markdown",
   "id": "acb26eff-e089-47f8-b207-8f6fbec7d979",
   "metadata": {
    "slideshow": {
     "slide_type": "slide"
    },
    "tags": []
   },
   "source": [
    "- First lets think about what happens if bash while it is running requests a heap page via the `brk` system call.\n"
   ]
  },
  {
   "cell_type": "markdown",
   "id": "df273912-c430-41ca-833e-575bb392cc9d",
   "metadata": {
    "slideshow": {
     "slide_type": "skip"
    },
    "tags": []
   },
   "source": [
    "<hr>"
   ]
  },
  {
   "cell_type": "markdown",
   "id": "a150ed8e-c66a-4e06-b703-7cf6f6bc8755",
   "metadata": {
    "slideshow": {
     "slide_type": "slide"
    },
    "tags": []
   },
   "source": [
    "% BODY\n",
    "<img src=\"../images/VMM/013.png\" width=\"100%\">"
   ]
  },
  {
   "cell_type": "markdown",
   "id": "47d40229-ea13-4f62-9d7b-cb995817e071",
   "metadata": {
    "slideshow": {
     "slide_type": "skip"
    },
    "tags": []
   },
   "source": [
    "<hr>"
   ]
  },
  {
   "cell_type": "markdown",
   "id": "4ba12ec9-2c03-4882-b30e-e8ccc0d425d5",
   "metadata": {
    "slideshow": {
     "slide_type": "slide"
    },
    "tags": []
   },
   "source": [
    "- Now lets assume we are running pid 21 again\n",
    "  - it now accesses the static data for a large array at address 0x406000\n",
    "     - `mov rax, QWORD PTR [0x406000]`\n",
    "  - 0x406000 happens to land on VPN4 that has not been accessed yet\n",
    "- Remember we are out of free pages!"
   ]
  },
  {
   "cell_type": "markdown",
   "id": "464365e9-efb4-4825-9010-69d460846fdc",
   "metadata": {
    "slideshow": {
     "slide_type": "skip"
    },
    "tags": []
   },
   "source": [
    "<hr>"
   ]
  },
  {
   "cell_type": "markdown",
   "id": "a360eecc-970c-4dc1-a1fb-8c9b8344ce50",
   "metadata": {
    "slideshow": {
     "slide_type": "slide"
    },
    "tags": []
   },
   "source": [
    "% BODY\n",
    "<img src=\"../images/VMM/014.png\" width=\"100%\">"
   ]
  },
  {
   "cell_type": "markdown",
   "id": "117243ad-95aa-409c-800d-0971644dbc07",
   "metadata": {
    "slideshow": {
     "slide_type": "skip"
    },
    "tags": []
   },
   "source": [
    "<hr>"
   ]
  },
  {
   "cell_type": "markdown",
   "id": "946426cc-cb0f-4b5c-a1b5-91fef8061628",
   "metadata": {
    "slideshow": {
     "slide_type": "slide"
    },
    "tags": []
   },
   "source": [
    "% BODY\n",
    "<img src=\"../images/VMM/015.png\" width=\"100%\">"
   ]
  },
  {
   "cell_type": "markdown",
   "id": "5f27cc7a-d3e7-4158-a67d-8421532e5a27",
   "metadata": {
    "slideshow": {
     "slide_type": "skip"
    },
    "tags": []
   },
   "source": [
    "<hr>"
   ]
  },
  {
   "cell_type": "markdown",
   "id": "c168c03b-c382-4580-8faf-91f7e84dfb7f",
   "metadata": {
    "slideshow": {
     "slide_type": "slide"
    },
    "tags": []
   },
   "source": [
    "% BODY\n",
    "<img src=\"../images/VMM/016.png\" width=\"100%\">"
   ]
  },
  {
   "cell_type": "markdown",
   "id": "eb7e7faa-5bd5-420c-9f3d-77b8b0fdef9f",
   "metadata": {
    "slideshow": {
     "slide_type": "skip"
    },
    "tags": []
   },
   "source": [
    "<hr>"
   ]
  },
  {
   "cell_type": "markdown",
   "id": "1028f636-a8ce-42e1-9732-181e9d15f5d8",
   "metadata": {
    "slideshow": {
     "slide_type": "slide"
    },
    "tags": []
   },
   "source": [
    "% BODY\n",
    "<img src=\"../images/VMM/017.png\" width=\"100%\">"
   ]
  },
  {
   "cell_type": "markdown",
   "id": "b7de843c-e797-42aa-bc15-cd454e67fbea",
   "metadata": {
    "slideshow": {
     "slide_type": "skip"
    },
    "tags": []
   },
   "source": [
    "<hr>"
   ]
  },
  {
   "cell_type": "markdown",
   "id": "74b310f8-814e-41d1-88ab-bc22c2347e03",
   "metadata": {
    "slideshow": {
     "slide_type": "slide"
    },
    "tags": []
   },
   "source": [
    "% BODY\n",
    "<img src=\"../images/VMM/018.png\" width=\"100%\">"
   ]
  },
  {
   "cell_type": "markdown",
   "id": "251c7091-9621-4f8a-8947-a08c117658cd",
   "metadata": {
    "slideshow": {
     "slide_type": "skip"
    },
    "tags": []
   },
   "source": [
    "<hr>"
   ]
  },
  {
   "cell_type": "markdown",
   "id": "f0137003-d3a1-40c3-9358-b79e372dd5f3",
   "metadata": {
    "slideshow": {
     "slide_type": "slide"
    },
    "tags": []
   },
   "source": [
    "## Virtual Memory Trick 2: Memory Mapping Files\n",
    "\n",
    "We can use OS memory mapping calls to make files magically appear in our process's address space"
   ]
  },
  {
   "cell_type": "markdown",
   "id": "a13f1845-3390-4ee5-b5c6-1f837f068966",
   "metadata": {
    "slideshow": {
     "slide_type": "skip"
    },
    "tags": []
   },
   "source": [
    "<hr>"
   ]
  },
  {
   "cell_type": "markdown",
   "id": "587924d4-5220-4c61-a821-865e9d1df8dc",
   "metadata": {
    "slideshow": {
     "slide_type": "slide"
    },
    "tags": []
   },
   "source": [
    "% BODY\n",
    "<img src=\"../images/VMM/019.png\" width=\"100%\">"
   ]
  },
  {
   "cell_type": "markdown",
   "id": "bea669e5-25a8-434e-9e93-0b2969c42f4a",
   "metadata": {
    "slideshow": {
     "slide_type": "skip"
    },
    "tags": []
   },
   "source": [
    "<hr>"
   ]
  },
  {
   "cell_type": "markdown",
   "id": "f2f55a74-1c70-4274-890b-eefa23c95a22",
   "metadata": {
    "slideshow": {
     "slide_type": "slide"
    },
    "tags": []
   },
   "source": [
    "% BODY\n",
    "<img src=\"../images/VMM/020.png\" width=\"100%\">"
   ]
  },
  {
   "cell_type": "markdown",
   "id": "e59c22f0-cf61-453c-927f-1c39f1152413",
   "metadata": {
    "slideshow": {
     "slide_type": "skip"
    },
    "tags": []
   },
   "source": [
    "<hr>"
   ]
  },
  {
   "cell_type": "markdown",
   "id": "42055f14-6a2d-4c8b-8db2-c0c581e05ae4",
   "metadata": {
    "slideshow": {
     "slide_type": "slide"
    },
    "tags": []
   },
   "source": [
    "% BODY\n",
    "<img src=\"../images/VMM/021.png\" width=\"100%\">"
   ]
  },
  {
   "cell_type": "markdown",
   "id": "fdddc2c6-8337-471f-a114-a6de8860a708",
   "metadata": {
    "slideshow": {
     "slide_type": "skip"
    },
    "tags": []
   },
   "source": [
    "<hr>"
   ]
  },
  {
   "cell_type": "markdown",
   "id": "af39b66d-b538-4201-af7f-625d5bb3829f",
   "metadata": {
    "slideshow": {
     "slide_type": "slide"
    },
    "tags": []
   },
   "source": [
    "### See example in `mmap.s` example in the notes to see how this can be done...\n",
    "\n",
    "- This program maps a \"song.txt\" file into the process, for both read and write permission.  \n",
    "- It then scans the data of the file changing all occurrences of 'a' to 'A'.  \n",
    "- It then uses the write system call to write the memory to the standard output\n",
    "- Because the options given to the `mmap` system call changes are reflected back to the file when the process exits.\n",
    "\n",
    "Note we have to make several system on Linux.  Further more there are a lot of options to the mmap call itself \n",
    "\n",
    "**The main point is to understand the idea you do not need to know the details of the Linux calls**\n",
    "- \n",
    "Of course we could have imagined doing the same sort of thing with our `sumit` example.  Where we could use  `mmap` to map the data files into our address space."
   ]
  },
  {
   "cell_type": "code",
   "execution_count": null,
   "id": "c29e806d-0ee7-4268-aa2e-a49d17d3e8c4",
   "metadata": {
    "jupyter": {
     "source_hidden": true
    },
    "slideshow": {
     "slide_type": "skip"
    },
    "tags": [
     "remove-input"
    ]
   },
   "outputs": [],
   "source": [
    "display(Markdown(FileCodeBox(\n",
    "    file=\"../src/mmap.s\", \n",
    "    lang=\"gas\", \n",
    "    title=\"<b>CODE: asm - mmap.s\",\n",
    "    h=\"100%\", \n",
    "    w=\"107em\"\n",
    ")))"
   ]
  },
  {
   "cell_type": "code",
   "execution_count": null,
   "id": "88d60bd2-c8c8-49ec-a371-269b6bf3ba64",
   "metadata": {
    "jupyter": {
     "source_hidden": true
    },
    "slideshow": {
     "slide_type": "skip"
    },
    "tags": [
     "remove-input"
    ]
   },
   "outputs": [],
   "source": [
    "TermShellCmd(\"make LDFLAGS= ASFLAGS= mmap\", cwd=appdir, prompt='')"
   ]
  },
  {
   "cell_type": "code",
   "execution_count": null,
   "id": "ad8523ee-4311-4ff3-9777-d9fb0f8cda1b",
   "metadata": {
    "jupyter": {
     "source_hidden": true
    },
    "slideshow": {
     "slide_type": "skip"
    },
    "tags": [
     "remove-input"
    ]
   },
   "outputs": [],
   "source": [
    "TermShellCmd(\"ls\", cwd=appdir, prompt='$ ')"
   ]
  },
  {
   "cell_type": "code",
   "execution_count": null,
   "id": "2da1962b-7bd4-4cbd-98b9-4ab02818af22",
   "metadata": {
    "jupyter": {
     "source_hidden": true
    },
    "slideshow": {
     "slide_type": "skip"
    },
    "tags": [
     "remove-input"
    ]
   },
   "outputs": [],
   "source": [
    "TermShellCmd(\"cat song.txt\", cwd=appdir, prompt='$ ')"
   ]
  },
  {
   "cell_type": "code",
   "execution_count": null,
   "id": "9d4b3af4-9f37-4eb8-a7b5-02d0396845fa",
   "metadata": {
    "jupyter": {
     "source_hidden": true
    },
    "slideshow": {
     "slide_type": "skip"
    },
    "tags": [
     "remove-input"
    ]
   },
   "outputs": [],
   "source": [
    "TermShellCmd(\"./mmap\", cwd=appdir, prompt='$ ')"
   ]
  },
  {
   "cell_type": "code",
   "execution_count": null,
   "id": "9d7edebd-6514-48d7-95b3-57a5c9ba8609",
   "metadata": {
    "jupyter": {
     "source_hidden": true
    },
    "slideshow": {
     "slide_type": "skip"
    },
    "tags": [
     "remove-input"
    ]
   },
   "outputs": [],
   "source": [
    "TermShellCmd(\"cat song.txt\", cwd=appdir, prompt='$ ')"
   ]
  },
  {
   "cell_type": "markdown",
   "id": "6e9cebdc-fb14-4543-8ad1-921f17d32cc3",
   "metadata": {
    "slideshow": {
     "slide_type": "skip"
    },
    "tags": []
   },
   "source": [
    "<hr>"
   ]
  },
  {
   "cell_type": "markdown",
   "id": "9bde761e-752d-4132-8033-271b7c843981",
   "metadata": {
    "slideshow": {
     "slide_type": "slide"
    },
    "tags": []
   },
   "source": [
    "## Virtual Memory Trick 3: Sharing\n",
    "\n",
    "- At first the obvious value of virtual memory is to \"isolate\" processes from each other\n",
    "- Each processes Virtual Address Space by default is distinct and separate \n",
    "- However, noting stops us from creating mappings via the page tables of different processes that allow \"sharing\"\n",
    "- **Lets us directly share bytes of memory between different running programs!**"
   ]
  },
  {
   "cell_type": "markdown",
   "id": "01b884f9-89ba-414e-9c98-aa009e25c545",
   "metadata": {
    "slideshow": {
     "slide_type": "slide"
    },
    "tags": []
   },
   "source": [
    "% BODY\n",
    "<img src=\"../images/VMM/022.png\" width=\"100%\">"
   ]
  },
  {
   "cell_type": "markdown",
   "id": "3ef58c42-0160-41e6-88d7-182cc9e02793",
   "metadata": {
    "slideshow": {
     "slide_type": "skip"
    },
    "tags": []
   },
   "source": [
    "<hr>"
   ]
  },
  {
   "cell_type": "markdown",
   "id": "d0271033-f285-4a0a-a4c1-3d5c8c7051c0",
   "metadata": {
    "slideshow": {
     "slide_type": "slide"
    },
    "tags": []
   },
   "source": [
    "## Virtual Memory Trick 3: Shared Dynamically Linked Libraries\n",
    "\n",
    "One of the most common uses of shared mappings is to facilitate \"Shared Objects/Libraries\"\n",
    "- This Feature is used on all modern commercial operating systems: Window, MacOS, Linux, ...\n",
    "- A specialized use of Virtual Memory Shared mappings \n",
    "   - where we map in object files to our process after we start running\n",
    "      - Eg. code that is not present in the binary is mapped it after the process is created \n",
    "   - Library code and data can then be shared and updated in independently \n",
    "   - Many processes that use the same libraries share the same pages of memory \n",
    "        - Avoids duplication of memory for common libraries\n",
    "        - Reduces size of binaries\n",
    "- But it comes with complication   "
   ]
  },
  {
   "cell_type": "markdown",
   "id": "68381329-a6a8-4e5d-b6f5-cc556dd1d118",
   "metadata": {
    "slideshow": {
     "slide_type": "skip"
    },
    "tags": []
   },
   "source": [
    "<hr>"
   ]
  },
  {
   "cell_type": "markdown",
   "id": "cc41cc1e-a01d-4051-9e68-b93e38239de8",
   "metadata": {
    "slideshow": {
     "slide_type": "slide"
    },
    "tags": []
   },
   "source": [
    "% BODY\n",
    "<img src=\"../images/VMM/023.png\" width=\"100%\">"
   ]
  },
  {
   "cell_type": "markdown",
   "id": "5db021aa-627b-44e9-b2fd-847d0498efde",
   "metadata": {
    "slideshow": {
     "slide_type": "skip"
    },
    "tags": []
   },
   "source": [
    "<hr>"
   ]
  },
  {
   "cell_type": "markdown",
   "id": "57b7d2b6-e042-40c7-8949-40946efec6d0",
   "metadata": {
    "slideshow": {
     "slide_type": "slide"
    },
    "tags": []
   },
   "source": [
    "% BODY\n",
    "\n",
    "\n",
    "<table>\n",
    "    <tr>\n",
    "        <td width=\"70%\">\n",
    "<img src=\"../images/VMM/024.png\" width=\"100%\">\n",
    "        </td>\n",
    "        <td>\n",
    "        \n",
    "Let's reviewing how we build \"statically\" linked binaries \n",
    "- this is what we have been doing\n",
    "- much easier to write static linked assembly code \n",
    "- each binary contains a copy of all the bytes \n",
    "  - so the location of everything is known \n",
    "  - and code can use fixed addresses\n",
    "            \n",
    "</td>\n",
    "</tr>\n",
    "</table>\n",
    "\n"
   ]
  },
  {
   "cell_type": "markdown",
   "id": "699fcdb1-bf6f-44d9-a976-6962949a0530",
   "metadata": {
    "slideshow": {
     "slide_type": "skip"
    },
    "tags": []
   },
   "source": [
    "<hr>"
   ]
  },
  {
   "cell_type": "markdown",
   "id": "a12f22c5-ed5a-45d1-b5c5-49c3a7ad757e",
   "metadata": {
    "slideshow": {
     "slide_type": "slide"
    },
    "tags": []
   },
   "source": [
    "% BODY\n",
    "\n",
    "\n",
    "<table>\n",
    "    <tr>\n",
    "        <td width=\"70%\">\n",
    "<img src=\"../images/VMM/025.png\" width=\"100%\">\n",
    "        </td>\n",
    "        <td>\n",
    "        \n",
    "- Linker can defer part of its job to runtime!\n",
    "  - create a shared object file that has extra information in it \n",
    "     - and has been written carefully to be \"Position Independent\"\n",
    "   - When we link the don't put the shared object into the binary\n",
    "   - rather we mark that the os should use a dynamic version of the link/loader (ld.so) when it executes the binary\n",
    "   - this code create mappings to the shared object file and then finishes the job of linking\n",
    "            \n",
    "</td>\n",
    "</tr>\n",
    "</table>\n",
    "\n"
   ]
  },
  {
   "cell_type": "markdown",
   "id": "3b4a74f7-9301-4545-b771-278bdf50cbac",
   "metadata": {
    "slideshow": {
     "slide_type": "skip"
    },
    "tags": []
   },
   "source": [
    "<hr>"
   ]
  },
  {
   "cell_type": "markdown",
   "id": "cdea93a8-89a3-4223-9b83-3b686a3c993e",
   "metadata": {
    "slideshow": {
     "slide_type": "slide"
    },
    "tags": []
   },
   "source": [
    "% BODY\n",
    "<img src=\"../images/VMM/026.png\" width=\"100%\">"
   ]
  },
  {
   "cell_type": "markdown",
   "id": "b4bc71c1-f8eb-4b23-b95b-b25fe97d8a7b",
   "metadata": {
    "slideshow": {
     "slide_type": "skip"
    },
    "tags": []
   },
   "source": [
    "<hr>"
   ]
  },
  {
   "cell_type": "markdown",
   "id": "7936cf99-e466-4e0f-bfd5-51c11ebc2844",
   "metadata": {
    "slideshow": {
     "slide_type": "slide"
    },
    "tags": []
   },
   "source": [
    "### See example in `sumitshared.s`, `usesumshared1.s` and `usesumshared2.s` example in the notes \n",
    "\n",
    "In these examples you will find several things:\n",
    "\n",
    "1. We illustrate a 2  more advanced version of our running  the `sumit` example\n",
    "   - In addition to the `sumIt` function we add to supporting function for input and output\n",
    "      - Using the `open`, `lseek` and `read` system calls we add a `sumReadData` functions for reading the data from a file into an area of memory\n",
    "      - Using the `write` system call we add a `sumPrint` function that writes the value in `rax` to standard output\n",
    "   - We provide two example programs that use the above routines \n",
    "      - both program demonstrate how we can get access the the command line parameters \n",
    "          - turns out the kernel places these values on the stack before we get started so we can easily get access to them\n",
    "      - the first example read's the data from a file passed in as a command line argument into space pre-allocated in the bss of the binary\n",
    "      - the send again read's the data from a file passed in as a command line argument but places into dynamically heap allocated memory\n",
    "2. It illustrates building both static and dynamic version of the the program so you can see how it it is done\n",
    "   - This is mainly to let you see this in action \n",
    "   - you don't need to know the details"
   ]
  },
  {
   "cell_type": "code",
   "execution_count": null,
   "id": "8d3ae3f2-ba25-40f7-81fb-72d46914c773",
   "metadata": {
    "jupyter": {
     "source_hidden": true
    },
    "slideshow": {
     "slide_type": "skip"
    },
    "tags": [
     "remove-input"
    ]
   },
   "outputs": [],
   "source": [
    "display(Markdown(FileCodeBox(\n",
    "    file=\"../src/sumitshared.s\", \n",
    "    lang=\"gas\", \n",
    "    title=\"<b>CODE: asm - sumitshared.s\",\n",
    "    h=\"100%\", \n",
    "    w=\"107em\"\n",
    ")))"
   ]
  },
  {
   "cell_type": "code",
   "execution_count": null,
   "id": "8cf7f036-1f5e-4c86-b246-a3aa8eccf436",
   "metadata": {
    "jupyter": {
     "source_hidden": true
    },
    "slideshow": {
     "slide_type": "skip"
    },
    "tags": [
     "remove-input"
    ]
   },
   "outputs": [],
   "source": [
    "display(Markdown(FileCodeBox(\n",
    "    file=\"../src/usesumshared1.s\", \n",
    "    lang=\"gas\", \n",
    "    title=\"<b>CODE: asm - usesumshared1.s\",\n",
    "    h=\"100%\", \n",
    "    w=\"107em\"\n",
    ")))"
   ]
  },
  {
   "cell_type": "code",
   "execution_count": null,
   "id": "4f4a9d10-5ce3-4c32-97a1-10454782967e",
   "metadata": {
    "jupyter": {
     "source_hidden": true
    },
    "slideshow": {
     "slide_type": "skip"
    },
    "tags": [
     "remove-input"
    ]
   },
   "outputs": [],
   "source": [
    "display(Markdown(FileCodeBox(\n",
    "    file=\"../src/usesumshared2.s\", \n",
    "    lang=\"gas\", \n",
    "    title=\"<b>CODE: asm - usesumshared2.s\",\n",
    "    h=\"100%\", \n",
    "    w=\"107em\"\n",
    ")))"
   ]
  },
  {
   "cell_type": "markdown",
   "id": "9fac05d9-a3f8-41cf-bf22-415f42b44d16",
   "metadata": {
    "slideshow": {
     "slide_type": "skip"
    },
    "tags": []
   },
   "source": [
    "### build a static binary of version 1"
   ]
  },
  {
   "cell_type": "code",
   "execution_count": null,
   "id": "8c3228e9-9b7c-4b2f-9eab-e0aafbf86174",
   "metadata": {
    "jupyter": {
     "source_hidden": true
    },
    "slideshow": {
     "slide_type": "skip"
    },
    "tags": [
     "remove-input"
    ]
   },
   "outputs": [],
   "source": [
    "TermShellCmd(\"make LDFLAGS= ASFLAGS= usesumshared1static\", cwd=appdir, prompt='')"
   ]
  },
  {
   "cell_type": "markdown",
   "id": "5f3dbcf0-add8-420d-9157-e9d4808a6b24",
   "metadata": {
    "slideshow": {
     "slide_type": "skip"
    },
    "tags": []
   },
   "source": [
    "### build a static binary of version 2"
   ]
  },
  {
   "cell_type": "code",
   "execution_count": null,
   "id": "2b7559e8-6449-461f-9029-3d1fba97d2d0",
   "metadata": {
    "jupyter": {
     "source_hidden": true
    },
    "slideshow": {
     "slide_type": "skip"
    },
    "tags": []
   },
   "outputs": [],
   "source": [
    "TermShellCmd(\"make LDFLAGS= ASFLAGS= usesumshared2static\", cwd=appdir, prompt='')"
   ]
  },
  {
   "cell_type": "markdown",
   "id": "a469b79c-3a46-47f5-8d3b-708df0ec50a4",
   "metadata": {
    "slideshow": {
     "slide_type": "skip"
    },
    "tags": []
   },
   "source": [
    "### build a shared object from `sumshared.o`"
   ]
  },
  {
   "cell_type": "code",
   "execution_count": null,
   "id": "47cddd57-9b06-4028-b1ae-e3bec39f237e",
   "metadata": {
    "jupyter": {
     "source_hidden": true
    },
    "slideshow": {
     "slide_type": "skip"
    },
    "tags": []
   },
   "outputs": [],
   "source": [
    "TermShellCmd(\"make LDFLAGS= ASFLAGS= sumitshared.so\", cwd=appdir, prompt='')"
   ]
  },
  {
   "cell_type": "markdown",
   "id": "7e810fc8-9e8b-42ba-b5ef-abcb184c8347",
   "metadata": {
    "slideshow": {
     "slide_type": "skip"
    },
    "tags": []
   },
   "source": [
    "### build a dynamic binary of version 1"
   ]
  },
  {
   "cell_type": "code",
   "execution_count": null,
   "id": "446fc34d-bdef-4195-a24a-8ca1cd558269",
   "metadata": {
    "jupyter": {
     "source_hidden": true
    },
    "slideshow": {
     "slide_type": "skip"
    },
    "tags": [
     "remove-input"
    ]
   },
   "outputs": [],
   "source": [
    "TermShellCmd(\"make LDFLAGS= ASFLAGS= usesumshared1dynamic\", cwd=appdir, prompt='')"
   ]
  },
  {
   "cell_type": "markdown",
   "id": "ceb58aa3-5527-4489-b440-c14331ac571a",
   "metadata": {
    "slideshow": {
     "slide_type": "skip"
    },
    "tags": []
   },
   "source": [
    "### build a dynamic binary of version 2"
   ]
  },
  {
   "cell_type": "code",
   "execution_count": null,
   "id": "c3a70658-5acd-4deb-acfd-7c66c0639394",
   "metadata": {
    "jupyter": {
     "source_hidden": true
    },
    "slideshow": {
     "slide_type": "skip"
    },
    "tags": [
     "remove-input"
    ]
   },
   "outputs": [],
   "source": [
    "TermShellCmd(\"make LDFLAGS= ASFLAGS= usesumshared2dynamic\", cwd=appdir, prompt='')"
   ]
  },
  {
   "cell_type": "markdown",
   "id": "22288d42-cecb-4d46-bd75-1a44e1423d76",
   "metadata": {
    "slideshow": {
     "slide_type": "skip"
    },
    "tags": []
   },
   "source": [
    "### make some data"
   ]
  },
  {
   "cell_type": "code",
   "execution_count": null,
   "id": "c70c8368-30d6-4930-a3e4-4428cdaaf87a",
   "metadata": {
    "jupyter": {
     "source_hidden": true
    },
    "slideshow": {
     "slide_type": "skip"
    },
    "tags": [
     "remove-input"
    ]
   },
   "outputs": [],
   "source": [
    "TermShellCmd(\"cat 10num.txt\", cwd=appdir, prompt='$ ')"
   ]
  },
  {
   "cell_type": "code",
   "execution_count": null,
   "id": "73cc88f3-d0d6-43a7-abd7-d76dc2c2ba21",
   "metadata": {
    "jupyter": {
     "source_hidden": true
    },
    "slideshow": {
     "slide_type": "skip"
    },
    "tags": [
     "remove-input"
    ]
   },
   "outputs": [],
   "source": [
    "TermShellCmd(\"make LDFLAGS= ASFLAGS= 10num.bin\", cwd=appdir, prompt='')"
   ]
  },
  {
   "cell_type": "code",
   "execution_count": null,
   "id": "75e02d44-9cf2-4ea8-8037-cc9fc447aa8d",
   "metadata": {
    "jupyter": {
     "source_hidden": true
    },
    "slideshow": {
     "slide_type": "skip"
    },
    "tags": [
     "remove-input"
    ]
   },
   "outputs": [],
   "source": [
    "TermShellCmd(\"make LDFLAGS= ASFLAGS= 100randomnum.bin\", cwd=appdir, prompt='')"
   ]
  },
  {
   "cell_type": "code",
   "execution_count": null,
   "id": "95b52aa2-2c78-482d-b570-b834bd90330a",
   "metadata": {
    "jupyter": {
     "source_hidden": true
    },
    "slideshow": {
     "slide_type": "skip"
    },
    "tags": [
     "remove-input"
    ]
   },
   "outputs": [],
   "source": [
    "TermShellCmd(\"ls\", cwd=appdir, prompt='$ ')"
   ]
  },
  {
   "cell_type": "markdown",
   "id": "2b058803-7f50-45c5-8190-701e1342263c",
   "metadata": {
    "slideshow": {
     "slide_type": "skip"
    },
    "tags": []
   },
   "source": [
    "### Test out the binaries"
   ]
  },
  {
   "cell_type": "code",
   "execution_count": null,
   "id": "834d40d8-ed88-42c8-af76-cdf35a4622fe",
   "metadata": {
    "jupyter": {
     "source_hidden": true
    },
    "slideshow": {
     "slide_type": "skip"
    },
    "tags": [
     "remove-input"
    ]
   },
   "outputs": [],
   "source": [
    "TermShellCmd(\"./usesumshared1static 10num.bin\", cwd=appdir, prompt='$ ')"
   ]
  },
  {
   "cell_type": "markdown",
   "id": "5815b51e-60af-4cb7-bc51-0221c9c0e99e",
   "metadata": {
    "slideshow": {
     "slide_type": "skip"
    },
    "tags": []
   },
   "source": [
    "- of course the output is not ascii so we need to translate it "
   ]
  },
  {
   "cell_type": "code",
   "execution_count": null,
   "id": "3479eea1-cf9a-4914-8a95-649cd5fd60d2",
   "metadata": {
    "jupyter": {
     "source_hidden": true
    },
    "slideshow": {
     "slide_type": "skip"
    },
    "tags": [
     "remove-input"
    ]
   },
   "outputs": [],
   "source": [
    "TermShellCmd(\"./usesumshared1static 10num.bin | od -t d8 -Ad\", cwd=appdir, prompt='$ ')"
   ]
  },
  {
   "cell_type": "code",
   "execution_count": null,
   "id": "160666f7-27ca-4d5c-8cd3-c22ccb487a01",
   "metadata": {
    "jupyter": {
     "source_hidden": true
    },
    "slideshow": {
     "slide_type": "skip"
    },
    "tags": [
     "remove-input"
    ]
   },
   "outputs": [],
   "source": [
    "TermShellCmd(\"./usesumshared1dynamic 10num.bin | od -t d8 -Ad\", cwd=appdir, prompt='$ ')"
   ]
  },
  {
   "cell_type": "code",
   "execution_count": null,
   "id": "8f1fdf7d-535c-42ab-b1e0-60fc8d512929",
   "metadata": {
    "jupyter": {
     "source_hidden": true
    },
    "slideshow": {
     "slide_type": "skip"
    },
    "tags": [
     "remove-input"
    ]
   },
   "outputs": [],
   "source": [
    "TermShellCmd(\"./usesumshared2static 10num.bin | od -t d8 -Ad\", cwd=appdir, prompt='$ ')"
   ]
  },
  {
   "cell_type": "code",
   "execution_count": null,
   "id": "4aee6440-ebb8-42c1-aa9c-dc356c1ee28a",
   "metadata": {
    "jupyter": {
     "source_hidden": true
    },
    "slideshow": {
     "slide_type": "skip"
    },
    "tags": [
     "remove-input"
    ]
   },
   "outputs": [],
   "source": [
    "TermShellCmd(\"./usesumshared2dynamic 10num.bin | od -t d8 -Ad\", cwd=appdir, prompt='$ ')"
   ]
  },
  {
   "cell_type": "markdown",
   "id": "fa23144f-b304-48e1-836e-a397f0a5c967",
   "metadata": {
    "slideshow": {
     "slide_type": "skip"
    },
    "tags": []
   },
   "source": [
    "### Things to try\n",
    "\n",
    "- Try binaries with the larger data files\n",
    "- use `gdb` and get both static version started and look at the their mappings\n",
    "- now do the same for the dynamic version and compare to the above"
   ]
  },
  {
   "cell_type": "markdown",
   "id": "a9a87c73-3cb1-4fd7-85c2-0033da047efc",
   "metadata": {},
   "source": [
    "## Summary\n",
    "### Virtual Memory\n",
    "\n",
    "- **MMU**: The CPU has within it a sub-component called the Memory Management Unit (MMU)\n",
    "- **Address Space**: Is a contiguous range of numbers from 0 to $m$\n",
    "  - **Physical Address Space**: is an address space that is defined by the maximum amount physical memory the CPU can be physically connected to\n",
    "      - Eg Typically we find that CPU's support physical address spaces 0 to $2^{p}$ where the value of $p$ might be 36,40,46,48,52 depending on the CPU\n",
    "  - **Virtual Address Space**: is a range defined by the MMU\n",
    "      - Typically on a 64 bit CPU a virtual address space is defined to be the range 0 to $2^{64} - 1$\n",
    "- **VAs and PAs'**: Any time a value needs to be read or written to a memory location, during fetch, decode, execute loop, the MMU will be asked to translate the address\n",
    "     - We call the input to the translation a \"Virtual Address\" (VA) \n",
    "     - The output is a \"Physical Address\" (PA) that is within the Physical Address Space of the computer and can used to do a physical memory bus transaction\n",
    "     - If an error occurs and the MMU cannot translate the VA to a PA then it generates a CPU error and an OS routine is invoked. \n",
    "        - We call this kind of  error a *Page Fault*, and the OS routine a *Page fault handler*\n",
    "     - From this perspective we can abstractly think of the MMU as have a \"translate\" function: $$\\text{MMU.translate}(\\text{VA})\\rightarrow \\text{PA} \\ \\text{or} \\ \\text{Error: Page Fault}$$\n",
    "- **Pages**: To make page translation easier and more efficient we break memory up into equal sized chucks call pages.   \n",
    "  - Typically the standard sized used us $4096$ bytes (4Kb).  A 4Kb page of memory has 4096 locations.  \n",
    "  - The locations on a particular Page can be index by a number that would range from 0 - 4095, in hex notation this would be 0 to 0xFFF (it takes 12 bits to represent 4095)\n",
    "  - Both the Virtual Address and Physical addresses are broken down by pages \n",
    "  - caveat: Today most modern hardware and OS's support more than one page size but this is just a wrinkle on top of the basic model\n",
    "- **Page Number**: If we know the page size, and that is a power of 2, then it is very easy to break and address down into a page number and an offset on the particular page\n",
    "  - Eg. assuming a 4Kb page size then simply dropping the last 12 bits (or 3 hex digits) will give you the page number that this address falls.  Similarly if we remove all but the lower 12 bits then we have the offset of the location on the page that the address refers to.\n",
    "     - **VA to VPN and OFFSET**:  For example again assuming 64bit VA's and 4Kb page size we can break apart the VA as into its VPN and OFFSET as follows\n",
    "         - $\\text{VPN} = (\\text{VA} \\ \\text{bitwise AND} \\  \\text{0xFFFFFFFFFFFFF000})\\ \\text{right shift by 12 bits}$\n",
    "         - $\\text{OFFSET} = \\text{VA}\\ \\text{bitwise AND} \\ \\text{0x0000000000000FFF}$\n",
    "     - **PA to PPN and OFFSET**: For example assuming a 36 bit Physical Address Space and a 4Kb page size we can break apart the PA into its PPN and OFFSET as follows\n",
    "         - $\\text{PPN} = (\\text{PA} \\ \\text{bitwise AND} \\  \\text{0xFFFFFFFFF000})\\ \\text{right shift by 12 bits}$\n",
    "         - $\\text{OFFSET} = \\text{PA}\\ \\text{bitwise AND} \\ \\text{0x000000000FFF}$     \n",
    "- **Page Table**: The MMU uses a data structure, that must be located in physical memory, to do the translation.  This data structure is called a Page Table \n",
    "     - we can think if of it link an array whose entries are call Page Table Entries ... in reality, in order to safe space, Page Table are usually a more complex layout like a tree or nested hashtables. \n",
    "     - The OS must create the Page Tables and updated them when needed.\n",
    "     - The MMU provides a function for the OS to set the Active or Current Page Table that the MMU should use to do its translations\n",
    "           - Eg. $$ \\text{MMU.setPageTable}(\\text{Physical Address of a Page Table}) $$\n",
    "- **Translation as Page Table Lookup**: To translate an address the page table takes the input VA and \"looks it up\" in the current Page Table\n",
    "  - The lookup can be though of as a very simple array index operation.  \n",
    "     - $\\text{MMU.translate}(\\text{VA})$:\n",
    "         1. break VA into VPN and OFFSET (see above)\n",
    "         2. locate the Page Table Entry -- eg $\\text{PageTable}[\\text{VPN}]$\n",
    "         3. check to see if the entry is \"Valid\" and the access is permitted\n",
    "            - Marked Valid: has a PPN for a physical page that this VPN should be translated to stored in it\n",
    "            - the type of access being requested to this VPN  is \"allowed\"  - Each memory access from the fetch, decode, execute loop may be one of\n",
    "                1. **Execute Access** : a read to get an instruction from the address (happens during fetch) \n",
    "                2. **Read Access** : a read of an address for data  (happens during execute if the instruction source operand is a memory location eg. `mov al, BYTE PTR [0x406000]`\n",
    "                3. **Write Access**: a write of data  to an address (happens during execute if the instruction destination operand is a memory location eg. `add BYTE PTR [0x408000], al`   \n",
    "- **Page Table Entries**: The entries of a page table are defined in the CPU documentation and typically include space to store several pieces of information to control how the MMU will translate an address\n",
    "   - While the MMU knows how to use a page table to translate address it is the OS that creates, updates and maintains them\n",
    "   - Each entry has a bit that marks it as valid or invalid - if invalid then the MMU on lookup will automatically generate a page fault.\n",
    "   - Each entry has space to store a PPN -- this is the physical page that VPN, that this entry is index by, should be translated to\n",
    "   - Each entry has permission information that indicate if a particular type of access is allowed to the VPN.  This allows the OS to enforce restrictions on how the bytes on a particular VPN can get used.\n",
    "   - If the a page is marked invalid then the OS can use the space in the PTE to store any information it likes: Eg. a Disk Block number that stores the data of the VPN\n",
    "\n",
    "### Processes and Virtual Memory\n",
    "\n",
    "\n",
    "- The OS is the only software that has the ability to access physical memory directly and to managed the MMU of the CPU\n",
    "- The OS uses the virtual memory features of the MMU to implement Processes.  It creates a Page Table for each process to managed that processes Virtual Memory. \n",
    "- The OS uses storage devices like Hard Disk Drives (HDD's) or Solid State Drives (SSD's) as a place to\n",
    "   - store more data than can fit in main memory\n",
    "   - store long term data like the content of regular files: binaries, documents, etc\n",
    "- Isolation: By carefully construction the Page tables that OS can by default ensure that no process can only access memory it is allowed to and cannot access the memory of other process or the kernel\n",
    "- Paging: The OS moves physical pages of memory between the processes and the storage devices to give the illusion that each process has a very large memory.\n",
    "- Mappings: The OS provides system calls that allow a process to add or remove mappings of files to or from its virtual address space\n",
    "- Sharing: The OS provides system calls that allow sharing memory between process if they are allowed\n",
    "   - Two processes simply open a file that they both have permission to and then they both map it\n",
    "- Shared Objects and Libraries: A special use of sharing memory between processes is to implement the sharing of library code"
   ]
  },
  {
   "cell_type": "code",
   "execution_count": null,
   "id": "1c2612d0-2c18-4c7e-8cc3-dd7544b6000b",
   "metadata": {
    "jupyter": {
     "source_hidden": true
    },
    "tags": []
   },
   "outputs": [],
   "source": []
  }
 ],
 "metadata": {
  "@deathbeds/ipydrawio": {
   "xml": ""
  },
  "hide_input": false,
  "kernelspec": {
   "display_name": "Python 3 (ipykernel)",
   "language": "python",
   "name": "python3"
  },
  "language_info": {
   "codemirror_mode": {
    "name": "ipython",
    "version": 3
   },
   "file_extension": ".py",
   "mimetype": "text/x-python",
   "name": "python",
   "nbconvert_exporter": "python",
   "pygments_lexer": "ipython3",
   "version": "3.10.5"
  },
  "rise": {
   "autolaunch": false,
   "enable_chalkboard": true,
   "footer": "UC-SLS -- Lecture 15",
   "header": "Process and Virtual Memory",
   "height": "100%",
   "scroll": true,
   "start_slideshow_at": "selected",
   "transition": "none",
   "width": "100%"
  }
 },
 "nbformat": 4,
 "nbformat_minor": 5
}
