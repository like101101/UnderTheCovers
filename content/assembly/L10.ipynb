{
 "cells": [
  {
   "cell_type": "code",
   "execution_count": null,
   "id": "0c58f6be",
   "metadata": {
    "hide_input": true,
    "jupyter": {
     "source_hidden": true
    },
    "slideshow": {
     "slide_type": "skip"
    },
    "tags": [
     "remove-cell"
    ]
   },
   "outputs": [],
   "source": [
    "%run -i ../python/common.py\n",
    "UC_SKIPTERMS=True\n",
    "%run -i ../python/ln_preamble.py"
   ]
  },
  {
   "cell_type": "markdown",
   "id": "28f94a21-efab-4063-833a-be8c35ad8c17",
   "metadata": {
    "hide_input": true,
    "slideshow": {
     "slide_type": "slide"
    }
   },
   "source": [
    "# SLS Lecture 10 : Assembly : Program Anatomy I"
   ]
  },
  {
   "cell_type": "markdown",
   "id": "57a4af36",
   "metadata": {
    "slideshow": {
     "slide_type": "slide"
    },
    "tags": []
   },
   "source": [
    "<center>\n",
    "<img src=\"../images/ASSEMBLY-PGMII/ASSEMBLY-PGMII.002.png\">\n",
    "</center>"
   ]
  },
  {
   "cell_type": "markdown",
   "id": "7b4cfdef",
   "metadata": {
    "slideshow": {
     "slide_type": "slide"
    },
    "tags": []
   },
   "source": [
    "<center>\n",
    "<img src=\"../images/ASSEMBLY-PGMII/ASSEMBLY-PGMII.003.png\">\n",
    "</center>"
   ]
  },
  {
   "cell_type": "markdown",
   "id": "87286d24",
   "metadata": {
    "slideshow": {
     "slide_type": "slide"
    },
    "tags": []
   },
   "source": [
    "<center>\n",
    "<img src=\"../images/ASSEMBLY-PGMII/ASSEMBLY-PGMII.004.png\">\n",
    "</center>"
   ]
  },
  {
   "cell_type": "markdown",
   "id": "67ec0ef7",
   "metadata": {
    "slideshow": {
     "slide_type": "slide"
    },
    "tags": []
   },
   "source": [
    "<center>\n",
    "<img src=\"../images/ASSEMBLY-PGMII/ASSEMBLY-PGMII.005.png\">\n",
    "</center>"
   ]
  },
  {
   "cell_type": "markdown",
   "id": "890cc7df",
   "metadata": {
    "slideshow": {
     "slide_type": "slide"
    },
    "tags": []
   },
   "source": [
    "<center>\n",
    "<img src=\"../images/ASSEMBLY-PGMII/ASSEMBLY-PGMII.006.png\">\n",
    "</center>"
   ]
  },
  {
   "cell_type": "markdown",
   "id": "c04cc852",
   "metadata": {
    "slideshow": {
     "slide_type": "slide"
    },
    "tags": []
   },
   "source": [
    "<center>\n",
    "<img src=\"../images/ASSEMBLY-PGMII/ASSEMBLY-PGMII.007.png\">\n",
    "</center>"
   ]
  },
  {
   "cell_type": "markdown",
   "id": "cea5259f",
   "metadata": {
    "slideshow": {
     "slide_type": "slide"
    },
    "tags": []
   },
   "source": [
    "<center>\n",
    "<img src=\"../images/ASSEMBLY-PGMII/ASSEMBLY-PGMII.008.png\">\n",
    "</center>"
   ]
  },
  {
   "cell_type": "markdown",
   "id": "0fd89600",
   "metadata": {
    "slideshow": {
     "slide_type": "slide"
    },
    "tags": []
   },
   "source": [
    "<center>\n",
    "<img src=\"../images/ASSEMBLY-PGMII/ASSEMBLY-PGMII.009.png\">\n",
    "</center>"
   ]
  },
  {
   "cell_type": "markdown",
   "id": "cd7d74e9",
   "metadata": {
    "slideshow": {
     "slide_type": "slide"
    },
    "tags": []
   },
   "source": [
    "<center>\n",
    "<img src=\"../images/ASSEMBLY-PGMII/ASSEMBLY-PGMII.010.png\">\n",
    "</center>"
   ]
  },
  {
   "cell_type": "markdown",
   "id": "92d0ad41",
   "metadata": {
    "slideshow": {
     "slide_type": "slide"
    },
    "tags": []
   },
   "source": [
    "<center>\n",
    "<img src=\"../images/ASSEMBLY-PGMII/ASSEMBLY-PGMII.011.png\">\n",
    "</center>"
   ]
  },
  {
   "cell_type": "markdown",
   "id": "9156ebc1",
   "metadata": {
    "slideshow": {
     "slide_type": "slide"
    }
   },
   "source": [
    "<center>\n",
    "<img src=\"../images/ASSEMBLY-PGMII/ASSEMBLY-PGMII.012.png\">\n",
    "</center>"
   ]
  },
  {
   "cell_type": "markdown",
   "id": "20a4487b",
   "metadata": {
    "slideshow": {
     "slide_type": "slide"
    }
   },
   "source": [
    "<center>\n",
    "<img src=\"../images/ASSEMBLY-PGMII/ASSEMBLY-PGMII.013.png\">\n",
    "</center>"
   ]
  },
  {
   "cell_type": "markdown",
   "id": "db0533ed",
   "metadata": {
    "slideshow": {
     "slide_type": "slide"
    }
   },
   "source": [
    "<center>\n",
    "<img src=\"../images/ASSEMBLY-PGMII/ASSEMBLY-PGMII.014.png\">\n",
    "</center>"
   ]
  },
  {
   "cell_type": "markdown",
   "id": "2ebb463f",
   "metadata": {
    "slideshow": {
     "slide_type": "slide"
    }
   },
   "source": [
    "<center>\n",
    "<img src=\"../images/ASSEMBLY-PGMII/ASSEMBLY-PGMII.015.png\">\n",
    "</center>"
   ]
  },
  {
   "cell_type": "markdown",
   "id": "f1056ca2",
   "metadata": {
    "slideshow": {
     "slide_type": "slide"
    }
   },
   "source": [
    "<center>\n",
    "<img src=\"../images/ASSEMBLY-PGMII/ASSEMBLY-PGMII.016.png\">\n",
    "</center>"
   ]
  },
  {
   "cell_type": "markdown",
   "id": "793d98fb",
   "metadata": {
    "slideshow": {
     "slide_type": "slide"
    }
   },
   "source": [
    "<center>\n",
    "<img src=\"../images/ASSEMBLY-PGMII/ASSEMBLY-PGMII.017.png\">\n",
    "</center>"
   ]
  },
  {
   "cell_type": "markdown",
   "id": "517c4906",
   "metadata": {
    "slideshow": {
     "slide_type": "slide"
    }
   },
   "source": [
    "<center>\n",
    "<img src=\"../images/ASSEMBLY-PGMII/ASSEMBLY-PGMII.018.png\">\n",
    "</center>"
   ]
  },
  {
   "cell_type": "markdown",
   "id": "091fb444",
   "metadata": {
    "slideshow": {
     "slide_type": "slide"
    }
   },
   "source": [
    "<center>\n",
    "<img src=\"../images/ASSEMBLY-PGMII/ASSEMBLY-PGMII.019.png\">\n",
    "</center>"
   ]
  },
  {
   "cell_type": "markdown",
   "id": "6b4467a9",
   "metadata": {
    "slideshow": {
     "slide_type": "slide"
    }
   },
   "source": [
    "<center>\n",
    "<img src=\"../images/ASSEMBLY-PGMII/ASSEMBLY-PGMII.020.png\">\n",
    "</center>"
   ]
  },
  {
   "cell_type": "markdown",
   "id": "b46103dd",
   "metadata": {
    "slideshow": {
     "slide_type": "slide"
    }
   },
   "source": [
    "<center>\n",
    "<img src=\"../images/ASSEMBLY-PGMII/ASSEMBLY-PGMII.021.png\">\n",
    "</center>"
   ]
  },
  {
   "cell_type": "markdown",
   "id": "7e349a67",
   "metadata": {
    "slideshow": {
     "slide_type": "slide"
    }
   },
   "source": [
    "<center>\n",
    "<img src=\"../images/ASSEMBLY-PGMII/ASSEMBLY-PGMII.022.png\">\n",
    "</center>"
   ]
  },
  {
   "cell_type": "markdown",
   "id": "7cc6462c",
   "metadata": {
    "slideshow": {
     "slide_type": "slide"
    }
   },
   "source": [
    "<center>\n",
    "<img src=\"../images/ASSEMBLY-PGMII/ASSEMBLY-PGMII.023.png\">\n",
    "</center>"
   ]
  },
  {
   "cell_type": "markdown",
   "id": "49299ee1",
   "metadata": {
    "slideshow": {
     "slide_type": "slide"
    }
   },
   "source": [
    "<center>\n",
    "<img src=\"../images/ASSEMBLY-PGMII/ASSEMBLY-PGMII.024.png\">\n",
    "</center>"
   ]
  },
  {
   "cell_type": "markdown",
   "id": "0f51f3ed",
   "metadata": {
    "slideshow": {
     "slide_type": "slide"
    }
   },
   "source": [
    "<center>\n",
    "<img src=\"../images/ASSEMBLY-PGMII/ASSEMBLY-PGMII.025.png\">\n",
    "</center>"
   ]
  },
  {
   "cell_type": "markdown",
   "id": "7ef0c840",
   "metadata": {
    "slideshow": {
     "slide_type": "slide"
    }
   },
   "source": [
    "<center>\n",
    "<img src=\"../images/ASSEMBLY-PGMII/ASSEMBLY-PGMII.026.png\">\n",
    "</center>"
   ]
  },
  {
   "cell_type": "markdown",
   "id": "72606b87",
   "metadata": {
    "slideshow": {
     "slide_type": "slide"
    }
   },
   "source": [
    "<center>\n",
    "<img src=\"../images/ASSEMBLY-PGMII/ASSEMBLY-PGMII.027.png\">\n",
    "</center>"
   ]
  },
  {
   "cell_type": "markdown",
   "id": "15125f36",
   "metadata": {
    "slideshow": {
     "slide_type": "slide"
    }
   },
   "source": [
    "<center>\n",
    "<img src=\"../images/ASSEMBLY-PGMII/ASSEMBLY-PGMII.028.png\">\n",
    "</center>"
   ]
  },
  {
   "cell_type": "markdown",
   "id": "4f6fd9f9",
   "metadata": {
    "slideshow": {
     "slide_type": "slide"
    }
   },
   "source": [
    "<center>\n",
    "<img src=\"../images/ASSEMBLY-PGMII/ASSEMBLY-PGMII.029.png\">\n",
    "</center>"
   ]
  },
  {
   "cell_type": "markdown",
   "id": "fa7fcb29",
   "metadata": {
    "slideshow": {
     "slide_type": "slide"
    }
   },
   "source": [
    "<center>\n",
    "<img src=\"../images/ASSEMBLY-PGMII/ASSEMBLY-PGMII.030.png\">\n",
    "</center>"
   ]
  },
  {
   "cell_type": "markdown",
   "id": "b8fcca73",
   "metadata": {
    "slideshow": {
     "slide_type": "slide"
    }
   },
   "source": [
    "<center>\n",
    "<img src=\"../images/ASSEMBLY-PGMII/ASSEMBLY-PGMII.031.png\">\n",
    "</center>"
   ]
  },
  {
   "cell_type": "markdown",
   "id": "1168b266",
   "metadata": {
    "slideshow": {
     "slide_type": "slide"
    }
   },
   "source": [
    "<center>\n",
    "<img src=\"../images/ASSEMBLY-PGMII/ASSEMBLY-PGMII.032.png\">\n",
    "</center>"
   ]
  },
  {
   "cell_type": "markdown",
   "id": "73b9e76e",
   "metadata": {
    "slideshow": {
     "slide_type": "slide"
    }
   },
   "source": [
    "<center>\n",
    "<img src=\"../images/ASSEMBLY-PGMII/ASSEMBLY-PGMII.033.png\">\n",
    "</center>"
   ]
  },
  {
   "cell_type": "markdown",
   "id": "7614ed43",
   "metadata": {
    "slideshow": {
     "slide_type": "slide"
    }
   },
   "source": [
    "<center>\n",
    "<img src=\"../images/ASSEMBLY-PGMII/ASSEMBLY-PGMII.034.png\">\n",
    "</center>"
   ]
  },
  {
   "cell_type": "markdown",
   "id": "5979017a",
   "metadata": {
    "slideshow": {
     "slide_type": "slide"
    }
   },
   "source": [
    "<center>\n",
    "<img src=\"../images/ASSEMBLY-PGMII/ASSEMBLY-PGMII.035.png\">\n",
    "</center>"
   ]
  },
  {
   "cell_type": "markdown",
   "id": "923579cc",
   "metadata": {
    "slideshow": {
     "slide_type": "slide"
    }
   },
   "source": [
    "<center>\n",
    "<img src=\"../images/ASSEMBLY-PGMII/ASSEMBLY-PGMII.036.png\">\n",
    "</center>"
   ]
  },
  {
   "cell_type": "markdown",
   "id": "a5b979e2",
   "metadata": {
    "slideshow": {
     "slide_type": "slide"
    }
   },
   "source": [
    "<center>\n",
    "<img src=\"../images/ASSEMBLY-PGMII/ASSEMBLY-PGMII.037.png\">\n",
    "</center>"
   ]
  },
  {
   "cell_type": "markdown",
   "id": "5d4ba1f6",
   "metadata": {
    "slideshow": {
     "slide_type": "slide"
    }
   },
   "source": [
    "<center>\n",
    "<img src=\"../images/ASSEMBLY-PGMII/ASSEMBLY-PGMII.038.png\">\n",
    "</center>"
   ]
  },
  {
   "cell_type": "markdown",
   "id": "7bc2acc9",
   "metadata": {
    "slideshow": {
     "slide_type": "slide"
    }
   },
   "source": [
    "<center>\n",
    "<img src=\"../images/ASSEMBLY-PGMII/ASSEMBLY-PGMII.039.png\">\n",
    "</center>"
   ]
  },
  {
   "cell_type": "markdown",
   "id": "29707876",
   "metadata": {
    "slideshow": {
     "slide_type": "slide"
    }
   },
   "source": [
    "<center>\n",
    "<img src=\"../images/ASSEMBLY-PGMII/ASSEMBLY-PGMII.040.png\">\n",
    "</center>"
   ]
  },
  {
   "cell_type": "markdown",
   "id": "3cd79a15",
   "metadata": {
    "slideshow": {
     "slide_type": "slide"
    }
   },
   "source": [
    "<center>\n",
    "<img src=\"../images/ASSEMBLY-PGMII/ASSEMBLY-PGMII.041.png\">\n",
    "</center>"
   ]
  },
  {
   "cell_type": "markdown",
   "id": "55beb599",
   "metadata": {
    "slideshow": {
     "slide_type": "slide"
    }
   },
   "source": [
    "<center>\n",
    "<img src=\"../images/ASSEMBLY-PGMII/ASSEMBLY-PGMII.042.png\">\n",
    "</center>"
   ]
  },
  {
   "cell_type": "markdown",
   "id": "d9d19a3c",
   "metadata": {
    "slideshow": {
     "slide_type": "slide"
    }
   },
   "source": [
    "<center>\n",
    "<img src=\"../images/ASSEMBLY-PGMII/ASSEMBLY-PGMII.043.png\">\n",
    "</center>"
   ]
  },
  {
   "cell_type": "markdown",
   "id": "6de3de48",
   "metadata": {
    "slideshow": {
     "slide_type": "slide"
    }
   },
   "source": [
    "<center>\n",
    "<img src=\"../images/ASSEMBLY-PGMII/ASSEMBLY-PGMII.044.png\">\n",
    "</center>"
   ]
  },
  {
   "cell_type": "markdown",
   "id": "7ab49104",
   "metadata": {
    "slideshow": {
     "slide_type": "slide"
    }
   },
   "source": [
    "<center>\n",
    "<img src=\"../images/ASSEMBLY-PGMII/ASSEMBLY-PGMII.045.png\">\n",
    "</center>"
   ]
  },
  {
   "cell_type": "markdown",
   "id": "dda21425",
   "metadata": {
    "slideshow": {
     "slide_type": "slide"
    }
   },
   "source": [
    "<center>\n",
    "<img src=\"../images/ASSEMBLY-PGMII/ASSEMBLY-PGMII.046.png\">\n",
    "</center>"
   ]
  },
  {
   "cell_type": "markdown",
   "id": "fe6b789a",
   "metadata": {
    "slideshow": {
     "slide_type": "slide"
    }
   },
   "source": [
    "## `sumit.s` and `usesum.s`\n",
    "### Setup"
   ]
  },
  {
   "cell_type": "code",
   "execution_count": null,
   "id": "c73f8535",
   "metadata": {
    "hide_input": true,
    "jupyter": {
     "source_hidden": true
    },
    "slideshow": {
     "slide_type": "slide"
    },
    "tags": [
     "remove-input"
    ]
   },
   "outputs": [],
   "source": [
    "# setup for mov example\n",
    "appdir=os.getenv('HOME')\n",
    "appdir=appdir + \"/sum\"\n",
    "#print(movdir)\n",
    "output=runTermCmd(\"[[ -d \" + appdir + \" ]] &&  rm -rf \"+ appdir + \n",
    "             \";mkdir \" + appdir + \n",
    "             \";cp ../src/Makefile ../src/10num.txt ../src/setup.gdb ../src/sumit.s ../src/usesum.s \" + appdir)\n",
    "#TermShellCmd(\"ls\", cwd=movdir)\n",
    "display(Markdown('''\n",
    "- create a directory `mkdir sum; cd sum`\n",
    "- create and write  `sumit.s` and `usesumit.s` see below\n",
    "- add a `Makefile` to automate assembling and linking\n",
    "    - we are going run the commands by hand this time to highlight the details\n",
    "- add our `setup.gdb` to make working in gdb easier\n",
    "- normally you would want to track everything in git\n",
    "'''))"
   ]
  },
  {
   "cell_type": "markdown",
   "id": "5b5189f7",
   "metadata": {
    "slideshow": {
     "slide_type": "slide"
    }
   },
   "source": [
    "### Lets try and write a reusable routine \n",
    "\n",
    "\n",
    "- lets assume that we have a symbol `XARRAY` that is the address of the data\n",
    "- lets assume to use our routine you need to pass the length of the array \n",
    "   - len in `rbx`\n",
    "   - use `rdi` for loop index (`i`)\n",
    "- let put the result in `rax`\n",
    "\n",
    "Think about our objective in these terms\n",
    "\n",
    "$$ S = \\sum_{i=0}^{n-1}x_i \\rightarrow rax = \\sum_{rdi=0}^{rbx-1} XARRAY[rdi]  $$\n",
    "\n",
    "right?\n",
    "\n",
    "Ok remember the tricky part is realizing that it is up to us to implement \n",
    "the idea of an array.  \n",
    "  - it is a data structure that we need to keep straight our head"
   ]
  },
  {
   "cell_type": "code",
   "execution_count": null,
   "id": "80a593cd",
   "metadata": {
    "hide_input": true,
    "jupyter": {
     "source_hidden": true
    },
    "slideshow": {
     "slide_type": "fragment"
    },
    "tags": [
     "remove-input"
    ]
   },
   "outputs": [],
   "source": [
    "display(Markdown(FileCodeBox(\n",
    "    file=\"../src/sumit.s\", \n",
    "    lang=\"gas\", \n",
    "    title=\"<b>CODE: asm - sumit.s\",\n",
    "    h=\"100%\", \n",
    "    w=\"107em\"\n",
    ")))"
   ]
  },
  {
   "cell_type": "markdown",
   "id": "d0c85d69",
   "metadata": {},
   "source": [
    "#### To assemble `sumit.s` into `sumit.o`"
   ]
  },
  {
   "cell_type": "code",
   "execution_count": null,
   "id": "ab8c4dfa",
   "metadata": {
    "hide_input": true,
    "jupyter": {
     "source_hidden": true
    },
    "tags": [
     "remove-input"
    ]
   },
   "outputs": [],
   "source": [
    "\n",
    "TermShellCmd(\"[[ -a sumit.o ]] && rm sumit.o; make ASFLAGS= sumit.o\", cwd=appdir, prompt='')"
   ]
  },
  {
   "cell_type": "markdown",
   "id": "95740abb",
   "metadata": {},
   "source": [
    "### So how might we use our \"fragment\"\n",
    "\n",
    "Lets create a program that defines a `_start` routine and creates the memory locations that we can control.  \n",
    "\n",
    "\n",
    "Lets create `usesum.s`\n",
    "\n",
    "Lets assume that\n",
    "- will set aside enough memory for an maximum of 1000 values in where we set the `XARRAY` symbol\n",
    "- we will allow the length actual length of data in `XARRAY` to be specified at a location marked by  `XARRAY_LEN`.\n",
    "- we will store the result in a location marked by the symbol `sum`\n",
    "\n",
    "\n",
    "We will use our code by loading our data at XARRAY, updating XARRAY_LEN, executing the code and examining the result \n",
    "\n",
    "1.  The code should setup the memory we need\n",
    "2.  setup the registers as needed for `sumIt`\n",
    "3.  run `sumIt`\n",
    "4.  store the results at the location of `sum`\n",
    "\n"
   ]
  },
  {
   "cell_type": "code",
   "execution_count": null,
   "id": "dba09503",
   "metadata": {
    "hide_input": true,
    "jupyter": {
     "source_hidden": true
    },
    "slideshow": {
     "slide_type": "-"
    },
    "tags": [
     "remove-input"
    ]
   },
   "outputs": [],
   "source": [
    "display(Markdown(FileCodeBox(\n",
    "    file=\"../src/usesum.s\", \n",
    "    lang=\"gas\", \n",
    "    title=\"<b>CODE: asm - usesum.s\",\n",
    "    h=\"100%\", \n",
    "    w=\"107em\"\n",
    ")))"
   ]
  },
  {
   "cell_type": "markdown",
   "id": "ce797fed",
   "metadata": {},
   "source": [
    "#### To assemble `usesum.s` into `usesum.o`"
   ]
  },
  {
   "cell_type": "code",
   "execution_count": null,
   "id": "db889e03",
   "metadata": {
    "jupyter": {
     "source_hidden": true
    },
    "slideshow": {
     "slide_type": "-"
    },
    "tags": [
     "remove-input"
    ]
   },
   "outputs": [],
   "source": [
    "\n",
    "TermShellCmd(\"[[ -a usesum.o ]] && rm usesum.o; make ASFLAGS= usesum.o\", cwd=appdir, prompt='')"
   ]
  },
  {
   "cell_type": "markdown",
   "id": "cbc61e9a",
   "metadata": {},
   "source": [
    "\n",
    "#### To link `usesum.o` and `sumit.o` into an executable `usesum`"
   ]
  },
  {
   "cell_type": "code",
   "execution_count": null,
   "id": "c374ce7f",
   "metadata": {
    "jupyter": {
     "source_hidden": true
    },
    "tags": [
     "remove-input"
    ]
   },
   "outputs": [],
   "source": [
    "\n",
    "TermShellCmd(\"[[ -a usesum ]] && rm usesum; make LDFLAGS= usesum\", cwd=appdir, prompt='')"
   ]
  },
  {
   "cell_type": "markdown",
   "id": "32cc4526",
   "metadata": {
    "slideshow": {
     "slide_type": "-"
    }
   },
   "source": [
    "### Lets make some data!\n",
    "\n",
    "Lets create an ascii file with 10 numbers and then use a tool called `ascii2binary` to convert it into 8 byte signed integers"
   ]
  },
  {
   "cell_type": "code",
   "execution_count": null,
   "id": "455565d7",
   "metadata": {
    "hide_input": true,
    "jupyter": {
     "source_hidden": true
    },
    "tags": [
     "remove-input"
    ]
   },
   "outputs": [],
   "source": [
    "TermShellCmd(\"[[ -a 10num.bin ]] && rm 10num.bin; make 10num.bin\", cwd=appdir, prompt='')"
   ]
  },
  {
   "cell_type": "code",
   "execution_count": null,
   "id": "ae1d8220",
   "metadata": {
    "jupyter": {
     "source_hidden": true
    },
    "tags": [
     "remove-input"
    ]
   },
   "outputs": [],
   "source": [
    "TermShellCmd(\"cat 10num.txt\", cwd=appdir, pretext='$ cat 10num.txt', prompt='')"
   ]
  },
  {
   "cell_type": "code",
   "execution_count": null,
   "id": "0747efbd",
   "metadata": {
    "jupyter": {
     "source_hidden": true
    },
    "tags": [
     "remove-input"
    ]
   },
   "outputs": [],
   "source": [
    "TermShellCmd(\"hexdump -v -C 10num.bin\", cwd=appdir, pretext='$ hexdump -C 10num.bin', prompt='')"
   ]
  },
  {
   "cell_type": "markdown",
   "id": "47d282ec",
   "metadata": {},
   "source": [
    "#### Let's  make some \"real\" data\n",
    "\n",
    "Some Unix tricks of the trade\n"
   ]
  },
  {
   "cell_type": "code",
   "execution_count": null,
   "id": "89c98441",
   "metadata": {
    "jupyter": {
     "source_hidden": true
    },
    "tags": [
     "remove-input"
    ]
   },
   "outputs": [],
   "source": [
    "TermShellCmd(\"[[ -a 100randomnum.bin ]] && rm 100randomnum.bin; make 100randomnum.bin\", cwd=appdir, prompt='')"
   ]
  },
  {
   "cell_type": "code",
   "execution_count": null,
   "id": "3030ff9e",
   "metadata": {
    "hide_input": false,
    "jupyter": {
     "source_hidden": true
    },
    "tags": [
     "remove-input"
    ]
   },
   "outputs": [],
   "source": [
    "TermShellCmd(\"hexdump -C 100randomnum.bin | head -10\", cwd=appdir, pretext=\"$ hexdump -C 100randomnum.bin | head -10\", prompt='')\n",
    "TermShellCmd(\"od -t d8 100randomnum.bin | head -10\", cwd=appdir, pretext=\"$ od -t d8 100randomnum.bin | head -10\", prompt='')"
   ]
  },
  {
   "cell_type": "markdown",
   "id": "73f6f3ca",
   "metadata": {},
   "source": [
    "### How to run `usesum` and  load data with gdb\n",
    "\n",
    "```\n",
    "gdb -x setup.gdb usesum\n",
    "b _start\n",
    "run\n",
    "# restore lets us load memory from a file\n",
    "restore 10num.bin binary &XARRAY\n",
    "# set the number of elements\n",
    "set {long long} & XARRAY_LEN = 10\n",
    "# get address of XARRAY\n",
    "p & XARRAY\n",
    "# now use this address to display the element we are currently summing \n",
    "# eg lets assume the prior command indicated that the address of XARRAY is 0x402010\n",
    "display {long long}(0x402010 + ($rdi * 8))\n",
    "# display the XARRAY_LEN and sum so we can see if and when they change\n",
    "display {{long long} & XARRAY_LEN, {long long} & sum}\n",
    "# now we can single step our way through or continue till we hit an int3\n",
    "```\n",
    "\n",
    "You can do the same now with the `100randomnum.bin` file. Eg.`restore 100randomnum.bin & XARRAY` and `set {long long} & XARRAY_LEN = 100`"
   ]
  },
  {
   "cell_type": "markdown",
   "id": "9625df2d",
   "metadata": {},
   "source": [
    "## This code has a problem that we will address in the next lecture"
   ]
  }
 ],
 "metadata": {
  "celltoolbar": "Slideshow",
  "hide_input": true,
  "kernelspec": {
   "display_name": "Python 3 (ipykernel)",
   "language": "python",
   "name": "python3"
  },
  "language_info": {
   "codemirror_mode": {
    "name": "ipython",
    "version": 3
   },
   "file_extension": ".py",
   "mimetype": "text/x-python",
   "name": "python",
   "nbconvert_exporter": "python",
   "pygments_lexer": "ipython3",
   "version": "3.10.5"
  },
  "rise": {
   "autolaunch": false,
   "enable_chalkboard": true,
   "footer": "UC-SLS -- Lecture 10",
   "header": "Assembly: Program Anatomy I",
   "height": "100%",
   "scroll": true,
   "start_slideshow_at": "selected",
   "transition": "none",
   "width": "100%"
  }
 },
 "nbformat": 4,
 "nbformat_minor": 5
}
